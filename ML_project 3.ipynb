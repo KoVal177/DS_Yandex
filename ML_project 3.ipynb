{
 "cells": [
  {
   "cell_type": "markdown",
   "metadata": {},
   "source": [
    "Привет еще раз! меня зовут Люман Аблаев. Сегодня я проверю твой проект.\n",
    "<br> Дальнейшее общение будет происходить на \"ты\" если это не вызывает никаких проблем.\n",
    "<br> Желательно реагировать на каждый мой комментарий ('исправил', 'не понятно как исправить ошибку', ...)\n",
    "<br> Пожалуйста, не удаляй комментарии ревьюера, так как они повышают качество повторного ревью.\n",
    "\n",
    "Комментарии будут в <font color='green'>зеленой</font>, <font color='blue'>синей</font> или <font color='red'>красной</font> рамках:\n",
    "\n",
    "<div class=\"alert alert-block alert-success\">\n",
    "<b>Успех:</b> Если все сделано отлично\n",
    "</div>\n",
    "\n",
    "<div class=\"alert alert-block alert-info\">\n",
    "<b>Совет: </b> Если можно немного улучшить\n",
    "</div>\n",
    "\n",
    "<div class=\"alert alert-block alert-danger\">\n",
    "<b>Ошибка:</b> Если требуются исправления. Работа не может быть принята с красными комментариями.\n",
    "</div>\n",
    "\n",
    "-------------------\n",
    "\n",
    "Будет очень хорошо, если ты будешь помечать свои действия следующим образом:\n",
    "<div class=\"alert alert-block alert-warning\">\n",
    "<b>Комментарий студента:</b> ...\n",
    "</div>\n",
    "\n",
    "<div class=\"alert alert-block alert-warning\">\n",
    "<b>Изменения:</b> Были внесены следующие изменения ...\n",
    "</div>\n",
    "\n",
    "<font color='orange' style='font-size:24px; font-weight:bold'>Общее впечатление</font>\n",
    "* Спасибо за  очередную качественную работу, мне она очень понравилась\n",
    "- Я оставил некоторые советы надеюсь они будут полезными или интересными.\n",
    "- Техника бутстрап применилась корректно, было проведено тщательное исследование.\n",
    "- В целом работа почти полностью корректна, но не хватает одной важной метрики, которую хорошо было внести в данную работу.\n",
    "- Думаю ты быстро с этим справишься=)\n",
    "\n",
    "\n"
   ]
  },
  {
   "cell_type": "markdown",
   "metadata": {},
   "source": [
    "<font color='orange' style='font-size:24px; font-weight:bold'>Общее впечатление[2]</font>\n",
    "* Спасибо за оперативность\n",
    "- Приятно видеть фидбек на комментарии.\n",
    "- Недочеты исправлены - работа полностью корректна\n",
    "- Рад был быть полезен. Удачи в дальнейшем обучении!"
   ]
  },
  {
   "cell_type": "markdown",
   "metadata": {},
   "source": [
    "# Выбор локации для скважины"
   ]
  },
  {
   "cell_type": "markdown",
   "metadata": {},
   "source": [
    "Допустим, вы работаете в добывающей компании «ГлавРосГосНефть». Нужно решить, где бурить новую скважину.\n",
    "\n",
    "Вам предоставлены пробы нефти в трёх регионах: в каждом 10 000 месторождений, где измерили качество нефти и объём её запасов. Постройте модель машинного обучения, которая поможет определить регион, где добыча принесёт наибольшую прибыль. Проанализируйте возможную прибыль и риски техникой *Bootstrap.*\n",
    "\n",
    "Шаги для выбора локации:\n",
    "\n",
    "- В избранном регионе ищут месторождения, для каждого определяют значения признаков;\n",
    "- Строят модель и оценивают объём запасов;\n",
    "- Выбирают месторождения с самым высокими оценками значений. Количество месторождений зависит от бюджета компании и стоимости разработки одной скважины;\n",
    "- Прибыль равна суммарной прибыли отобранных месторождений."
   ]
  },
  {
   "cell_type": "markdown",
   "metadata": {},
   "source": [
    "# Описание проекта\n",
    "В данном проекте ищется наиболее переспективный регион для добычи нефти. Всего рассматриваются 3 региона, с индексами \"0\", \"1\" и \"2\". Для каждого из них строится модель (линейная регрессия), которая по входным параметрам может оценивать ожидаемую емкость скважин. Затем с применением подхода bootstrap (1000 итераций) генерируются параметры для 500 скважин по каждому региону, из которых выбирается 200 наиболее перспективных скважин и по ним, на основании имеющихся фактических данных запасов, рассчитывается ожидаемая прибыль для региона. Т.е. проверяется насколько адекватно модель позволяет выбрать 200 скважин с наибольшими запасами и, тем самым, обеспечить максимальную прибыль. Исходя из данных проведенных симуляций выбирается регион с наименьшей вероятностью убытков."
   ]
  },
  {
   "cell_type": "markdown",
   "metadata": {},
   "source": [
    "## Загрузка и подготовка данных"
   ]
  },
  {
   "cell_type": "code",
   "execution_count": 1,
   "metadata": {},
   "outputs": [],
   "source": [
    "import pandas as pd\n",
    "import numpy as np\n",
    "import matplotlib.pyplot as plt\n",
    "#import seaborn as sns\n",
    "\n",
    "from math import ceil\n",
    "\n",
    "from sklearn.model_selection import train_test_split\n",
    "from sklearn.metrics import mean_squared_error, r2_score\n",
    "#from sklearn.preprocessing import StandardScaler\n",
    "#from sklearn.utils import shuffle\n",
    "\n",
    "from sklearn.linear_model import LinearRegression\n",
    "#from sklearn.model_selection import GridSearchCV, cross_validate\n",
    "\n",
    "#from sklearn.dummy import DummyClassifier\n",
    "\n",
    "\n",
    "RS = 12345"
   ]
  },
  {
   "cell_type": "markdown",
   "metadata": {},
   "source": [
    "<div class=\"alert alert-block alert-success\">\n",
    "<b>Успех:</b> Импорты на месте\n",
    "</div>"
   ]
  },
  {
   "cell_type": "code",
   "execution_count": 2,
   "metadata": {},
   "outputs": [],
   "source": [
    "# все данные будут храниться в массивах по регионам\n",
    "\n",
    "data = [\n",
    "    pd.read_csv('/datasets/geo_data_0.csv'),\n",
    "    pd.read_csv('/datasets/geo_data_1.csv'),\n",
    "    pd.read_csv('/datasets/geo_data_2.csv'),\n",
    "]"
   ]
  },
  {
   "cell_type": "code",
   "execution_count": 3,
   "metadata": {},
   "outputs": [
    {
     "name": "stdout",
     "output_type": "stream",
     "text": [
      "Region: 0\n",
      "      id        f0        f1        f2     product\n",
      "0  txEyH  0.705745 -0.497823  1.221170  105.280062\n",
      "1  2acmU  1.334711 -0.340164  4.365080   73.037750\n",
      "2  409Wp  1.022732  0.151990  1.419926   85.265647\n",
      "3  iJLyR -0.032172  0.139033  2.978566  168.620776\n",
      "4  Xdl7t  1.988431  0.155413  4.751769  154.036647 \n",
      "\n",
      "Region: 1\n",
      "      id         f0         f1        f2     product\n",
      "0  kBEdx -15.001348  -8.276000 -0.005876    3.179103\n",
      "1  62mP7  14.272088  -3.475083  0.999183   26.953261\n",
      "2  vyE1P   6.263187  -5.948386  5.001160  134.766305\n",
      "3  KcrkZ -13.081196 -11.506057  4.999415  137.945408\n",
      "4  AHL4O  12.702195  -8.147433  5.004363  134.766305 \n",
      "\n",
      "Region: 2\n",
      "      id        f0        f1        f2     product\n",
      "0  fwXo0 -1.146987  0.963328 -0.828965   27.758673\n",
      "1  WJtFt  0.262778  0.269839 -2.530187   56.069697\n",
      "2  ovLUW  0.194587  0.289035 -5.586433   62.871910\n",
      "3  q6cA6  2.236060 -0.553760  0.930038  114.572842\n",
      "4  WPMUX -0.515993  1.716266  5.899011  149.600746 \n",
      "\n"
     ]
    }
   ],
   "source": [
    "for i in range(3):\n",
    "    print('Region:', i)\n",
    "    print(data[i].head(), '\\n')"
   ]
  },
  {
   "cell_type": "code",
   "execution_count": 4,
   "metadata": {},
   "outputs": [
    {
     "name": "stdout",
     "output_type": "stream",
     "text": [
      "Region: 0\n",
      "<class 'pandas.core.frame.DataFrame'>\n",
      "RangeIndex: 100000 entries, 0 to 99999\n",
      "Data columns (total 5 columns):\n",
      " #   Column   Non-Null Count   Dtype  \n",
      "---  ------   --------------   -----  \n",
      " 0   id       100000 non-null  object \n",
      " 1   f0       100000 non-null  float64\n",
      " 2   f1       100000 non-null  float64\n",
      " 3   f2       100000 non-null  float64\n",
      " 4   product  100000 non-null  float64\n",
      "dtypes: float64(4), object(1)\n",
      "memory usage: 3.8+ MB\n",
      "None \n",
      "\n",
      "Region: 1\n",
      "<class 'pandas.core.frame.DataFrame'>\n",
      "RangeIndex: 100000 entries, 0 to 99999\n",
      "Data columns (total 5 columns):\n",
      " #   Column   Non-Null Count   Dtype  \n",
      "---  ------   --------------   -----  \n",
      " 0   id       100000 non-null  object \n",
      " 1   f0       100000 non-null  float64\n",
      " 2   f1       100000 non-null  float64\n",
      " 3   f2       100000 non-null  float64\n",
      " 4   product  100000 non-null  float64\n",
      "dtypes: float64(4), object(1)\n",
      "memory usage: 3.8+ MB\n",
      "None \n",
      "\n",
      "Region: 2\n",
      "<class 'pandas.core.frame.DataFrame'>\n",
      "RangeIndex: 100000 entries, 0 to 99999\n",
      "Data columns (total 5 columns):\n",
      " #   Column   Non-Null Count   Dtype  \n",
      "---  ------   --------------   -----  \n",
      " 0   id       100000 non-null  object \n",
      " 1   f0       100000 non-null  float64\n",
      " 2   f1       100000 non-null  float64\n",
      " 3   f2       100000 non-null  float64\n",
      " 4   product  100000 non-null  float64\n",
      "dtypes: float64(4), object(1)\n",
      "memory usage: 3.8+ MB\n",
      "None \n",
      "\n"
     ]
    }
   ],
   "source": [
    "for i in range(3):\n",
    "    print('Region:', i)\n",
    "    print(data[i].info(), '\\n')"
   ]
  },
  {
   "cell_type": "code",
   "execution_count": 5,
   "metadata": {},
   "outputs": [
    {
     "name": "stdout",
     "output_type": "stream",
     "text": [
      "Duplicated ids\n",
      "Region: 0\n",
      "id\n",
      "74z30    2\n",
      "A5aEY    2\n",
      "AGS9W    2\n",
      "HZww2    2\n",
      "QcMuo    2\n",
      "Tdehs    2\n",
      "TtcGQ    2\n",
      "bsk9y    2\n",
      "bxg6G    2\n",
      "fiKDv    2\n",
      "Name: product, dtype: int64 \n",
      "\n",
      "Region: 1\n",
      "id\n",
      "5ltQ6    2\n",
      "LHZR0    2\n",
      "bfPNe    2\n",
      "wt4Uk    2\n",
      "Name: product, dtype: int64 \n",
      "\n",
      "Region: 2\n",
      "id\n",
      "KUPhW    2\n",
      "VF7Jo    2\n",
      "Vcm5J    2\n",
      "xCHr8    2\n",
      "Name: product, dtype: int64 \n",
      "\n"
     ]
    }
   ],
   "source": [
    "print('Duplicated ids')\n",
    "for i in range(3):\n",
    "    print('Region:', i)\n",
    "    print(data[i].groupby('id').count().query('product > 1')['product'], '\\n')"
   ]
  },
  {
   "cell_type": "code",
   "execution_count": 6,
   "metadata": {},
   "outputs": [
    {
     "name": "stdout",
     "output_type": "stream",
     "text": [
      "Region: 0\n",
      "                  f0             f1             f2        product\n",
      "count  100000.000000  100000.000000  100000.000000  100000.000000\n",
      "mean        0.500419       0.250143       2.502647      92.500000\n",
      "std         0.871832       0.504433       3.248248      44.288691\n",
      "min        -1.408605      -0.848218     -12.088328       0.000000\n",
      "25%        -0.072580      -0.200881       0.287748      56.497507\n",
      "50%         0.502360       0.250252       2.515969      91.849972\n",
      "75%         1.073581       0.700646       4.715088     128.564089\n",
      "max         2.362331       1.343769      16.003790     185.364347 \n",
      "\n",
      "Region: 1\n",
      "                  f0             f1             f2        product\n",
      "count  100000.000000  100000.000000  100000.000000  100000.000000\n",
      "mean        1.141296      -4.796579       2.494541      68.825000\n",
      "std         8.965932       5.119872       1.703572      45.944423\n",
      "min       -31.609576     -26.358598      -0.018144       0.000000\n",
      "25%        -6.298551      -8.267985       1.000021      26.953261\n",
      "50%         1.153055      -4.813172       2.011479      57.085625\n",
      "75%         8.621015      -1.332816       3.999904     107.813044\n",
      "max        29.421755      18.734063       5.019721     137.945408 \n",
      "\n",
      "Region: 2\n",
      "                  f0             f1             f2        product\n",
      "count  100000.000000  100000.000000  100000.000000  100000.000000\n",
      "mean        0.002023      -0.002081       2.495128      95.000000\n",
      "std         1.732045       1.730417       3.473445      44.749921\n",
      "min        -8.760004      -7.084020     -11.970335       0.000000\n",
      "25%        -1.162288      -1.174820       0.130359      59.450441\n",
      "50%         0.009424      -0.009482       2.484236      94.925613\n",
      "75%         1.158535       1.163678       4.858794     130.595027\n",
      "max         7.238262       7.844801      16.739402     190.029838 \n",
      "\n"
     ]
    }
   ],
   "source": [
    "for i in range(3):\n",
    "    print('Region:', i)\n",
    "    print(data[i].describe(), '\\n')"
   ]
  },
  {
   "cell_type": "code",
   "execution_count": 7,
   "metadata": {},
   "outputs": [
    {
     "name": "stdout",
     "output_type": "stream",
     "text": [
      "Region: 0\n",
      "               f0        f1        f2   product\n",
      "f0       1.000000 -0.440723 -0.003153  0.143536\n",
      "f1      -0.440723  1.000000  0.001724 -0.192356\n",
      "f2      -0.003153  0.001724  1.000000  0.483663\n",
      "product  0.143536 -0.192356  0.483663  1.000000 \n",
      "\n",
      "Region: 1\n",
      "               f0        f1        f2   product\n",
      "f0       1.000000  0.182287 -0.001777 -0.030491\n",
      "f1       0.182287  1.000000 -0.002595 -0.010155\n",
      "f2      -0.001777 -0.002595  1.000000  0.999397\n",
      "product -0.030491 -0.010155  0.999397  1.000000 \n",
      "\n",
      "Region: 2\n",
      "               f0        f1        f2   product\n",
      "f0       1.000000  0.000528 -0.000448 -0.001987\n",
      "f1       0.000528  1.000000  0.000779 -0.001012\n",
      "f2      -0.000448  0.000779  1.000000  0.445871\n",
      "product -0.001987 -0.001012  0.445871  1.000000 \n",
      "\n"
     ]
    }
   ],
   "source": [
    "for i in range(3):\n",
    "    print('Region:', i)\n",
    "    print(data[i].corr(), '\\n')"
   ]
  },
  {
   "cell_type": "code",
   "execution_count": 8,
   "metadata": {},
   "outputs": [
    {
     "data": {
      "image/png": "[encoded data removed]",
      "text/plain": [
       "<Figure size 432x288 with 1 Axes>"
      ]
     },
     "metadata": {
      "needs_background": "light"
     },
     "output_type": "display_data"
    },
    {
     "data": {
      "image/png": "[encoded data removed]",
      "text/plain": [
       "<Figure size 432x288 with 1 Axes>"
      ]
     },
     "metadata": {
      "needs_background": "light"
     },
     "output_type": "display_data"
    },
    {
     "data": {
      "image/png": "[encoded data removed]",
      "text/plain": [
       "<Figure size 432x288 with 1 Axes>"
      ]
     },
     "metadata": {
      "needs_background": "light"
     },
     "output_type": "display_data"
    }
   ],
   "source": [
    "for i in range(3):\n",
    "    data[i].hist('product', bins=10)\n",
    "    plt.title('Region {} product distribution'.format(i))"
   ]
  },
  {
   "cell_type": "markdown",
   "metadata": {},
   "source": [
    "###### Замечания\n",
    "В целом данные в хорошем состоянии, все численных типов, нет пропусков, разброс достаточно велик, но без ненормальных выбросов и т.д. Единственно, есть дубликаты в id скважин (но не в их параметрах!). Т.к. id для моделей не используется, можно дублированием названий пренебречь.  \n",
    "На графиках видно необычное распределение скважин для региона \"1\", которое далеко от нормального и содержит повышенное количество хвостов. Очевидно, это будет способствовать более высоким запасам нефти в лучших 200 скважинах из выборке. Кроме того, можно отметить, что коэффициент корреляции между параметром \"f2\" и запасами(\"product\") для этого региона необычайно высок и почти равен 1. Т.е. адекватную модель можно было бы построить только с одной этой независимой переменной.  \n",
    "В других регионах связь между \"f2\" и запасами также существенно выше, чем с другими параметрами"
   ]
  },
  {
   "cell_type": "markdown",
   "metadata": {},
   "source": [
    "<div class=\"alert alert-block alert-success\">\n",
    "\n",
    "<b>Успех:</b> Данные осмотрены \n",
    "\n",
    "</div>\n",
    "\n"
   ]
  },
  {
   "cell_type": "markdown",
   "metadata": {},
   "source": [
    "\n",
    "<div class=\"alert alert-block alert-info\">\n",
    "<b>Совет </b>  Советую обратить внимание на библиотеки sweetviz и pandas_profiling помогут в проведении более тщательного EDA анализа. Исследовательский анализ можно делать и с помощью ручного вызова функций дефолтных библиотек. Данные библиотеки хороши для максимизации комфорта презентации результатов анализа бизнес-пользователям. \n",
    "    \n",
    "Очень просты в использоовании, на вход кладется датафрейм: pandas_profiling.ProfileReport(df) \n",
    "    \n",
    "</div>"
   ]
  },
  {
   "cell_type": "markdown",
   "metadata": {},
   "source": [
    "<div class=\"alert alert-block alert-warning\">\n",
    "<b>Комментарий студента:</b>\n",
    "Хорошо, спасибо!\n",
    "</div>"
   ]
  },
  {
   "cell_type": "markdown",
   "metadata": {},
   "source": [
    "## Обучение и проверка модели"
   ]
  },
  {
   "cell_type": "code",
   "execution_count": 9,
   "metadata": {},
   "outputs": [],
   "source": [
    "# зависимая переменная - product, остальные - независимые\n",
    "\n",
    "features_columns = [\n",
    "    'f0',\n",
    "    'f1',\n",
    "    'f2',\n",
    "]\n",
    "target_columns = [\n",
    "    'product',\n",
    "]"
   ]
  },
  {
   "cell_type": "code",
   "execution_count": 10,
   "metadata": {},
   "outputs": [],
   "source": [
    "X = [data[i][features_columns] for i in range(3)]\n",
    "y = [data[i][target_columns] for i in range(3)]"
   ]
  },
  {
   "cell_type": "code",
   "execution_count": 11,
   "metadata": {},
   "outputs": [
    {
     "name": "stdout",
     "output_type": "stream",
     "text": [
      "Data shapes for region 0\n",
      "(75000, 3)\n",
      "(75000, 1)\n",
      "(25000, 3)\n",
      "(25000, 1)\n",
      "\n",
      "Data shapes for region 1\n",
      "(75000, 3)\n",
      "(75000, 1)\n",
      "(25000, 3)\n",
      "(25000, 1)\n",
      "\n",
      "Data shapes for region 2\n",
      "(75000, 3)\n",
      "(75000, 1)\n",
      "(25000, 3)\n",
      "(25000, 1)\n",
      "\n"
     ]
    }
   ],
   "source": [
    "train_size = 0.75\n",
    "valid_size = 0.25\n",
    "\n",
    "X_train = [None] * 3\n",
    "y_train = [None] * 3\n",
    "X_valid = [None] * 3\n",
    "y_valid = [None] * 3\n",
    "\n",
    "for i in range(3):\n",
    "    X_train[i], X_valid[i], y_train[i], y_valid[i] = train_test_split(\n",
    "        X[i],\n",
    "        y[i],\n",
    "        test_size=valid_size,\n",
    "        random_state=RS,\n",
    "    )\n",
    "    print('Data shapes for region', i)\n",
    "    print(X_train[i].shape)\n",
    "    print(y_train[i].shape)\n",
    "    print(X_valid[i].shape)\n",
    "    print(y_valid[i].shape)\n",
    "    print()"
   ]
  },
  {
   "cell_type": "code",
   "execution_count": 12,
   "metadata": {},
   "outputs": [
    {
     "name": "stdout",
     "output_type": "stream",
     "text": [
      "Region 0\n",
      "RMSE: 37.5794217150813\n",
      "r2: 0.27994321524487786\n",
      "mean: 92.59256778438035\n",
      "\n",
      "Region 1\n",
      "RMSE: 0.893099286775617\n",
      "r2: 0.9996233978805127\n",
      "mean: 68.728546895446\n",
      "\n",
      "Region 2\n",
      "RMSE: 40.02970873393434\n",
      "r2: 0.20524758386040443\n",
      "mean: 94.96504596800489\n",
      "\n"
     ]
    }
   ],
   "source": [
    "# обучаемся на тренировочной выборке,проверяем качество на валидационной \n",
    "\n",
    "models = [LinearRegression() for i in range(3)]\n",
    "y_pred = [None] * 3\n",
    "for i in range(3):\n",
    "    models[i].fit(X_train[i], y_train[i])\n",
    "    y_pred[i] = models[i].predict(X_valid[i])\n",
    "    print('Region', i)\n",
    "    print('RMSE:', mean_squared_error(y_valid[i], y_pred[i], squared=False))\n",
    "    print('r2:', r2_score(y_valid[i], y_pred[i]))\n",
    "    print('mean:', y_pred[i].mean())\n",
    "    print()\n"
   ]
  },
  {
   "cell_type": "code",
   "execution_count": 13,
   "metadata": {},
   "outputs": [
    {
     "data": {
      "image/png": "[encoded data removed]",
      "text/plain": [
       "<Figure size 432x288 with 1 Axes>"
      ]
     },
     "metadata": {
      "needs_background": "light"
     },
     "output_type": "display_data"
    },
    {
     "data": {
      "image/png": "[encoded data removed]",
      "text/plain": [
       "<Figure size 432x288 with 1 Axes>"
      ]
     },
     "metadata": {
      "needs_background": "light"
     },
     "output_type": "display_data"
    },
    {
     "data": {
      "image/png": "[encoded data removed]",
      "text/plain": [
       "<Figure size 432x288 with 1 Axes>"
      ]
     },
     "metadata": {
      "needs_background": "light"
     },
     "output_type": "display_data"
    }
   ],
   "source": [
    "for i in range(3):\n",
    "    #a = y_valid[i]['product'].tolist()\n",
    "    #b = y_pred[i].ravel().tolist()\n",
    "    #errors = [(a[i] - b[i])**2 for i in range(len(a))]\n",
    "    #pd.Series(errors).hist(bins=100)\n",
    "    plt.scatter(y_valid[i]['product'], y_pred[i], alpha=0.02)\n",
    "    plt.title('Region {}'.format(i))\n",
    "    plt.xlabel('actual values')\n",
    "    plt.ylabel('predicted values')\n",
    "    plt.show()\n"
   ]
  },
  {
   "cell_type": "markdown",
   "metadata": {},
   "source": [
    "###### Замечания\n",
    "Как и ожидалось, наиболее точную модель, с r2 близким к 1 удалось построить дла региона \"1\", для остальных регионов данный показатель откровенно низок и находится на уровне 0.20-0.28. Это же видно на графиках - для региона \"1\" точки прогноза и факта укладываются в прямую, делящую плоскость пополам (хотя график совсем странный, с большми и равномерными интервалами между областями скопления точек), по остальным регионам получились \"облака\", заметно более горизонатально расположенные.  \n",
    "Качество моделей подтверждается размером средней квадратической ошибки - близко к 0 для региона \"1\" и около 40 для остальных (при средних 90-95). "
   ]
  },
  {
   "cell_type": "markdown",
   "metadata": {},
   "source": [
    "<div class=\"alert alert-block alert-success\">\n",
    "<b>Успех:</b> Шаг проделан лаконично, все нужные метрики посчитаны корректно. \n",
    "</div>\n"
   ]
  },
  {
   "cell_type": "markdown",
   "metadata": {},
   "source": [
    "## Подготовка к расчёту прибыли"
   ]
  },
  {
   "cell_type": "code",
   "execution_count": 14,
   "metadata": {},
   "outputs": [],
   "source": [
    "# константы для дальнейшей работы\n",
    "\n",
    "BUDGET_REGION = 10_000_000_000\n",
    "INCOME_BARREL_THS = 450_000\n",
    "LOSS_THRESHOLD = 0.025\n",
    "NUM_WELLS_DEVELOP = 200\n",
    "#barrels_break_even_ths = budget_region / income_1ths_barrels\n",
    "BARRELS_BREAK_EVEN_THS= ceil(BUDGET_REGION / INCOME_BARREL_THS) # оруглено вверх\n"
   ]
  },
  {
   "cell_type": "markdown",
   "metadata": {},
   "source": [
    "<div class=\"alert alert-block alert-info\">\n",
    "    \n",
    "<b>Совет:</b> Константы принято записывать в верхнем регистре. А большие значения удобнее было бы записсывать следующим образом  `income_1ths_barrels = 450_000` - записи идентичны"
   ]
  },
  {
   "cell_type": "markdown",
   "metadata": {},
   "source": [
    "<div class=\"alert alert-block alert-warning\">\n",
    "<b>Комментарий студента:</b>\n",
    "Да, что-то расслабился, забыл привести в нормальный вид ) Исправил.\n",
    "</div>"
   ]
  },
  {
   "cell_type": "markdown",
   "metadata": {},
   "source": [
    "<div class=\"alert alert-block alert-success\">\n",
    "<b>Успех[2]:</b> Есть)\n",
    "</div>\n"
   ]
  },
  {
   "cell_type": "code",
   "execution_count": 15,
   "metadata": {},
   "outputs": [
    {
     "name": "stdout",
     "output_type": "stream",
     "text": [
      "ths barrels to break-even: \t\t\t\t\t\t22,222\n",
      "average deposits per well needed to break-even (200 wells assumed): \t111 \n",
      "\n",
      "Region 0\n",
      "mean product per well, ths barrels: \t93\n",
      "average wells needed to break-even: \t240\n",
      "sum of 200 largest wells, ths barrels: \t36,967\n",
      "\n",
      "Region 1\n",
      "mean product per well, ths barrels: \t69\n",
      "average wells needed to break-even: \t323\n",
      "sum of 200 largest wells, ths barrels: \t27,589\n",
      "\n",
      "Region 2\n",
      "mean product per well, ths barrels: \t95\n",
      "average wells needed to break-even: \t234\n",
      "sum of 200 largest wells, ths barrels: \t37,910\n",
      "\n"
     ]
    }
   ],
   "source": [
    "print('ths barrels to break-even:', '\\t\\t\\t\\t\\t\\t{:,.0f}'.format(BUDGET_REGION / INCOME_BARREL_THS))\n",
    "print('average deposits per well needed to break-even (200 wells assumed):', '\\t{:,.0f}'.format(BUDGET_REGION / INCOME_BARREL_THS / 200), '\\n')\n",
    "\n",
    "for i in range(3):\n",
    "    print('Region', i)\n",
    "    print('mean product per well, ths barrels:', '\\t{:,.0f}'.format(data[i]['product'].mean()))\n",
    "    print('average wells needed to break-even:', '\\t{:,.0f}'.format(BUDGET_REGION / INCOME_BARREL_THS / data[i]['product'].mean()))\n",
    "    print('sum of {} largest wells, ths barrels:'.format(NUM_WELLS_DEVELOP), '\\t{:,.0f}'.format(data[i]['product'].sort_values(ascending=False)[:200].sum()))\n",
    "    print()"
   ]
  },
  {
   "cell_type": "markdown",
   "metadata": {},
   "source": [
    "###### Замечания\n",
    "Для того, чтобы инвестиции окупились требуется добыть не менее 22222 тыс. бареллей, что довольно много. Это означает, что средний размер запасов на скважину в выбираемых к разработке 200 должен составить 111 тыс. бареллей, что больше среднего по всем скважинам отдельных регионов (причем, средние запасы Средние запасы нефти на скважину заметно выше в регионах \"0\" и \"2\" и превышает 90 тыс. бареллей по сравнению с менее 70 тыс. бареллей в регионе \"1\").  \n",
    "Т.е. прибыль при случайном выборе скважин совсем не гарантирована. Однако 200 лучших скважин в каждом из регионов, как видно, содержат достаточное количество нефти (от 27 до 38 тыс. бареллей), чтобы обеспечить окупаемость. "
   ]
  },
  {
   "cell_type": "markdown",
   "metadata": {},
   "source": [
    "<div class=\"alert alert-block alert-info\">\n",
    "<b>Совет:</b> Вывод корректен, но нас вроде заказчик просил посчитать значение для 1 скважины)\n",
    "  \n",
    "</div>\n"
   ]
  },
  {
   "cell_type": "markdown",
   "metadata": {},
   "source": [
    "<div class=\"alert alert-block alert-warning\">\n",
    "<b>Комментарий студента:</b>\n",
    "Вот это задание:\n",
    "<br>\n",
    "    <i>\"3.2. Рассчитайте достаточный объём сырья для безубыточной разработки новой скважины. Сравните полученный объём сырья со средним запасом в каждом регионе.\"\n",
    "</i>\n",
    "<br>\n",
    "не очень понял. В затратах 10 млрд. руб., их одной скважиной, очевидно, не окупить. Добавил расчет какой запас должен быть в средней скважине.\n",
    "</div>"
   ]
  },
  {
   "cell_type": "markdown",
   "metadata": {},
   "source": [
    "<div class=\"alert alert-block alert-success\">\n",
    "<b>Ответ[2]:</b> Их не нужно окупать одной) Нужно окупить используя 200, просто имелось ввиду посчитать какой объем сырья должен был быть на 1 скважину из этих 200.\n",
    "</div>\n"
   ]
  },
  {
   "cell_type": "code",
   "execution_count": 16,
   "metadata": {},
   "outputs": [],
   "source": [
    "def income_est(predicted, actual, num_wells, income_unit, investments):\n",
    "    \"\"\"\n",
    "    Функция возвращает оценку прибыли исходя из предсказанных запасов, фактических, количества скважин в разработке,\n",
    "    прибыли на 1 тыс. бареллей и общего размера инвестиций\n",
    "    \"\"\"\n",
    "    selected = actual[\n",
    "        predicted.sort_values(ascending=False).index\n",
    "    ][:num_wells]\n",
    "    return income_unit * selected.sum() - investments"
   ]
  },
  {
   "cell_type": "markdown",
   "metadata": {},
   "source": [
    "<div class=\"alert alert-block alert-success\">\n",
    "<b>Успех:</b> Ф-ция подсчета прибыли определена верно\n",
    "  \n",
    "</div>"
   ]
  },
  {
   "cell_type": "markdown",
   "metadata": {},
   "source": [
    "## Расчёт прибыли и рисков "
   ]
  },
  {
   "cell_type": "code",
   "execution_count": 17,
   "metadata": {},
   "outputs": [],
   "source": [
    "state = np.random.RandomState(RS)\n",
    "repeats = 1000"
   ]
  },
  {
   "cell_type": "code",
   "execution_count": 18,
   "metadata": {},
   "outputs": [],
   "source": [
    "# процедура bootstrap\n",
    "\n",
    "profits = [[], [], []]\n",
    "for _ in range(repeats):\n",
    "    for i in range(3):\n",
    "        sampled = X_valid[i].join(y_valid[i]).sample(n=500, replace=True, random_state=state)\n",
    "        #sampled = data[i].sample(n=500, replace=True, random_state=state)\n",
    "        y_sampled = sampled[target_columns].reset_index(drop=True).squeeze()\n",
    "        y_predicted = models[i].predict(sampled[features_columns]).ravel()\n",
    "        profits[i].append(\n",
    "            income_est(\n",
    "                pd.Series(y_predicted),\n",
    "                y_sampled,\n",
    "                NUM_WELLS_DEVELOP,\n",
    "                INCOME_BARREL_THS,\n",
    "                BUDGET_REGION,\n",
    "            )\n",
    "        )\n"
   ]
  },
  {
   "cell_type": "markdown",
   "metadata": {},
   "source": [
    "<div class=\"alert alert-block alert-success\">\n",
    "<b>Успех:</b> С бутстрапом тоже все в поряжке\n",
    "  \n",
    "</div>"
   ]
  },
  {
   "cell_type": "markdown",
   "metadata": {},
   "source": [
    "<div class=\"alert alert-block alert-danger\">\n",
    "<b>Ошибка:</b> Также нужно посчитать риск убытков для каждого региона (долю отрицательной прибыли)\n",
    "  \n",
    "</div>"
   ]
  },
  {
   "cell_type": "markdown",
   "metadata": {},
   "source": [
    "<div class=\"alert alert-block alert-warning\">\n",
    "<b>Комментарий студента:</b>\n",
    "Добавил и немного отредактировал вывод\n",
    "</div>"
   ]
  },
  {
   "cell_type": "markdown",
   "metadata": {},
   "source": [
    "<div class=\"alert alert-block alert-success\">\n",
    "<b>Успех[2]:</b> Есть контакт)\n",
    "</div>\n"
   ]
  },
  {
   "cell_type": "code",
   "execution_count": 19,
   "metadata": {},
   "outputs": [
    {
     "name": "stdout",
     "output_type": "stream",
     "text": [
      "Region 0\n",
      "Average profit:\t\t384,260,329\n",
      "2.5%-quantile:\t\t-148,694,266\n",
      "97.5%-quantile:\t\t909,153,837\n",
      "Standard deviation:\t276,715,954\n",
      "Probability of loss: \t8.3%\n"
     ]
    },
    {
     "data": {
      "image/png": "[encoded data removed]",
      "text/plain": [
       "<Figure size 432x288 with 1 Axes>"
      ]
     },
     "metadata": {
      "needs_background": "light"
     },
     "output_type": "display_data"
    },
    {
     "name": "stdout",
     "output_type": "stream",
     "text": [
      "\n",
      "Region 1\n",
      "Average profit:\t\t455,016,072\n",
      "2.5%-quantile:\t\t48,072,046\n",
      "97.5%-quantile:\t\t848,709,853\n",
      "Standard deviation:\t203,042,454\n",
      "Probability of loss: \t1.5%\n"
     ]
    },
    {
     "data": {
      "image/png": "[encoded data removed]",
      "text/plain": [
       "<Figure size 432x288 with 1 Axes>"
      ]
     },
     "metadata": {
      "needs_background": "light"
     },
     "output_type": "display_data"
    },
    {
     "name": "stdout",
     "output_type": "stream",
     "text": [
      "\n",
      "Region 2\n",
      "Average profit:\t\t380,893,248\n",
      "2.5%-quantile:\t\t-146,453,456\n",
      "97.5%-quantile:\t\t945,355,945\n",
      "Standard deviation:\t275,449,084\n",
      "Probability of loss: \t9.0%\n"
     ]
    },
    {
     "data": {
      "image/png": "[encoded data removed]",
      "text/plain": [
       "<Figure size 432x288 with 1 Axes>"
      ]
     },
     "metadata": {
      "needs_background": "light"
     },
     "output_type": "display_data"
    },
    {
     "name": "stdout",
     "output_type": "stream",
     "text": [
      "\n"
     ]
    }
   ],
   "source": [
    "from statsmodels.distributions.empirical_distribution import ECDF\n",
    "\n",
    "for i in range(3):\n",
    "    profits_series = pd.Series(profits[i])\n",
    "    lower = profits_series.quantile(LOSS_THRESHOLD)\n",
    "    higher = profits_series.quantile(1 - LOSS_THRESHOLD)\n",
    "\n",
    "    mean = profits_series.mean()\n",
    "    print('Region', i)\n",
    "    print('Average profit:\\t\\t{:,.0f}'.format(float(mean)))\n",
    "    print('{}%-quantile:\\t\\t{:,.0f}'.format(LOSS_THRESHOLD * 100, float(lower)))\n",
    "    print('{}%-quantile:\\t\\t{:,.0f}'.format((1 - LOSS_THRESHOLD) * 100, float(higher)))\n",
    "    print('Standard deviation:\\t{:,.0f}'.format(np.std(profits_series)))\n",
    "    print('Probability of loss: \\t{:.1%}'.format(profits_series.le(0).mean()))\n",
    "    profits_series.hist(bins=30)\n",
    "    plt.title('Expected profit, mln RUB')\n",
    "    plt.show()\n",
    "    print()"
   ]
  },
  {
   "cell_type": "markdown",
   "metadata": {},
   "source": [
    "###### Замечания\n",
    "По итогам проведенных имитаций получилось, что наиболее перспективным регионам для организации добычи является регион \"1\" - только в нем ожидается прибыль не менее, чем с 95% вероятностью, а также максимальное среднее значение прибыли. Этому явно способствовало более высокое качество модели, т.е. более точная оценка запасов и, таким образом, максимальные шансы выбрать для разработки скважины с действительно максимальными запасами. Вероятно, распределение скважин с высокими \"хвостами\" также обеспечило повышенную среднюю величину запасов среди отбираемых для разработки 200 скважин.  \n",
    "На графиках видно, что распределение ожидаемой прибыли для региона \"1\" имеет наиболее близкую к нормальному распределенюю форму, а также меньший разброс значений."
   ]
  },
  {
   "cell_type": "markdown",
   "metadata": {},
   "source": [
    "# Вывод\n",
    "Для разработки следует выбрать регион \"1\". В этом регионе с вероятностью 97,5% удастся получить прибыль не менее 48 млн. руб., в то время как в регионах \"0\" и \"2\" вероятность убытков превышает 2.5% - составляет 8.3% и 9.0% соответственно."
   ]
  },
  {
   "cell_type": "markdown",
   "metadata": {},
   "source": [
    "<div class=\"alert alert-block alert-success\">\n",
    "<b>Успех:</b> Отлично! Проведено детальное исследование, написан логичный вывод и был выбран правильный регион, поздравляю!\n",
    "    \n",
    "  \n",
    "</div>\n",
    " \n",
    " "
   ]
  },
  {
   "cell_type": "markdown",
   "metadata": {},
   "source": [
    "## Чек-лист готовности проекта"
   ]
  },
  {
   "cell_type": "markdown",
   "metadata": {},
   "source": [
    "Поставьте 'x' в выполненных пунктах. Далее нажмите Shift+Enter."
   ]
  },
  {
   "cell_type": "markdown",
   "metadata": {},
   "source": [
    "- [x]  Jupyter Notebook открыт\n",
    "- [x]  Весь код выполняется без ошибок\n",
    "- [x]  Ячейки с кодом расположены в порядке исполнения\n",
    "- [x]  Выполнен шаг 1: данные подготовлены\n",
    "- [x]  Выполнен шаг 2: модели обучены и проверены\n",
    "    - [x]  Данные корректно разбиты на обучающую и валидационную выборки\n",
    "    - [x]  Модели обучены, предсказания сделаны\n",
    "    - [x]  Предсказания и правильные ответы на валидационной выборке сохранены\n",
    "    - [x]  На экране напечатаны результаты\n",
    "    - [x]  Сделаны выводы\n",
    "- [x]  Выполнен шаг 3: проведена подготовка к расчёту прибыли\n",
    "    - [x]  Для всех ключевых значений созданы константы Python\n",
    "    - [x]  Посчитано минимальное среднее количество продукта в месторождениях региона, достаточное для разработки\n",
    "    - [x]  По предыдущему пункту сделаны выводы\n",
    "    - [x]  Написана функция расчёта прибыли\n",
    "- [x]  Выполнен шаг 4: посчитаны риски и прибыль\n",
    "    - [x]  Проведена процедура *Bootstrap*\n",
    "    - [x]  Все параметры бутстрепа соответствуют условию\n",
    "    - [x]  Найдены все нужные величины\n",
    "    - [x]  Предложен регион для разработки месторождения\n",
    "    - [x]  Выбор региона обоснован"
   ]
  },
  {
   "cell_type": "code",
   "execution_count": null,
   "metadata": {},
   "outputs": [],
   "source": []
  }
 ],
 "metadata": {
  "ExecuteTimeLog": [
   {
    "duration": 1736,
    "start_time": "2022-10-05T18:07:23.616Z"
   },
   {
    "duration": 410,
    "start_time": "2022-10-05T18:07:25.355Z"
   },
   {
    "duration": 19,
    "start_time": "2022-10-05T18:07:25.770Z"
   },
   {
    "duration": 16,
    "start_time": "2022-10-05T18:07:35.977Z"
   },
   {
    "duration": 120,
    "start_time": "2022-10-05T18:48:35.385Z"
   },
   {
    "duration": 11,
    "start_time": "2022-10-05T18:48:39.693Z"
   },
   {
    "duration": 10,
    "start_time": "2022-10-05T18:48:46.156Z"
   },
   {
    "duration": 21,
    "start_time": "2022-10-05T18:49:15.440Z"
   },
   {
    "duration": 15,
    "start_time": "2022-10-05T18:49:20.868Z"
   },
   {
    "duration": 21,
    "start_time": "2022-10-05T18:49:39.558Z"
   },
   {
    "duration": 27,
    "start_time": "2022-10-05T18:49:44.059Z"
   },
   {
    "duration": 142,
    "start_time": "2022-10-05T18:50:31.760Z"
   },
   {
    "duration": 157,
    "start_time": "2022-10-05T18:51:22.471Z"
   },
   {
    "duration": 33,
    "start_time": "2022-10-05T18:53:58.119Z"
   },
   {
    "duration": 189,
    "start_time": "2022-10-05T18:54:00.478Z"
   },
   {
    "duration": 15,
    "start_time": "2022-10-05T18:56:05.394Z"
   },
   {
    "duration": 37,
    "start_time": "2022-10-05T18:56:22.387Z"
   },
   {
    "duration": 4,
    "start_time": "2022-10-05T18:58:17.021Z"
   },
   {
    "duration": 532,
    "start_time": "2022-10-05T18:58:17.388Z"
   },
   {
    "duration": 10,
    "start_time": "2022-10-05T18:58:17.939Z"
   },
   {
    "duration": 7,
    "start_time": "2022-10-05T18:58:35.104Z"
   },
   {
    "duration": 3,
    "start_time": "2022-10-05T18:59:54.839Z"
   },
   {
    "duration": 3,
    "start_time": "2022-10-05T19:00:17.239Z"
   },
   {
    "duration": 11,
    "start_time": "2022-10-05T19:00:31.902Z"
   },
   {
    "duration": 13,
    "start_time": "2022-10-05T19:01:04.577Z"
   },
   {
    "duration": 12,
    "start_time": "2022-10-05T19:01:12.389Z"
   },
   {
    "duration": 13,
    "start_time": "2022-10-05T19:01:40.443Z"
   },
   {
    "duration": 44,
    "start_time": "2022-10-05T19:01:57.815Z"
   },
   {
    "duration": 3,
    "start_time": "2022-10-05T19:03:01.136Z"
   },
   {
    "duration": 396,
    "start_time": "2022-10-05T19:03:01.544Z"
   },
   {
    "duration": 5,
    "start_time": "2022-10-05T19:03:01.942Z"
   },
   {
    "duration": 1472,
    "start_time": "2022-10-05T19:05:09.609Z"
   },
   {
    "duration": 389,
    "start_time": "2022-10-05T19:05:11.083Z"
   },
   {
    "duration": 2,
    "start_time": "2022-10-05T19:05:11.474Z"
   },
   {
    "duration": 1646,
    "start_time": "2022-10-06T06:01:44.126Z"
   },
   {
    "duration": 1931,
    "start_time": "2022-10-06T06:01:45.774Z"
   },
   {
    "duration": 2,
    "start_time": "2022-10-06T06:01:47.707Z"
   },
   {
    "duration": 125,
    "start_time": "2022-10-06T06:01:47.711Z"
   },
   {
    "duration": 0,
    "start_time": "2022-10-06T06:01:47.837Z"
   },
   {
    "duration": 13,
    "start_time": "2022-10-06T06:02:10.802Z"
   },
   {
    "duration": 63,
    "start_time": "2022-10-06T06:02:42.605Z"
   },
   {
    "duration": 11,
    "start_time": "2022-10-06T06:03:13.165Z"
   },
   {
    "duration": 12,
    "start_time": "2022-10-06T06:03:21.071Z"
   },
   {
    "duration": 9,
    "start_time": "2022-10-06T06:03:46.920Z"
   },
   {
    "duration": 10,
    "start_time": "2022-10-06T06:03:55.553Z"
   },
   {
    "duration": 178,
    "start_time": "2022-10-06T06:04:13.299Z"
   },
   {
    "duration": 168,
    "start_time": "2022-10-06T06:06:52.692Z"
   },
   {
    "duration": 14,
    "start_time": "2022-10-06T06:07:23.374Z"
   },
   {
    "duration": 200,
    "start_time": "2022-10-06T06:08:25.466Z"
   },
   {
    "duration": 142,
    "start_time": "2022-10-06T06:09:40.826Z"
   },
   {
    "duration": 145,
    "start_time": "2022-10-06T06:12:15.481Z"
   },
   {
    "duration": 284,
    "start_time": "2022-10-06T06:12:44.085Z"
   },
   {
    "duration": 151,
    "start_time": "2022-10-06T06:20:09.365Z"
   },
   {
    "duration": 134,
    "start_time": "2022-10-06T06:20:54.288Z"
   },
   {
    "duration": 159,
    "start_time": "2022-10-06T06:21:36.680Z"
   },
   {
    "duration": 507,
    "start_time": "2022-10-06T06:22:14.674Z"
   },
   {
    "duration": 497,
    "start_time": "2022-10-06T06:22:39.754Z"
   },
   {
    "duration": 536,
    "start_time": "2022-10-06T06:23:04.938Z"
   },
   {
    "duration": 112,
    "start_time": "2022-10-06T06:24:40.818Z"
   },
   {
    "duration": 0,
    "start_time": "2022-10-06T06:55:02.981Z"
   },
   {
    "duration": 0,
    "start_time": "2022-10-06T06:55:02.982Z"
   },
   {
    "duration": 0,
    "start_time": "2022-10-06T06:55:02.984Z"
   },
   {
    "duration": 0,
    "start_time": "2022-10-06T06:55:02.989Z"
   },
   {
    "duration": 0,
    "start_time": "2022-10-06T06:55:02.990Z"
   },
   {
    "duration": 0,
    "start_time": "2022-10-06T06:55:02.991Z"
   },
   {
    "duration": 0,
    "start_time": "2022-10-06T06:55:02.993Z"
   },
   {
    "duration": 0,
    "start_time": "2022-10-06T06:55:02.994Z"
   },
   {
    "duration": 4,
    "start_time": "2022-10-06T06:55:07.736Z"
   },
   {
    "duration": 390,
    "start_time": "2022-10-06T06:55:09.447Z"
   },
   {
    "duration": 8,
    "start_time": "2022-10-06T06:55:11.162Z"
   },
   {
    "duration": 18,
    "start_time": "2022-10-06T06:55:11.572Z"
   },
   {
    "duration": 58,
    "start_time": "2022-10-06T06:55:12.085Z"
   },
   {
    "duration": 494,
    "start_time": "2022-10-06T06:55:12.662Z"
   },
   {
    "duration": 108,
    "start_time": "2022-10-06T06:55:13.159Z"
   },
   {
    "duration": 15,
    "start_time": "2022-10-06T07:25:28.009Z"
   },
   {
    "duration": 30,
    "start_time": "2022-10-06T07:26:03.447Z"
   },
   {
    "duration": 3,
    "start_time": "2022-10-06T07:34:27.776Z"
   },
   {
    "duration": 115,
    "start_time": "2022-10-06T07:34:28.549Z"
   },
   {
    "duration": 1400,
    "start_time": "2022-10-06T07:34:41.737Z"
   },
   {
    "duration": 5804,
    "start_time": "2022-10-06T07:35:12.300Z"
   },
   {
    "duration": 10,
    "start_time": "2022-10-06T07:35:37.949Z"
   },
   {
    "duration": 160,
    "start_time": "2022-10-06T07:37:47.698Z"
   },
   {
    "duration": 517,
    "start_time": "2022-10-06T07:38:20.822Z"
   },
   {
    "duration": 454,
    "start_time": "2022-10-06T07:40:25.675Z"
   },
   {
    "duration": 499,
    "start_time": "2022-10-06T07:40:56.761Z"
   },
   {
    "duration": 672,
    "start_time": "2022-10-06T07:41:32.674Z"
   },
   {
    "duration": 434,
    "start_time": "2022-10-06T07:43:50.515Z"
   },
   {
    "duration": 5,
    "start_time": "2022-10-06T07:49:24.603Z"
   },
   {
    "duration": 10,
    "start_time": "2022-10-06T07:49:34.305Z"
   },
   {
    "duration": 101,
    "start_time": "2022-10-06T07:49:44.056Z"
   },
   {
    "duration": 3,
    "start_time": "2022-10-06T07:50:32.800Z"
   },
   {
    "duration": 6,
    "start_time": "2022-10-06T07:50:36.652Z"
   },
   {
    "duration": 444,
    "start_time": "2022-10-06T07:51:16.055Z"
   },
   {
    "duration": 31,
    "start_time": "2022-10-06T07:51:48.302Z"
   },
   {
    "duration": 40,
    "start_time": "2022-10-06T07:52:05.995Z"
   },
   {
    "duration": 10,
    "start_time": "2022-10-06T07:56:48.431Z"
   },
   {
    "duration": 5,
    "start_time": "2022-10-06T07:56:55.850Z"
   },
   {
    "duration": 18,
    "start_time": "2022-10-06T07:57:00.955Z"
   },
   {
    "duration": 15,
    "start_time": "2022-10-06T07:57:10.932Z"
   },
   {
    "duration": 14,
    "start_time": "2022-10-06T07:57:30.420Z"
   },
   {
    "duration": 15,
    "start_time": "2022-10-06T07:57:46.585Z"
   },
   {
    "duration": 17,
    "start_time": "2022-10-06T07:57:51.670Z"
   },
   {
    "duration": 25,
    "start_time": "2022-10-06T08:01:22.749Z"
   },
   {
    "duration": 40,
    "start_time": "2022-10-06T08:01:33.325Z"
   },
   {
    "duration": 52,
    "start_time": "2022-10-06T08:03:58.447Z"
   },
   {
    "duration": 5,
    "start_time": "2022-10-06T08:04:27.684Z"
   },
   {
    "duration": 43,
    "start_time": "2022-10-06T08:04:34.647Z"
   },
   {
    "duration": 210,
    "start_time": "2022-10-06T08:04:42.484Z"
   },
   {
    "duration": 160,
    "start_time": "2022-10-06T08:07:21.434Z"
   },
   {
    "duration": 5,
    "start_time": "2022-10-06T08:09:10.648Z"
   },
   {
    "duration": 237,
    "start_time": "2022-10-06T08:09:39.860Z"
   },
   {
    "duration": 251,
    "start_time": "2022-10-06T08:09:52.348Z"
   },
   {
    "duration": 5,
    "start_time": "2022-10-06T08:30:04.631Z"
   },
   {
    "duration": 282,
    "start_time": "2022-10-06T08:31:15.359Z"
   },
   {
    "duration": 6,
    "start_time": "2022-10-06T08:31:21.568Z"
   },
   {
    "duration": 10,
    "start_time": "2022-10-06T08:31:29.205Z"
   },
   {
    "duration": 10,
    "start_time": "2022-10-06T08:31:43.455Z"
   },
   {
    "duration": 177,
    "start_time": "2022-10-06T08:32:03.000Z"
   },
   {
    "duration": 5,
    "start_time": "2022-10-06T08:32:17.718Z"
   },
   {
    "duration": 5,
    "start_time": "2022-10-06T08:32:19.499Z"
   },
   {
    "duration": 169,
    "start_time": "2022-10-06T08:32:19.818Z"
   },
   {
    "duration": 6,
    "start_time": "2022-10-06T08:32:31.188Z"
   },
   {
    "duration": 204,
    "start_time": "2022-10-06T08:32:31.705Z"
   },
   {
    "duration": 277,
    "start_time": "2022-10-06T08:33:05.394Z"
   },
   {
    "duration": 504,
    "start_time": "2022-10-06T08:33:23.932Z"
   },
   {
    "duration": 11,
    "start_time": "2022-10-06T08:33:46.048Z"
   },
   {
    "duration": 15,
    "start_time": "2022-10-06T08:34:27.307Z"
   },
   {
    "duration": 668,
    "start_time": "2022-10-06T08:34:35.932Z"
   },
   {
    "duration": 11,
    "start_time": "2022-10-06T08:34:54.655Z"
   },
   {
    "duration": 9,
    "start_time": "2022-10-06T08:35:04.518Z"
   },
   {
    "duration": 7,
    "start_time": "2022-10-06T08:35:11.956Z"
   },
   {
    "duration": 5,
    "start_time": "2022-10-06T08:35:26.697Z"
   },
   {
    "duration": 6,
    "start_time": "2022-10-06T08:36:18.157Z"
   },
   {
    "duration": 7,
    "start_time": "2022-10-06T08:36:35.157Z"
   },
   {
    "duration": 6,
    "start_time": "2022-10-06T08:36:55.669Z"
   },
   {
    "duration": 1419,
    "start_time": "2022-10-06T08:37:13.079Z"
   },
   {
    "duration": 6,
    "start_time": "2022-10-06T08:37:40.941Z"
   },
   {
    "duration": 4,
    "start_time": "2022-10-06T08:38:12.896Z"
   },
   {
    "duration": 10,
    "start_time": "2022-10-06T08:38:34.251Z"
   },
   {
    "duration": 10,
    "start_time": "2022-10-06T08:38:58.696Z"
   },
   {
    "duration": 12,
    "start_time": "2022-10-06T08:39:23.295Z"
   },
   {
    "duration": 32,
    "start_time": "2022-10-06T08:39:32.806Z"
   },
   {
    "duration": 21,
    "start_time": "2022-10-06T08:40:09.669Z"
   },
   {
    "duration": 22,
    "start_time": "2022-10-06T08:41:17.714Z"
   },
   {
    "duration": 8,
    "start_time": "2022-10-06T08:41:44.730Z"
   },
   {
    "duration": 11,
    "start_time": "2022-10-06T08:42:03.444Z"
   },
   {
    "duration": 12,
    "start_time": "2022-10-06T08:42:15.078Z"
   },
   {
    "duration": 6,
    "start_time": "2022-10-06T08:42:19.906Z"
   },
   {
    "duration": 4,
    "start_time": "2022-10-06T08:42:31.157Z"
   },
   {
    "duration": 114,
    "start_time": "2022-10-06T08:42:37.906Z"
   },
   {
    "duration": 14,
    "start_time": "2022-10-06T08:43:13.270Z"
   },
   {
    "duration": 19,
    "start_time": "2022-10-06T08:43:30.834Z"
   },
   {
    "duration": 10,
    "start_time": "2022-10-06T08:43:38.131Z"
   },
   {
    "duration": 11,
    "start_time": "2022-10-06T08:43:49.209Z"
   },
   {
    "duration": 17,
    "start_time": "2022-10-06T08:43:59.032Z"
   },
   {
    "duration": 23,
    "start_time": "2022-10-06T08:45:16.508Z"
   },
   {
    "duration": 5,
    "start_time": "2022-10-06T08:45:20.285Z"
   },
   {
    "duration": 5,
    "start_time": "2022-10-06T08:45:50.020Z"
   },
   {
    "duration": 5,
    "start_time": "2022-10-06T08:46:58.245Z"
   },
   {
    "duration": 6,
    "start_time": "2022-10-06T08:47:15.633Z"
   },
   {
    "duration": 11,
    "start_time": "2022-10-06T08:47:18.671Z"
   },
   {
    "duration": 27,
    "start_time": "2022-10-06T08:47:30.470Z"
   },
   {
    "duration": 15,
    "start_time": "2022-10-06T08:47:40.559Z"
   },
   {
    "duration": 17,
    "start_time": "2022-10-06T08:48:20.369Z"
   },
   {
    "duration": 12,
    "start_time": "2022-10-06T08:48:59.109Z"
   },
   {
    "duration": 11,
    "start_time": "2022-10-06T08:49:24.296Z"
   },
   {
    "duration": 23914,
    "start_time": "2022-10-06T08:49:36.346Z"
   },
   {
    "duration": 6425,
    "start_time": "2022-10-06T08:50:03.033Z"
   },
   {
    "duration": 5,
    "start_time": "2022-10-06T08:50:30.226Z"
   },
   {
    "duration": 10,
    "start_time": "2022-10-06T08:51:02.974Z"
   },
   {
    "duration": 5,
    "start_time": "2022-10-06T08:51:30.021Z"
   },
   {
    "duration": 16796,
    "start_time": "2022-10-06T08:51:37.486Z"
   },
   {
    "duration": 12,
    "start_time": "2022-10-06T08:52:25.110Z"
   },
   {
    "duration": 5,
    "start_time": "2022-10-06T08:52:33.160Z"
   },
   {
    "duration": 7,
    "start_time": "2022-10-06T08:53:02.709Z"
   },
   {
    "duration": 616,
    "start_time": "2022-10-06T08:54:19.647Z"
   },
   {
    "duration": 618,
    "start_time": "2022-10-06T08:54:39.572Z"
   },
   {
    "duration": 815,
    "start_time": "2022-10-06T09:07:24.565Z"
   },
   {
    "duration": 1829,
    "start_time": "2022-10-06T09:08:15.376Z"
   },
   {
    "duration": 1626,
    "start_time": "2022-10-06T09:08:46.073Z"
   },
   {
    "duration": 987,
    "start_time": "2022-10-06T09:08:58.077Z"
   },
   {
    "duration": 1049,
    "start_time": "2022-10-06T09:09:27.250Z"
   },
   {
    "duration": 635,
    "start_time": "2022-10-06T09:10:54.751Z"
   },
   {
    "duration": 1001,
    "start_time": "2022-10-06T09:28:28.791Z"
   },
   {
    "duration": 1104,
    "start_time": "2022-10-06T09:29:00.374Z"
   },
   {
    "duration": 1130,
    "start_time": "2022-10-06T09:29:31.615Z"
   },
   {
    "duration": 7,
    "start_time": "2022-10-06T09:31:11.860Z"
   },
   {
    "duration": 382,
    "start_time": "2022-10-06T09:31:13.223Z"
   },
   {
    "duration": 7,
    "start_time": "2022-10-06T09:31:14.972Z"
   },
   {
    "duration": 14,
    "start_time": "2022-10-06T09:31:19.264Z"
   },
   {
    "duration": 38,
    "start_time": "2022-10-06T09:31:20.534Z"
   },
   {
    "duration": 671,
    "start_time": "2022-10-06T09:31:21.597Z"
   },
   {
    "duration": 99,
    "start_time": "2022-10-06T09:31:22.309Z"
   },
   {
    "duration": 40,
    "start_time": "2022-10-06T09:31:24.060Z"
   },
   {
    "duration": 709,
    "start_time": "2022-10-06T09:31:24.872Z"
   },
   {
    "duration": 3,
    "start_time": "2022-10-06T09:31:26.897Z"
   },
   {
    "duration": 12,
    "start_time": "2022-10-06T09:31:27.603Z"
   },
   {
    "duration": 37,
    "start_time": "2022-10-06T09:31:28.185Z"
   },
   {
    "duration": 388,
    "start_time": "2022-10-06T09:31:28.810Z"
   },
   {
    "duration": 369,
    "start_time": "2022-10-06T09:31:29.471Z"
   },
   {
    "duration": 224,
    "start_time": "2022-10-06T09:31:30.949Z"
   },
   {
    "duration": 1542,
    "start_time": "2022-10-06T09:32:17.122Z"
   },
   {
    "duration": 409,
    "start_time": "2022-10-06T09:32:18.666Z"
   },
   {
    "duration": 2,
    "start_time": "2022-10-06T09:32:19.077Z"
   },
   {
    "duration": 21,
    "start_time": "2022-10-06T09:32:19.081Z"
   },
   {
    "duration": 41,
    "start_time": "2022-10-06T09:32:19.268Z"
   },
   {
    "duration": 512,
    "start_time": "2022-10-06T09:32:19.573Z"
   },
   {
    "duration": 116,
    "start_time": "2022-10-06T09:32:20.090Z"
   },
   {
    "duration": 32,
    "start_time": "2022-10-06T09:32:20.534Z"
   },
   {
    "duration": 521,
    "start_time": "2022-10-06T09:32:21.085Z"
   },
   {
    "duration": 3,
    "start_time": "2022-10-06T09:32:22.620Z"
   },
   {
    "duration": 14,
    "start_time": "2022-10-06T09:32:23.272Z"
   },
   {
    "duration": 41,
    "start_time": "2022-10-06T09:32:23.971Z"
   },
   {
    "duration": 255,
    "start_time": "2022-10-06T09:32:42.547Z"
   },
   {
    "duration": 761,
    "start_time": "2022-10-06T09:33:23.980Z"
   },
   {
    "duration": 407,
    "start_time": "2022-10-06T09:36:21.302Z"
   },
   {
    "duration": 637,
    "start_time": "2022-10-06T09:37:23.848Z"
   },
   {
    "duration": 124,
    "start_time": "2022-10-06T09:49:48.502Z"
   },
   {
    "duration": 602,
    "start_time": "2022-10-06T09:50:01.653Z"
   },
   {
    "duration": 224,
    "start_time": "2022-10-06T09:50:52.651Z"
   },
   {
    "duration": 14,
    "start_time": "2022-10-06T09:51:25.965Z"
   },
   {
    "duration": 458,
    "start_time": "2022-10-06T09:52:13.117Z"
   },
   {
    "duration": 495,
    "start_time": "2022-10-06T09:52:17.139Z"
   },
   {
    "duration": 78,
    "start_time": "2022-10-06T09:52:54.241Z"
   },
   {
    "duration": 146,
    "start_time": "2022-10-06T09:53:29.553Z"
   },
   {
    "duration": 11,
    "start_time": "2022-10-06T09:53:34.918Z"
   },
   {
    "duration": 498,
    "start_time": "2022-10-06T09:54:06.453Z"
   },
   {
    "duration": 406,
    "start_time": "2022-10-06T09:54:11.177Z"
   },
   {
    "duration": 460,
    "start_time": "2022-10-06T09:54:18.576Z"
   },
   {
    "duration": 666,
    "start_time": "2022-10-06T09:54:32.590Z"
   },
   {
    "duration": 495,
    "start_time": "2022-10-06T09:54:47.803Z"
   },
   {
    "duration": 531,
    "start_time": "2022-10-06T09:54:51.765Z"
   },
   {
    "duration": 615,
    "start_time": "2022-10-06T09:55:00.628Z"
   },
   {
    "duration": 3,
    "start_time": "2022-10-06T10:01:27.943Z"
   },
   {
    "duration": 10,
    "start_time": "2022-10-06T10:03:50.595Z"
   },
   {
    "duration": 3,
    "start_time": "2022-10-06T10:03:53.320Z"
   },
   {
    "duration": 4,
    "start_time": "2022-10-06T10:03:53.880Z"
   },
   {
    "duration": 3,
    "start_time": "2022-10-06T10:04:02.793Z"
   },
   {
    "duration": 4,
    "start_time": "2022-10-06T10:04:05.345Z"
   },
   {
    "duration": 3,
    "start_time": "2022-10-06T10:04:17.140Z"
   },
   {
    "duration": 4,
    "start_time": "2022-10-06T10:04:17.550Z"
   },
   {
    "duration": 92,
    "start_time": "2022-10-06T10:05:32.521Z"
   },
   {
    "duration": 10,
    "start_time": "2022-10-06T10:05:44.320Z"
   },
   {
    "duration": 4,
    "start_time": "2022-10-06T10:05:44.855Z"
   },
   {
    "duration": 6,
    "start_time": "2022-10-06T10:06:30.223Z"
   },
   {
    "duration": 3,
    "start_time": "2022-10-06T10:06:35.146Z"
   },
   {
    "duration": 3,
    "start_time": "2022-10-06T10:06:36.232Z"
   },
   {
    "duration": 4,
    "start_time": "2022-10-06T10:06:36.594Z"
   },
   {
    "duration": 3,
    "start_time": "2022-10-06T10:07:16.907Z"
   },
   {
    "duration": 4,
    "start_time": "2022-10-06T10:07:17.806Z"
   },
   {
    "duration": 5,
    "start_time": "2022-10-06T10:08:35.458Z"
   },
   {
    "duration": 13,
    "start_time": "2022-10-06T10:09:06.461Z"
   },
   {
    "duration": 24,
    "start_time": "2022-10-06T10:09:40.887Z"
   },
   {
    "duration": 18,
    "start_time": "2022-10-06T10:09:51.244Z"
   },
   {
    "duration": 21,
    "start_time": "2022-10-06T10:10:04.632Z"
   },
   {
    "duration": 46,
    "start_time": "2022-10-06T10:10:30.255Z"
   },
   {
    "duration": 48,
    "start_time": "2022-10-06T10:12:12.253Z"
   },
   {
    "duration": 43,
    "start_time": "2022-10-06T10:12:32.783Z"
   },
   {
    "duration": 50,
    "start_time": "2022-10-06T10:15:20.347Z"
   },
   {
    "duration": 125,
    "start_time": "2022-10-06T10:18:51.002Z"
   },
   {
    "duration": 46,
    "start_time": "2022-10-06T10:18:56.922Z"
   },
   {
    "duration": 50,
    "start_time": "2022-10-06T10:19:07.071Z"
   },
   {
    "duration": 44,
    "start_time": "2022-10-06T10:19:12.509Z"
   },
   {
    "duration": 41,
    "start_time": "2022-10-06T10:19:17.303Z"
   },
   {
    "duration": 43,
    "start_time": "2022-10-06T10:19:27.416Z"
   },
   {
    "duration": 46,
    "start_time": "2022-10-06T10:19:48.235Z"
   },
   {
    "duration": 14,
    "start_time": "2022-10-06T10:25:04.650Z"
   },
   {
    "duration": 3,
    "start_time": "2022-10-06T10:25:22.202Z"
   },
   {
    "duration": 9,
    "start_time": "2022-10-06T10:25:28.188Z"
   },
   {
    "duration": 44,
    "start_time": "2022-10-06T10:25:28.463Z"
   },
   {
    "duration": 12,
    "start_time": "2022-10-06T10:57:14.970Z"
   },
   {
    "duration": 84,
    "start_time": "2022-10-06T10:57:18.710Z"
   },
   {
    "duration": 83,
    "start_time": "2022-10-06T10:57:32.751Z"
   },
   {
    "duration": 91,
    "start_time": "2022-10-06T10:57:37.864Z"
   },
   {
    "duration": 86,
    "start_time": "2022-10-06T10:58:10.153Z"
   },
   {
    "duration": 126,
    "start_time": "2022-10-06T10:58:20.840Z"
   },
   {
    "duration": 3,
    "start_time": "2022-10-06T10:58:36.715Z"
   },
   {
    "duration": 15,
    "start_time": "2022-10-06T10:58:41.426Z"
   },
   {
    "duration": 16,
    "start_time": "2022-10-06T10:59:15.758Z"
   },
   {
    "duration": 83,
    "start_time": "2022-10-06T10:59:28.764Z"
   },
   {
    "duration": 22,
    "start_time": "2022-10-06T10:59:44.852Z"
   },
   {
    "duration": 5,
    "start_time": "2022-10-06T11:00:04.275Z"
   },
   {
    "duration": 14,
    "start_time": "2022-10-06T11:00:27.977Z"
   },
   {
    "duration": 10,
    "start_time": "2022-10-06T11:02:47.556Z"
   },
   {
    "duration": 16,
    "start_time": "2022-10-06T11:03:35.395Z"
   },
   {
    "duration": 21,
    "start_time": "2022-10-06T11:04:25.041Z"
   },
   {
    "duration": 13,
    "start_time": "2022-10-06T11:22:56.467Z"
   },
   {
    "duration": 15,
    "start_time": "2022-10-06T11:23:30.241Z"
   },
   {
    "duration": 5,
    "start_time": "2022-10-06T11:23:40.716Z"
   },
   {
    "duration": 12,
    "start_time": "2022-10-06T11:23:53.649Z"
   },
   {
    "duration": 6,
    "start_time": "2022-10-06T11:24:08.308Z"
   },
   {
    "duration": 18,
    "start_time": "2022-10-06T11:24:22.017Z"
   },
   {
    "duration": 11,
    "start_time": "2022-10-06T11:29:07.821Z"
   },
   {
    "duration": 15,
    "start_time": "2022-10-06T11:30:53.686Z"
   },
   {
    "duration": 23,
    "start_time": "2022-10-06T11:31:02.273Z"
   },
   {
    "duration": 23,
    "start_time": "2022-10-06T11:31:20.772Z"
   },
   {
    "duration": 26,
    "start_time": "2022-10-06T11:31:33.131Z"
   },
   {
    "duration": 16,
    "start_time": "2022-10-06T11:31:42.246Z"
   },
   {
    "duration": 15,
    "start_time": "2022-10-06T11:32:18.297Z"
   },
   {
    "duration": 29,
    "start_time": "2022-10-06T11:33:05.776Z"
   },
   {
    "duration": 3,
    "start_time": "2022-10-06T11:33:41.336Z"
   },
   {
    "duration": 31,
    "start_time": "2022-10-06T11:33:43.072Z"
   },
   {
    "duration": 13,
    "start_time": "2022-10-06T11:34:09.289Z"
   },
   {
    "duration": 3,
    "start_time": "2022-10-06T11:36:38.325Z"
   },
   {
    "duration": 14,
    "start_time": "2022-10-06T11:36:38.974Z"
   },
   {
    "duration": 4,
    "start_time": "2022-10-06T11:37:09.661Z"
   },
   {
    "duration": 11,
    "start_time": "2022-10-06T11:37:13.122Z"
   },
   {
    "duration": 56,
    "start_time": "2022-10-06T11:38:25.349Z"
   },
   {
    "duration": 52,
    "start_time": "2022-10-06T11:39:10.388Z"
   },
   {
    "duration": 44,
    "start_time": "2022-10-06T11:39:51.421Z"
   },
   {
    "duration": 46,
    "start_time": "2022-10-06T11:40:08.089Z"
   },
   {
    "duration": 53,
    "start_time": "2022-10-06T11:40:12.020Z"
   },
   {
    "duration": 42,
    "start_time": "2022-10-06T11:40:54.812Z"
   },
   {
    "duration": 48,
    "start_time": "2022-10-06T11:41:00.771Z"
   },
   {
    "duration": 4,
    "start_time": "2022-10-06T11:42:52.540Z"
   },
   {
    "duration": 11,
    "start_time": "2022-10-06T11:42:54.639Z"
   },
   {
    "duration": 4,
    "start_time": "2022-10-06T11:44:16.078Z"
   },
   {
    "duration": 14,
    "start_time": "2022-10-06T11:44:16.912Z"
   },
   {
    "duration": 5,
    "start_time": "2022-10-06T11:48:02.118Z"
   },
   {
    "duration": 10,
    "start_time": "2022-10-06T11:48:14.542Z"
   },
   {
    "duration": 18,
    "start_time": "2022-10-06T11:48:20.604Z"
   },
   {
    "duration": 18,
    "start_time": "2022-10-06T11:48:28.866Z"
   },
   {
    "duration": 18,
    "start_time": "2022-10-06T11:48:53.617Z"
   },
   {
    "duration": 18,
    "start_time": "2022-10-06T11:49:35.567Z"
   },
   {
    "duration": 18,
    "start_time": "2022-10-06T11:49:41.269Z"
   },
   {
    "duration": 19,
    "start_time": "2022-10-06T11:49:46.842Z"
   },
   {
    "duration": 11,
    "start_time": "2022-10-06T11:49:56.398Z"
   },
   {
    "duration": 12,
    "start_time": "2022-10-06T11:50:00.929Z"
   },
   {
    "duration": 11,
    "start_time": "2022-10-06T11:50:43.694Z"
   },
   {
    "duration": 11,
    "start_time": "2022-10-06T11:50:49.327Z"
   },
   {
    "duration": 11,
    "start_time": "2022-10-06T11:52:53.268Z"
   },
   {
    "duration": 12,
    "start_time": "2022-10-06T11:52:57.268Z"
   },
   {
    "duration": 3,
    "start_time": "2022-10-06T11:53:39.184Z"
   },
   {
    "duration": 4,
    "start_time": "2022-10-06T11:53:40.135Z"
   },
   {
    "duration": 14,
    "start_time": "2022-10-06T11:53:41.767Z"
   },
   {
    "duration": 3,
    "start_time": "2022-10-06T11:54:35.857Z"
   },
   {
    "duration": 3,
    "start_time": "2022-10-06T11:57:32.095Z"
   },
   {
    "duration": 44,
    "start_time": "2022-10-06T11:57:36.868Z"
   },
   {
    "duration": 3,
    "start_time": "2022-10-06T11:57:38.393Z"
   },
   {
    "duration": 13,
    "start_time": "2022-10-06T11:57:41.635Z"
   },
   {
    "duration": 4,
    "start_time": "2022-10-06T12:03:30.253Z"
   },
   {
    "duration": 14,
    "start_time": "2022-10-06T12:03:31.535Z"
   },
   {
    "duration": 12,
    "start_time": "2022-10-06T12:03:42.148Z"
   },
   {
    "duration": 12,
    "start_time": "2022-10-06T12:04:14.600Z"
   },
   {
    "duration": 19,
    "start_time": "2022-10-06T12:04:20.874Z"
   },
   {
    "duration": 13,
    "start_time": "2022-10-06T12:04:42.248Z"
   },
   {
    "duration": 17,
    "start_time": "2022-10-06T12:05:06.229Z"
   },
   {
    "duration": 29,
    "start_time": "2022-10-06T12:05:12.146Z"
   },
   {
    "duration": 17,
    "start_time": "2022-10-06T12:05:18.825Z"
   },
   {
    "duration": 11,
    "start_time": "2022-10-06T12:05:28.512Z"
   },
   {
    "duration": 11,
    "start_time": "2022-10-06T12:05:41.049Z"
   },
   {
    "duration": 10,
    "start_time": "2022-10-06T12:05:44.698Z"
   },
   {
    "duration": 18,
    "start_time": "2022-10-06T12:06:43.597Z"
   },
   {
    "duration": 5,
    "start_time": "2022-10-06T12:06:51.074Z"
   },
   {
    "duration": 4,
    "start_time": "2022-10-06T12:07:01.137Z"
   },
   {
    "duration": 113,
    "start_time": "2022-10-06T12:07:02.179Z"
   },
   {
    "duration": 5,
    "start_time": "2022-10-06T12:07:03.361Z"
   },
   {
    "duration": 59,
    "start_time": "2022-10-06T12:07:34.914Z"
   },
   {
    "duration": 5,
    "start_time": "2022-10-06T12:07:38.679Z"
   },
   {
    "duration": 11,
    "start_time": "2022-10-06T12:07:52.237Z"
   },
   {
    "duration": 7,
    "start_time": "2022-10-06T12:08:41.125Z"
   },
   {
    "duration": 5,
    "start_time": "2022-10-06T12:09:12.300Z"
   },
   {
    "duration": 7,
    "start_time": "2022-10-06T12:09:40.987Z"
   },
   {
    "duration": 5,
    "start_time": "2022-10-06T12:10:07.763Z"
   },
   {
    "duration": 7,
    "start_time": "2022-10-06T12:10:15.357Z"
   },
   {
    "duration": 6,
    "start_time": "2022-10-06T12:10:54.287Z"
   },
   {
    "duration": 6,
    "start_time": "2022-10-06T12:11:08.625Z"
   },
   {
    "duration": 7,
    "start_time": "2022-10-06T12:11:30.952Z"
   },
   {
    "duration": 7,
    "start_time": "2022-10-06T12:11:56.162Z"
   },
   {
    "duration": 6,
    "start_time": "2022-10-06T12:12:36.713Z"
   },
   {
    "duration": 48,
    "start_time": "2022-10-06T12:12:46.625Z"
   },
   {
    "duration": 68,
    "start_time": "2022-10-06T12:12:48.864Z"
   },
   {
    "duration": 8,
    "start_time": "2022-10-06T12:12:50.170Z"
   },
   {
    "duration": 56,
    "start_time": "2022-10-06T12:12:54.965Z"
   },
   {
    "duration": 7,
    "start_time": "2022-10-06T12:12:55.724Z"
   },
   {
    "duration": 96,
    "start_time": "2022-10-06T12:16:23.693Z"
   },
   {
    "duration": 60,
    "start_time": "2022-10-06T12:17:07.253Z"
   },
   {
    "duration": 142,
    "start_time": "2022-10-06T12:17:28.698Z"
   },
   {
    "duration": 119,
    "start_time": "2022-10-06T12:17:58.816Z"
   },
   {
    "duration": 24,
    "start_time": "2022-10-06T12:18:21.334Z"
   },
   {
    "duration": 9,
    "start_time": "2022-10-06T12:18:29.442Z"
   },
   {
    "duration": 10,
    "start_time": "2022-10-06T12:19:21.679Z"
   },
   {
    "duration": 11,
    "start_time": "2022-10-06T12:19:42.966Z"
   },
   {
    "duration": 11,
    "start_time": "2022-10-06T12:20:14.300Z"
   },
   {
    "duration": 133,
    "start_time": "2022-10-06T12:20:47.157Z"
   },
   {
    "duration": 10,
    "start_time": "2022-10-06T12:20:48.352Z"
   },
   {
    "duration": 141,
    "start_time": "2022-10-06T12:20:50.802Z"
   },
   {
    "duration": 9,
    "start_time": "2022-10-06T12:20:51.515Z"
   },
   {
    "duration": 4,
    "start_time": "2022-10-06T12:21:05.580Z"
   },
   {
    "duration": 142,
    "start_time": "2022-10-06T12:21:07.318Z"
   },
   {
    "duration": 4,
    "start_time": "2022-10-06T12:21:11.326Z"
   },
   {
    "duration": 1368,
    "start_time": "2022-10-06T12:21:11.911Z"
   },
   {
    "duration": 28,
    "start_time": "2022-10-06T12:21:13.281Z"
   },
   {
    "duration": 1282,
    "start_time": "2022-10-06T12:21:20.579Z"
   },
   {
    "duration": 12,
    "start_time": "2022-10-06T12:21:21.863Z"
   },
   {
    "duration": 3,
    "start_time": "2022-10-06T12:21:53.468Z"
   },
   {
    "duration": 1249,
    "start_time": "2022-10-06T12:21:54.124Z"
   },
   {
    "duration": 9,
    "start_time": "2022-10-06T12:21:56.923Z"
   },
   {
    "duration": 1340,
    "start_time": "2022-10-06T12:21:59.990Z"
   },
   {
    "duration": 10,
    "start_time": "2022-10-06T12:22:02.680Z"
   },
   {
    "duration": 4,
    "start_time": "2022-10-06T12:22:05.167Z"
   },
   {
    "duration": 1241,
    "start_time": "2022-10-06T12:22:05.767Z"
   },
   {
    "duration": 11,
    "start_time": "2022-10-06T12:22:07.011Z"
   },
   {
    "duration": 3,
    "start_time": "2022-10-06T12:22:36.855Z"
   },
   {
    "duration": 12606,
    "start_time": "2022-10-06T12:22:38.330Z"
   },
   {
    "duration": 11,
    "start_time": "2022-10-06T12:22:50.938Z"
   },
   {
    "duration": 10,
    "start_time": "2022-10-06T12:23:16.042Z"
   },
   {
    "duration": 3,
    "start_time": "2022-10-06T12:23:23.542Z"
   },
   {
    "duration": 12473,
    "start_time": "2022-10-06T12:23:24.287Z"
   },
   {
    "duration": 12,
    "start_time": "2022-10-06T12:23:36.762Z"
   },
   {
    "duration": 10,
    "start_time": "2022-10-06T12:23:50.558Z"
   },
   {
    "duration": 18975,
    "start_time": "2022-10-06T12:24:51.007Z"
   },
   {
    "duration": 18,
    "start_time": "2022-10-06T12:25:09.984Z"
   },
   {
    "duration": 24,
    "start_time": "2022-10-06T12:26:58.721Z"
   },
   {
    "duration": 29,
    "start_time": "2022-10-06T12:28:15.222Z"
   },
   {
    "duration": 18339,
    "start_time": "2022-10-06T12:29:00.460Z"
   },
   {
    "duration": 24,
    "start_time": "2022-10-06T12:31:52.847Z"
   },
   {
    "duration": 11,
    "start_time": "2022-10-06T12:32:11.672Z"
   },
   {
    "duration": 13,
    "start_time": "2022-10-06T12:32:20.333Z"
   },
   {
    "duration": 10,
    "start_time": "2022-10-06T12:32:28.102Z"
   },
   {
    "duration": 4,
    "start_time": "2022-10-06T12:33:16.719Z"
   },
   {
    "duration": 7,
    "start_time": "2022-10-06T12:33:21.386Z"
   },
   {
    "duration": 44,
    "start_time": "2022-10-06T12:33:22.163Z"
   },
   {
    "duration": 3,
    "start_time": "2022-10-06T12:33:55.212Z"
   },
   {
    "duration": 13,
    "start_time": "2022-10-06T12:33:57.447Z"
   },
   {
    "duration": 3,
    "start_time": "2022-10-06T12:34:03.832Z"
   },
   {
    "duration": 30,
    "start_time": "2022-10-06T12:34:05.206Z"
   },
   {
    "duration": 3,
    "start_time": "2022-10-06T12:34:58.954Z"
   },
   {
    "duration": 10,
    "start_time": "2022-10-06T12:35:00.063Z"
   },
   {
    "duration": 3,
    "start_time": "2022-10-06T12:35:01.677Z"
   },
   {
    "duration": 20,
    "start_time": "2022-10-06T12:35:02.350Z"
   },
   {
    "duration": 31,
    "start_time": "2022-10-06T12:35:31.412Z"
   },
   {
    "duration": 39,
    "start_time": "2022-10-06T12:35:59.365Z"
   },
   {
    "duration": 30,
    "start_time": "2022-10-06T12:36:07.878Z"
   },
   {
    "duration": 23,
    "start_time": "2022-10-06T12:36:43.413Z"
   },
   {
    "duration": 20,
    "start_time": "2022-10-06T12:36:58.513Z"
   },
   {
    "duration": 27,
    "start_time": "2022-10-06T12:37:11.718Z"
   },
   {
    "duration": 30,
    "start_time": "2022-10-06T12:37:24.978Z"
   },
   {
    "duration": 23899,
    "start_time": "2022-10-06T12:37:51.090Z"
   },
   {
    "duration": 35,
    "start_time": "2022-10-06T12:38:28.986Z"
   },
   {
    "duration": 27,
    "start_time": "2022-10-06T12:38:52.512Z"
   },
   {
    "duration": 35,
    "start_time": "2022-10-06T12:39:14.873Z"
   },
   {
    "duration": 25,
    "start_time": "2022-10-06T12:39:36.412Z"
   },
   {
    "duration": 26,
    "start_time": "2022-10-06T12:40:06.907Z"
   },
   {
    "duration": 25,
    "start_time": "2022-10-06T12:40:20.316Z"
   },
   {
    "duration": 32,
    "start_time": "2022-10-06T12:40:29.882Z"
   },
   {
    "duration": 22,
    "start_time": "2022-10-06T12:41:14.520Z"
   },
   {
    "duration": 30,
    "start_time": "2022-10-06T12:41:23.417Z"
   },
   {
    "duration": 28,
    "start_time": "2022-10-06T12:41:42.329Z"
   },
   {
    "duration": 29,
    "start_time": "2022-10-06T12:41:53.656Z"
   },
   {
    "duration": 23,
    "start_time": "2022-10-06T12:42:39.030Z"
   },
   {
    "duration": 42,
    "start_time": "2022-10-06T12:43:04.664Z"
   },
   {
    "duration": 30,
    "start_time": "2022-10-06T12:43:22.861Z"
   },
   {
    "duration": 28,
    "start_time": "2022-10-06T12:43:38.614Z"
   },
   {
    "duration": 26,
    "start_time": "2022-10-06T12:45:18.333Z"
   },
   {
    "duration": 26,
    "start_time": "2022-10-06T12:45:46.404Z"
   },
   {
    "duration": 12154,
    "start_time": "2022-10-06T12:46:41.403Z"
   },
   {
    "duration": 3,
    "start_time": "2022-10-06T12:46:59.806Z"
   },
   {
    "duration": 4,
    "start_time": "2022-10-06T12:47:00.819Z"
   },
   {
    "duration": 35,
    "start_time": "2022-10-06T12:47:01.791Z"
   },
   {
    "duration": 13,
    "start_time": "2022-10-06T12:47:06.080Z"
   },
   {
    "duration": 4,
    "start_time": "2022-10-06T12:47:15.314Z"
   },
   {
    "duration": 1745,
    "start_time": "2022-10-06T12:47:15.819Z"
   },
   {
    "duration": 19,
    "start_time": "2022-10-06T12:47:18.481Z"
   },
   {
    "duration": 1261,
    "start_time": "2022-10-06T12:47:59.077Z"
   },
   {
    "duration": 12,
    "start_time": "2022-10-06T12:48:01.957Z"
   },
   {
    "duration": 3,
    "start_time": "2022-10-06T12:48:12.377Z"
   },
   {
    "duration": 11342,
    "start_time": "2022-10-06T12:48:15.220Z"
   },
   {
    "duration": 10,
    "start_time": "2022-10-06T12:48:26.564Z"
   },
   {
    "duration": 4,
    "start_time": "2022-10-06T12:48:38.956Z"
   },
   {
    "duration": 4,
    "start_time": "2022-10-06T12:48:40.114Z"
   },
   {
    "duration": 17290,
    "start_time": "2022-10-06T12:48:41.482Z"
   },
   {
    "duration": 20,
    "start_time": "2022-10-06T12:48:58.774Z"
   },
   {
    "duration": 425,
    "start_time": "2022-10-06T12:49:45.906Z"
   },
   {
    "duration": 474,
    "start_time": "2022-10-06T12:50:21.437Z"
   },
   {
    "duration": 491,
    "start_time": "2022-10-06T12:50:29.523Z"
   },
   {
    "duration": 668,
    "start_time": "2022-10-06T12:50:59.324Z"
   },
   {
    "duration": 573,
    "start_time": "2022-10-06T12:52:28.235Z"
   },
   {
    "duration": 560,
    "start_time": "2022-10-06T12:53:45.561Z"
   },
   {
    "duration": 568,
    "start_time": "2022-10-06T12:54:31.337Z"
   },
   {
    "duration": 247,
    "start_time": "2022-10-06T13:00:49.856Z"
   },
   {
    "duration": 3932,
    "start_time": "2022-10-06T13:01:55.379Z"
   },
   {
    "duration": 266,
    "start_time": "2022-10-06T13:02:44.165Z"
   },
   {
    "duration": 1494,
    "start_time": "2022-10-06T13:04:46.927Z"
   },
   {
    "duration": 484,
    "start_time": "2022-10-06T13:04:50.588Z"
   },
   {
    "duration": 15,
    "start_time": "2022-10-06T13:04:52.429Z"
   },
   {
    "duration": 60,
    "start_time": "2022-10-06T13:04:54.881Z"
   },
   {
    "duration": 559,
    "start_time": "2022-10-06T13:04:58.055Z"
   },
   {
    "duration": 117,
    "start_time": "2022-10-06T13:05:01.464Z"
   },
   {
    "duration": 31,
    "start_time": "2022-10-06T13:05:04.529Z"
   },
   {
    "duration": 620,
    "start_time": "2022-10-06T13:05:05.378Z"
   },
   {
    "duration": 3,
    "start_time": "2022-10-06T13:05:11.283Z"
   },
   {
    "duration": 20,
    "start_time": "2022-10-06T13:05:11.958Z"
   },
   {
    "duration": 42,
    "start_time": "2022-10-06T13:05:13.143Z"
   },
   {
    "duration": 268,
    "start_time": "2022-10-06T13:05:15.157Z"
   },
   {
    "duration": 731,
    "start_time": "2022-10-06T13:05:16.316Z"
   },
   {
    "duration": 3,
    "start_time": "2022-10-06T13:05:22.466Z"
   },
   {
    "duration": 56,
    "start_time": "2022-10-06T13:05:23.792Z"
   },
   {
    "duration": 13,
    "start_time": "2022-10-06T13:05:36.293Z"
   },
   {
    "duration": 12,
    "start_time": "2022-10-06T13:05:37.430Z"
   },
   {
    "duration": 3,
    "start_time": "2022-10-06T13:05:46.928Z"
   },
   {
    "duration": 18808,
    "start_time": "2022-10-06T13:05:47.710Z"
   },
   {
    "duration": 606,
    "start_time": "2022-10-06T13:06:06.520Z"
   },
   {
    "duration": 56,
    "start_time": "2022-10-06T13:06:59.657Z"
   },
   {
    "duration": 40,
    "start_time": "2022-10-06T13:07:07.243Z"
   },
   {
    "duration": 11,
    "start_time": "2022-10-06T13:08:42.372Z"
   },
   {
    "duration": 312,
    "start_time": "2022-10-06T13:31:27.316Z"
   },
   {
    "duration": 3,
    "start_time": "2022-10-06T13:36:51.460Z"
   },
   {
    "duration": 7,
    "start_time": "2022-10-06T13:40:49.824Z"
   },
   {
    "duration": 13,
    "start_time": "2022-10-06T13:42:02.923Z"
   },
   {
    "duration": 12,
    "start_time": "2022-10-06T13:42:16.097Z"
   },
   {
    "duration": 55,
    "start_time": "2022-10-06T13:42:25.364Z"
   },
   {
    "duration": 15434,
    "start_time": "2022-10-06T13:50:19.331Z"
   },
   {
    "duration": 119,
    "start_time": "2022-10-06T14:09:30.989Z"
   },
   {
    "duration": 529,
    "start_time": "2022-10-06T14:09:38.354Z"
   },
   {
    "duration": 518,
    "start_time": "2022-10-06T14:10:46.311Z"
   },
   {
    "duration": 685,
    "start_time": "2022-10-06T14:11:24.744Z"
   },
   {
    "duration": 1585,
    "start_time": "2022-10-06T14:13:14.191Z"
   },
   {
    "duration": 421,
    "start_time": "2022-10-06T14:13:15.778Z"
   },
   {
    "duration": 16,
    "start_time": "2022-10-06T14:13:16.200Z"
   },
   {
    "duration": 44,
    "start_time": "2022-10-06T14:13:16.218Z"
   },
   {
    "duration": 519,
    "start_time": "2022-10-06T14:13:16.288Z"
   },
   {
    "duration": 110,
    "start_time": "2022-10-06T14:13:16.809Z"
   },
   {
    "duration": 31,
    "start_time": "2022-10-06T14:13:16.920Z"
   },
   {
    "duration": 541,
    "start_time": "2022-10-06T14:13:16.953Z"
   },
   {
    "duration": 3,
    "start_time": "2022-10-06T14:13:17.495Z"
   },
   {
    "duration": 20,
    "start_time": "2022-10-06T14:13:17.499Z"
   },
   {
    "duration": 38,
    "start_time": "2022-10-06T14:13:17.521Z"
   },
   {
    "duration": 341,
    "start_time": "2022-10-06T14:13:17.561Z"
   },
   {
    "duration": 867,
    "start_time": "2022-10-06T14:13:17.905Z"
   },
   {
    "duration": 2,
    "start_time": "2022-10-06T14:13:18.775Z"
   },
   {
    "duration": 51,
    "start_time": "2022-10-06T14:13:18.779Z"
   },
   {
    "duration": 4,
    "start_time": "2022-10-06T14:13:18.831Z"
   },
   {
    "duration": 6,
    "start_time": "2022-10-06T14:13:18.837Z"
   },
   {
    "duration": 16131,
    "start_time": "2022-10-06T14:13:18.845Z"
   },
   {
    "duration": 560,
    "start_time": "2022-10-06T14:13:34.978Z"
   },
   {
    "duration": 53,
    "start_time": "2022-10-07T13:26:47.411Z"
   },
   {
    "duration": 1574,
    "start_time": "2022-10-07T13:26:53.741Z"
   },
   {
    "duration": 13,
    "start_time": "2022-10-07T13:27:37.210Z"
   },
   {
    "duration": 4,
    "start_time": "2022-10-07T13:43:27.571Z"
   },
   {
    "duration": 10,
    "start_time": "2022-10-07T13:43:34.716Z"
   },
   {
    "duration": 3,
    "start_time": "2022-10-07T13:43:39.493Z"
   },
   {
    "duration": 749,
    "start_time": "2022-10-07T13:43:40.433Z"
   },
   {
    "duration": 15,
    "start_time": "2022-10-07T13:43:41.184Z"
   },
   {
    "duration": 47,
    "start_time": "2022-10-07T13:43:41.200Z"
   },
   {
    "duration": 490,
    "start_time": "2022-10-07T13:43:41.249Z"
   },
   {
    "duration": 108,
    "start_time": "2022-10-07T13:43:41.741Z"
   },
   {
    "duration": 34,
    "start_time": "2022-10-07T13:43:41.851Z"
   },
   {
    "duration": 528,
    "start_time": "2022-10-07T13:43:41.887Z"
   },
   {
    "duration": 3,
    "start_time": "2022-10-07T13:43:43.252Z"
   },
   {
    "duration": 14,
    "start_time": "2022-10-07T13:43:43.708Z"
   },
   {
    "duration": 38,
    "start_time": "2022-10-07T13:43:44.202Z"
   },
   {
    "duration": 413,
    "start_time": "2022-10-07T13:43:44.628Z"
   },
   {
    "duration": 673,
    "start_time": "2022-10-07T13:43:45.237Z"
   },
   {
    "duration": 3,
    "start_time": "2022-10-07T13:43:48.281Z"
   },
   {
    "duration": 3,
    "start_time": "2022-10-07T13:46:05.145Z"
   },
   {
    "duration": 3,
    "start_time": "2022-10-07T13:46:29.956Z"
   },
   {
    "duration": 51,
    "start_time": "2022-10-07T13:47:28.605Z"
   },
   {
    "duration": 43,
    "start_time": "2022-10-07T13:50:48.871Z"
   },
   {
    "duration": 42,
    "start_time": "2022-10-07T13:51:03.494Z"
   },
   {
    "duration": 43,
    "start_time": "2022-10-07T13:53:39.625Z"
   },
   {
    "duration": 51,
    "start_time": "2022-10-07T13:54:04.174Z"
   },
   {
    "duration": 40,
    "start_time": "2022-10-07T13:54:12.582Z"
   },
   {
    "duration": 44,
    "start_time": "2022-10-07T13:54:40.595Z"
   },
   {
    "duration": 43,
    "start_time": "2022-10-07T13:55:03.459Z"
   },
   {
    "duration": 41,
    "start_time": "2022-10-07T14:00:47.941Z"
   },
   {
    "duration": 49,
    "start_time": "2022-10-07T14:00:59.759Z"
   },
   {
    "duration": 49,
    "start_time": "2022-10-07T14:01:07.694Z"
   },
   {
    "duration": 45,
    "start_time": "2022-10-07T14:01:21.616Z"
   },
   {
    "duration": 43,
    "start_time": "2022-10-07T14:01:28.390Z"
   },
   {
    "duration": 53,
    "start_time": "2022-10-07T14:01:42.013Z"
   },
   {
    "duration": 40,
    "start_time": "2022-10-07T14:01:46.364Z"
   },
   {
    "duration": 40,
    "start_time": "2022-10-07T14:02:00.033Z"
   },
   {
    "duration": 45,
    "start_time": "2022-10-07T14:02:04.824Z"
   },
   {
    "duration": 5,
    "start_time": "2022-10-07T14:08:41.289Z"
   },
   {
    "duration": 3,
    "start_time": "2022-10-07T14:08:42.991Z"
   },
   {
    "duration": 14962,
    "start_time": "2022-10-07T14:08:44.799Z"
   },
   {
    "duration": 534,
    "start_time": "2022-10-07T14:08:59.764Z"
   },
   {
    "duration": 506,
    "start_time": "2022-10-07T14:13:18.148Z"
   },
   {
    "duration": 485,
    "start_time": "2022-10-07T14:14:10.098Z"
   },
   {
    "duration": 620,
    "start_time": "2022-10-07T14:16:42.399Z"
   },
   {
    "duration": 518,
    "start_time": "2022-10-07T14:17:11.691Z"
   },
   {
    "duration": 526,
    "start_time": "2022-10-07T14:19:24.757Z"
   },
   {
    "duration": 29,
    "start_time": "2022-10-07T14:21:00.395Z"
   },
   {
    "duration": 15,
    "start_time": "2022-10-07T14:22:12.853Z"
   },
   {
    "duration": 15,
    "start_time": "2022-10-07T14:22:22.071Z"
   },
   {
    "duration": 666,
    "start_time": "2022-10-07T14:23:25.756Z"
   },
   {
    "duration": 548,
    "start_time": "2022-10-07T14:23:35.317Z"
   },
   {
    "duration": 15,
    "start_time": "2022-10-07T14:23:47.618Z"
   },
   {
    "duration": 510,
    "start_time": "2022-10-07T14:23:52.017Z"
   },
   {
    "duration": 512,
    "start_time": "2022-10-07T14:24:04.934Z"
   },
   {
    "duration": 1315,
    "start_time": "2022-10-07T14:27:13.257Z"
   },
   {
    "duration": 426,
    "start_time": "2022-10-07T14:27:14.575Z"
   },
   {
    "duration": 16,
    "start_time": "2022-10-07T14:27:15.003Z"
   },
   {
    "duration": 47,
    "start_time": "2022-10-07T14:27:15.038Z"
   },
   {
    "duration": 571,
    "start_time": "2022-10-07T14:27:15.088Z"
   },
   {
    "duration": 127,
    "start_time": "2022-10-07T14:27:15.661Z"
   },
   {
    "duration": 53,
    "start_time": "2022-10-07T14:27:15.790Z"
   },
   {
    "duration": 542,
    "start_time": "2022-10-07T14:27:15.846Z"
   },
   {
    "duration": 4,
    "start_time": "2022-10-07T14:27:16.389Z"
   },
   {
    "duration": 34,
    "start_time": "2022-10-07T14:27:16.396Z"
   },
   {
    "duration": 41,
    "start_time": "2022-10-07T14:27:16.432Z"
   },
   {
    "duration": 463,
    "start_time": "2022-10-07T14:27:16.476Z"
   },
   {
    "duration": 754,
    "start_time": "2022-10-07T14:27:16.948Z"
   },
   {
    "duration": 115,
    "start_time": "2022-10-07T14:27:17.703Z"
   },
   {
    "duration": 0,
    "start_time": "2022-10-07T14:27:17.820Z"
   },
   {
    "duration": 0,
    "start_time": "2022-10-07T14:27:17.822Z"
   },
   {
    "duration": 0,
    "start_time": "2022-10-07T14:27:17.823Z"
   },
   {
    "duration": 0,
    "start_time": "2022-10-07T14:27:17.825Z"
   },
   {
    "duration": 0,
    "start_time": "2022-10-07T14:27:17.826Z"
   },
   {
    "duration": 1452,
    "start_time": "2022-10-07T14:39:02.397Z"
   },
   {
    "duration": 366,
    "start_time": "2022-10-07T14:39:03.850Z"
   },
   {
    "duration": 21,
    "start_time": "2022-10-07T14:39:04.218Z"
   },
   {
    "duration": 57,
    "start_time": "2022-10-07T14:39:04.240Z"
   },
   {
    "duration": 443,
    "start_time": "2022-10-07T14:39:04.298Z"
   },
   {
    "duration": 106,
    "start_time": "2022-10-07T14:39:04.743Z"
   },
   {
    "duration": 28,
    "start_time": "2022-10-07T14:39:04.851Z"
   },
   {
    "duration": 452,
    "start_time": "2022-10-07T14:39:04.881Z"
   },
   {
    "duration": 3,
    "start_time": "2022-10-07T14:39:05.338Z"
   },
   {
    "duration": 30,
    "start_time": "2022-10-07T14:39:05.343Z"
   },
   {
    "duration": 38,
    "start_time": "2022-10-07T14:39:05.374Z"
   },
   {
    "duration": 336,
    "start_time": "2022-10-07T14:39:05.413Z"
   },
   {
    "duration": 662,
    "start_time": "2022-10-07T14:39:05.839Z"
   },
   {
    "duration": 117,
    "start_time": "2022-10-07T14:39:06.502Z"
   },
   {
    "duration": 0,
    "start_time": "2022-10-07T14:39:06.621Z"
   },
   {
    "duration": 0,
    "start_time": "2022-10-07T14:39:06.622Z"
   },
   {
    "duration": 0,
    "start_time": "2022-10-07T14:39:06.623Z"
   },
   {
    "duration": 0,
    "start_time": "2022-10-07T14:39:06.625Z"
   },
   {
    "duration": 0,
    "start_time": "2022-10-07T14:39:06.639Z"
   },
   {
    "duration": 1354,
    "start_time": "2022-10-07T14:39:35.207Z"
   },
   {
    "duration": 402,
    "start_time": "2022-10-07T14:39:36.564Z"
   },
   {
    "duration": 18,
    "start_time": "2022-10-07T14:39:36.968Z"
   },
   {
    "duration": 59,
    "start_time": "2022-10-07T14:39:36.989Z"
   },
   {
    "duration": 608,
    "start_time": "2022-10-07T14:39:37.050Z"
   },
   {
    "duration": 112,
    "start_time": "2022-10-07T14:39:37.659Z"
   },
   {
    "duration": 32,
    "start_time": "2022-10-07T14:39:37.774Z"
   },
   {
    "duration": 507,
    "start_time": "2022-10-07T14:39:37.808Z"
   },
   {
    "duration": 4,
    "start_time": "2022-10-07T14:39:38.317Z"
   },
   {
    "duration": 43,
    "start_time": "2022-10-07T14:39:38.338Z"
   },
   {
    "duration": 61,
    "start_time": "2022-10-07T14:39:38.383Z"
   },
   {
    "duration": 398,
    "start_time": "2022-10-07T14:39:38.446Z"
   },
   {
    "duration": 714,
    "start_time": "2022-10-07T14:39:38.848Z"
   },
   {
    "duration": 4,
    "start_time": "2022-10-07T14:39:39.563Z"
   },
   {
    "duration": 88,
    "start_time": "2022-10-07T14:39:39.569Z"
   },
   {
    "duration": 5,
    "start_time": "2022-10-07T14:39:39.659Z"
   },
   {
    "duration": 27,
    "start_time": "2022-10-07T14:39:39.666Z"
   },
   {
    "duration": 217,
    "start_time": "2022-10-07T14:39:39.696Z"
   },
   {
    "duration": 0,
    "start_time": "2022-10-07T14:39:39.915Z"
   },
   {
    "duration": 14823,
    "start_time": "2022-10-07T14:40:27.332Z"
   },
   {
    "duration": 1411,
    "start_time": "2022-10-07T14:40:58.764Z"
   },
   {
    "duration": 397,
    "start_time": "2022-10-07T14:41:00.177Z"
   },
   {
    "duration": 15,
    "start_time": "2022-10-07T14:41:00.576Z"
   },
   {
    "duration": 59,
    "start_time": "2022-10-07T14:41:00.593Z"
   },
   {
    "duration": 507,
    "start_time": "2022-10-07T14:41:00.654Z"
   },
   {
    "duration": 115,
    "start_time": "2022-10-07T14:41:01.164Z"
   },
   {
    "duration": 33,
    "start_time": "2022-10-07T14:41:01.281Z"
   },
   {
    "duration": 509,
    "start_time": "2022-10-07T14:41:01.316Z"
   },
   {
    "duration": 3,
    "start_time": "2022-10-07T14:41:01.827Z"
   },
   {
    "duration": 47,
    "start_time": "2022-10-07T14:41:01.839Z"
   },
   {
    "duration": 50,
    "start_time": "2022-10-07T14:41:01.888Z"
   },
   {
    "duration": 400,
    "start_time": "2022-10-07T14:41:01.940Z"
   },
   {
    "duration": 736,
    "start_time": "2022-10-07T14:41:02.343Z"
   },
   {
    "duration": 3,
    "start_time": "2022-10-07T14:41:03.082Z"
   },
   {
    "duration": 62,
    "start_time": "2022-10-07T14:41:03.087Z"
   },
   {
    "duration": 4,
    "start_time": "2022-10-07T14:41:03.151Z"
   },
   {
    "duration": 11,
    "start_time": "2022-10-07T14:41:03.157Z"
   },
   {
    "duration": 15604,
    "start_time": "2022-10-07T14:41:03.170Z"
   },
   {
    "duration": 135,
    "start_time": "2022-10-07T14:41:18.776Z"
   },
   {
    "duration": 13,
    "start_time": "2022-10-07T14:41:46.192Z"
   },
   {
    "duration": 516,
    "start_time": "2022-10-07T14:41:56.551Z"
   },
   {
    "duration": 1389,
    "start_time": "2022-10-07T14:42:06.292Z"
   },
   {
    "duration": 423,
    "start_time": "2022-10-07T14:42:07.683Z"
   },
   {
    "duration": 15,
    "start_time": "2022-10-07T14:42:08.108Z"
   },
   {
    "duration": 50,
    "start_time": "2022-10-07T14:42:08.125Z"
   },
   {
    "duration": 538,
    "start_time": "2022-10-07T14:42:08.176Z"
   },
   {
    "duration": 99,
    "start_time": "2022-10-07T14:42:08.716Z"
   },
   {
    "duration": 46,
    "start_time": "2022-10-07T14:42:08.817Z"
   },
   {
    "duration": 463,
    "start_time": "2022-10-07T14:42:08.865Z"
   },
   {
    "duration": 9,
    "start_time": "2022-10-07T14:42:09.330Z"
   },
   {
    "duration": 15,
    "start_time": "2022-10-07T14:42:09.343Z"
   },
   {
    "duration": 42,
    "start_time": "2022-10-07T14:42:09.360Z"
   },
   {
    "duration": 438,
    "start_time": "2022-10-07T14:42:09.404Z"
   },
   {
    "duration": 725,
    "start_time": "2022-10-07T14:42:09.844Z"
   },
   {
    "duration": 3,
    "start_time": "2022-10-07T14:42:10.570Z"
   },
   {
    "duration": 47,
    "start_time": "2022-10-07T14:42:10.575Z"
   },
   {
    "duration": 16,
    "start_time": "2022-10-07T14:42:10.624Z"
   },
   {
    "duration": 12,
    "start_time": "2022-10-07T14:42:10.642Z"
   },
   {
    "duration": 15106,
    "start_time": "2022-10-07T14:42:10.655Z"
   },
   {
    "duration": 541,
    "start_time": "2022-10-07T14:42:25.763Z"
   }
  ],
  "kernelspec": {
   "display_name": "Python 3 (ipykernel)",
   "language": "python",
   "name": "python3"
  },
  "language_info": {
   "codemirror_mode": {
    "name": "ipython",
    "version": 3
   },
   "file_extension": ".py",
   "mimetype": "text/x-python",
   "name": "python",
   "nbconvert_exporter": "python",
   "pygments_lexer": "ipython3",
   "version": "3.8.10"
  },
  "toc": {
   "base_numbering": 1,
   "nav_menu": {},
   "number_sections": true,
   "sideBar": true,
   "skip_h1_title": true,
   "title_cell": "Table of Contents",
   "title_sidebar": "Contents",
   "toc_cell": false,
   "toc_position": {},
   "toc_section_display": true,
   "toc_window_display": false
  }
 },
 "nbformat": 4,
 "nbformat_minor": 2
}
