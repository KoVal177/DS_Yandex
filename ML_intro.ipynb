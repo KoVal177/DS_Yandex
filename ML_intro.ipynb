{
 "cells": [
  {
   "cell_type": "markdown",
   "metadata": {},
   "source": [
    "Привет, меня зовут Люман Аблаев. Сегодня я проверю твой проект.\n",
    "<br> Дальнейшее общение будет происходить на \"ты\" если это не вызывает никаких проблем.\n",
    "<br> Желательно реагировать на каждый мой комментарий ('исправил', 'не понятно как исправить ошибку', ...)\n",
    "<br> Пожалуйста, не удаляй комментарии ревьюера, так как они повышают качество повторного ревью.\n",
    "\n",
    "Комментарии будут в <font color='green'>зеленой</font>, <font color='blue'>синей</font> или <font color='red'>красной</font> рамках:\n",
    "\n",
    "<div class=\"alert alert-block alert-success\">\n",
    "<b>Успех:</b> Если все сделано отлично\n",
    "</div>\n",
    "\n",
    "<div class=\"alert alert-block alert-info\">\n",
    "<b>Совет: </b> Если можно немного улучшить\n",
    "</div>\n",
    "\n",
    "<div class=\"alert alert-block alert-danger\">\n",
    "<b>Ошибка:</b> Если требуются исправления. Работа не может быть принята с красными комментариями.\n",
    "</div>\n",
    "\n",
    "-------------------\n",
    "\n",
    "Будет очень хорошо, если ты будешь помечать свои действия следующим образом:\n",
    "<div class=\"alert alert-block alert-warning\">\n",
    "<b>Комментарий студента:</b> ...\n",
    "</div>\n",
    "\n",
    "<div class=\"alert alert-block alert-warning\">\n",
    "<b>Изменения:</b> Были внесены следующие изменения ...\n",
    "</div>\n",
    "\n",
    "<font color='orange' style='font-size:24px; font-weight:bold'>Общее впечатление</font>\n",
    "* Спасибо за такую хорошую работу, мне она очень понравилась \n",
    "- Я оставил некоторые советы, надеюсь они будут полезными или интересными.\n",
    "* Тебе удалось успешно справиться с текущей задачей. Поздравляю!\n",
    "* Отправляю проект назад, чтобы у тебя была возможность задать вопросы, если они у тебя есть. Если их нет, то можешь просто отправить проект еще раз и я его зачту.\n"
   ]
  },
  {
   "cell_type": "markdown",
   "metadata": {},
   "source": [
    "<div class=\"alert alert-block alert-warning\">\n",
    "<b>Комментарий студента:</b>\n",
    "Спасибо за отзыв и комментарии! Несколько изменил ноут в соответствии с ними.\n",
    "К GridSearch и RandomizedSearch хотелось бы вернуться когда в курсе пойдет кросс-валидация.\n",
    "А пока немного подробнее разобрать DummyClassifier.\n",
    "</div>\n"
   ]
  },
  {
   "cell_type": "markdown",
   "metadata": {},
   "source": [
    "<div class=\"alert alert-block alert-success\">\n",
    "<b>Ревьювер[2]:</b> Спасибо за оперативность, приятно видеть фидбек. Рад был быть полезен. Удачи в дальнейшем обучении!"
   ]
  },
  {
   "cell_type": "markdown",
   "metadata": {},
   "source": [
    "# Рекомендация тарифов"
   ]
  },
  {
   "cell_type": "markdown",
   "metadata": {},
   "source": [
    "В вашем распоряжении данные о поведении клиентов, которые уже перешли на эти тарифы (из проекта курса «Статистический анализ данных»). Нужно построить модель для задачи классификации, которая выберет подходящий тариф. Предобработка данных не понадобится — вы её уже сделали.\n",
    "\n",
    "Постройте модель с максимально большим значением *accuracy*. Чтобы сдать проект успешно, нужно довести долю правильных ответов по крайней мере до 0.75. Проверьте *accuracy* на тестовой выборке самостоятельно."
   ]
  },
  {
   "cell_type": "markdown",
   "metadata": {},
   "source": [
    "## Откройте и изучите файл"
   ]
  },
  {
   "cell_type": "code",
   "execution_count": 1,
   "metadata": {},
   "outputs": [],
   "source": [
    "import pandas as pd\n",
    "import numpy as np\n",
    "import matplotlib.pyplot as plt\n",
    "import seaborn as sns\n",
    "\n",
    "from sklearn.model_selection import train_test_split\n",
    "from sklearn.metrics import accuracy_score\n",
    "from sklearn import preprocessing\n",
    "\n",
    "from sklearn.tree import DecisionTreeClassifier\n",
    "from sklearn.ensemble import RandomForestClassifier\n",
    "from sklearn.linear_model import LogisticRegression\n",
    "\n",
    "from sklearn.dummy import DummyClassifier\n",
    "\n"
   ]
  },
  {
   "cell_type": "markdown",
   "metadata": {},
   "source": [
    "<div class=\"alert alert-block alert-success\">\n",
    "<b>Успех:</b> Молодец, что собираешь все импорты в верхней части ноутбука! Если у того, кто будет запускать твой ноутбук будут отсутствовать некоторые библиотеки, то он это увидит сразу, а не в процессе!\n",
    "  \n",
    "</div>"
   ]
  },
  {
   "cell_type": "code",
   "execution_count": 2,
   "metadata": {},
   "outputs": [],
   "source": [
    "data = pd.read_csv('/datasets/users_behavior.csv')"
   ]
  },
  {
   "cell_type": "code",
   "execution_count": 3,
   "metadata": {},
   "outputs": [
    {
     "name": "stdout",
     "output_type": "stream",
     "text": [
      "<class 'pandas.core.frame.DataFrame'>\n",
      "RangeIndex: 3214 entries, 0 to 3213\n",
      "Data columns (total 5 columns):\n",
      " #   Column    Non-Null Count  Dtype  \n",
      "---  ------    --------------  -----  \n",
      " 0   calls     3214 non-null   float64\n",
      " 1   minutes   3214 non-null   float64\n",
      " 2   messages  3214 non-null   float64\n",
      " 3   mb_used   3214 non-null   float64\n",
      " 4   is_ultra  3214 non-null   int64  \n",
      "dtypes: float64(4), int64(1)\n",
      "memory usage: 125.7 KB\n"
     ]
    }
   ],
   "source": [
    "data.info()"
   ]
  },
  {
   "cell_type": "code",
   "execution_count": 4,
   "metadata": {},
   "outputs": [
    {
     "data": {
      "text/html": [
       "<div>\n",
       "<style scoped>\n",
       "    .dataframe tbody tr th:only-of-type {\n",
       "        vertical-align: middle;\n",
       "    }\n",
       "\n",
       "    .dataframe tbody tr th {\n",
       "        vertical-align: top;\n",
       "    }\n",
       "\n",
       "    .dataframe thead th {\n",
       "        text-align: right;\n",
       "    }\n",
       "</style>\n",
       "<table border=\"1\" class=\"dataframe\">\n",
       "  <thead>\n",
       "    <tr style=\"text-align: right;\">\n",
       "      <th></th>\n",
       "      <th>calls</th>\n",
       "      <th>minutes</th>\n",
       "      <th>messages</th>\n",
       "      <th>mb_used</th>\n",
       "      <th>is_ultra</th>\n",
       "    </tr>\n",
       "  </thead>\n",
       "  <tbody>\n",
       "    <tr>\n",
       "      <th>0</th>\n",
       "      <td>40.0</td>\n",
       "      <td>311.90</td>\n",
       "      <td>83.0</td>\n",
       "      <td>19915.42</td>\n",
       "      <td>0</td>\n",
       "    </tr>\n",
       "    <tr>\n",
       "      <th>1</th>\n",
       "      <td>85.0</td>\n",
       "      <td>516.75</td>\n",
       "      <td>56.0</td>\n",
       "      <td>22696.96</td>\n",
       "      <td>0</td>\n",
       "    </tr>\n",
       "    <tr>\n",
       "      <th>2</th>\n",
       "      <td>77.0</td>\n",
       "      <td>467.66</td>\n",
       "      <td>86.0</td>\n",
       "      <td>21060.45</td>\n",
       "      <td>0</td>\n",
       "    </tr>\n",
       "    <tr>\n",
       "      <th>3</th>\n",
       "      <td>106.0</td>\n",
       "      <td>745.53</td>\n",
       "      <td>81.0</td>\n",
       "      <td>8437.39</td>\n",
       "      <td>1</td>\n",
       "    </tr>\n",
       "    <tr>\n",
       "      <th>4</th>\n",
       "      <td>66.0</td>\n",
       "      <td>418.74</td>\n",
       "      <td>1.0</td>\n",
       "      <td>14502.75</td>\n",
       "      <td>0</td>\n",
       "    </tr>\n",
       "    <tr>\n",
       "      <th>5</th>\n",
       "      <td>58.0</td>\n",
       "      <td>344.56</td>\n",
       "      <td>21.0</td>\n",
       "      <td>15823.37</td>\n",
       "      <td>0</td>\n",
       "    </tr>\n",
       "    <tr>\n",
       "      <th>6</th>\n",
       "      <td>57.0</td>\n",
       "      <td>431.64</td>\n",
       "      <td>20.0</td>\n",
       "      <td>3738.90</td>\n",
       "      <td>1</td>\n",
       "    </tr>\n",
       "    <tr>\n",
       "      <th>7</th>\n",
       "      <td>15.0</td>\n",
       "      <td>132.40</td>\n",
       "      <td>6.0</td>\n",
       "      <td>21911.60</td>\n",
       "      <td>0</td>\n",
       "    </tr>\n",
       "    <tr>\n",
       "      <th>8</th>\n",
       "      <td>7.0</td>\n",
       "      <td>43.39</td>\n",
       "      <td>3.0</td>\n",
       "      <td>2538.67</td>\n",
       "      <td>1</td>\n",
       "    </tr>\n",
       "    <tr>\n",
       "      <th>9</th>\n",
       "      <td>90.0</td>\n",
       "      <td>665.41</td>\n",
       "      <td>38.0</td>\n",
       "      <td>17358.61</td>\n",
       "      <td>0</td>\n",
       "    </tr>\n",
       "  </tbody>\n",
       "</table>\n",
       "</div>"
      ],
      "text/plain": [
       "   calls  minutes  messages   mb_used  is_ultra\n",
       "0   40.0   311.90      83.0  19915.42         0\n",
       "1   85.0   516.75      56.0  22696.96         0\n",
       "2   77.0   467.66      86.0  21060.45         0\n",
       "3  106.0   745.53      81.0   8437.39         1\n",
       "4   66.0   418.74       1.0  14502.75         0\n",
       "5   58.0   344.56      21.0  15823.37         0\n",
       "6   57.0   431.64      20.0   3738.90         1\n",
       "7   15.0   132.40       6.0  21911.60         0\n",
       "8    7.0    43.39       3.0   2538.67         1\n",
       "9   90.0   665.41      38.0  17358.61         0"
      ]
     },
     "execution_count": 4,
     "metadata": {},
     "output_type": "execute_result"
    }
   ],
   "source": [
    "data.head(10)"
   ]
  },
  {
   "cell_type": "code",
   "execution_count": 5,
   "metadata": {
    "scrolled": false
   },
   "outputs": [
    {
     "data": {
      "text/html": [
       "<div>\n",
       "<style scoped>\n",
       "    .dataframe tbody tr th:only-of-type {\n",
       "        vertical-align: middle;\n",
       "    }\n",
       "\n",
       "    .dataframe tbody tr th {\n",
       "        vertical-align: top;\n",
       "    }\n",
       "\n",
       "    .dataframe thead th {\n",
       "        text-align: right;\n",
       "    }\n",
       "</style>\n",
       "<table border=\"1\" class=\"dataframe\">\n",
       "  <thead>\n",
       "    <tr style=\"text-align: right;\">\n",
       "      <th></th>\n",
       "      <th>calls</th>\n",
       "      <th>minutes</th>\n",
       "      <th>messages</th>\n",
       "      <th>mb_used</th>\n",
       "      <th>is_ultra</th>\n",
       "    </tr>\n",
       "  </thead>\n",
       "  <tbody>\n",
       "    <tr>\n",
       "      <th>count</th>\n",
       "      <td>3214.000000</td>\n",
       "      <td>3214.000000</td>\n",
       "      <td>3214.000000</td>\n",
       "      <td>3214.000000</td>\n",
       "      <td>3214.000000</td>\n",
       "    </tr>\n",
       "    <tr>\n",
       "      <th>mean</th>\n",
       "      <td>63.038892</td>\n",
       "      <td>438.208787</td>\n",
       "      <td>38.281269</td>\n",
       "      <td>17207.673836</td>\n",
       "      <td>0.306472</td>\n",
       "    </tr>\n",
       "    <tr>\n",
       "      <th>std</th>\n",
       "      <td>33.236368</td>\n",
       "      <td>234.569872</td>\n",
       "      <td>36.148326</td>\n",
       "      <td>7570.968246</td>\n",
       "      <td>0.461100</td>\n",
       "    </tr>\n",
       "    <tr>\n",
       "      <th>min</th>\n",
       "      <td>0.000000</td>\n",
       "      <td>0.000000</td>\n",
       "      <td>0.000000</td>\n",
       "      <td>0.000000</td>\n",
       "      <td>0.000000</td>\n",
       "    </tr>\n",
       "    <tr>\n",
       "      <th>25%</th>\n",
       "      <td>40.000000</td>\n",
       "      <td>274.575000</td>\n",
       "      <td>9.000000</td>\n",
       "      <td>12491.902500</td>\n",
       "      <td>0.000000</td>\n",
       "    </tr>\n",
       "    <tr>\n",
       "      <th>50%</th>\n",
       "      <td>62.000000</td>\n",
       "      <td>430.600000</td>\n",
       "      <td>30.000000</td>\n",
       "      <td>16943.235000</td>\n",
       "      <td>0.000000</td>\n",
       "    </tr>\n",
       "    <tr>\n",
       "      <th>75%</th>\n",
       "      <td>82.000000</td>\n",
       "      <td>571.927500</td>\n",
       "      <td>57.000000</td>\n",
       "      <td>21424.700000</td>\n",
       "      <td>1.000000</td>\n",
       "    </tr>\n",
       "    <tr>\n",
       "      <th>max</th>\n",
       "      <td>244.000000</td>\n",
       "      <td>1632.060000</td>\n",
       "      <td>224.000000</td>\n",
       "      <td>49745.730000</td>\n",
       "      <td>1.000000</td>\n",
       "    </tr>\n",
       "  </tbody>\n",
       "</table>\n",
       "</div>"
      ],
      "text/plain": [
       "             calls      minutes     messages       mb_used     is_ultra\n",
       "count  3214.000000  3214.000000  3214.000000   3214.000000  3214.000000\n",
       "mean     63.038892   438.208787    38.281269  17207.673836     0.306472\n",
       "std      33.236368   234.569872    36.148326   7570.968246     0.461100\n",
       "min       0.000000     0.000000     0.000000      0.000000     0.000000\n",
       "25%      40.000000   274.575000     9.000000  12491.902500     0.000000\n",
       "50%      62.000000   430.600000    30.000000  16943.235000     0.000000\n",
       "75%      82.000000   571.927500    57.000000  21424.700000     1.000000\n",
       "max     244.000000  1632.060000   224.000000  49745.730000     1.000000"
      ]
     },
     "execution_count": 5,
     "metadata": {},
     "output_type": "execute_result"
    }
   ],
   "source": [
    "data.describe()"
   ]
  },
  {
   "cell_type": "code",
   "execution_count": 6,
   "metadata": {},
   "outputs": [
    {
     "data": {
      "image/png": "[encoded data removed]",
      "text/plain": [
       "<Figure size 764.5x720 with 20 Axes>"
      ]
     },
     "metadata": {
      "needs_background": "light"
     },
     "output_type": "display_data"
    }
   ],
   "source": [
    "fig = sns.pairplot(\n",
    "    data,\n",
    "    hue='is_ultra',\n",
    "    plot_kws={\n",
    "        'alpha': 0.1,\n",
    "    },\n",
    ")\n"
   ]
  },
  {
   "cell_type": "markdown",
   "metadata": {},
   "source": [
    " \n",
    "<div class=\"alert alert-info\">\n",
    "    \n",
    "<b>Совет</b> Не забывай про вывод.\n",
    "Также важно изучить корреляции в данных. Так мы можем оценить взаимосвязи в данных и влияние параметров на целевой признак. Рекомендую посмотреть метод `sns.pairplot` с параметром hue, в который мы передаем целевой признак. Будет здорово, если ты сможешь это реализовать в текущем или последующих проектах. </div>\n",
    "\n",
    "</div>"
   ]
  },
  {
   "cell_type": "markdown",
   "metadata": {},
   "source": [
    "<div class=\"alert alert-block alert-warning\">\n",
    "<b>Изменения:</b>\n",
    "Добавлен график. Красивый )\n",
    "</div>\n"
   ]
  },
  {
   "cell_type": "markdown",
   "metadata": {},
   "source": [
    "<div class=\"alert alert-block alert-success\">\n",
    "<b>Успех[2]:</b> Можно увидеть корреляцию мжду звонками и минутами, это называется мультиколленаиарностью. Если мы удалим один из признаков, это может положительно сказаться на эффективности моделей\n",
    "</div>"
   ]
  },
  {
   "cell_type": "markdown",
   "metadata": {},
   "source": [
    "## Разбейте данные на выборки"
   ]
  },
  {
   "cell_type": "code",
   "execution_count": 7,
   "metadata": {},
   "outputs": [],
   "source": [
    "features_columns = [\n",
    "    'calls',\n",
    "    'minutes',\n",
    "    'messages',\n",
    "    'mb_used',\n",
    "]\n",
    "target_columns = [\n",
    "    'is_ultra',\n",
    "]"
   ]
  },
  {
   "cell_type": "code",
   "execution_count": 8,
   "metadata": {},
   "outputs": [],
   "source": [
    "X = data[features_columns]\n",
    "y = data[target_columns]\n"
   ]
  },
  {
   "cell_type": "markdown",
   "metadata": {},
   "source": [
    "С помощью последовательного применения функции train_test_split данные разбиваются на 3 группы - тренировочную, валидационную и тестовую. При этом, стратифицируются по доле тарифов."
   ]
  },
  {
   "cell_type": "markdown",
   "metadata": {},
   "source": [
    "<div class=\"alert alert-block alert-success\">\n",
    "<b>Успех:</b> Лайк за стратификацию\n",
    "  \n",
    "</div>"
   ]
  },
  {
   "cell_type": "code",
   "execution_count": 9,
   "metadata": {},
   "outputs": [],
   "source": [
    "train_size = 0.6\n",
    "valid_size = 0.2\n",
    "test_size = 0.2\n",
    "random_state = 12345\n",
    "\n",
    "X_model, X_test, y_model, y_test = train_test_split(\n",
    "    X,\n",
    "    y,\n",
    "    test_size=test_size,\n",
    "    random_state=random_state,\n",
    "    stratify=data[target_columns],\n",
    ")\n",
    "X_train, X_valid, y_train, y_valid = train_test_split(\n",
    "    X_model,\n",
    "    y_model,\n",
    "    test_size=valid_size / (train_size + valid_size),\n",
    "    random_state=random_state,\n",
    "    stratify=y_model,\n",
    ")"
   ]
  },
  {
   "cell_type": "code",
   "execution_count": 10,
   "metadata": {},
   "outputs": [
    {
     "name": "stdout",
     "output_type": "stream",
     "text": [
      "(1928, 4)\n",
      "(1928, 1)\n",
      "(643, 4)\n",
      "(643, 1)\n",
      "(643, 4)\n",
      "(643, 1)\n"
     ]
    }
   ],
   "source": [
    "print(X_train.shape)\n",
    "print(y_train.shape)\n",
    "print(X_valid.shape)\n",
    "print(y_valid.shape)\n",
    "print(X_test.shape)\n",
    "print(y_test.shape)\n"
   ]
  },
  {
   "cell_type": "markdown",
   "metadata": {},
   "source": [
    "<div class=\"alert alert-block alert-success\">\n",
    "    \n",
    "<b>Успех:</b> С разбиением все в порядке,\n",
    "  </div>  \n",
    "  <div class=\"alert alert-block alert-info\">\n",
    "    \n",
    "<b>Совет:</b> Но советую проверять размеры полученных выборок,  это иной раз может предостеречь тебя от глупых ошибок.\n",
    "  </div>  "
   ]
  },
  {
   "cell_type": "markdown",
   "metadata": {},
   "source": [
    "<div class=\"alert alert-block alert-warning\">\n",
    "<b>Изменения:</b>\n",
    "Выведены размерности. Все совпадают, как должно быть.\n",
    "</div>\n"
   ]
  },
  {
   "cell_type": "markdown",
   "metadata": {},
   "source": [
    "<div class=\"alert alert-block alert-success\">\n",
    "<b>Успех[2]:</b> Есть\n",
    "</div>"
   ]
  },
  {
   "cell_type": "markdown",
   "metadata": {},
   "source": [
    "## Исследуйте модели"
   ]
  },
  {
   "cell_type": "markdown",
   "metadata": {},
   "source": [
    "Используются 3 вида моделей - логистическая регрессия, дерево решений и случайны лес. Результаты (лучшая модель и ее точность) будут сохранены в словаре models."
   ]
  },
  {
   "cell_type": "code",
   "execution_count": 11,
   "metadata": {},
   "outputs": [
    {
     "data": {
      "text/plain": [
       "{'logreg': [0, 0], 'tree': [0, 0], 'forrest': [0, 0]}"
      ]
     },
     "execution_count": 11,
     "metadata": {},
     "output_type": "execute_result"
    }
   ],
   "source": [
    "model_names = ('logreg', 'tree', 'forrest')\n",
    "models = dict(\n",
    "    (key, [0, 0]) for key in model_names\n",
    ")\n",
    "models"
   ]
  },
  {
   "cell_type": "markdown",
   "metadata": {},
   "source": [
    "### Логистическая регрессия\n",
    "Для логистической регрессии перебираем силу регуляризации (обратный коэффциент)"
   ]
  },
  {
   "cell_type": "code",
   "execution_count": 12,
   "metadata": {
    "scrolled": true
   },
   "outputs": [
    {
     "name": "stdout",
     "output_type": "stream",
     "text": [
      "accuracy with parameter C 0.01: 0.7558320373250389\n",
      "accuracy with parameter C 0.1: 0.7558320373250389\n",
      "accuracy with parameter C 1: 0.7558320373250389\n",
      "\n",
      "Best accuracy achived = 0.7558320373250389\n"
     ]
    }
   ],
   "source": [
    "model_name = 'logreg'\n",
    "\n",
    "for c_param in [0.01, 0.1, 1]:\n",
    "    model = LogisticRegression(\n",
    "        C=c_param,\n",
    "        random_state=random_state,\n",
    "    )\n",
    "    model.fit(X_train, y_train.values.ravel())\n",
    "    accuracy = model.score(X_valid, y_valid)\n",
    "    print('accuracy with parameter C {}: {}'.format(c_param, accuracy))\n",
    "    if models[model_name][1] < accuracy:\n",
    "        models[model_name] = [model, accuracy]\n",
    "print()\n",
    "print('Best accuracy achived = {}'.format(models[model_name][1]))"
   ]
  },
  {
   "cell_type": "markdown",
   "metadata": {},
   "source": [
    "На валидационных данных модель получена одинаковая точность для всех коэффициентов сили регуляризации. Данных достаточно, оверфиттинг не грозит."
   ]
  },
  {
   "cell_type": "markdown",
   "metadata": {},
   "source": [
    "### Дерево решений\n",
    "Для дерева решений перебираем различные варианты максимальной глубины"
   ]
  },
  {
   "cell_type": "code",
   "execution_count": 13,
   "metadata": {},
   "outputs": [
    {
     "name": "stdout",
     "output_type": "stream",
     "text": [
      "accuracy for max depth 1: 0.7589424572317263\n",
      "accuracy for max depth 2: 0.7838258164852255\n",
      "accuracy for max depth 3: 0.8040435458786936\n",
      "accuracy for max depth 4: 0.8040435458786936\n",
      "accuracy for max depth 5: 0.8164852255054432\n",
      "accuracy for max depth 6: 0.80248833592535\n",
      "accuracy for max depth 7: 0.807153965785381\n",
      "accuracy for max depth 8: 0.8055987558320373\n",
      "accuracy for max depth 9: 0.8118195956454122\n",
      "\n",
      "Best accuracy achived = 0.8164852255054432\n"
     ]
    }
   ],
   "source": [
    "model_name = 'tree'\n",
    "\n",
    "for depth in range(1, 10):\n",
    "    model = DecisionTreeClassifier(\n",
    "        max_depth=depth,\n",
    "        random_state=random_state,\n",
    "    )\n",
    "    model.fit(X_train, y_train.values.ravel())\n",
    "    accuracy = model.score(X_valid, y_valid)\n",
    "    print('accuracy for max depth {}: {}'.format(depth, accuracy))\n",
    "    if models[model_name][1] < accuracy:\n",
    "        models[model_name] = [model, accuracy]\n",
    "print()\n",
    "print('Best accuracy achived = {}'.format(models[model_name][1]))"
   ]
  },
  {
   "cell_type": "markdown",
   "metadata": {},
   "source": [
    "Наилучшую точность показывает модель с максимальной глубиной 5 уровней"
   ]
  },
  {
   "cell_type": "markdown",
   "metadata": {},
   "source": [
    "### Случайный лес\n",
    "Для леса рассматриваем разное количество деревьев"
   ]
  },
  {
   "cell_type": "code",
   "execution_count": 14,
   "metadata": {},
   "outputs": [
    {
     "name": "stdout",
     "output_type": "stream",
     "text": [
      "accuracy for estimators 1: 0.7340590979782271\n",
      "accuracy for estimators 2: 0.7713841368584758\n",
      "accuracy for estimators 3: 0.7465007776049767\n",
      "accuracy for estimators 4: 0.7884914463452566\n",
      "accuracy for estimators 5: 0.7776049766718507\n",
      "accuracy for estimators 6: 0.7962674961119751\n",
      "accuracy for estimators 7: 0.7978227060653188\n",
      "accuracy for estimators 8: 0.7962674961119751\n",
      "accuracy for estimators 9: 0.8009331259720062\n",
      "accuracy for estimators 10: 0.8133748055987559\n",
      "accuracy for estimators 11: 0.8087091757387247\n",
      "accuracy for estimators 12: 0.8040435458786936\n",
      "accuracy for estimators 13: 0.80248833592535\n",
      "accuracy for estimators 14: 0.8102643856920684\n",
      "accuracy for estimators 15: 0.8040435458786936\n",
      "accuracy for estimators 16: 0.8164852255054432\n",
      "accuracy for estimators 17: 0.8133748055987559\n",
      "accuracy for estimators 18: 0.8164852255054432\n",
      "accuracy for estimators 19: 0.8149300155520995\n",
      "\n",
      "Best accuracy achived = 0.8164852255054432\n"
     ]
    }
   ],
   "source": [
    "model_name = 'forrest'\n",
    "ests = []\n",
    "for est in range(1, 20):\n",
    "    model = RandomForestClassifier(\n",
    "        n_estimators=est,\n",
    "        random_state=random_state,\n",
    "    )\n",
    "    model.fit(X_train, y_train.values.ravel())\n",
    "    accuracy = model.score(X_valid, y_valid)\n",
    "    print('accuracy for estimators {}: {}'.format(est, accuracy))\n",
    "    if models[model_name][1] < accuracy:\n",
    "        models[model_name] = [model, accuracy]\n",
    "    ests.append(accuracy)\n",
    "print()\n",
    "print('Best accuracy achived = {}'.format(models[model_name][1]))"
   ]
  },
  {
   "cell_type": "code",
   "execution_count": 15,
   "metadata": {},
   "outputs": [
    {
     "data": {
      "image/png": "[encoded data removed]",
      "text/plain": [
       "<Figure size 432x288 with 1 Axes>"
      ]
     },
     "metadata": {
      "needs_background": "light"
     },
     "output_type": "display_data"
    },
    {
     "name": "stdout",
     "output_type": "stream",
     "text": [
      "Best accuracy achived = 0.8133748055987559\n"
     ]
    }
   ],
   "source": [
    "plt.plot(range(1,20), ests)\n",
    "plt.grid()\n",
    "plt.show()\n",
    "\n",
    "model = RandomForestClassifier(\n",
    "    n_estimators=10,\n",
    "    random_state=random_state,\n",
    ")\n",
    "model.fit(X_train, y_train.values.ravel())\n",
    "accuracy = model.score(X_valid, y_valid)\n",
    "models[model_name] = [model, accuracy]\n",
    "\n",
    "print('Best accuracy achived = {}'.format(models[model_name][1]))"
   ]
  },
  {
   "cell_type": "markdown",
   "metadata": {},
   "source": [
    "Как видно на графике, излом по точности модели наступает при 10 деревьях, эту модель и оставляем"
   ]
  },
  {
   "cell_type": "markdown",
   "metadata": {},
   "source": [
    "<div class=\"alert alert-block alert-success\">\n",
    "\n",
    "<b>Успех:</b> Хорошо проделан шаг. Радует корректное использование валидационной выборки \n",
    "</div>\n",
    "<div class=\"alert alert-block alert-info\">\n",
    "\n",
    "<b>Совет:</b> Обрати также внимание на GridSearchCv и RandomizedSearchCV, эти инструменты могут быть удобными, когда большое количество параметров, уменьшает количество необходимых выборок, и делает код более лаконичным.\n",
    "</div>\n"
   ]
  },
  {
   "cell_type": "markdown",
   "metadata": {},
   "source": [
    "## Проверьте модель на тестовой выборке"
   ]
  },
  {
   "cell_type": "markdown",
   "metadata": {},
   "source": [
    "### Перекалибровка моделей на тренировочных и валидационных данных"
   ]
  },
  {
   "cell_type": "code",
   "execution_count": 16,
   "metadata": {},
   "outputs": [
    {
     "name": "stdout",
     "output_type": "stream",
     "text": [
      "Re-fit for model logreg done.\n",
      "Re-fit for model tree done.\n",
      "Re-fit for model forrest done.\n"
     ]
    }
   ],
   "source": [
    "for model_name in model_names:\n",
    "    models[model_name][0].fit(X_model, y_model.values.ravel())\n",
    "    print('Re-fit for model {} done.'.format(model_name))\n"
   ]
  },
  {
   "cell_type": "markdown",
   "metadata": {},
   "source": [
    "### Тестирование"
   ]
  },
  {
   "cell_type": "code",
   "execution_count": 17,
   "metadata": {},
   "outputs": [
    {
     "name": "stdout",
     "output_type": "stream",
     "text": [
      "Test accuracy for model logreg: 0.7091757387247278\n",
      "Test accuracy for model tree: 0.7838258164852255\n",
      "Test accuracy for model forrest: 0.7931570762052877\n"
     ]
    }
   ],
   "source": [
    "for model_name in model_names:\n",
    "    accuracy = models[model_name][0].score(X_test, y_test)\n",
    "    print('Test accuracy for model {}: {}'.format(model_name, accuracy))\n"
   ]
  },
  {
   "cell_type": "markdown",
   "metadata": {},
   "source": [
    "На тестовой выборке наилучшую точность показывает случайный лес, наихудшую - логистическая регрессия.\n",
    "\n"
   ]
  },
  {
   "cell_type": "markdown",
   "metadata": {},
   "source": [
    "<div class=\"alert alert-block alert-success\">\n",
    "\n",
    "<b>Успех:</b> На тестовой выборке получено хорошее качество, но знай, что тестирование положено проводить для одной наилучшей модели. На предыдущем шаге мы должны были настроить модели и выбрать одну наилучшую, опираясь на метрики данные заказчиком (это может быть качество, время обучения, скорость предсказания и т.п.)\n",
    "</div>\n",
    "<div class=\"alert alert-block alert-info\">\n",
    "\n",
    "<b>Совет:</b> \n",
    " Перед тестированием можно объединять валидационную и тренировочную выборку в одну обучающую, это может дать нам немного качества <br> \n",
    "</div>\n",
    "\n"
   ]
  },
  {
   "cell_type": "markdown",
   "metadata": {},
   "source": [
    "<div class=\"alert alert-block alert-warning\">\n",
    "<b>Изменения:</b>\n",
    "Добавлена рекалибровка\n",
    "</div>\n"
   ]
  },
  {
   "cell_type": "markdown",
   "metadata": {},
   "source": [
    "<div class=\"alert alert-block alert-success\">\n",
    "<b>Успех[2]:</b> Есть контакт\n",
    "</div>"
   ]
  },
  {
   "cell_type": "markdown",
   "metadata": {},
   "source": [
    "## (бонус) Проверьте модели на адекватность"
   ]
  },
  {
   "cell_type": "markdown",
   "metadata": {},
   "source": [
    "Для проверки на адекватность моделей рассмотрим 2 набора входных данных - минимальные и близкие к максимуму начального набора. На графиках и по описательной статистике (см. ниже) видно, что тариф ультра (1) более склонны приобретать клиенты с высоким потреблением услуг, а тариф смарт (0) - менее активные пользователи."
   ]
  },
  {
   "cell_type": "code",
   "execution_count": 18,
   "metadata": {},
   "outputs": [
    {
     "data": {
      "image/png": "[encoded data removed]",
      "text/plain": [
       "<Figure size 432x288 with 1 Axes>"
      ]
     },
     "metadata": {
      "needs_background": "light"
     },
     "output_type": "display_data"
    },
    {
     "data": {
      "image/png": "[encoded data removed]",
      "text/plain": [
       "<Figure size 432x288 with 1 Axes>"
      ]
     },
     "metadata": {
      "needs_background": "light"
     },
     "output_type": "display_data"
    },
    {
     "data": {
      "image/png": "[encoded data removed]",
      "text/plain": [
       "<Figure size 432x288 with 1 Axes>"
      ]
     },
     "metadata": {
      "needs_background": "light"
     },
     "output_type": "display_data"
    },
    {
     "data": {
      "image/png": "[encoded data removed]",
      "text/plain": [
       "<Figure size 432x288 with 1 Axes>"
      ]
     },
     "metadata": {
      "needs_background": "light"
     },
     "output_type": "display_data"
    }
   ],
   "source": [
    "for col_name in data[features_columns].columns:\n",
    "    data.plot(\n",
    "        x=col_name,\n",
    "        y='is_ultra',\n",
    "        kind='scatter',\n",
    "        alpha=0.03\n",
    "    );\n",
    "    plt.grid()\n",
    "    plt.show()"
   ]
  },
  {
   "cell_type": "code",
   "execution_count": 19,
   "metadata": {},
   "outputs": [
    {
     "data": {
      "text/html": [
       "<div>\n",
       "<style scoped>\n",
       "    .dataframe tbody tr th:only-of-type {\n",
       "        vertical-align: middle;\n",
       "    }\n",
       "\n",
       "    .dataframe tbody tr th {\n",
       "        vertical-align: top;\n",
       "    }\n",
       "\n",
       "    .dataframe thead th {\n",
       "        text-align: right;\n",
       "    }\n",
       "</style>\n",
       "<table border=\"1\" class=\"dataframe\">\n",
       "  <thead>\n",
       "    <tr style=\"text-align: right;\">\n",
       "      <th></th>\n",
       "      <th>calls</th>\n",
       "      <th>minutes</th>\n",
       "      <th>messages</th>\n",
       "      <th>mb_used</th>\n",
       "      <th>is_ultra</th>\n",
       "    </tr>\n",
       "  </thead>\n",
       "  <tbody>\n",
       "    <tr>\n",
       "      <th>count</th>\n",
       "      <td>985.000000</td>\n",
       "      <td>985.000000</td>\n",
       "      <td>985.000000</td>\n",
       "      <td>985.000000</td>\n",
       "      <td>985.0</td>\n",
       "    </tr>\n",
       "    <tr>\n",
       "      <th>mean</th>\n",
       "      <td>73.392893</td>\n",
       "      <td>511.224569</td>\n",
       "      <td>49.363452</td>\n",
       "      <td>19468.823228</td>\n",
       "      <td>1.0</td>\n",
       "    </tr>\n",
       "    <tr>\n",
       "      <th>std</th>\n",
       "      <td>43.916853</td>\n",
       "      <td>308.031100</td>\n",
       "      <td>47.804457</td>\n",
       "      <td>10087.178654</td>\n",
       "      <td>0.0</td>\n",
       "    </tr>\n",
       "    <tr>\n",
       "      <th>min</th>\n",
       "      <td>0.000000</td>\n",
       "      <td>0.000000</td>\n",
       "      <td>0.000000</td>\n",
       "      <td>0.000000</td>\n",
       "      <td>1.0</td>\n",
       "    </tr>\n",
       "    <tr>\n",
       "      <th>25%</th>\n",
       "      <td>41.000000</td>\n",
       "      <td>276.030000</td>\n",
       "      <td>6.000000</td>\n",
       "      <td>11770.280000</td>\n",
       "      <td>1.0</td>\n",
       "    </tr>\n",
       "    <tr>\n",
       "      <th>50%</th>\n",
       "      <td>74.000000</td>\n",
       "      <td>502.550000</td>\n",
       "      <td>38.000000</td>\n",
       "      <td>19308.010000</td>\n",
       "      <td>1.0</td>\n",
       "    </tr>\n",
       "    <tr>\n",
       "      <th>75%</th>\n",
       "      <td>104.000000</td>\n",
       "      <td>730.050000</td>\n",
       "      <td>79.000000</td>\n",
       "      <td>26837.720000</td>\n",
       "      <td>1.0</td>\n",
       "    </tr>\n",
       "    <tr>\n",
       "      <th>max</th>\n",
       "      <td>244.000000</td>\n",
       "      <td>1632.060000</td>\n",
       "      <td>224.000000</td>\n",
       "      <td>49745.730000</td>\n",
       "      <td>1.0</td>\n",
       "    </tr>\n",
       "  </tbody>\n",
       "</table>\n",
       "</div>"
      ],
      "text/plain": [
       "            calls      minutes    messages       mb_used  is_ultra\n",
       "count  985.000000   985.000000  985.000000    985.000000     985.0\n",
       "mean    73.392893   511.224569   49.363452  19468.823228       1.0\n",
       "std     43.916853   308.031100   47.804457  10087.178654       0.0\n",
       "min      0.000000     0.000000    0.000000      0.000000       1.0\n",
       "25%     41.000000   276.030000    6.000000  11770.280000       1.0\n",
       "50%     74.000000   502.550000   38.000000  19308.010000       1.0\n",
       "75%    104.000000   730.050000   79.000000  26837.720000       1.0\n",
       "max    244.000000  1632.060000  224.000000  49745.730000       1.0"
      ]
     },
     "execution_count": 19,
     "metadata": {},
     "output_type": "execute_result"
    }
   ],
   "source": [
    "data[data['is_ultra'] == 1].describe()"
   ]
  },
  {
   "cell_type": "code",
   "execution_count": 20,
   "metadata": {},
   "outputs": [
    {
     "data": {
      "text/html": [
       "<div>\n",
       "<style scoped>\n",
       "    .dataframe tbody tr th:only-of-type {\n",
       "        vertical-align: middle;\n",
       "    }\n",
       "\n",
       "    .dataframe tbody tr th {\n",
       "        vertical-align: top;\n",
       "    }\n",
       "\n",
       "    .dataframe thead th {\n",
       "        text-align: right;\n",
       "    }\n",
       "</style>\n",
       "<table border=\"1\" class=\"dataframe\">\n",
       "  <thead>\n",
       "    <tr style=\"text-align: right;\">\n",
       "      <th></th>\n",
       "      <th>calls</th>\n",
       "      <th>minutes</th>\n",
       "      <th>messages</th>\n",
       "      <th>mb_used</th>\n",
       "      <th>is_ultra</th>\n",
       "    </tr>\n",
       "  </thead>\n",
       "  <tbody>\n",
       "    <tr>\n",
       "      <th>count</th>\n",
       "      <td>2229.000000</td>\n",
       "      <td>2229.000000</td>\n",
       "      <td>2229.000000</td>\n",
       "      <td>2229.000000</td>\n",
       "      <td>2229.0</td>\n",
       "    </tr>\n",
       "    <tr>\n",
       "      <th>mean</th>\n",
       "      <td>58.463437</td>\n",
       "      <td>405.942952</td>\n",
       "      <td>33.384029</td>\n",
       "      <td>16208.466949</td>\n",
       "      <td>0.0</td>\n",
       "    </tr>\n",
       "    <tr>\n",
       "      <th>std</th>\n",
       "      <td>25.939858</td>\n",
       "      <td>184.512604</td>\n",
       "      <td>28.227876</td>\n",
       "      <td>5870.498853</td>\n",
       "      <td>0.0</td>\n",
       "    </tr>\n",
       "    <tr>\n",
       "      <th>min</th>\n",
       "      <td>0.000000</td>\n",
       "      <td>0.000000</td>\n",
       "      <td>0.000000</td>\n",
       "      <td>0.000000</td>\n",
       "      <td>0.0</td>\n",
       "    </tr>\n",
       "    <tr>\n",
       "      <th>25%</th>\n",
       "      <td>40.000000</td>\n",
       "      <td>274.230000</td>\n",
       "      <td>10.000000</td>\n",
       "      <td>12643.050000</td>\n",
       "      <td>0.0</td>\n",
       "    </tr>\n",
       "    <tr>\n",
       "      <th>50%</th>\n",
       "      <td>60.000000</td>\n",
       "      <td>410.560000</td>\n",
       "      <td>28.000000</td>\n",
       "      <td>16506.930000</td>\n",
       "      <td>0.0</td>\n",
       "    </tr>\n",
       "    <tr>\n",
       "      <th>75%</th>\n",
       "      <td>76.000000</td>\n",
       "      <td>529.510000</td>\n",
       "      <td>51.000000</td>\n",
       "      <td>20043.060000</td>\n",
       "      <td>0.0</td>\n",
       "    </tr>\n",
       "    <tr>\n",
       "      <th>max</th>\n",
       "      <td>198.000000</td>\n",
       "      <td>1390.220000</td>\n",
       "      <td>143.000000</td>\n",
       "      <td>38552.620000</td>\n",
       "      <td>0.0</td>\n",
       "    </tr>\n",
       "  </tbody>\n",
       "</table>\n",
       "</div>"
      ],
      "text/plain": [
       "             calls      minutes     messages       mb_used  is_ultra\n",
       "count  2229.000000  2229.000000  2229.000000   2229.000000    2229.0\n",
       "mean     58.463437   405.942952    33.384029  16208.466949       0.0\n",
       "std      25.939858   184.512604    28.227876   5870.498853       0.0\n",
       "min       0.000000     0.000000     0.000000      0.000000       0.0\n",
       "25%      40.000000   274.230000    10.000000  12643.050000       0.0\n",
       "50%      60.000000   410.560000    28.000000  16506.930000       0.0\n",
       "75%      76.000000   529.510000    51.000000  20043.060000       0.0\n",
       "max     198.000000  1390.220000   143.000000  38552.620000       0.0"
      ]
     },
     "execution_count": 20,
     "metadata": {},
     "output_type": "execute_result"
    }
   ],
   "source": [
    "data[data['is_ultra'] == 0].describe()"
   ]
  },
  {
   "cell_type": "code",
   "execution_count": 21,
   "metadata": {},
   "outputs": [
    {
     "data": {
      "text/html": [
       "<div>\n",
       "<style scoped>\n",
       "    .dataframe tbody tr th:only-of-type {\n",
       "        vertical-align: middle;\n",
       "    }\n",
       "\n",
       "    .dataframe tbody tr th {\n",
       "        vertical-align: top;\n",
       "    }\n",
       "\n",
       "    .dataframe thead th {\n",
       "        text-align: right;\n",
       "    }\n",
       "</style>\n",
       "<table border=\"1\" class=\"dataframe\">\n",
       "  <thead>\n",
       "    <tr style=\"text-align: right;\">\n",
       "      <th></th>\n",
       "      <th>model</th>\n",
       "    </tr>\n",
       "  </thead>\n",
       "  <tbody>\n",
       "    <tr>\n",
       "      <th>0</th>\n",
       "      <td>logreg</td>\n",
       "    </tr>\n",
       "    <tr>\n",
       "      <th>1</th>\n",
       "      <td>tree</td>\n",
       "    </tr>\n",
       "    <tr>\n",
       "      <th>2</th>\n",
       "      <td>forrest</td>\n",
       "    </tr>\n",
       "  </tbody>\n",
       "</table>\n",
       "</div>"
      ],
      "text/plain": [
       "     model\n",
       "0   logreg\n",
       "1     tree\n",
       "2  forrest"
      ]
     },
     "execution_count": 21,
     "metadata": {},
     "output_type": "execute_result"
    }
   ],
   "source": [
    "X_min = pd.DataFrame({\n",
    "    'calls': [0],\n",
    "    'minutes': [0],\n",
    "    'messages': [0],\n",
    "    'mb_used': [0],\n",
    "})\n",
    "y_min = 1\n",
    "X_max = pd.DataFrame({\n",
    "    'calls': [200],\n",
    "    'minutes': [1500],\n",
    "    'messages': [200],\n",
    "    'mb_used': [40000],\n",
    "})\n",
    "y_max = 1\n",
    "adequacy = pd.DataFrame({\n",
    "    'model': model_names\n",
    "}) \n",
    "adequacy"
   ]
  },
  {
   "cell_type": "code",
   "execution_count": 22,
   "metadata": {},
   "outputs": [
    {
     "data": {
      "text/html": [
       "<div>\n",
       "<style scoped>\n",
       "    .dataframe tbody tr th:only-of-type {\n",
       "        vertical-align: middle;\n",
       "    }\n",
       "\n",
       "    .dataframe tbody tr th {\n",
       "        vertical-align: top;\n",
       "    }\n",
       "\n",
       "    .dataframe thead th {\n",
       "        text-align: right;\n",
       "    }\n",
       "</style>\n",
       "<table border=\"1\" class=\"dataframe\">\n",
       "  <thead>\n",
       "    <tr style=\"text-align: right;\">\n",
       "      <th></th>\n",
       "      <th>model</th>\n",
       "      <th>predicted_min</th>\n",
       "      <th>expected_min</th>\n",
       "      <th>predicted_max</th>\n",
       "      <th>expected_max</th>\n",
       "    </tr>\n",
       "  </thead>\n",
       "  <tbody>\n",
       "    <tr>\n",
       "      <th>0</th>\n",
       "      <td>logreg</td>\n",
       "      <td>0</td>\n",
       "      <td>1</td>\n",
       "      <td>0</td>\n",
       "      <td>1</td>\n",
       "    </tr>\n",
       "    <tr>\n",
       "      <th>1</th>\n",
       "      <td>tree</td>\n",
       "      <td>0</td>\n",
       "      <td>1</td>\n",
       "      <td>0</td>\n",
       "      <td>1</td>\n",
       "    </tr>\n",
       "    <tr>\n",
       "      <th>2</th>\n",
       "      <td>forrest</td>\n",
       "      <td>1</td>\n",
       "      <td>1</td>\n",
       "      <td>1</td>\n",
       "      <td>1</td>\n",
       "    </tr>\n",
       "  </tbody>\n",
       "</table>\n",
       "</div>"
      ],
      "text/plain": [
       "     model  predicted_min  expected_min  predicted_max  expected_max\n",
       "0   logreg              0             1              0             1\n",
       "1     tree              0             1              0             1\n",
       "2  forrest              1             1              1             1"
      ]
     },
     "execution_count": 22,
     "metadata": {},
     "output_type": "execute_result"
    }
   ],
   "source": [
    "predictions = []\n",
    "for model_name in model_names:\n",
    "    predictions.append(models[model_name][0].predict(X_min))\n",
    "adequacy['predicted_min'] = pd.DataFrame(predictions)\n",
    "adequacy['expected_min'] = y_min\n",
    "\n",
    "for model_name in model_names:\n",
    "    predictions.append(models[model_name][0].predict(X_max))\n",
    "adequacy['predicted_max'] = pd.DataFrame(predictions)\n",
    "adequacy['expected_max'] = y_max\n",
    "\n",
    "adequacy"
   ]
  },
  {
   "cell_type": "markdown",
   "metadata": {},
   "source": [
    "Как видно, несмотря на достаточно высокую точность на тестовых данных (не менее 70%) модели весьма плохо предсказали тариф для крайних случаев. Т.е. есть либо есть вопросы к адекватности моделей, либо пользователи пользуются иной, а не ожидаемой логикой при выборе тарифов."
   ]
  },
  {
   "cell_type": "markdown",
   "metadata": {},
   "source": [
    "<div class=\"alert alert-block alert-success\">\n",
    "\n",
    "<b>Успех:</b> Неплохой подход к решению бонусному заданию"
   ]
  },
  {
   "cell_type": "markdown",
   "metadata": {},
   "source": [
    "<div class=\"alert alert-block alert-info\">\n",
    "\n",
    "<b>Совет:</b> <br> 1) Здесь больше подразумевалось сравнить наши модели с фиктивной/случайной, может нам стоит всегда предсказывать наибольший класс и результат будет не хуже. Для данной задачи удобен инструмент DummyClassifier <br> 2) Не забывай уделять больше внимания итоговому выводу, это важная часть проекта и сюда будут обращено особое внимание</div> "
   ]
  },
  {
   "cell_type": "markdown",
   "metadata": {},
   "source": [
    "<div class=\"alert alert-block alert-warning\">\n",
    "<b>Комментарий студента:</b>\n",
    "Ниже сделал расчет по DummyClassifier. Как я понимаю, он генерирует некоторые более-менее случайные результаты в соответствии с выбранной стратегией. Затем их следует сравнить с тем, что показывает модель и если dummy демонстрирует более высокую предсказательную способность, то модель ни к черту.\n",
    "<br>Тут, как видно, при двух стратегиях точность приблежается к 0.7, что весьма высоко - почти равно модели логистической регрессии на тестовых данных и не так уж далеко от деревьев и с их 0.78-0.79.\n",
    "Правильно я все понял?\n",
    "<br>Как следует интерпретировать полученные результаты? Есть ли метрики, чтобы сравнить следует ли признать разницу между качеством dummy и моделей значимой?\n",
    "</div>\n"
   ]
  },
  {
   "cell_type": "markdown",
   "metadata": {},
   "source": [
    "<div class=\"alert alert-block alert-success\">\n",
    "<b>Успех[2]:</b> Да, ты все правильно пишешь. DummyClassifier задает порог адекватности, и если модель ее не превосходит, то ее смело можно выбрасывать. Для каждой метрики сответствует своя стратегия, например для accuracy - most_frequent, для f1 - constant (единица), для rmse - mean. И т.п.\n",
    "</div> "
   ]
  },
  {
   "cell_type": "code",
   "execution_count": 23,
   "metadata": {},
   "outputs": [
    {
     "name": "stdout",
     "output_type": "stream",
     "text": [
      "With strategy most_frequent accuracy is: 0.693528313627878.\n",
      "With strategy prior accuracy is: 0.693528313627878.\n",
      "With strategy stratified accuracy is: 0.5718730553827007.\n",
      "With strategy uniform accuracy is: 0.4925326695706285.\n"
     ]
    },
    {
     "data": {
      "text/plain": [
       "(3214,)"
      ]
     },
     "execution_count": 23,
     "metadata": {},
     "output_type": "execute_result"
    }
   ],
   "source": [
    "for strategy in ('most_frequent', 'prior', 'stratified', 'uniform'):\n",
    "    dummy = DummyClassifier(\n",
    "        strategy=strategy,\n",
    "        random_state=random_state,\n",
    "    )\n",
    "    dummy.fit(X, y)\n",
    "    res = dummy.predict(X)\n",
    "    print('With strategy {} accuracy is: {}.'.format(strategy, dummy.score(X, y)))\n",
    "res.shape"
   ]
  },
  {
   "cell_type": "markdown",
   "metadata": {},
   "source": [
    "## Чек-лист готовности проекта"
   ]
  },
  {
   "cell_type": "markdown",
   "metadata": {},
   "source": [
    "Поставьте 'x' в выполненных пунктах. Далее нажмите Shift+Enter."
   ]
  },
  {
   "cell_type": "markdown",
   "metadata": {},
   "source": [
    "- [x] Jupyter Notebook открыт\n",
    "- [x] Весь код исполняется без ошибок\n",
    "- [x] Ячейки с кодом расположены в порядке исполнения\n",
    "- [x] Выполнено задание 1: данные загружены и изучены\n",
    "- [x] Выполнено задание 2: данные разбиты на три выборки\n",
    "- [x] Выполнено задание 3: проведено исследование моделей\n",
    "    - [x] Рассмотрено больше одной модели\n",
    "    - [x] Рассмотрено хотя бы 3 значения гипепараметров для какой-нибудь модели\n",
    "    - [x] Написаны выводы по результатам исследования\n",
    "- [x] Выполнено задание 3: Проведено тестирование\n",
    "- [x] Удалось достичь accuracy не меньше 0.75\n"
   ]
  },
  {
   "cell_type": "code",
   "execution_count": null,
   "metadata": {},
   "outputs": [],
   "source": []
  }
 ],
 "metadata": {
  "ExecuteTimeLog": [
   {
    "duration": 1578,
    "start_time": "2022-08-29T06:54:19.656Z"
   },
   {
    "duration": 122,
    "start_time": "2022-08-29T06:54:54.768Z"
   },
   {
    "duration": 16,
    "start_time": "2022-08-29T06:55:06.000Z"
   },
   {
    "duration": 10,
    "start_time": "2022-08-29T07:06:39.740Z"
   },
   {
    "duration": 9,
    "start_time": "2022-08-29T07:07:16.455Z"
   },
   {
    "duration": 123,
    "start_time": "2022-08-29T07:16:05.182Z"
   },
   {
    "duration": 3,
    "start_time": "2022-08-29T07:16:12.342Z"
   },
   {
    "duration": 21,
    "start_time": "2022-08-29T07:16:14.012Z"
   },
   {
    "duration": 30,
    "start_time": "2022-08-29T07:19:46.498Z"
   },
   {
    "duration": 4,
    "start_time": "2022-08-29T07:22:22.386Z"
   },
   {
    "duration": 29,
    "start_time": "2022-08-29T07:22:23.303Z"
   },
   {
    "duration": 34,
    "start_time": "2022-08-29T07:27:44.740Z"
   },
   {
    "duration": 6,
    "start_time": "2022-08-29T07:33:55.659Z"
   },
   {
    "duration": 27,
    "start_time": "2022-08-29T07:34:49.144Z"
   },
   {
    "duration": 16,
    "start_time": "2022-08-29T07:34:55.342Z"
   },
   {
    "duration": 27,
    "start_time": "2022-08-29T07:35:07.078Z"
   },
   {
    "duration": 12,
    "start_time": "2022-08-29T07:36:22.065Z"
   },
   {
    "duration": 26,
    "start_time": "2022-08-29T07:36:41.249Z"
   },
   {
    "duration": 2,
    "start_time": "2022-08-29T07:37:53.388Z"
   },
   {
    "duration": 25,
    "start_time": "2022-08-29T07:38:28.719Z"
   },
   {
    "duration": 25,
    "start_time": "2022-08-29T07:40:14.978Z"
   },
   {
    "duration": 4,
    "start_time": "2022-08-29T07:40:24.155Z"
   },
   {
    "duration": 11,
    "start_time": "2022-08-29T07:45:06.786Z"
   },
   {
    "duration": 9,
    "start_time": "2022-08-29T07:45:55.836Z"
   },
   {
    "duration": 14,
    "start_time": "2022-08-29T07:46:08.707Z"
   },
   {
    "duration": 29,
    "start_time": "2022-08-29T07:46:15.386Z"
   },
   {
    "duration": 70,
    "start_time": "2022-08-29T07:49:27.952Z"
   },
   {
    "duration": 18,
    "start_time": "2022-08-29T07:49:49.689Z"
   },
   {
    "duration": 58,
    "start_time": "2022-08-29T07:49:58.298Z"
   },
   {
    "duration": 61,
    "start_time": "2022-08-29T07:50:59.355Z"
   },
   {
    "duration": 65,
    "start_time": "2022-08-29T07:52:15.889Z"
   },
   {
    "duration": 63,
    "start_time": "2022-08-29T07:52:28.453Z"
   },
   {
    "duration": 67,
    "start_time": "2022-08-29T07:56:29.860Z"
   },
   {
    "duration": 11,
    "start_time": "2022-08-29T07:56:34.955Z"
   },
   {
    "duration": 70,
    "start_time": "2022-08-29T07:56:58.512Z"
   },
   {
    "duration": 240,
    "start_time": "2022-08-29T07:58:36.125Z"
   },
   {
    "duration": 853,
    "start_time": "2022-08-29T07:58:45.143Z"
   },
   {
    "duration": 839,
    "start_time": "2022-08-29T08:00:07.405Z"
   },
   {
    "duration": 150,
    "start_time": "2022-08-29T08:02:32.585Z"
   },
   {
    "duration": 98,
    "start_time": "2022-08-29T08:02:50.389Z"
   },
   {
    "duration": 107,
    "start_time": "2022-08-29T08:03:16.724Z"
   },
   {
    "duration": 108,
    "start_time": "2022-08-29T08:06:05.932Z"
   },
   {
    "duration": 166,
    "start_time": "2022-08-29T08:06:24.391Z"
   },
   {
    "duration": 106,
    "start_time": "2022-08-29T08:06:36.328Z"
   },
   {
    "duration": 115,
    "start_time": "2022-08-29T08:06:44.614Z"
   },
   {
    "duration": 60,
    "start_time": "2022-08-29T08:08:07.292Z"
   },
   {
    "duration": 119,
    "start_time": "2022-08-29T08:08:20.584Z"
   },
   {
    "duration": 115,
    "start_time": "2022-08-29T08:09:38.464Z"
   },
   {
    "duration": 151,
    "start_time": "2022-08-29T08:10:09.162Z"
   },
   {
    "duration": 75,
    "start_time": "2022-08-29T08:11:13.492Z"
   },
   {
    "duration": 10,
    "start_time": "2022-08-29T08:17:03.436Z"
   },
   {
    "duration": 3,
    "start_time": "2022-08-29T08:17:13.976Z"
   },
   {
    "duration": 36,
    "start_time": "2022-08-29T08:17:14.450Z"
   },
   {
    "duration": 15,
    "start_time": "2022-08-29T08:17:14.940Z"
   },
   {
    "duration": 8,
    "start_time": "2022-08-29T08:17:34.034Z"
   },
   {
    "duration": 9,
    "start_time": "2022-08-29T08:18:47.654Z"
   },
   {
    "duration": 8,
    "start_time": "2022-08-29T08:18:57.112Z"
   },
   {
    "duration": 2,
    "start_time": "2022-08-29T08:19:14.786Z"
   },
   {
    "duration": 2,
    "start_time": "2022-08-29T08:19:19.232Z"
   },
   {
    "duration": 34,
    "start_time": "2022-08-29T08:19:22.240Z"
   },
   {
    "duration": 4,
    "start_time": "2022-08-29T08:19:46.308Z"
   },
   {
    "duration": 46,
    "start_time": "2022-08-29T08:20:12.982Z"
   },
   {
    "duration": 44,
    "start_time": "2022-08-29T08:20:29.678Z"
   },
   {
    "duration": 59,
    "start_time": "2022-08-29T08:21:45.139Z"
   },
   {
    "duration": 4,
    "start_time": "2022-08-29T08:21:55.426Z"
   },
   {
    "duration": 35,
    "start_time": "2022-08-29T08:22:01.490Z"
   },
   {
    "duration": 48,
    "start_time": "2022-08-29T08:22:23.368Z"
   },
   {
    "duration": 63,
    "start_time": "2022-08-29T08:22:54.526Z"
   },
   {
    "duration": 136,
    "start_time": "2022-08-29T08:23:16.788Z"
   },
   {
    "duration": 101,
    "start_time": "2022-08-29T08:24:07.128Z"
   },
   {
    "duration": 5,
    "start_time": "2022-08-29T08:24:16.327Z"
   },
   {
    "duration": 42,
    "start_time": "2022-08-29T08:24:21.450Z"
   },
   {
    "duration": 5,
    "start_time": "2022-08-29T08:24:27.114Z"
   },
   {
    "duration": 4,
    "start_time": "2022-08-29T08:24:29.176Z"
   },
   {
    "duration": 75,
    "start_time": "2022-08-29T08:24:29.866Z"
   },
   {
    "duration": 4,
    "start_time": "2022-08-29T08:25:56.984Z"
   },
   {
    "duration": 4,
    "start_time": "2022-08-29T08:25:59.069Z"
   },
   {
    "duration": 72,
    "start_time": "2022-08-29T08:26:00.407Z"
   },
   {
    "duration": 27,
    "start_time": "2022-08-29T08:26:34.646Z"
   },
   {
    "duration": 5,
    "start_time": "2022-08-29T08:26:54.509Z"
   },
   {
    "duration": 77,
    "start_time": "2022-08-29T08:26:58.472Z"
   },
   {
    "duration": 63,
    "start_time": "2022-08-29T08:27:03.489Z"
   },
   {
    "duration": 20,
    "start_time": "2022-08-29T08:27:05.273Z"
   },
   {
    "duration": 24,
    "start_time": "2022-08-29T08:27:12.557Z"
   },
   {
    "duration": 834,
    "start_time": "2022-08-29T08:27:19.100Z"
   },
   {
    "duration": 154,
    "start_time": "2022-08-29T08:27:24.113Z"
   },
   {
    "duration": 24,
    "start_time": "2022-08-29T08:27:31.130Z"
   },
   {
    "duration": 12,
    "start_time": "2022-08-29T08:28:04.668Z"
   },
   {
    "duration": 17,
    "start_time": "2022-08-29T08:28:34.694Z"
   },
   {
    "duration": 15,
    "start_time": "2022-08-29T08:29:02.655Z"
   },
   {
    "duration": 9,
    "start_time": "2022-08-29T08:41:52.300Z"
   },
   {
    "duration": 3,
    "start_time": "2022-08-29T08:41:55.368Z"
   },
   {
    "duration": 12,
    "start_time": "2022-08-29T08:41:55.862Z"
   },
   {
    "duration": 3,
    "start_time": "2022-08-29T08:42:42.052Z"
   },
   {
    "duration": 11,
    "start_time": "2022-08-29T08:42:43.914Z"
   },
   {
    "duration": 8,
    "start_time": "2022-08-29T08:42:56.972Z"
   },
   {
    "duration": 74,
    "start_time": "2022-08-29T08:44:28.194Z"
   },
   {
    "duration": 5,
    "start_time": "2022-08-29T08:44:52.786Z"
   },
   {
    "duration": 3,
    "start_time": "2022-08-29T08:44:58.356Z"
   },
   {
    "duration": 10,
    "start_time": "2022-08-29T08:44:59.060Z"
   },
   {
    "duration": 4,
    "start_time": "2022-08-29T08:46:09.618Z"
   },
   {
    "duration": 9,
    "start_time": "2022-08-29T08:46:10.224Z"
   },
   {
    "duration": 3,
    "start_time": "2022-08-29T08:50:59.471Z"
   },
   {
    "duration": 1508,
    "start_time": "2022-08-29T08:51:00.402Z"
   },
   {
    "duration": 1492,
    "start_time": "2022-08-29T08:51:18.358Z"
   },
   {
    "duration": 1475,
    "start_time": "2022-08-29T08:51:25.930Z"
   },
   {
    "duration": 1477,
    "start_time": "2022-08-29T08:52:27.670Z"
   },
   {
    "duration": 1535,
    "start_time": "2022-08-29T08:52:41.542Z"
   },
   {
    "duration": 1555,
    "start_time": "2022-08-29T08:52:48.878Z"
   },
   {
    "duration": 1530,
    "start_time": "2022-08-29T08:54:11.312Z"
   },
   {
    "duration": 1446,
    "start_time": "2022-08-29T08:54:19.778Z"
   },
   {
    "duration": 1569,
    "start_time": "2022-08-29T08:54:31.636Z"
   },
   {
    "duration": 1529,
    "start_time": "2022-08-29T08:54:48.198Z"
   },
   {
    "duration": 1557,
    "start_time": "2022-08-29T08:54:56.932Z"
   },
   {
    "duration": 1654,
    "start_time": "2022-08-29T08:55:03.929Z"
   },
   {
    "duration": 1627,
    "start_time": "2022-08-29T08:55:12.178Z"
   },
   {
    "duration": 1588,
    "start_time": "2022-08-29T08:55:58.280Z"
   },
   {
    "duration": 1694,
    "start_time": "2022-08-29T08:56:08.374Z"
   },
   {
    "duration": 8,
    "start_time": "2022-08-29T08:57:09.640Z"
   },
   {
    "duration": 30,
    "start_time": "2022-08-29T08:57:11.780Z"
   },
   {
    "duration": 5,
    "start_time": "2022-08-29T08:57:13.126Z"
   },
   {
    "duration": 19,
    "start_time": "2022-08-29T08:57:13.751Z"
   },
   {
    "duration": 43,
    "start_time": "2022-08-29T08:57:14.500Z"
   },
   {
    "duration": 789,
    "start_time": "2022-08-29T08:57:15.244Z"
   },
   {
    "duration": 149,
    "start_time": "2022-08-29T08:57:16.658Z"
   },
   {
    "duration": 8,
    "start_time": "2022-08-29T08:57:27.154Z"
   },
   {
    "duration": 3,
    "start_time": "2022-08-29T08:57:33.768Z"
   },
   {
    "duration": 4,
    "start_time": "2022-08-29T08:57:34.384Z"
   },
   {
    "duration": 3,
    "start_time": "2022-08-29T08:57:37.162Z"
   },
   {
    "duration": 10,
    "start_time": "2022-08-29T08:57:39.242Z"
   },
   {
    "duration": 4,
    "start_time": "2022-08-29T08:57:41.364Z"
   },
   {
    "duration": 9,
    "start_time": "2022-08-29T08:57:42.890Z"
   },
   {
    "duration": 8,
    "start_time": "2022-08-29T08:59:11.530Z"
   },
   {
    "duration": 5,
    "start_time": "2022-08-29T08:59:18.676Z"
   },
   {
    "duration": 9,
    "start_time": "2022-08-29T08:59:31.502Z"
   },
   {
    "duration": 7,
    "start_time": "2022-08-29T08:59:36.473Z"
   },
   {
    "duration": 2,
    "start_time": "2022-08-29T08:59:47.630Z"
   },
   {
    "duration": 1773,
    "start_time": "2022-08-29T08:59:49.396Z"
   },
   {
    "duration": 90,
    "start_time": "2022-08-29T09:03:31.588Z"
   },
   {
    "duration": 100,
    "start_time": "2022-08-29T09:04:13.312Z"
   },
   {
    "duration": 101,
    "start_time": "2022-08-29T09:04:31.385Z"
   },
   {
    "duration": 124,
    "start_time": "2022-08-29T09:05:25.621Z"
   },
   {
    "duration": 118,
    "start_time": "2022-08-29T09:05:45.810Z"
   },
   {
    "duration": 78,
    "start_time": "2022-08-29T09:06:30.253Z"
   },
   {
    "duration": 9,
    "start_time": "2022-08-29T09:06:37.710Z"
   },
   {
    "duration": 566,
    "start_time": "2022-08-29T09:06:43.846Z"
   },
   {
    "duration": 671,
    "start_time": "2022-08-29T09:07:33.199Z"
   },
   {
    "duration": 460,
    "start_time": "2022-08-29T09:08:06.789Z"
   },
   {
    "duration": 9,
    "start_time": "2022-08-29T09:08:24.210Z"
   },
   {
    "duration": 474,
    "start_time": "2022-08-29T09:08:37.724Z"
   },
   {
    "duration": 4,
    "start_time": "2022-08-29T09:08:41.764Z"
   },
   {
    "duration": 30,
    "start_time": "2022-08-29T09:09:13.945Z"
   },
   {
    "duration": 3,
    "start_time": "2022-08-29T09:09:52.192Z"
   },
   {
    "duration": 7,
    "start_time": "2022-08-29T09:10:04.070Z"
   },
   {
    "duration": 6,
    "start_time": "2022-08-29T09:10:05.416Z"
   },
   {
    "duration": 20,
    "start_time": "2022-08-29T09:14:18.815Z"
   },
   {
    "duration": 27,
    "start_time": "2022-08-29T09:15:07.259Z"
   },
   {
    "duration": 3,
    "start_time": "2022-08-29T09:15:10.902Z"
   },
   {
    "duration": 4,
    "start_time": "2022-08-29T09:15:15.562Z"
   },
   {
    "duration": 33,
    "start_time": "2022-08-29T09:15:19.778Z"
   },
   {
    "duration": 33,
    "start_time": "2022-08-29T09:22:38.218Z"
   },
   {
    "duration": 30,
    "start_time": "2022-08-29T09:22:52.936Z"
   },
   {
    "duration": 4,
    "start_time": "2022-08-29T09:24:30.540Z"
   },
   {
    "duration": 72,
    "start_time": "2022-08-29T09:24:34.124Z"
   },
   {
    "duration": 79175,
    "start_time": "2022-08-29T09:33:50.661Z"
   },
   {
    "duration": 111,
    "start_time": "2022-08-29T09:35:09.838Z"
   },
   {
    "duration": 109,
    "start_time": "2022-08-29T09:35:16.709Z"
   },
   {
    "duration": 152,
    "start_time": "2022-08-29T09:35:38.295Z"
   },
   {
    "duration": 882,
    "start_time": "2022-08-29T09:35:52.281Z"
   },
   {
    "duration": 141,
    "start_time": "2022-08-29T09:35:54.231Z"
   },
   {
    "duration": 243,
    "start_time": "2022-08-29T09:36:46.271Z"
   },
   {
    "duration": 569,
    "start_time": "2022-08-29T09:40:00.667Z"
   },
   {
    "duration": 9,
    "start_time": "2022-08-29T09:42:52.067Z"
   },
   {
    "duration": 483,
    "start_time": "2022-08-29T09:43:07.577Z"
   },
   {
    "duration": 11,
    "start_time": "2022-08-29T09:49:00.154Z"
   },
   {
    "duration": 13,
    "start_time": "2022-08-29T09:49:16.390Z"
   },
   {
    "duration": 8,
    "start_time": "2022-08-29T09:49:24.296Z"
   },
   {
    "duration": 8,
    "start_time": "2022-08-29T09:52:29.818Z"
   },
   {
    "duration": 11,
    "start_time": "2022-08-29T09:52:48.303Z"
   },
   {
    "duration": 3,
    "start_time": "2022-08-29T09:53:13.746Z"
   },
   {
    "duration": 29,
    "start_time": "2022-08-29T09:53:13.996Z"
   },
   {
    "duration": 11,
    "start_time": "2022-08-29T09:53:14.362Z"
   },
   {
    "duration": 9,
    "start_time": "2022-08-29T09:53:14.700Z"
   },
   {
    "duration": 20,
    "start_time": "2022-08-29T09:53:15.106Z"
   },
   {
    "duration": 4,
    "start_time": "2022-08-29T09:53:15.893Z"
   },
   {
    "duration": 5,
    "start_time": "2022-08-29T09:53:16.367Z"
   },
   {
    "duration": 29,
    "start_time": "2022-08-29T09:53:17.194Z"
   },
   {
    "duration": 5,
    "start_time": "2022-08-29T09:53:18.673Z"
   },
   {
    "duration": 71,
    "start_time": "2022-08-29T09:53:19.258Z"
   },
   {
    "duration": 61,
    "start_time": "2022-08-29T09:53:20.872Z"
   },
   {
    "duration": 840,
    "start_time": "2022-08-29T09:53:22.726Z"
   },
   {
    "duration": 155,
    "start_time": "2022-08-29T09:53:23.796Z"
   },
   {
    "duration": 11,
    "start_time": "2022-08-29T09:53:27.086Z"
   },
   {
    "duration": 527,
    "start_time": "2022-08-29T09:53:32.157Z"
   },
   {
    "duration": 10,
    "start_time": "2022-08-29T09:53:33.194Z"
   },
   {
    "duration": 14,
    "start_time": "2022-08-29T09:53:34.242Z"
   },
   {
    "duration": 11,
    "start_time": "2022-08-29T09:53:53.576Z"
   },
   {
    "duration": 15,
    "start_time": "2022-08-29T09:53:59.118Z"
   },
   {
    "duration": 12,
    "start_time": "2022-08-29T09:54:06.582Z"
   },
   {
    "duration": 16,
    "start_time": "2022-08-29T09:54:42.620Z"
   },
   {
    "duration": 19,
    "start_time": "2022-08-29T09:55:40.073Z"
   },
   {
    "duration": 19,
    "start_time": "2022-08-29T09:55:50.766Z"
   },
   {
    "duration": 12,
    "start_time": "2022-08-29T09:56:07.834Z"
   },
   {
    "duration": 17,
    "start_time": "2022-08-29T09:56:45.908Z"
   },
   {
    "duration": 101,
    "start_time": "2022-08-29T09:57:06.948Z"
   },
   {
    "duration": 14,
    "start_time": "2022-08-29T09:57:30.288Z"
   },
   {
    "duration": 14,
    "start_time": "2022-08-29T09:57:48.936Z"
   },
   {
    "duration": 23,
    "start_time": "2022-08-29T09:58:32.724Z"
   },
   {
    "duration": 9,
    "start_time": "2022-08-29T09:58:46.254Z"
   },
   {
    "duration": 21,
    "start_time": "2022-08-29T09:58:47.264Z"
   },
   {
    "duration": 15,
    "start_time": "2022-08-29T10:02:31.094Z"
   },
   {
    "duration": 84,
    "start_time": "2022-08-29T10:04:19.336Z"
   },
   {
    "duration": 82,
    "start_time": "2022-08-29T10:05:13.768Z"
   },
   {
    "duration": 19,
    "start_time": "2022-08-29T10:05:33.625Z"
   },
   {
    "duration": 31,
    "start_time": "2022-08-29T10:06:14.576Z"
   },
   {
    "duration": 10,
    "start_time": "2022-08-29T10:06:47.648Z"
   },
   {
    "duration": 14,
    "start_time": "2022-08-29T10:07:44.391Z"
   },
   {
    "duration": 11,
    "start_time": "2022-08-29T10:07:53.914Z"
   },
   {
    "duration": 16,
    "start_time": "2022-08-29T10:08:51.838Z"
   },
   {
    "duration": 17,
    "start_time": "2022-08-29T10:08:52.681Z"
   },
   {
    "duration": 71,
    "start_time": "2022-08-29T10:09:02.645Z"
   },
   {
    "duration": 13,
    "start_time": "2022-08-29T10:09:05.935Z"
   },
   {
    "duration": 4,
    "start_time": "2022-08-29T10:09:19.974Z"
   },
   {
    "duration": 4,
    "start_time": "2022-08-29T10:10:01.260Z"
   },
   {
    "duration": 19,
    "start_time": "2022-08-29T10:10:52.821Z"
   },
   {
    "duration": 3,
    "start_time": "2022-08-29T10:12:08.642Z"
   },
   {
    "duration": 29,
    "start_time": "2022-08-29T10:12:08.812Z"
   },
   {
    "duration": 9,
    "start_time": "2022-08-29T10:12:08.975Z"
   },
   {
    "duration": 10,
    "start_time": "2022-08-29T10:12:09.132Z"
   },
   {
    "duration": 22,
    "start_time": "2022-08-29T10:12:09.336Z"
   },
   {
    "duration": 2,
    "start_time": "2022-08-29T10:12:09.726Z"
   },
   {
    "duration": 4,
    "start_time": "2022-08-29T10:12:10.070Z"
   },
   {
    "duration": 30,
    "start_time": "2022-08-29T10:12:10.558Z"
   },
   {
    "duration": 4,
    "start_time": "2022-08-29T10:12:11.064Z"
   },
   {
    "duration": 80,
    "start_time": "2022-08-29T10:12:11.378Z"
   },
   {
    "duration": 61,
    "start_time": "2022-08-29T10:12:11.848Z"
   },
   {
    "duration": 895,
    "start_time": "2022-08-29T10:12:12.416Z"
   },
   {
    "duration": 157,
    "start_time": "2022-08-29T10:12:13.313Z"
   },
   {
    "duration": 11,
    "start_time": "2022-08-29T10:12:14.126Z"
   },
   {
    "duration": 471,
    "start_time": "2022-08-29T10:12:17.074Z"
   },
   {
    "duration": 9,
    "start_time": "2022-08-29T10:12:17.800Z"
   },
   {
    "duration": 21,
    "start_time": "2022-08-29T10:12:18.542Z"
   },
   {
    "duration": 18,
    "start_time": "2022-08-29T10:12:19.527Z"
   },
   {
    "duration": 61,
    "start_time": "2022-08-29T10:12:20.300Z"
   },
   {
    "duration": 15,
    "start_time": "2022-08-29T10:12:21.818Z"
   },
   {
    "duration": 60,
    "start_time": "2022-08-29T10:13:25.636Z"
   },
   {
    "duration": 4,
    "start_time": "2022-08-29T10:14:47.458Z"
   },
   {
    "duration": 4,
    "start_time": "2022-08-29T10:15:11.910Z"
   },
   {
    "duration": 3,
    "start_time": "2022-08-29T10:15:24.964Z"
   },
   {
    "duration": 42,
    "start_time": "2022-08-29T10:17:17.011Z"
   },
   {
    "duration": 18,
    "start_time": "2022-08-29T10:17:45.814Z"
   },
   {
    "duration": 808,
    "start_time": "2022-08-29T10:18:21.146Z"
   },
   {
    "duration": 155,
    "start_time": "2022-08-29T10:18:21.956Z"
   },
   {
    "duration": 15,
    "start_time": "2022-08-29T10:19:12.436Z"
   },
   {
    "duration": 1304,
    "start_time": "2022-08-29T10:23:43.225Z"
   },
   {
    "duration": 31,
    "start_time": "2022-08-29T10:23:44.530Z"
   },
   {
    "duration": 11,
    "start_time": "2022-08-29T10:23:44.562Z"
   },
   {
    "duration": 15,
    "start_time": "2022-08-29T10:23:44.574Z"
   },
   {
    "duration": 18,
    "start_time": "2022-08-29T10:23:44.592Z"
   },
   {
    "duration": 2,
    "start_time": "2022-08-29T10:23:44.611Z"
   },
   {
    "duration": 6,
    "start_time": "2022-08-29T10:23:44.615Z"
   },
   {
    "duration": 30,
    "start_time": "2022-08-29T10:23:44.622Z"
   },
   {
    "duration": 4,
    "start_time": "2022-08-29T10:23:44.654Z"
   },
   {
    "duration": 96,
    "start_time": "2022-08-29T10:23:44.659Z"
   },
   {
    "duration": 70,
    "start_time": "2022-08-29T10:23:44.757Z"
   },
   {
    "duration": 855,
    "start_time": "2022-08-29T10:23:44.828Z"
   },
   {
    "duration": 167,
    "start_time": "2022-08-29T10:23:45.685Z"
   },
   {
    "duration": 11,
    "start_time": "2022-08-29T10:23:45.855Z"
   },
   {
    "duration": 132,
    "start_time": "2022-08-29T10:23:45.868Z"
   },
   {
    "duration": 0,
    "start_time": "2022-08-29T10:23:46.002Z"
   },
   {
    "duration": 0,
    "start_time": "2022-08-29T10:23:46.011Z"
   },
   {
    "duration": 0,
    "start_time": "2022-08-29T10:23:46.012Z"
   },
   {
    "duration": 0,
    "start_time": "2022-08-29T10:23:46.014Z"
   },
   {
    "duration": 0,
    "start_time": "2022-08-29T10:23:46.015Z"
   },
   {
    "duration": 477,
    "start_time": "2022-08-29T10:24:21.152Z"
   },
   {
    "duration": 9,
    "start_time": "2022-08-29T10:24:22.450Z"
   },
   {
    "duration": 20,
    "start_time": "2022-08-29T10:24:23.713Z"
   },
   {
    "duration": 18,
    "start_time": "2022-08-29T10:24:26.376Z"
   },
   {
    "duration": 112,
    "start_time": "2022-08-29T10:24:27.356Z"
   },
   {
    "duration": 14,
    "start_time": "2022-08-29T10:24:28.686Z"
   },
   {
    "duration": 48,
    "start_time": "2022-08-29T10:27:53.509Z"
   },
   {
    "duration": 9,
    "start_time": "2022-08-29T10:27:58.204Z"
   },
   {
    "duration": 19,
    "start_time": "2022-08-29T10:28:03.060Z"
   },
   {
    "duration": 20,
    "start_time": "2022-08-29T10:28:18.004Z"
   },
   {
    "duration": 2759,
    "start_time": "2022-08-29T10:35:26.732Z"
   },
   {
    "duration": 126,
    "start_time": "2022-08-29T10:35:29.493Z"
   },
   {
    "duration": 13,
    "start_time": "2022-08-29T10:35:29.621Z"
   },
   {
    "duration": 41,
    "start_time": "2022-08-29T10:35:29.636Z"
   },
   {
    "duration": 46,
    "start_time": "2022-08-29T10:35:29.679Z"
   },
   {
    "duration": 4,
    "start_time": "2022-08-29T10:35:29.727Z"
   },
   {
    "duration": 22,
    "start_time": "2022-08-29T10:35:29.733Z"
   },
   {
    "duration": 62,
    "start_time": "2022-08-29T10:35:29.757Z"
   },
   {
    "duration": 10,
    "start_time": "2022-08-29T10:35:29.821Z"
   },
   {
    "duration": 4,
    "start_time": "2022-08-29T10:35:34.021Z"
   },
   {
    "duration": 4,
    "start_time": "2022-08-29T10:35:37.061Z"
   },
   {
    "duration": 4,
    "start_time": "2022-08-29T10:35:40.705Z"
   },
   {
    "duration": 55,
    "start_time": "2022-08-29T11:30:03.971Z"
   },
   {
    "duration": 4,
    "start_time": "2022-08-29T11:30:08.819Z"
   },
   {
    "duration": 31,
    "start_time": "2022-08-29T11:30:09.765Z"
   },
   {
    "duration": 10,
    "start_time": "2022-08-29T11:30:10.563Z"
   },
   {
    "duration": 14,
    "start_time": "2022-08-29T11:30:12.681Z"
   },
   {
    "duration": 19,
    "start_time": "2022-08-29T11:30:14.073Z"
   },
   {
    "duration": 4192,
    "start_time": "2022-08-29T11:30:15.214Z"
   },
   {
    "duration": 4305,
    "start_time": "2022-08-29T11:34:45.471Z"
   },
   {
    "duration": 4583,
    "start_time": "2022-08-29T11:34:59.520Z"
   },
   {
    "duration": 4493,
    "start_time": "2022-08-29T11:35:09.922Z"
   },
   {
    "duration": 9,
    "start_time": "2022-08-29T11:35:41.039Z"
   },
   {
    "duration": 1646,
    "start_time": "2022-08-29T11:37:12.862Z"
   },
   {
    "duration": 12,
    "start_time": "2022-08-29T11:38:52.749Z"
   },
   {
    "duration": 4404,
    "start_time": "2022-08-29T11:39:06.977Z"
   },
   {
    "duration": 4351,
    "start_time": "2022-08-29T11:39:23.459Z"
   },
   {
    "duration": 4302,
    "start_time": "2022-08-29T11:39:52.970Z"
   },
   {
    "duration": 289,
    "start_time": "2022-08-29T11:44:24.268Z"
   },
   {
    "duration": 324,
    "start_time": "2022-08-29T11:44:48.030Z"
   },
   {
    "duration": 8,
    "start_time": "2022-08-29T11:44:57.423Z"
   },
   {
    "duration": 3,
    "start_time": "2022-08-29T11:45:21.749Z"
   },
   {
    "duration": 30,
    "start_time": "2022-08-29T11:45:22.522Z"
   },
   {
    "duration": 10,
    "start_time": "2022-08-29T11:45:23.028Z"
   },
   {
    "duration": 10,
    "start_time": "2022-08-29T11:45:23.726Z"
   },
   {
    "duration": 25,
    "start_time": "2022-08-29T11:45:24.226Z"
   },
   {
    "duration": 4302,
    "start_time": "2022-08-29T11:45:24.876Z"
   },
   {
    "duration": 3,
    "start_time": "2022-08-29T11:45:29.180Z"
   },
   {
    "duration": 8,
    "start_time": "2022-08-29T11:45:29.184Z"
   },
   {
    "duration": 29,
    "start_time": "2022-08-29T11:45:29.326Z"
   },
   {
    "duration": 4,
    "start_time": "2022-08-29T11:45:32.271Z"
   },
   {
    "duration": 74,
    "start_time": "2022-08-29T11:45:33.239Z"
   },
   {
    "duration": 61,
    "start_time": "2022-08-29T11:45:35.185Z"
   },
   {
    "duration": 827,
    "start_time": "2022-08-29T11:45:36.923Z"
   },
   {
    "duration": 143,
    "start_time": "2022-08-29T11:45:37.826Z"
   },
   {
    "duration": 278,
    "start_time": "2022-08-29T11:45:44.673Z"
   },
   {
    "duration": 12,
    "start_time": "2022-08-29T11:45:50.349Z"
   },
   {
    "duration": 600,
    "start_time": "2022-08-29T11:45:56.449Z"
   },
   {
    "duration": 20,
    "start_time": "2022-08-29T11:45:57.310Z"
   },
   {
    "duration": 20,
    "start_time": "2022-08-29T11:45:58.030Z"
   },
   {
    "duration": 10,
    "start_time": "2022-08-29T11:45:58.737Z"
   },
   {
    "duration": 24,
    "start_time": "2022-08-29T11:45:59.418Z"
   },
   {
    "duration": 4,
    "start_time": "2022-08-29T11:50:57.810Z"
   },
   {
    "duration": 3,
    "start_time": "2022-08-29T11:50:59.426Z"
   },
   {
    "duration": 3,
    "start_time": "2022-08-29T11:51:43.975Z"
   },
   {
    "duration": 5,
    "start_time": "2022-08-29T11:52:40.425Z"
   },
   {
    "duration": 4,
    "start_time": "2022-08-29T11:52:49.895Z"
   },
   {
    "duration": 5,
    "start_time": "2022-08-29T11:55:23.663Z"
   },
   {
    "duration": 5,
    "start_time": "2022-08-29T11:56:04.378Z"
   },
   {
    "duration": 6,
    "start_time": "2022-08-29T11:56:35.058Z"
   },
   {
    "duration": 6,
    "start_time": "2022-08-29T11:56:56.056Z"
   },
   {
    "duration": 6,
    "start_time": "2022-08-29T11:57:21.931Z"
   },
   {
    "duration": 10,
    "start_time": "2022-08-29T11:58:33.152Z"
   },
   {
    "duration": 7,
    "start_time": "2022-08-29T11:58:44.817Z"
   },
   {
    "duration": 19,
    "start_time": "2022-08-29T12:01:10.186Z"
   },
   {
    "duration": 11,
    "start_time": "2022-08-29T12:01:41.367Z"
   },
   {
    "duration": 78,
    "start_time": "2022-08-29T12:06:12.054Z"
   },
   {
    "duration": 9,
    "start_time": "2022-08-29T12:21:09.926Z"
   },
   {
    "duration": 26,
    "start_time": "2022-08-29T12:21:50.311Z"
   },
   {
    "duration": 9,
    "start_time": "2022-08-29T12:22:52.955Z"
   },
   {
    "duration": 9,
    "start_time": "2022-08-29T12:22:54.120Z"
   },
   {
    "duration": 20,
    "start_time": "2022-08-29T12:23:02.133Z"
   },
   {
    "duration": 1404,
    "start_time": "2022-08-29T12:25:24.843Z"
   },
   {
    "duration": 30,
    "start_time": "2022-08-29T12:25:26.248Z"
   },
   {
    "duration": 9,
    "start_time": "2022-08-29T12:25:26.280Z"
   },
   {
    "duration": 14,
    "start_time": "2022-08-29T12:25:26.291Z"
   },
   {
    "duration": 19,
    "start_time": "2022-08-29T12:25:26.306Z"
   },
   {
    "duration": 4329,
    "start_time": "2022-08-29T12:25:26.326Z"
   },
   {
    "duration": 2,
    "start_time": "2022-08-29T12:25:30.657Z"
   },
   {
    "duration": 16,
    "start_time": "2022-08-29T12:25:30.660Z"
   },
   {
    "duration": 38,
    "start_time": "2022-08-29T12:25:30.677Z"
   },
   {
    "duration": 4,
    "start_time": "2022-08-29T12:25:30.717Z"
   },
   {
    "duration": 15,
    "start_time": "2022-08-29T12:25:30.722Z"
   },
   {
    "duration": 77,
    "start_time": "2022-08-29T12:25:30.738Z"
   },
   {
    "duration": 59,
    "start_time": "2022-08-29T12:25:30.816Z"
   },
   {
    "duration": 892,
    "start_time": "2022-08-29T12:25:30.876Z"
   },
   {
    "duration": 175,
    "start_time": "2022-08-29T12:25:31.769Z"
   },
   {
    "duration": 316,
    "start_time": "2022-08-29T12:25:31.946Z"
   },
   {
    "duration": 10,
    "start_time": "2022-08-29T12:25:32.264Z"
   },
   {
    "duration": 588,
    "start_time": "2022-08-29T12:25:32.276Z"
   },
   {
    "duration": 23,
    "start_time": "2022-08-29T12:25:32.866Z"
   },
   {
    "duration": 32,
    "start_time": "2022-08-29T12:25:32.890Z"
   },
   {
    "duration": 8,
    "start_time": "2022-08-29T12:25:32.924Z"
   },
   {
    "duration": 22,
    "start_time": "2022-08-29T12:25:32.933Z"
   },
   {
    "duration": 11,
    "start_time": "2022-08-29T12:25:32.956Z"
   }
  ],
  "kernelspec": {
   "display_name": "Python 3 (ipykernel)",
   "language": "python",
   "name": "python3"
  },
  "language_info": {
   "codemirror_mode": {
    "name": "ipython",
    "version": 3
   },
   "file_extension": ".py",
   "mimetype": "text/x-python",
   "name": "python",
   "nbconvert_exporter": "python",
   "pygments_lexer": "ipython3",
   "version": "3.8.10"
  },
  "toc": {
   "base_numbering": 1,
   "nav_menu": {},
   "number_sections": true,
   "sideBar": true,
   "skip_h1_title": true,
   "title_cell": "Table of Contents",
   "title_sidebar": "Contents",
   "toc_cell": false,
   "toc_position": {},
   "toc_section_display": true,
   "toc_window_display": false
  }
 },
 "nbformat": 4,
 "nbformat_minor": 2
}
