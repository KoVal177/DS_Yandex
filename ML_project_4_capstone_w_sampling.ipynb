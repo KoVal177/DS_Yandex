{
 "cells": [
  {
   "cell_type": "markdown",
   "metadata": {
    "toc": true
   },
   "source": [
    "<h1>Содержание<span class=\"tocSkip\"></span></h1>\n",
    "<div class=\"toc\"><ul class=\"toc-item\"><li><span><a href=\"#Подготовка-данных\" data-toc-modified-id=\"Подготовка-данных-1\"><span class=\"toc-item-num\">1&nbsp;&nbsp;</span>Подготовка данных</a></span></li><li><span><a href=\"#Анализ-данных\" data-toc-modified-id=\"Анализ-данных-2\"><span class=\"toc-item-num\">2&nbsp;&nbsp;</span>Анализ данных</a></span></li><li><span><a href=\"#Модель\" data-toc-modified-id=\"Модель-3\"><span class=\"toc-item-num\">3&nbsp;&nbsp;</span>Модель</a></span></li><li><span><a href=\"#Чек-лист-готовности-проекта\" data-toc-modified-id=\"Чек-лист-готовности-проекта-4\"><span class=\"toc-item-num\">4&nbsp;&nbsp;</span>Чек-лист готовности проекта</a></span></li></ul></div>"
   ]
  },
  {
   "cell_type": "markdown",
   "metadata": {},
   "source": [
    "# Восстановление золота из руды"
   ]
  },
  {
   "cell_type": "markdown",
   "metadata": {},
   "source": [
    "Подготовьте прототип модели машинного обучения для «Цифры». Компания разрабатывает решения для эффективной работы промышленных предприятий.\n",
    "\n",
    "Модель должна предсказать коэффициент восстановления золота из золотосодержащей руды. Используйте данные с параметрами добычи и очистки. \n",
    "\n",
    "Модель поможет оптимизировать производство, чтобы не запускать предприятие с убыточными характеристиками.\n",
    "\n",
    "Вам нужно:\n",
    "\n",
    "1. Подготовить данные;\n",
    "2. Провести исследовательский анализ данных;\n",
    "3. Построить и обучить модель.\n",
    "\n",
    "Чтобы выполнить проект, обращайтесь к библиотекам *pandas*, *matplotlib* и *sklearn.* Вам поможет их документация."
   ]
  },
  {
   "cell_type": "markdown",
   "metadata": {},
   "source": [
    "## Подготовка данных"
   ]
  },
  {
   "cell_type": "code",
   "execution_count": 1,
   "metadata": {},
   "outputs": [],
   "source": [
    "import pandas as pd\n",
    "import numpy as np\n",
    "import matplotlib.pyplot as plt\n",
    "import seaborn as sns\n",
    "\n",
    "from sklearn.model_selection import train_test_split\n",
    "from sklearn.metrics import make_scorer, f1_score, roc_auc_score, mean_absolute_error, r2_score\n",
    "from sklearn.preprocessing import StandardScaler\n",
    "from sklearn.utils import shuffle\n",
    "from sklearn.feature_selection import r_regression\n",
    "\n",
    "from sklearn.tree import DecisionTreeClassifier\n",
    "from sklearn.ensemble import RandomForestRegressor, GradientBoostingRegressor, VotingRegressor, AdaBoostRegressor\n",
    "from sklearn.linear_model import LinearRegression, Lasso\n",
    "from sklearn.model_selection import GridSearchCV, cross_validate, cross_val_score\n",
    "\n",
    "from sklearn.preprocessing import StandardScaler\n",
    "\n",
    "from sklearn.dummy import DummyRegressor\n",
    "\n",
    "RS = 12345\n",
    "pd.set_option('display.max_rows', None)\n",
    "pd.set_option('display.max_columns', None)\n"
   ]
  },
  {
   "cell_type": "code",
   "execution_count": 2,
   "metadata": {},
   "outputs": [],
   "source": [
    "STAGES = ('rougher', 'primary_cleaner', 'secondary_cleaner', 'final')\n",
    "\n",
    "METALS = ('au', 'ag', 'pb')\n",
    "\n",
    "SUBSTANCES = METALS + ('sol', )\n",
    "\n",
    "REGRESSORS = (\n",
    "    ('Linear Regression', LinearRegression, dict()),\n",
    "    #('Random Forrest', RandomForestRegressor, {'n_estimators': [10], 'random_state': [RS]}),\n",
    "    #('Gradient Boosting', GradientBoostingRegressor, {'random_state': [RS]}),\n",
    "    #('Ada Boost', AdaBoostRegressor, {'random_state': [RS]}),\n",
    "    ('Lasso', Lasso, dict()),\n",
    "    ('Dummy Regressor', DummyRegressor, {'strategy': ['mean', 'median']}) #, 'quantile', 'constant']})\n",
    ")"
   ]
  },
  {
   "cell_type": "code",
   "execution_count": null,
   "metadata": {},
   "outputs": [],
   "source": []
  },
  {
   "cell_type": "code",
   "execution_count": 3,
   "metadata": {},
   "outputs": [],
   "source": [
    "# input at practicum\n",
    "#data_train = pd.read_csv('/datasets/gold_recovery_train_new.csv')\n",
    "#data_test = pd.read_csv('/datasets/gold_recovery_test_new.csv')\n",
    "#data_initial = pd.read_csv('/datasets/gold_recovery_full_new.csv')\n",
    "\n",
    "# input local\n",
    "data_train = pd.read_csv('datasets/gold_recovery_train_new.csv')\n",
    "data_test = pd.read_csv('datasets/gold_recovery_test_new.csv')\n",
    "data_initial = pd.read_csv('datasets/gold_recovery_full_new.csv')\n"
   ]
  },
  {
   "cell_type": "code",
   "execution_count": null,
   "metadata": {},
   "outputs": [],
   "source": []
  },
  {
   "cell_type": "code",
   "execution_count": 4,
   "metadata": {},
   "outputs": [
    {
     "name": "stdout",
     "output_type": "stream",
     "text": [
      "(14149, 87)\n",
      "(5290, 53)\n",
      "(19439, 87)\n"
     ]
    }
   ],
   "source": [
    "for df in (data_train, data_test, data_initial):\n",
    "    print(df.shape)"
   ]
  },
  {
   "cell_type": "code",
   "execution_count": 5,
   "metadata": {
    "scrolled": true
   },
   "outputs": [
    {
     "name": "stdout",
     "output_type": "stream",
     "text": [
      "<class 'pandas.core.frame.DataFrame'>\n",
      "RangeIndex: 5290 entries, 0 to 5289\n",
      "Data columns (total 53 columns):\n",
      " #   Column                                      Non-Null Count  Dtype  \n",
      "---  ------                                      --------------  -----  \n",
      " 0   date                                        5290 non-null   object \n",
      " 1   primary_cleaner.input.sulfate               5286 non-null   float64\n",
      " 2   primary_cleaner.input.depressant            5285 non-null   float64\n",
      " 3   primary_cleaner.input.feed_size             5290 non-null   float64\n",
      " 4   primary_cleaner.input.xanthate              5286 non-null   float64\n",
      " 5   primary_cleaner.state.floatbank8_a_air      5290 non-null   float64\n",
      " 6   primary_cleaner.state.floatbank8_a_level    5290 non-null   float64\n",
      " 7   primary_cleaner.state.floatbank8_b_air      5290 non-null   float64\n",
      " 8   primary_cleaner.state.floatbank8_b_level    5290 non-null   float64\n",
      " 9   primary_cleaner.state.floatbank8_c_air      5290 non-null   float64\n",
      " 10  primary_cleaner.state.floatbank8_c_level    5290 non-null   float64\n",
      " 11  primary_cleaner.state.floatbank8_d_air      5290 non-null   float64\n",
      " 12  primary_cleaner.state.floatbank8_d_level    5290 non-null   float64\n",
      " 13  rougher.input.feed_ag                       5290 non-null   float64\n",
      " 14  rougher.input.feed_pb                       5290 non-null   float64\n",
      " 15  rougher.input.feed_rate                     5287 non-null   float64\n",
      " 16  rougher.input.feed_size                     5289 non-null   float64\n",
      " 17  rougher.input.feed_sol                      5269 non-null   float64\n",
      " 18  rougher.input.feed_au                       5290 non-null   float64\n",
      " 19  rougher.input.floatbank10_sulfate           5285 non-null   float64\n",
      " 20  rougher.input.floatbank10_xanthate          5290 non-null   float64\n",
      " 21  rougher.input.floatbank11_sulfate           5282 non-null   float64\n",
      " 22  rougher.input.floatbank11_xanthate          5265 non-null   float64\n",
      " 23  rougher.state.floatbank10_a_air             5290 non-null   float64\n",
      " 24  rougher.state.floatbank10_a_level           5290 non-null   float64\n",
      " 25  rougher.state.floatbank10_b_air             5290 non-null   float64\n",
      " 26  rougher.state.floatbank10_b_level           5290 non-null   float64\n",
      " 27  rougher.state.floatbank10_c_air             5290 non-null   float64\n",
      " 28  rougher.state.floatbank10_c_level           5290 non-null   float64\n",
      " 29  rougher.state.floatbank10_d_air             5290 non-null   float64\n",
      " 30  rougher.state.floatbank10_d_level           5290 non-null   float64\n",
      " 31  rougher.state.floatbank10_e_air             5290 non-null   float64\n",
      " 32  rougher.state.floatbank10_e_level           5290 non-null   float64\n",
      " 33  rougher.state.floatbank10_f_air             5290 non-null   float64\n",
      " 34  rougher.state.floatbank10_f_level           5290 non-null   float64\n",
      " 35  secondary_cleaner.state.floatbank2_a_air    5287 non-null   float64\n",
      " 36  secondary_cleaner.state.floatbank2_a_level  5290 non-null   float64\n",
      " 37  secondary_cleaner.state.floatbank2_b_air    5288 non-null   float64\n",
      " 38  secondary_cleaner.state.floatbank2_b_level  5290 non-null   float64\n",
      " 39  secondary_cleaner.state.floatbank3_a_air    5281 non-null   float64\n",
      " 40  secondary_cleaner.state.floatbank3_a_level  5290 non-null   float64\n",
      " 41  secondary_cleaner.state.floatbank3_b_air    5290 non-null   float64\n",
      " 42  secondary_cleaner.state.floatbank3_b_level  5290 non-null   float64\n",
      " 43  secondary_cleaner.state.floatbank4_a_air    5290 non-null   float64\n",
      " 44  secondary_cleaner.state.floatbank4_a_level  5290 non-null   float64\n",
      " 45  secondary_cleaner.state.floatbank4_b_air    5290 non-null   float64\n",
      " 46  secondary_cleaner.state.floatbank4_b_level  5290 non-null   float64\n",
      " 47  secondary_cleaner.state.floatbank5_a_air    5290 non-null   float64\n",
      " 48  secondary_cleaner.state.floatbank5_a_level  5290 non-null   float64\n",
      " 49  secondary_cleaner.state.floatbank5_b_air    5290 non-null   float64\n",
      " 50  secondary_cleaner.state.floatbank5_b_level  5290 non-null   float64\n",
      " 51  secondary_cleaner.state.floatbank6_a_air    5290 non-null   float64\n",
      " 52  secondary_cleaner.state.floatbank6_a_level  5290 non-null   float64\n",
      "dtypes: float64(52), object(1)\n",
      "memory usage: 2.1+ MB\n"
     ]
    }
   ],
   "source": [
    "data_test.info()"
   ]
  },
  {
   "cell_type": "code",
   "execution_count": 6,
   "metadata": {
    "scrolled": true
   },
   "outputs": [
    {
     "name": "stdout",
     "output_type": "stream",
     "text": [
      "<class 'pandas.core.frame.DataFrame'>\n",
      "RangeIndex: 14149 entries, 0 to 14148\n",
      "Data columns (total 87 columns):\n",
      " #   Column                                              Non-Null Count  Dtype  \n",
      "---  ------                                              --------------  -----  \n",
      " 0   date                                                14149 non-null  object \n",
      " 1   final.output.concentrate_ag                         14148 non-null  float64\n",
      " 2   final.output.concentrate_pb                         14148 non-null  float64\n",
      " 3   final.output.concentrate_sol                        13938 non-null  float64\n",
      " 4   final.output.concentrate_au                         14149 non-null  float64\n",
      " 5   final.output.recovery                               14149 non-null  float64\n",
      " 6   final.output.tail_ag                                14149 non-null  float64\n",
      " 7   final.output.tail_pb                                14049 non-null  float64\n",
      " 8   final.output.tail_sol                               14144 non-null  float64\n",
      " 9   final.output.tail_au                                14149 non-null  float64\n",
      " 10  primary_cleaner.input.sulfate                       14129 non-null  float64\n",
      " 11  primary_cleaner.input.depressant                    14117 non-null  float64\n",
      " 12  primary_cleaner.input.feed_size                     14149 non-null  float64\n",
      " 13  primary_cleaner.input.xanthate                      14049 non-null  float64\n",
      " 14  primary_cleaner.output.concentrate_ag               14149 non-null  float64\n",
      " 15  primary_cleaner.output.concentrate_pb               14063 non-null  float64\n",
      " 16  primary_cleaner.output.concentrate_sol              13863 non-null  float64\n",
      " 17  primary_cleaner.output.concentrate_au               14149 non-null  float64\n",
      " 18  primary_cleaner.output.tail_ag                      14148 non-null  float64\n",
      " 19  primary_cleaner.output.tail_pb                      14134 non-null  float64\n",
      " 20  primary_cleaner.output.tail_sol                     14103 non-null  float64\n",
      " 21  primary_cleaner.output.tail_au                      14149 non-null  float64\n",
      " 22  primary_cleaner.state.floatbank8_a_air              14145 non-null  float64\n",
      " 23  primary_cleaner.state.floatbank8_a_level            14148 non-null  float64\n",
      " 24  primary_cleaner.state.floatbank8_b_air              14145 non-null  float64\n",
      " 25  primary_cleaner.state.floatbank8_b_level            14148 non-null  float64\n",
      " 26  primary_cleaner.state.floatbank8_c_air              14147 non-null  float64\n",
      " 27  primary_cleaner.state.floatbank8_c_level            14148 non-null  float64\n",
      " 28  primary_cleaner.state.floatbank8_d_air              14146 non-null  float64\n",
      " 29  primary_cleaner.state.floatbank8_d_level            14148 non-null  float64\n",
      " 30  rougher.calculation.sulfate_to_au_concentrate       14148 non-null  float64\n",
      " 31  rougher.calculation.floatbank10_sulfate_to_au_feed  14148 non-null  float64\n",
      " 32  rougher.calculation.floatbank11_sulfate_to_au_feed  14148 non-null  float64\n",
      " 33  rougher.calculation.au_pb_ratio                     14149 non-null  float64\n",
      " 34  rougher.input.feed_ag                               14149 non-null  float64\n",
      " 35  rougher.input.feed_pb                               14049 non-null  float64\n",
      " 36  rougher.input.feed_rate                             14141 non-null  float64\n",
      " 37  rougher.input.feed_size                             14005 non-null  float64\n",
      " 38  rougher.input.feed_sol                              14071 non-null  float64\n",
      " 39  rougher.input.feed_au                               14149 non-null  float64\n",
      " 40  rougher.input.floatbank10_sulfate                   14120 non-null  float64\n",
      " 41  rougher.input.floatbank10_xanthate                  14141 non-null  float64\n",
      " 42  rougher.input.floatbank11_sulfate                   14113 non-null  float64\n",
      " 43  rougher.input.floatbank11_xanthate                  13721 non-null  float64\n",
      " 44  rougher.output.concentrate_ag                       14149 non-null  float64\n",
      " 45  rougher.output.concentrate_pb                       14149 non-null  float64\n",
      " 46  rougher.output.concentrate_sol                      14127 non-null  float64\n",
      " 47  rougher.output.concentrate_au                       14149 non-null  float64\n",
      " 48  rougher.output.recovery                             14149 non-null  float64\n",
      " 49  rougher.output.tail_ag                              14148 non-null  float64\n",
      " 50  rougher.output.tail_pb                              14149 non-null  float64\n",
      " 51  rougher.output.tail_sol                             14149 non-null  float64\n",
      " 52  rougher.output.tail_au                              14149 non-null  float64\n",
      " 53  rougher.state.floatbank10_a_air                     14148 non-null  float64\n",
      " 54  rougher.state.floatbank10_a_level                   14148 non-null  float64\n",
      " 55  rougher.state.floatbank10_b_air                     14148 non-null  float64\n",
      " 56  rougher.state.floatbank10_b_level                   14148 non-null  float64\n",
      " 57  rougher.state.floatbank10_c_air                     14148 non-null  float64\n",
      " 58  rougher.state.floatbank10_c_level                   14148 non-null  float64\n",
      " 59  rougher.state.floatbank10_d_air                     14149 non-null  float64\n",
      " 60  rougher.state.floatbank10_d_level                   14149 non-null  float64\n",
      " 61  rougher.state.floatbank10_e_air                     13713 non-null  float64\n",
      " 62  rougher.state.floatbank10_e_level                   14149 non-null  float64\n",
      " 63  rougher.state.floatbank10_f_air                     14149 non-null  float64\n",
      " 64  rougher.state.floatbank10_f_level                   14149 non-null  float64\n",
      " 65  secondary_cleaner.output.tail_ag                    14147 non-null  float64\n",
      " 66  secondary_cleaner.output.tail_pb                    14139 non-null  float64\n",
      " 67  secondary_cleaner.output.tail_sol                   12544 non-null  float64\n",
      " 68  secondary_cleaner.output.tail_au                    14149 non-null  float64\n",
      " 69  secondary_cleaner.state.floatbank2_a_air            13932 non-null  float64\n",
      " 70  secondary_cleaner.state.floatbank2_a_level          14148 non-null  float64\n",
      " 71  secondary_cleaner.state.floatbank2_b_air            14128 non-null  float64\n",
      " 72  secondary_cleaner.state.floatbank2_b_level          14148 non-null  float64\n",
      " 73  secondary_cleaner.state.floatbank3_a_air            14145 non-null  float64\n",
      " 74  secondary_cleaner.state.floatbank3_a_level          14148 non-null  float64\n",
      " 75  secondary_cleaner.state.floatbank3_b_air            14148 non-null  float64\n",
      " 76  secondary_cleaner.state.floatbank3_b_level          14148 non-null  float64\n",
      " 77  secondary_cleaner.state.floatbank4_a_air            14143 non-null  float64\n",
      " 78  secondary_cleaner.state.floatbank4_a_level          14148 non-null  float64\n",
      " 79  secondary_cleaner.state.floatbank4_b_air            14148 non-null  float64\n",
      " 80  secondary_cleaner.state.floatbank4_b_level          14148 non-null  float64\n",
      " 81  secondary_cleaner.state.floatbank5_a_air            14148 non-null  float64\n",
      " 82  secondary_cleaner.state.floatbank5_a_level          14148 non-null  float64\n",
      " 83  secondary_cleaner.state.floatbank5_b_air            14148 non-null  float64\n",
      " 84  secondary_cleaner.state.floatbank5_b_level          14148 non-null  float64\n",
      " 85  secondary_cleaner.state.floatbank6_a_air            14147 non-null  float64\n",
      " 86  secondary_cleaner.state.floatbank6_a_level          14148 non-null  float64\n",
      "dtypes: float64(86), object(1)\n",
      "memory usage: 9.4+ MB\n"
     ]
    }
   ],
   "source": [
    "data_train.info()"
   ]
  },
  {
   "cell_type": "code",
   "execution_count": 7,
   "metadata": {
    "scrolled": false
   },
   "outputs": [
    {
     "data": {
      "text/plain": [
       "{'final.output.concentrate_ag',\n",
       " 'final.output.concentrate_au',\n",
       " 'final.output.concentrate_pb',\n",
       " 'final.output.concentrate_sol',\n",
       " 'final.output.recovery',\n",
       " 'final.output.tail_ag',\n",
       " 'final.output.tail_au',\n",
       " 'final.output.tail_pb',\n",
       " 'final.output.tail_sol',\n",
       " 'primary_cleaner.output.concentrate_ag',\n",
       " 'primary_cleaner.output.concentrate_au',\n",
       " 'primary_cleaner.output.concentrate_pb',\n",
       " 'primary_cleaner.output.concentrate_sol',\n",
       " 'primary_cleaner.output.tail_ag',\n",
       " 'primary_cleaner.output.tail_au',\n",
       " 'primary_cleaner.output.tail_pb',\n",
       " 'primary_cleaner.output.tail_sol',\n",
       " 'rougher.calculation.au_pb_ratio',\n",
       " 'rougher.calculation.floatbank10_sulfate_to_au_feed',\n",
       " 'rougher.calculation.floatbank11_sulfate_to_au_feed',\n",
       " 'rougher.calculation.sulfate_to_au_concentrate',\n",
       " 'rougher.output.concentrate_ag',\n",
       " 'rougher.output.concentrate_au',\n",
       " 'rougher.output.concentrate_pb',\n",
       " 'rougher.output.concentrate_sol',\n",
       " 'rougher.output.recovery',\n",
       " 'rougher.output.tail_ag',\n",
       " 'rougher.output.tail_au',\n",
       " 'rougher.output.tail_pb',\n",
       " 'rougher.output.tail_sol',\n",
       " 'secondary_cleaner.output.tail_ag',\n",
       " 'secondary_cleaner.output.tail_au',\n",
       " 'secondary_cleaner.output.tail_pb',\n",
       " 'secondary_cleaner.output.tail_sol'}"
      ]
     },
     "execution_count": 7,
     "metadata": {},
     "output_type": "execute_result"
    }
   ],
   "source": [
    "set(data_train.columns) - set(data_test.columns)"
   ]
  },
  {
   "cell_type": "code",
   "execution_count": 8,
   "metadata": {},
   "outputs": [
    {
     "data": {
      "text/plain": [
       "[]"
      ]
     },
     "execution_count": 8,
     "metadata": {},
     "output_type": "execute_result"
    }
   ],
   "source": [
    "# проверка наличия слов 'output' и 'calculation' в тестовой выборке\n",
    "\n",
    "list(\n",
    "    filter(\n",
    "        lambda x: ('output' in x) or ('calculation' in x),\n",
    "        data_test.columns\n",
    "    )\n",
    ")"
   ]
  },
  {
   "cell_type": "code",
   "execution_count": null,
   "metadata": {},
   "outputs": [],
   "source": []
  },
  {
   "cell_type": "markdown",
   "metadata": {},
   "source": [
    "Работа с NaN "
   ]
  },
  {
   "cell_type": "code",
   "execution_count": 9,
   "metadata": {},
   "outputs": [],
   "source": [
    "features_final = [\n",
    " 'primary_cleaner.input.depressant',\n",
    " 'primary_cleaner.input.feed_size',\n",
    " 'primary_cleaner.input.sulfate',\n",
    " 'primary_cleaner.input.xanthate',\n",
    " 'primary_cleaner.state.floatbank8_a_air',\n",
    " 'primary_cleaner.state.floatbank8_a_level',\n",
    " 'primary_cleaner.state.floatbank8_b_air',\n",
    " 'primary_cleaner.state.floatbank8_b_level',\n",
    " 'primary_cleaner.state.floatbank8_c_air',\n",
    " 'primary_cleaner.state.floatbank8_c_level',\n",
    " 'primary_cleaner.state.floatbank8_d_air',\n",
    " 'primary_cleaner.state.floatbank8_d_level',\n",
    " 'rougher.input.feed_ag',\n",
    " 'rougher.input.feed_au',\n",
    " 'rougher.input.feed_pb',\n",
    " 'rougher.input.feed_rate',\n",
    " 'rougher.input.feed_size',\n",
    " 'rougher.input.feed_sol',\n",
    " 'rougher.input.floatbank10_sulfate',\n",
    " 'rougher.input.floatbank10_xanthate',\n",
    " 'rougher.input.floatbank11_sulfate',\n",
    " 'rougher.input.floatbank11_xanthate',\n",
    " 'rougher.state.floatbank10_a_air',\n",
    " 'rougher.state.floatbank10_a_level',\n",
    " 'rougher.state.floatbank10_b_air',\n",
    " 'rougher.state.floatbank10_b_level',\n",
    " 'rougher.state.floatbank10_c_air',\n",
    " 'rougher.state.floatbank10_c_level',\n",
    " 'rougher.state.floatbank10_d_air',\n",
    " 'rougher.state.floatbank10_d_level',\n",
    " 'rougher.state.floatbank10_e_air',\n",
    " 'rougher.state.floatbank10_e_level',\n",
    " 'rougher.state.floatbank10_f_air',\n",
    " 'rougher.state.floatbank10_f_level',\n",
    " 'secondary_cleaner.state.floatbank2_a_air',\n",
    " 'secondary_cleaner.state.floatbank2_a_level',\n",
    " 'secondary_cleaner.state.floatbank2_b_air',\n",
    " 'secondary_cleaner.state.floatbank2_b_level',\n",
    " 'secondary_cleaner.state.floatbank3_a_air',\n",
    " 'secondary_cleaner.state.floatbank3_a_level',\n",
    " 'secondary_cleaner.state.floatbank3_b_air',\n",
    " 'secondary_cleaner.state.floatbank3_b_level',\n",
    " 'secondary_cleaner.state.floatbank4_a_air',\n",
    " 'secondary_cleaner.state.floatbank4_a_level',\n",
    " 'secondary_cleaner.state.floatbank4_b_air',\n",
    " 'secondary_cleaner.state.floatbank4_b_level',\n",
    " 'secondary_cleaner.state.floatbank5_a_air',\n",
    " 'secondary_cleaner.state.floatbank5_a_level',\n",
    " 'secondary_cleaner.state.floatbank5_b_air',\n",
    " 'secondary_cleaner.state.floatbank5_b_level',\n",
    " 'secondary_cleaner.state.floatbank6_a_air',\n",
    " 'secondary_cleaner.state.floatbank6_a_level',\n",
    "]\n",
    "targets_final = ['final.output.recovery']"
   ]
  },
  {
   "cell_type": "code",
   "execution_count": 10,
   "metadata": {},
   "outputs": [],
   "source": [
    "features_rougher = [\n",
    "    'rougher.input.feed_ag',\n",
    "    'rougher.input.feed_au',\n",
    "    'rougher.input.feed_pb',\n",
    "    'rougher.input.feed_rate',\n",
    "    'rougher.input.feed_size',\n",
    "    'rougher.input.feed_sol',\n",
    "    'rougher.input.floatbank10_sulfate',\n",
    "    'rougher.input.floatbank10_xanthate',\n",
    "    'rougher.input.floatbank11_sulfate',\n",
    "    'rougher.input.floatbank11_xanthate',\n",
    "    'rougher.state.floatbank10_a_air',\n",
    "    'rougher.state.floatbank10_a_level',\n",
    "    'rougher.state.floatbank10_b_air',\n",
    "    'rougher.state.floatbank10_b_level',\n",
    "    'rougher.state.floatbank10_c_air',\n",
    "    'rougher.state.floatbank10_c_level',\n",
    "    'rougher.state.floatbank10_d_air',\n",
    "    'rougher.state.floatbank10_d_level',\n",
    "    'rougher.state.floatbank10_e_air',\n",
    "    'rougher.state.floatbank10_e_level',\n",
    "    'rougher.state.floatbank10_f_air',\n",
    "    'rougher.state.floatbank10_f_level',\n",
    "]\n",
    "targets_rougher = ['rougher.output.recovery']"
   ]
  },
  {
   "cell_type": "code",
   "execution_count": null,
   "metadata": {},
   "outputs": [],
   "source": []
  },
  {
   "cell_type": "code",
   "execution_count": 11,
   "metadata": {},
   "outputs": [
    {
     "name": "stdout",
     "output_type": "stream",
     "text": [
      "<class 'pandas.core.frame.DataFrame'>\n",
      "Int64Index: 5229 entries, 0 to 5289\n",
      "Data columns (total 53 columns):\n",
      " #   Column                                      Non-Null Count  Dtype  \n",
      "---  ------                                      --------------  -----  \n",
      " 0   date                                        5229 non-null   object \n",
      " 1   primary_cleaner.input.sulfate               5229 non-null   float64\n",
      " 2   primary_cleaner.input.depressant            5229 non-null   float64\n",
      " 3   primary_cleaner.input.feed_size             5229 non-null   float64\n",
      " 4   primary_cleaner.input.xanthate              5229 non-null   float64\n",
      " 5   primary_cleaner.state.floatbank8_a_air      5229 non-null   float64\n",
      " 6   primary_cleaner.state.floatbank8_a_level    5229 non-null   float64\n",
      " 7   primary_cleaner.state.floatbank8_b_air      5229 non-null   float64\n",
      " 8   primary_cleaner.state.floatbank8_b_level    5229 non-null   float64\n",
      " 9   primary_cleaner.state.floatbank8_c_air      5229 non-null   float64\n",
      " 10  primary_cleaner.state.floatbank8_c_level    5229 non-null   float64\n",
      " 11  primary_cleaner.state.floatbank8_d_air      5229 non-null   float64\n",
      " 12  primary_cleaner.state.floatbank8_d_level    5229 non-null   float64\n",
      " 13  rougher.input.feed_ag                       5229 non-null   float64\n",
      " 14  rougher.input.feed_pb                       5229 non-null   float64\n",
      " 15  rougher.input.feed_rate                     5229 non-null   float64\n",
      " 16  rougher.input.feed_size                     5229 non-null   float64\n",
      " 17  rougher.input.feed_sol                      5229 non-null   float64\n",
      " 18  rougher.input.feed_au                       5229 non-null   float64\n",
      " 19  rougher.input.floatbank10_sulfate           5229 non-null   float64\n",
      " 20  rougher.input.floatbank10_xanthate          5229 non-null   float64\n",
      " 21  rougher.input.floatbank11_sulfate           5229 non-null   float64\n",
      " 22  rougher.input.floatbank11_xanthate          5229 non-null   float64\n",
      " 23  rougher.state.floatbank10_a_air             5229 non-null   float64\n",
      " 24  rougher.state.floatbank10_a_level           5229 non-null   float64\n",
      " 25  rougher.state.floatbank10_b_air             5229 non-null   float64\n",
      " 26  rougher.state.floatbank10_b_level           5229 non-null   float64\n",
      " 27  rougher.state.floatbank10_c_air             5229 non-null   float64\n",
      " 28  rougher.state.floatbank10_c_level           5229 non-null   float64\n",
      " 29  rougher.state.floatbank10_d_air             5229 non-null   float64\n",
      " 30  rougher.state.floatbank10_d_level           5229 non-null   float64\n",
      " 31  rougher.state.floatbank10_e_air             5229 non-null   float64\n",
      " 32  rougher.state.floatbank10_e_level           5229 non-null   float64\n",
      " 33  rougher.state.floatbank10_f_air             5229 non-null   float64\n",
      " 34  rougher.state.floatbank10_f_level           5229 non-null   float64\n",
      " 35  secondary_cleaner.state.floatbank2_a_air    5229 non-null   float64\n",
      " 36  secondary_cleaner.state.floatbank2_a_level  5229 non-null   float64\n",
      " 37  secondary_cleaner.state.floatbank2_b_air    5229 non-null   float64\n",
      " 38  secondary_cleaner.state.floatbank2_b_level  5229 non-null   float64\n",
      " 39  secondary_cleaner.state.floatbank3_a_air    5229 non-null   float64\n",
      " 40  secondary_cleaner.state.floatbank3_a_level  5229 non-null   float64\n",
      " 41  secondary_cleaner.state.floatbank3_b_air    5229 non-null   float64\n",
      " 42  secondary_cleaner.state.floatbank3_b_level  5229 non-null   float64\n",
      " 43  secondary_cleaner.state.floatbank4_a_air    5229 non-null   float64\n",
      " 44  secondary_cleaner.state.floatbank4_a_level  5229 non-null   float64\n",
      " 45  secondary_cleaner.state.floatbank4_b_air    5229 non-null   float64\n",
      " 46  secondary_cleaner.state.floatbank4_b_level  5229 non-null   float64\n",
      " 47  secondary_cleaner.state.floatbank5_a_air    5229 non-null   float64\n",
      " 48  secondary_cleaner.state.floatbank5_a_level  5229 non-null   float64\n",
      " 49  secondary_cleaner.state.floatbank5_b_air    5229 non-null   float64\n",
      " 50  secondary_cleaner.state.floatbank5_b_level  5229 non-null   float64\n",
      " 51  secondary_cleaner.state.floatbank6_a_air    5229 non-null   float64\n",
      " 52  secondary_cleaner.state.floatbank6_a_level  5229 non-null   float64\n",
      "dtypes: float64(52), object(1)\n",
      "memory usage: 2.2+ MB\n"
     ]
    }
   ],
   "source": [
    "data_test = data_test.dropna(axis=0, subset=['date'] + features_final)\n",
    "data_test.info()"
   ]
  },
  {
   "cell_type": "code",
   "execution_count": 12,
   "metadata": {},
   "outputs": [
    {
     "name": "stdout",
     "output_type": "stream",
     "text": [
      "<class 'pandas.core.frame.DataFrame'>\n",
      "Int64Index: 12679 entries, 0 to 14148\n",
      "Data columns (total 87 columns):\n",
      " #   Column                                              Non-Null Count  Dtype  \n",
      "---  ------                                              --------------  -----  \n",
      " 0   date                                                12679 non-null  object \n",
      " 1   final.output.concentrate_ag                         12678 non-null  float64\n",
      " 2   final.output.concentrate_pb                         12678 non-null  float64\n",
      " 3   final.output.concentrate_sol                        12487 non-null  float64\n",
      " 4   final.output.concentrate_au                         12679 non-null  float64\n",
      " 5   final.output.recovery                               12679 non-null  float64\n",
      " 6   final.output.tail_ag                                12679 non-null  float64\n",
      " 7   final.output.tail_pb                                12663 non-null  float64\n",
      " 8   final.output.tail_sol                               12677 non-null  float64\n",
      " 9   final.output.tail_au                                12679 non-null  float64\n",
      " 10  primary_cleaner.input.sulfate                       12679 non-null  float64\n",
      " 11  primary_cleaner.input.depressant                    12679 non-null  float64\n",
      " 12  primary_cleaner.input.feed_size                     12679 non-null  float64\n",
      " 13  primary_cleaner.input.xanthate                      12679 non-null  float64\n",
      " 14  primary_cleaner.output.concentrate_ag               12679 non-null  float64\n",
      " 15  primary_cleaner.output.concentrate_pb               12613 non-null  float64\n",
      " 16  primary_cleaner.output.concentrate_sol              12500 non-null  float64\n",
      " 17  primary_cleaner.output.concentrate_au               12679 non-null  float64\n",
      " 18  primary_cleaner.output.tail_ag                      12678 non-null  float64\n",
      " 19  primary_cleaner.output.tail_pb                      12664 non-null  float64\n",
      " 20  primary_cleaner.output.tail_sol                     12644 non-null  float64\n",
      " 21  primary_cleaner.output.tail_au                      12679 non-null  float64\n",
      " 22  primary_cleaner.state.floatbank8_a_air              12679 non-null  float64\n",
      " 23  primary_cleaner.state.floatbank8_a_level            12679 non-null  float64\n",
      " 24  primary_cleaner.state.floatbank8_b_air              12679 non-null  float64\n",
      " 25  primary_cleaner.state.floatbank8_b_level            12679 non-null  float64\n",
      " 26  primary_cleaner.state.floatbank8_c_air              12679 non-null  float64\n",
      " 27  primary_cleaner.state.floatbank8_c_level            12679 non-null  float64\n",
      " 28  primary_cleaner.state.floatbank8_d_air              12679 non-null  float64\n",
      " 29  primary_cleaner.state.floatbank8_d_level            12679 non-null  float64\n",
      " 30  rougher.calculation.sulfate_to_au_concentrate       12679 non-null  float64\n",
      " 31  rougher.calculation.floatbank10_sulfate_to_au_feed  12679 non-null  float64\n",
      " 32  rougher.calculation.floatbank11_sulfate_to_au_feed  12679 non-null  float64\n",
      " 33  rougher.calculation.au_pb_ratio                     12679 non-null  float64\n",
      " 34  rougher.input.feed_ag                               12679 non-null  float64\n",
      " 35  rougher.input.feed_pb                               12679 non-null  float64\n",
      " 36  rougher.input.feed_rate                             12679 non-null  float64\n",
      " 37  rougher.input.feed_size                             12679 non-null  float64\n",
      " 38  rougher.input.feed_sol                              12679 non-null  float64\n",
      " 39  rougher.input.feed_au                               12679 non-null  float64\n",
      " 40  rougher.input.floatbank10_sulfate                   12679 non-null  float64\n",
      " 41  rougher.input.floatbank10_xanthate                  12679 non-null  float64\n",
      " 42  rougher.input.floatbank11_sulfate                   12679 non-null  float64\n",
      " 43  rougher.input.floatbank11_xanthate                  12679 non-null  float64\n",
      " 44  rougher.output.concentrate_ag                       12679 non-null  float64\n",
      " 45  rougher.output.concentrate_pb                       12679 non-null  float64\n",
      " 46  rougher.output.concentrate_sol                      12663 non-null  float64\n",
      " 47  rougher.output.concentrate_au                       12679 non-null  float64\n",
      " 48  rougher.output.recovery                             12679 non-null  float64\n",
      " 49  rougher.output.tail_ag                              12678 non-null  float64\n",
      " 50  rougher.output.tail_pb                              12679 non-null  float64\n",
      " 51  rougher.output.tail_sol                             12679 non-null  float64\n",
      " 52  rougher.output.tail_au                              12679 non-null  float64\n",
      " 53  rougher.state.floatbank10_a_air                     12679 non-null  float64\n",
      " 54  rougher.state.floatbank10_a_level                   12679 non-null  float64\n",
      " 55  rougher.state.floatbank10_b_air                     12679 non-null  float64\n",
      " 56  rougher.state.floatbank10_b_level                   12679 non-null  float64\n",
      " 57  rougher.state.floatbank10_c_air                     12679 non-null  float64\n",
      " 58  rougher.state.floatbank10_c_level                   12679 non-null  float64\n",
      " 59  rougher.state.floatbank10_d_air                     12679 non-null  float64\n",
      " 60  rougher.state.floatbank10_d_level                   12679 non-null  float64\n",
      " 61  rougher.state.floatbank10_e_air                     12679 non-null  float64\n",
      " 62  rougher.state.floatbank10_e_level                   12679 non-null  float64\n",
      " 63  rougher.state.floatbank10_f_air                     12679 non-null  float64\n",
      " 64  rougher.state.floatbank10_f_level                   12679 non-null  float64\n",
      " 65  secondary_cleaner.output.tail_ag                    12678 non-null  float64\n",
      " 66  secondary_cleaner.output.tail_pb                    12670 non-null  float64\n",
      " 67  secondary_cleaner.output.tail_sol                   11379 non-null  float64\n",
      " 68  secondary_cleaner.output.tail_au                    12679 non-null  float64\n",
      " 69  secondary_cleaner.state.floatbank2_a_air            12679 non-null  float64\n",
      " 70  secondary_cleaner.state.floatbank2_a_level          12679 non-null  float64\n",
      " 71  secondary_cleaner.state.floatbank2_b_air            12679 non-null  float64\n",
      " 72  secondary_cleaner.state.floatbank2_b_level          12679 non-null  float64\n",
      " 73  secondary_cleaner.state.floatbank3_a_air            12679 non-null  float64\n",
      " 74  secondary_cleaner.state.floatbank3_a_level          12679 non-null  float64\n",
      " 75  secondary_cleaner.state.floatbank3_b_air            12679 non-null  float64\n",
      " 76  secondary_cleaner.state.floatbank3_b_level          12679 non-null  float64\n",
      " 77  secondary_cleaner.state.floatbank4_a_air            12679 non-null  float64\n",
      " 78  secondary_cleaner.state.floatbank4_a_level          12679 non-null  float64\n",
      " 79  secondary_cleaner.state.floatbank4_b_air            12679 non-null  float64\n",
      " 80  secondary_cleaner.state.floatbank4_b_level          12679 non-null  float64\n",
      " 81  secondary_cleaner.state.floatbank5_a_air            12679 non-null  float64\n",
      " 82  secondary_cleaner.state.floatbank5_a_level          12679 non-null  float64\n",
      " 83  secondary_cleaner.state.floatbank5_b_air            12679 non-null  float64\n",
      " 84  secondary_cleaner.state.floatbank5_b_level          12679 non-null  float64\n",
      " 85  secondary_cleaner.state.floatbank6_a_air            12679 non-null  float64\n",
      " 86  secondary_cleaner.state.floatbank6_a_level          12679 non-null  float64\n",
      "dtypes: float64(86), object(1)\n",
      "memory usage: 8.5+ MB\n"
     ]
    }
   ],
   "source": [
    "data_train = data_train.dropna(axis=0, subset=['date'] + features_final + targets_rougher + targets_final)\n",
    "data_train.info()"
   ]
  },
  {
   "cell_type": "code",
   "execution_count": null,
   "metadata": {},
   "outputs": [],
   "source": []
  },
  {
   "cell_type": "code",
   "execution_count": null,
   "metadata": {},
   "outputs": [],
   "source": []
  },
  {
   "cell_type": "code",
   "execution_count": 13,
   "metadata": {},
   "outputs": [
    {
     "data": {
      "image/png": "[encoded data removed]",
      "text/plain": [
       "<Figure size 432x288 with 1 Axes>"
      ]
     },
     "metadata": {
      "needs_background": "light"
     },
     "output_type": "display_data"
    },
    {
     "data": {
      "image/png": "[encoded data removed]",
      "text/plain": [
       "<Figure size 432x288 with 1 Axes>"
      ]
     },
     "metadata": {
      "needs_background": "light"
     },
     "output_type": "display_data"
    },
    {
     "data": {
      "image/png": "[encoded data removed]",
      "text/plain": [
       "<Figure size 432x288 with 1 Axes>"
      ]
     },
     "metadata": {
      "needs_background": "light"
     },
     "output_type": "display_data"
    },
    {
     "data": {
      "image/png": "[encoded data removed]",
      "text/plain": [
       "<Figure size 432x288 with 1 Axes>"
      ]
     },
     "metadata": {
      "needs_background": "light"
     },
     "output_type": "display_data"
    },
    {
     "data": {
      "image/png": "[encoded data removed]",
      "text/plain": [
       "<Figure size 432x288 with 1 Axes>"
      ]
     },
     "metadata": {
      "needs_background": "light"
     },
     "output_type": "display_data"
    }
   ],
   "source": [
    "plt.boxplot(data_train[['rougher.output.recovery', 'final.output.recovery']])\n",
    "plt.title('Rougher recovery (1) and final recovery(2)')\n",
    "plt.show()\n",
    "\n",
    "\n",
    "plt.scatter(data_train['rougher.input.feed_au'], data_train['rougher.output.recovery'], alpha=0.5)\n",
    "plt.title('Au input to rougher recovery')\n",
    "plt.show()\n",
    "\n",
    "plt.scatter(data_train['rougher.output.tail_au'], data_train['rougher.output.recovery'], alpha=0.5)\n",
    "plt.title('Au tail output to rougher recovery')\n",
    "plt.show()\n",
    "\n",
    "plt.scatter(data_train['rougher.input.feed_au'], data_train['final.output.recovery'], alpha=0.5)\n",
    "plt.title('Au input to final recovery')\n",
    "plt.show()\n",
    "\n",
    "plt.scatter(data_train['final.output.tail_au'], data_train['final.output.recovery'], alpha=0.5)\n",
    "plt.title('Au tail output to final recovery')\n",
    "plt.show()\n"
   ]
  },
  {
   "cell_type": "code",
   "execution_count": 14,
   "metadata": {},
   "outputs": [
    {
     "data": {
      "text/html": [
       "<div>\n",
       "<style scoped>\n",
       "    .dataframe tbody tr th:only-of-type {\n",
       "        vertical-align: middle;\n",
       "    }\n",
       "\n",
       "    .dataframe tbody tr th {\n",
       "        vertical-align: top;\n",
       "    }\n",
       "\n",
       "    .dataframe thead th {\n",
       "        text-align: right;\n",
       "    }\n",
       "</style>\n",
       "<table border=\"1\" class=\"dataframe\">\n",
       "  <thead>\n",
       "    <tr style=\"text-align: right;\">\n",
       "      <th></th>\n",
       "      <th>rougher.output.recovery</th>\n",
       "      <th>final.output.recovery</th>\n",
       "      <th>rougher.input.feed_au</th>\n",
       "      <th>rougher.output.concentrate_au</th>\n",
       "      <th>final.output.concentrate_au</th>\n",
       "      <th>rougher.output.tail_au</th>\n",
       "      <th>final.output.tail_au</th>\n",
       "    </tr>\n",
       "  </thead>\n",
       "  <tbody>\n",
       "    <tr>\n",
       "      <th>4966</th>\n",
       "      <td>80.886673</td>\n",
       "      <td>0.000000</td>\n",
       "      <td>8.519387</td>\n",
       "      <td>24.453405</td>\n",
       "      <td>0.000000</td>\n",
       "      <td>2.267259</td>\n",
       "      <td>3.420555</td>\n",
       "    </tr>\n",
       "    <tr>\n",
       "      <th>6254</th>\n",
       "      <td>85.325665</td>\n",
       "      <td>0.000000</td>\n",
       "      <td>7.394084</td>\n",
       "      <td>21.343779</td>\n",
       "      <td>0.000000</td>\n",
       "      <td>1.540347</td>\n",
       "      <td>4.489633</td>\n",
       "    </tr>\n",
       "    <tr>\n",
       "      <th>2236</th>\n",
       "      <td>69.679278</td>\n",
       "      <td>0.000000</td>\n",
       "      <td>7.390769</td>\n",
       "      <td>21.700017</td>\n",
       "      <td>0.000000</td>\n",
       "      <td>2.938235</td>\n",
       "      <td>3.170143</td>\n",
       "    </tr>\n",
       "    <tr>\n",
       "      <th>9320</th>\n",
       "      <td>75.759559</td>\n",
       "      <td>0.000000</td>\n",
       "      <td>5.741317</td>\n",
       "      <td>20.818637</td>\n",
       "      <td>0.000000</td>\n",
       "      <td>1.759284</td>\n",
       "      <td>4.489584</td>\n",
       "    </tr>\n",
       "    <tr>\n",
       "      <th>8920</th>\n",
       "      <td>80.716925</td>\n",
       "      <td>0.000000</td>\n",
       "      <td>6.024148</td>\n",
       "      <td>21.565663</td>\n",
       "      <td>0.000000</td>\n",
       "      <td>1.499810</td>\n",
       "      <td>3.485946</td>\n",
       "    </tr>\n",
       "    <tr>\n",
       "      <th>8919</th>\n",
       "      <td>76.331765</td>\n",
       "      <td>0.000000</td>\n",
       "      <td>6.145458</td>\n",
       "      <td>21.447548</td>\n",
       "      <td>0.000000</td>\n",
       "      <td>1.861708</td>\n",
       "      <td>3.660732</td>\n",
       "    </tr>\n",
       "    <tr>\n",
       "      <th>5784</th>\n",
       "      <td>92.332421</td>\n",
       "      <td>0.000000</td>\n",
       "      <td>11.436133</td>\n",
       "      <td>22.207900</td>\n",
       "      <td>0.000000</td>\n",
       "      <td>1.671744</td>\n",
       "      <td>0.619892</td>\n",
       "    </tr>\n",
       "    <tr>\n",
       "      <th>5140</th>\n",
       "      <td>86.903688</td>\n",
       "      <td>0.000000</td>\n",
       "      <td>9.663061</td>\n",
       "      <td>23.927417</td>\n",
       "      <td>0.000000</td>\n",
       "      <td>1.949809</td>\n",
       "      <td>3.115444</td>\n",
       "    </tr>\n",
       "    <tr>\n",
       "      <th>5139</th>\n",
       "      <td>87.318224</td>\n",
       "      <td>0.000000</td>\n",
       "      <td>9.641182</td>\n",
       "      <td>23.710651</td>\n",
       "      <td>0.000000</td>\n",
       "      <td>1.895769</td>\n",
       "      <td>2.990722</td>\n",
       "    </tr>\n",
       "    <tr>\n",
       "      <th>4724</th>\n",
       "      <td>83.055260</td>\n",
       "      <td>0.000000</td>\n",
       "      <td>6.649982</td>\n",
       "      <td>20.898669</td>\n",
       "      <td>0.000000</td>\n",
       "      <td>1.531597</td>\n",
       "      <td>2.385774</td>\n",
       "    </tr>\n",
       "    <tr>\n",
       "      <th>8898</th>\n",
       "      <td>83.096540</td>\n",
       "      <td>0.000000</td>\n",
       "      <td>6.299272</td>\n",
       "      <td>22.426579</td>\n",
       "      <td>0.000000</td>\n",
       "      <td>1.388993</td>\n",
       "      <td>2.301790</td>\n",
       "    </tr>\n",
       "    <tr>\n",
       "      <th>8665</th>\n",
       "      <td>71.450445</td>\n",
       "      <td>0.000000</td>\n",
       "      <td>5.501463</td>\n",
       "      <td>23.348021</td>\n",
       "      <td>0.000000</td>\n",
       "      <td>1.888604</td>\n",
       "      <td>4.079079</td>\n",
       "    </tr>\n",
       "    <tr>\n",
       "      <th>4215</th>\n",
       "      <td>34.915704</td>\n",
       "      <td>0.000000</td>\n",
       "      <td>11.118669</td>\n",
       "      <td>22.047007</td>\n",
       "      <td>0.000000</td>\n",
       "      <td>8.783082</td>\n",
       "      <td>1.021143</td>\n",
       "    </tr>\n",
       "    <tr>\n",
       "      <th>4314</th>\n",
       "      <td>87.214508</td>\n",
       "      <td>0.000000</td>\n",
       "      <td>9.719719</td>\n",
       "      <td>20.879875</td>\n",
       "      <td>0.000000</td>\n",
       "      <td>2.092073</td>\n",
       "      <td>3.231677</td>\n",
       "    </tr>\n",
       "    <tr>\n",
       "      <th>4564</th>\n",
       "      <td>88.826382</td>\n",
       "      <td>0.000000</td>\n",
       "      <td>8.577988</td>\n",
       "      <td>12.219908</td>\n",
       "      <td>0.000000</td>\n",
       "      <td>2.545965</td>\n",
       "      <td>2.579844</td>\n",
       "    </tr>\n",
       "    <tr>\n",
       "      <th>4652</th>\n",
       "      <td>91.428776</td>\n",
       "      <td>0.000000</td>\n",
       "      <td>7.149506</td>\n",
       "      <td>8.194259</td>\n",
       "      <td>0.000000</td>\n",
       "      <td>3.029431</td>\n",
       "      <td>4.823467</td>\n",
       "    </tr>\n",
       "    <tr>\n",
       "      <th>4653</th>\n",
       "      <td>80.393709</td>\n",
       "      <td>0.000000</td>\n",
       "      <td>6.995078</td>\n",
       "      <td>11.111640</td>\n",
       "      <td>0.000000</td>\n",
       "      <td>2.776829</td>\n",
       "      <td>4.844750</td>\n",
       "    </tr>\n",
       "    <tr>\n",
       "      <th>4722</th>\n",
       "      <td>84.427525</td>\n",
       "      <td>0.000000</td>\n",
       "      <td>6.891943</td>\n",
       "      <td>20.343034</td>\n",
       "      <td>0.000000</td>\n",
       "      <td>1.503207</td>\n",
       "      <td>2.508362</td>\n",
       "    </tr>\n",
       "    <tr>\n",
       "      <th>4723</th>\n",
       "      <td>84.555676</td>\n",
       "      <td>0.000000</td>\n",
       "      <td>6.927000</td>\n",
       "      <td>20.130395</td>\n",
       "      <td>0.000000</td>\n",
       "      <td>1.508844</td>\n",
       "      <td>2.797546</td>\n",
       "    </tr>\n",
       "    <tr>\n",
       "      <th>4967</th>\n",
       "      <td>83.489926</td>\n",
       "      <td>0.000000</td>\n",
       "      <td>6.986427</td>\n",
       "      <td>20.461828</td>\n",
       "      <td>0.000000</td>\n",
       "      <td>1.613385</td>\n",
       "      <td>4.213483</td>\n",
       "    </tr>\n",
       "    <tr>\n",
       "      <th>2019</th>\n",
       "      <td>65.593784</td>\n",
       "      <td>0.000000</td>\n",
       "      <td>9.148310</td>\n",
       "      <td>25.064809</td>\n",
       "      <td>0.000000</td>\n",
       "      <td>4.138340</td>\n",
       "      <td>1.049438</td>\n",
       "    </tr>\n",
       "    <tr>\n",
       "      <th>2020</th>\n",
       "      <td>76.468239</td>\n",
       "      <td>0.000000</td>\n",
       "      <td>8.738722</td>\n",
       "      <td>24.285916</td>\n",
       "      <td>0.000000</td>\n",
       "      <td>2.836979</td>\n",
       "      <td>3.949153</td>\n",
       "    </tr>\n",
       "    <tr>\n",
       "      <th>1195</th>\n",
       "      <td>83.702224</td>\n",
       "      <td>0.000000</td>\n",
       "      <td>7.032278</td>\n",
       "      <td>18.190655</td>\n",
       "      <td>0.000000</td>\n",
       "      <td>1.694374</td>\n",
       "      <td>2.791440</td>\n",
       "    </tr>\n",
       "    <tr>\n",
       "      <th>10020</th>\n",
       "      <td>65.003857</td>\n",
       "      <td>0.000000</td>\n",
       "      <td>6.009365</td>\n",
       "      <td>13.743304</td>\n",
       "      <td>0.000000</td>\n",
       "      <td>2.938177</td>\n",
       "      <td>1.210944</td>\n",
       "    </tr>\n",
       "    <tr>\n",
       "      <th>7556</th>\n",
       "      <td>80.824520</td>\n",
       "      <td>0.000000</td>\n",
       "      <td>9.823534</td>\n",
       "      <td>20.244848</td>\n",
       "      <td>0.000000</td>\n",
       "      <td>3.099175</td>\n",
       "      <td>3.673219</td>\n",
       "    </tr>\n",
       "    <tr>\n",
       "      <th>7054</th>\n",
       "      <td>83.487803</td>\n",
       "      <td>0.000000</td>\n",
       "      <td>6.937035</td>\n",
       "      <td>20.703875</td>\n",
       "      <td>0.000000</td>\n",
       "      <td>1.590325</td>\n",
       "      <td>2.801452</td>\n",
       "    </tr>\n",
       "    <tr>\n",
       "      <th>644</th>\n",
       "      <td>68.960993</td>\n",
       "      <td>0.000000</td>\n",
       "      <td>5.598971</td>\n",
       "      <td>15.935190</td>\n",
       "      <td>0.000000</td>\n",
       "      <td>2.293607</td>\n",
       "      <td>1.779052</td>\n",
       "    </tr>\n",
       "    <tr>\n",
       "      <th>7053</th>\n",
       "      <td>83.730630</td>\n",
       "      <td>0.000000</td>\n",
       "      <td>6.929134</td>\n",
       "      <td>20.863102</td>\n",
       "      <td>0.000000</td>\n",
       "      <td>1.561587</td>\n",
       "      <td>2.746293</td>\n",
       "    </tr>\n",
       "    <tr>\n",
       "      <th>7050</th>\n",
       "      <td>84.182930</td>\n",
       "      <td>0.000000</td>\n",
       "      <td>7.058794</td>\n",
       "      <td>19.884573</td>\n",
       "      <td>0.000000</td>\n",
       "      <td>1.592352</td>\n",
       "      <td>2.668218</td>\n",
       "    </tr>\n",
       "    <tr>\n",
       "      <th>1682</th>\n",
       "      <td>0.000000</td>\n",
       "      <td>0.000000</td>\n",
       "      <td>6.417814</td>\n",
       "      <td>0.000000</td>\n",
       "      <td>0.000000</td>\n",
       "      <td>2.674195</td>\n",
       "      <td>2.443084</td>\n",
       "    </tr>\n",
       "    <tr>\n",
       "      <th>7051</th>\n",
       "      <td>84.958999</td>\n",
       "      <td>0.000000</td>\n",
       "      <td>7.133998</td>\n",
       "      <td>19.025876</td>\n",
       "      <td>0.000000</td>\n",
       "      <td>1.574654</td>\n",
       "      <td>2.557334</td>\n",
       "    </tr>\n",
       "    <tr>\n",
       "      <th>7052</th>\n",
       "      <td>84.256396</td>\n",
       "      <td>0.000000</td>\n",
       "      <td>7.152067</td>\n",
       "      <td>19.698002</td>\n",
       "      <td>0.000000</td>\n",
       "      <td>1.622289</td>\n",
       "      <td>2.550075</td>\n",
       "    </tr>\n",
       "    <tr>\n",
       "      <th>1196</th>\n",
       "      <td>84.836821</td>\n",
       "      <td>0.000000</td>\n",
       "      <td>7.021635</td>\n",
       "      <td>18.194323</td>\n",
       "      <td>0.000000</td>\n",
       "      <td>1.582981</td>\n",
       "      <td>2.682127</td>\n",
       "    </tr>\n",
       "    <tr>\n",
       "      <th>6430</th>\n",
       "      <td>88.320545</td>\n",
       "      <td>0.000000</td>\n",
       "      <td>9.925026</td>\n",
       "      <td>22.174052</td>\n",
       "      <td>0.000000</td>\n",
       "      <td>1.917027</td>\n",
       "      <td>2.423505</td>\n",
       "    </tr>\n",
       "    <tr>\n",
       "      <th>1194</th>\n",
       "      <td>83.515262</td>\n",
       "      <td>0.000000</td>\n",
       "      <td>7.499248</td>\n",
       "      <td>18.231121</td>\n",
       "      <td>0.000000</td>\n",
       "      <td>1.883162</td>\n",
       "      <td>2.747294</td>\n",
       "    </tr>\n",
       "    <tr>\n",
       "      <th>1193</th>\n",
       "      <td>82.787322</td>\n",
       "      <td>0.000000</td>\n",
       "      <td>7.786147</td>\n",
       "      <td>18.682162</td>\n",
       "      <td>0.000000</td>\n",
       "      <td>2.046213</td>\n",
       "      <td>2.984504</td>\n",
       "    </tr>\n",
       "    <tr>\n",
       "      <th>1109</th>\n",
       "      <td>2.520854</td>\n",
       "      <td>12.005723</td>\n",
       "      <td>5.468256</td>\n",
       "      <td>13.237223</td>\n",
       "      <td>33.762031</td>\n",
       "      <td>5.386502</td>\n",
       "      <td>4.907173</td>\n",
       "    </tr>\n",
       "    <tr>\n",
       "      <th>48</th>\n",
       "      <td>0.000000</td>\n",
       "      <td>41.962008</td>\n",
       "      <td>4.752992</td>\n",
       "      <td>0.000000</td>\n",
       "      <td>44.015642</td>\n",
       "      <td>1.938869</td>\n",
       "      <td>2.889469</td>\n",
       "    </tr>\n",
       "    <tr>\n",
       "      <th>7756</th>\n",
       "      <td>0.000000</td>\n",
       "      <td>42.030679</td>\n",
       "      <td>8.041204</td>\n",
       "      <td>0.000000</td>\n",
       "      <td>48.203116</td>\n",
       "      <td>2.340319</td>\n",
       "      <td>5.012913</td>\n",
       "    </tr>\n",
       "    <tr>\n",
       "      <th>7753</th>\n",
       "      <td>0.000000</td>\n",
       "      <td>44.470123</td>\n",
       "      <td>9.469973</td>\n",
       "      <td>0.000000</td>\n",
       "      <td>49.759508</td>\n",
       "      <td>2.612453</td>\n",
       "      <td>5.744872</td>\n",
       "    </tr>\n",
       "    <tr>\n",
       "      <th>7861</th>\n",
       "      <td>0.000000</td>\n",
       "      <td>44.476312</td>\n",
       "      <td>5.473360</td>\n",
       "      <td>0.000000</td>\n",
       "      <td>39.079544</td>\n",
       "      <td>1.926842</td>\n",
       "      <td>3.240894</td>\n",
       "    </tr>\n",
       "    <tr>\n",
       "      <th>7771</th>\n",
       "      <td>0.000000</td>\n",
       "      <td>48.825846</td>\n",
       "      <td>7.809419</td>\n",
       "      <td>0.000000</td>\n",
       "      <td>46.237575</td>\n",
       "      <td>2.391081</td>\n",
       "      <td>4.355591</td>\n",
       "    </tr>\n",
       "    <tr>\n",
       "      <th>7772</th>\n",
       "      <td>0.000000</td>\n",
       "      <td>48.845587</td>\n",
       "      <td>7.700213</td>\n",
       "      <td>0.000000</td>\n",
       "      <td>46.988111</td>\n",
       "      <td>2.314762</td>\n",
       "      <td>4.281735</td>\n",
       "    </tr>\n",
       "    <tr>\n",
       "      <th>49</th>\n",
       "      <td>0.000000</td>\n",
       "      <td>49.884856</td>\n",
       "      <td>5.122801</td>\n",
       "      <td>0.000000</td>\n",
       "      <td>40.715973</td>\n",
       "      <td>2.050901</td>\n",
       "      <td>2.739224</td>\n",
       "    </tr>\n",
       "    <tr>\n",
       "      <th>7828</th>\n",
       "      <td>0.000000</td>\n",
       "      <td>50.891836</td>\n",
       "      <td>5.957188</td>\n",
       "      <td>0.000000</td>\n",
       "      <td>43.838001</td>\n",
       "      <td>1.787443</td>\n",
       "      <td>3.142814</td>\n",
       "    </tr>\n",
       "    <tr>\n",
       "      <th>7856</th>\n",
       "      <td>0.000000</td>\n",
       "      <td>51.452926</td>\n",
       "      <td>6.191537</td>\n",
       "      <td>0.000000</td>\n",
       "      <td>37.946327</td>\n",
       "      <td>1.994077</td>\n",
       "      <td>3.281285</td>\n",
       "    </tr>\n",
       "    <tr>\n",
       "      <th>7770</th>\n",
       "      <td>0.000000</td>\n",
       "      <td>52.437470</td>\n",
       "      <td>8.270571</td>\n",
       "      <td>0.000000</td>\n",
       "      <td>46.261869</td>\n",
       "      <td>2.337916</td>\n",
       "      <td>4.340609</td>\n",
       "    </tr>\n",
       "    <tr>\n",
       "      <th>7829</th>\n",
       "      <td>0.000000</td>\n",
       "      <td>52.636710</td>\n",
       "      <td>5.582066</td>\n",
       "      <td>0.000000</td>\n",
       "      <td>45.008186</td>\n",
       "      <td>1.298217</td>\n",
       "      <td>2.828500</td>\n",
       "    </tr>\n",
       "    <tr>\n",
       "      <th>7768</th>\n",
       "      <td>0.000000</td>\n",
       "      <td>53.227820</td>\n",
       "      <td>8.185358</td>\n",
       "      <td>0.000000</td>\n",
       "      <td>46.199406</td>\n",
       "      <td>2.312304</td>\n",
       "      <td>4.227113</td>\n",
       "    </tr>\n",
       "    <tr>\n",
       "      <th>7773</th>\n",
       "      <td>0.000000</td>\n",
       "      <td>53.292988</td>\n",
       "      <td>7.772070</td>\n",
       "      <td>0.000000</td>\n",
       "      <td>47.453303</td>\n",
       "      <td>2.330840</td>\n",
       "      <td>3.977257</td>\n",
       "    </tr>\n",
       "    <tr>\n",
       "      <th>7805</th>\n",
       "      <td>0.000000</td>\n",
       "      <td>54.246425</td>\n",
       "      <td>6.814191</td>\n",
       "      <td>0.000000</td>\n",
       "      <td>45.976838</td>\n",
       "      <td>1.832328</td>\n",
       "      <td>3.390311</td>\n",
       "    </tr>\n",
       "    <tr>\n",
       "      <th>7789</th>\n",
       "      <td>0.000000</td>\n",
       "      <td>54.285927</td>\n",
       "      <td>7.341001</td>\n",
       "      <td>0.000000</td>\n",
       "      <td>46.466851</td>\n",
       "      <td>2.089350</td>\n",
       "      <td>3.670679</td>\n",
       "    </tr>\n",
       "    <tr>\n",
       "      <th>7806</th>\n",
       "      <td>0.000000</td>\n",
       "      <td>54.504119</td>\n",
       "      <td>6.085817</td>\n",
       "      <td>0.000000</td>\n",
       "      <td>45.283451</td>\n",
       "      <td>1.513260</td>\n",
       "      <td>2.987641</td>\n",
       "    </tr>\n",
       "    <tr>\n",
       "      <th>7830</th>\n",
       "      <td>0.000000</td>\n",
       "      <td>54.644510</td>\n",
       "      <td>5.913194</td>\n",
       "      <td>0.000000</td>\n",
       "      <td>45.878332</td>\n",
       "      <td>1.485011</td>\n",
       "      <td>2.885161</td>\n",
       "    </tr>\n",
       "    <tr>\n",
       "      <th>7764</th>\n",
       "      <td>0.000000</td>\n",
       "      <td>54.681620</td>\n",
       "      <td>8.442590</td>\n",
       "      <td>0.000000</td>\n",
       "      <td>46.077605</td>\n",
       "      <td>2.245023</td>\n",
       "      <td>4.252062</td>\n",
       "    </tr>\n",
       "    <tr>\n",
       "      <th>7866</th>\n",
       "      <td>0.000000</td>\n",
       "      <td>54.711210</td>\n",
       "      <td>6.847182</td>\n",
       "      <td>0.000000</td>\n",
       "      <td>46.392114</td>\n",
       "      <td>2.024728</td>\n",
       "      <td>3.373410</td>\n",
       "    </tr>\n",
       "    <tr>\n",
       "      <th>7762</th>\n",
       "      <td>0.000000</td>\n",
       "      <td>54.904987</td>\n",
       "      <td>8.528633</td>\n",
       "      <td>0.000000</td>\n",
       "      <td>46.567097</td>\n",
       "      <td>2.360522</td>\n",
       "      <td>4.275966</td>\n",
       "    </tr>\n",
       "    <tr>\n",
       "      <th>7797</th>\n",
       "      <td>0.000000</td>\n",
       "      <td>55.008576</td>\n",
       "      <td>7.459065</td>\n",
       "      <td>0.000000</td>\n",
       "      <td>46.882454</td>\n",
       "      <td>2.205714</td>\n",
       "      <td>3.677820</td>\n",
       "    </tr>\n",
       "    <tr>\n",
       "      <th>7870</th>\n",
       "      <td>0.000000</td>\n",
       "      <td>55.022143</td>\n",
       "      <td>7.495151</td>\n",
       "      <td>0.000000</td>\n",
       "      <td>45.330899</td>\n",
       "      <td>2.042515</td>\n",
       "      <td>3.708544</td>\n",
       "    </tr>\n",
       "    <tr>\n",
       "      <th>7769</th>\n",
       "      <td>0.000000</td>\n",
       "      <td>55.089693</td>\n",
       "      <td>8.242604</td>\n",
       "      <td>0.000000</td>\n",
       "      <td>46.568831</td>\n",
       "      <td>2.301303</td>\n",
       "      <td>4.101730</td>\n",
       "    </tr>\n",
       "    <tr>\n",
       "      <th>7804</th>\n",
       "      <td>0.000000</td>\n",
       "      <td>55.272374</td>\n",
       "      <td>7.683755</td>\n",
       "      <td>0.000000</td>\n",
       "      <td>45.633092</td>\n",
       "      <td>1.857078</td>\n",
       "      <td>3.789438</td>\n",
       "    </tr>\n",
       "    <tr>\n",
       "      <th>7793</th>\n",
       "      <td>0.000000</td>\n",
       "      <td>55.407077</td>\n",
       "      <td>7.639204</td>\n",
       "      <td>0.000000</td>\n",
       "      <td>47.272621</td>\n",
       "      <td>2.268975</td>\n",
       "      <td>3.741553</td>\n",
       "    </tr>\n",
       "    <tr>\n",
       "      <th>7796</th>\n",
       "      <td>0.000000</td>\n",
       "      <td>55.653777</td>\n",
       "      <td>7.627676</td>\n",
       "      <td>0.000000</td>\n",
       "      <td>46.660319</td>\n",
       "      <td>2.260676</td>\n",
       "      <td>3.721129</td>\n",
       "    </tr>\n",
       "    <tr>\n",
       "      <th>7780</th>\n",
       "      <td>0.000000</td>\n",
       "      <td>55.768757</td>\n",
       "      <td>7.496529</td>\n",
       "      <td>0.000000</td>\n",
       "      <td>44.789830</td>\n",
       "      <td>2.152857</td>\n",
       "      <td>3.657171</td>\n",
       "    </tr>\n",
       "    <tr>\n",
       "      <th>7867</th>\n",
       "      <td>0.000000</td>\n",
       "      <td>55.777960</td>\n",
       "      <td>6.970216</td>\n",
       "      <td>0.000000</td>\n",
       "      <td>46.189495</td>\n",
       "      <td>1.993702</td>\n",
       "      <td>3.365665</td>\n",
       "    </tr>\n",
       "    <tr>\n",
       "      <th>7774</th>\n",
       "      <td>0.000000</td>\n",
       "      <td>55.974078</td>\n",
       "      <td>7.849371</td>\n",
       "      <td>0.000000</td>\n",
       "      <td>46.092768</td>\n",
       "      <td>2.322623</td>\n",
       "      <td>3.819873</td>\n",
       "    </tr>\n",
       "    <tr>\n",
       "      <th>7817</th>\n",
       "      <td>0.000000</td>\n",
       "      <td>55.993325</td>\n",
       "      <td>6.991321</td>\n",
       "      <td>0.000000</td>\n",
       "      <td>47.841606</td>\n",
       "      <td>1.795110</td>\n",
       "      <td>3.350832</td>\n",
       "    </tr>\n",
       "    <tr>\n",
       "      <th>1697</th>\n",
       "      <td>0.000000</td>\n",
       "      <td>56.052973</td>\n",
       "      <td>7.071694</td>\n",
       "      <td>0.000000</td>\n",
       "      <td>42.451135</td>\n",
       "      <td>2.538689</td>\n",
       "      <td>3.427879</td>\n",
       "    </tr>\n",
       "    <tr>\n",
       "      <th>7779</th>\n",
       "      <td>0.000000</td>\n",
       "      <td>56.091884</td>\n",
       "      <td>7.987040</td>\n",
       "      <td>0.000000</td>\n",
       "      <td>44.298159</td>\n",
       "      <td>2.289263</td>\n",
       "      <td>3.901540</td>\n",
       "    </tr>\n",
       "    <tr>\n",
       "      <th>7798</th>\n",
       "      <td>0.000000</td>\n",
       "      <td>56.096138</td>\n",
       "      <td>7.385978</td>\n",
       "      <td>0.000000</td>\n",
       "      <td>46.482716</td>\n",
       "      <td>2.183958</td>\n",
       "      <td>3.560056</td>\n",
       "    </tr>\n",
       "    <tr>\n",
       "      <th>7831</th>\n",
       "      <td>0.000000</td>\n",
       "      <td>56.279844</td>\n",
       "      <td>6.093993</td>\n",
       "      <td>0.000000</td>\n",
       "      <td>45.551587</td>\n",
       "      <td>1.637945</td>\n",
       "      <td>2.881239</td>\n",
       "    </tr>\n",
       "    <tr>\n",
       "      <th>7824</th>\n",
       "      <td>0.000000</td>\n",
       "      <td>56.281813</td>\n",
       "      <td>7.109954</td>\n",
       "      <td>0.000000</td>\n",
       "      <td>46.268259</td>\n",
       "      <td>1.921981</td>\n",
       "      <td>3.402626</td>\n",
       "    </tr>\n",
       "    <tr>\n",
       "      <th>1696</th>\n",
       "      <td>0.000000</td>\n",
       "      <td>56.403896</td>\n",
       "      <td>6.983517</td>\n",
       "      <td>0.000000</td>\n",
       "      <td>40.865416</td>\n",
       "      <td>2.945371</td>\n",
       "      <td>3.369305</td>\n",
       "    </tr>\n",
       "    <tr>\n",
       "      <th>7792</th>\n",
       "      <td>0.000000</td>\n",
       "      <td>56.530302</td>\n",
       "      <td>7.781602</td>\n",
       "      <td>0.000000</td>\n",
       "      <td>46.631088</td>\n",
       "      <td>2.204899</td>\n",
       "      <td>3.734980</td>\n",
       "    </tr>\n",
       "    <tr>\n",
       "      <th>7820</th>\n",
       "      <td>0.000000</td>\n",
       "      <td>56.560303</td>\n",
       "      <td>7.231005</td>\n",
       "      <td>0.000000</td>\n",
       "      <td>47.409110</td>\n",
       "      <td>1.907786</td>\n",
       "      <td>3.437688</td>\n",
       "    </tr>\n",
       "    <tr>\n",
       "      <th>7794</th>\n",
       "      <td>0.000000</td>\n",
       "      <td>56.773755</td>\n",
       "      <td>7.673147</td>\n",
       "      <td>0.000000</td>\n",
       "      <td>46.779958</td>\n",
       "      <td>2.194205</td>\n",
       "      <td>3.657405</td>\n",
       "    </tr>\n",
       "    <tr>\n",
       "      <th>7868</th>\n",
       "      <td>0.000000</td>\n",
       "      <td>56.800681</td>\n",
       "      <td>7.306113</td>\n",
       "      <td>0.000000</td>\n",
       "      <td>45.772416</td>\n",
       "      <td>1.956189</td>\n",
       "      <td>3.470875</td>\n",
       "    </tr>\n",
       "    <tr>\n",
       "      <th>7816</th>\n",
       "      <td>0.000000</td>\n",
       "      <td>56.845215</td>\n",
       "      <td>7.382171</td>\n",
       "      <td>0.000000</td>\n",
       "      <td>47.372412</td>\n",
       "      <td>1.905891</td>\n",
       "      <td>3.495394</td>\n",
       "    </tr>\n",
       "    <tr>\n",
       "      <th>7858</th>\n",
       "      <td>0.000000</td>\n",
       "      <td>57.038169</td>\n",
       "      <td>7.672680</td>\n",
       "      <td>0.000000</td>\n",
       "      <td>46.616744</td>\n",
       "      <td>2.275455</td>\n",
       "      <td>3.637843</td>\n",
       "    </tr>\n",
       "    <tr>\n",
       "      <th>7767</th>\n",
       "      <td>0.000000</td>\n",
       "      <td>57.119084</td>\n",
       "      <td>8.771800</td>\n",
       "      <td>0.000000</td>\n",
       "      <td>46.119458</td>\n",
       "      <td>2.509047</td>\n",
       "      <td>4.219871</td>\n",
       "    </tr>\n",
       "    <tr>\n",
       "      <th>7869</th>\n",
       "      <td>0.000000</td>\n",
       "      <td>57.216768</td>\n",
       "      <td>7.467206</td>\n",
       "      <td>0.000000</td>\n",
       "      <td>44.245189</td>\n",
       "      <td>2.067963</td>\n",
       "      <td>3.536180</td>\n",
       "    </tr>\n",
       "    <tr>\n",
       "      <th>7791</th>\n",
       "      <td>0.000000</td>\n",
       "      <td>57.273743</td>\n",
       "      <td>7.899210</td>\n",
       "      <td>0.000000</td>\n",
       "      <td>46.482840</td>\n",
       "      <td>2.143452</td>\n",
       "      <td>3.738949</td>\n",
       "    </tr>\n",
       "    <tr>\n",
       "      <th>7801</th>\n",
       "      <td>0.000000</td>\n",
       "      <td>57.358970</td>\n",
       "      <td>7.756210</td>\n",
       "      <td>0.000000</td>\n",
       "      <td>45.947899</td>\n",
       "      <td>2.162044</td>\n",
       "      <td>3.661889</td>\n",
       "    </tr>\n",
       "    <tr>\n",
       "      <th>7871</th>\n",
       "      <td>0.000000</td>\n",
       "      <td>57.407111</td>\n",
       "      <td>7.264640</td>\n",
       "      <td>0.000000</td>\n",
       "      <td>43.834101</td>\n",
       "      <td>2.022257</td>\n",
       "      <td>3.419560</td>\n",
       "    </tr>\n",
       "    <tr>\n",
       "      <th>7803</th>\n",
       "      <td>0.000000</td>\n",
       "      <td>57.451027</td>\n",
       "      <td>8.029956</td>\n",
       "      <td>0.000000</td>\n",
       "      <td>45.592338</td>\n",
       "      <td>2.264028</td>\n",
       "      <td>3.801301</td>\n",
       "    </tr>\n",
       "    <tr>\n",
       "      <th>7847</th>\n",
       "      <td>0.000000</td>\n",
       "      <td>57.467796</td>\n",
       "      <td>7.357059</td>\n",
       "      <td>0.000000</td>\n",
       "      <td>41.569581</td>\n",
       "      <td>2.121381</td>\n",
       "      <td>3.483408</td>\n",
       "    </tr>\n",
       "    <tr>\n",
       "      <th>7790</th>\n",
       "      <td>0.000000</td>\n",
       "      <td>57.494854</td>\n",
       "      <td>7.613073</td>\n",
       "      <td>0.000000</td>\n",
       "      <td>46.469372</td>\n",
       "      <td>1.993223</td>\n",
       "      <td>3.572450</td>\n",
       "    </tr>\n",
       "    <tr>\n",
       "      <th>2829</th>\n",
       "      <td>0.000000</td>\n",
       "      <td>57.495645</td>\n",
       "      <td>7.488183</td>\n",
       "      <td>0.000000</td>\n",
       "      <td>43.627662</td>\n",
       "      <td>3.124109</td>\n",
       "      <td>3.531288</td>\n",
       "    </tr>\n",
       "    <tr>\n",
       "      <th>7823</th>\n",
       "      <td>0.000000</td>\n",
       "      <td>57.525423</td>\n",
       "      <td>7.328120</td>\n",
       "      <td>0.000000</td>\n",
       "      <td>46.405104</td>\n",
       "      <td>1.926343</td>\n",
       "      <td>3.423594</td>\n",
       "    </tr>\n",
       "    <tr>\n",
       "      <th>7821</th>\n",
       "      <td>0.000000</td>\n",
       "      <td>57.695746</td>\n",
       "      <td>7.264026</td>\n",
       "      <td>0.000000</td>\n",
       "      <td>46.953694</td>\n",
       "      <td>1.877468</td>\n",
       "      <td>3.374166</td>\n",
       "    </tr>\n",
       "    <tr>\n",
       "      <th>7763</th>\n",
       "      <td>0.000000</td>\n",
       "      <td>57.699002</td>\n",
       "      <td>8.258510</td>\n",
       "      <td>0.000000</td>\n",
       "      <td>46.701869</td>\n",
       "      <td>2.211460</td>\n",
       "      <td>3.890374</td>\n",
       "    </tr>\n",
       "    <tr>\n",
       "      <th>4003</th>\n",
       "      <td>0.000000</td>\n",
       "      <td>57.761475</td>\n",
       "      <td>8.323598</td>\n",
       "      <td>0.000000</td>\n",
       "      <td>44.601558</td>\n",
       "      <td>3.713769</td>\n",
       "      <td>3.940536</td>\n",
       "    </tr>\n",
       "    <tr>\n",
       "      <th>7822</th>\n",
       "      <td>0.000000</td>\n",
       "      <td>57.841808</td>\n",
       "      <td>7.363745</td>\n",
       "      <td>0.000000</td>\n",
       "      <td>46.529338</td>\n",
       "      <td>1.863003</td>\n",
       "      <td>3.417238</td>\n",
       "    </tr>\n",
       "    <tr>\n",
       "      <th>7765</th>\n",
       "      <td>0.000000</td>\n",
       "      <td>57.969709</td>\n",
       "      <td>8.970869</td>\n",
       "      <td>0.000000</td>\n",
       "      <td>45.981103</td>\n",
       "      <td>2.348545</td>\n",
       "      <td>4.251297</td>\n",
       "    </tr>\n",
       "    <tr>\n",
       "      <th>9364</th>\n",
       "      <td>0.000000</td>\n",
       "      <td>58.001886</td>\n",
       "      <td>7.380077</td>\n",
       "      <td>0.000000</td>\n",
       "      <td>46.732965</td>\n",
       "      <td>1.959572</td>\n",
       "      <td>3.412023</td>\n",
       "    </tr>\n",
       "    <tr>\n",
       "      <th>7795</th>\n",
       "      <td>0.000000</td>\n",
       "      <td>58.095999</td>\n",
       "      <td>7.995163</td>\n",
       "      <td>0.000000</td>\n",
       "      <td>46.554656</td>\n",
       "      <td>2.246106</td>\n",
       "      <td>3.721607</td>\n",
       "    </tr>\n",
       "    <tr>\n",
       "      <th>7825</th>\n",
       "      <td>0.000000</td>\n",
       "      <td>58.206245</td>\n",
       "      <td>7.258289</td>\n",
       "      <td>0.000000</td>\n",
       "      <td>45.589945</td>\n",
       "      <td>1.865675</td>\n",
       "      <td>3.343335</td>\n",
       "    </tr>\n",
       "    <tr>\n",
       "      <th>7819</th>\n",
       "      <td>0.000000</td>\n",
       "      <td>58.212484</td>\n",
       "      <td>7.441983</td>\n",
       "      <td>0.000000</td>\n",
       "      <td>47.752619</td>\n",
       "      <td>1.905191</td>\n",
       "      <td>3.420094</td>\n",
       "    </tr>\n",
       "    <tr>\n",
       "      <th>7786</th>\n",
       "      <td>0.000000</td>\n",
       "      <td>58.232793</td>\n",
       "      <td>8.159438</td>\n",
       "      <td>0.000000</td>\n",
       "      <td>46.344302</td>\n",
       "      <td>2.134648</td>\n",
       "      <td>3.797288</td>\n",
       "    </tr>\n",
       "    <tr>\n",
       "      <th>1698</th>\n",
       "      <td>0.000000</td>\n",
       "      <td>58.244610</td>\n",
       "      <td>7.078153</td>\n",
       "      <td>0.000000</td>\n",
       "      <td>43.384395</td>\n",
       "      <td>2.091322</td>\n",
       "      <td>3.265851</td>\n",
       "    </tr>\n",
       "    <tr>\n",
       "      <th>7784</th>\n",
       "      <td>0.000000</td>\n",
       "      <td>58.249341</td>\n",
       "      <td>8.364066</td>\n",
       "      <td>0.000000</td>\n",
       "      <td>46.098884</td>\n",
       "      <td>2.287324</td>\n",
       "      <td>3.904728</td>\n",
       "    </tr>\n",
       "    <tr>\n",
       "      <th>7785</th>\n",
       "      <td>0.000000</td>\n",
       "      <td>58.315509</td>\n",
       "      <td>8.368104</td>\n",
       "      <td>0.000000</td>\n",
       "      <td>47.265558</td>\n",
       "      <td>2.257540</td>\n",
       "      <td>3.889802</td>\n",
       "    </tr>\n",
       "    <tr>\n",
       "      <th>7800</th>\n",
       "      <td>0.000000</td>\n",
       "      <td>58.425792</td>\n",
       "      <td>7.739376</td>\n",
       "      <td>0.000000</td>\n",
       "      <td>45.563444</td>\n",
       "      <td>2.283132</td>\n",
       "      <td>3.572084</td>\n",
       "    </tr>\n",
       "    <tr>\n",
       "      <th>7818</th>\n",
       "      <td>0.000000</td>\n",
       "      <td>58.484501</td>\n",
       "      <td>7.352447</td>\n",
       "      <td>0.000000</td>\n",
       "      <td>47.856328</td>\n",
       "      <td>1.770841</td>\n",
       "      <td>3.353750</td>\n",
       "    </tr>\n",
       "    <tr>\n",
       "      <th>10984</th>\n",
       "      <td>99.276240</td>\n",
       "      <td>58.510640</td>\n",
       "      <td>3.509406</td>\n",
       "      <td>17.659878</td>\n",
       "      <td>44.568768</td>\n",
       "      <td>0.031642</td>\n",
       "      <td>1.526352</td>\n",
       "    </tr>\n",
       "    <tr>\n",
       "      <th>2085</th>\n",
       "      <td>0.000000</td>\n",
       "      <td>58.641600</td>\n",
       "      <td>7.309077</td>\n",
       "      <td>0.000000</td>\n",
       "      <td>43.247850</td>\n",
       "      <td>2.569836</td>\n",
       "      <td>3.355467</td>\n",
       "    </tr>\n",
       "    <tr>\n",
       "      <th>7855</th>\n",
       "      <td>0.000000</td>\n",
       "      <td>58.678710</td>\n",
       "      <td>7.579607</td>\n",
       "      <td>0.000000</td>\n",
       "      <td>46.368817</td>\n",
       "      <td>2.181045</td>\n",
       "      <td>3.464279</td>\n",
       "    </tr>\n",
       "    <tr>\n",
       "      <th>7865</th>\n",
       "      <td>0.000000</td>\n",
       "      <td>58.693953</td>\n",
       "      <td>7.089526</td>\n",
       "      <td>0.000000</td>\n",
       "      <td>45.988803</td>\n",
       "      <td>2.005090</td>\n",
       "      <td>3.219728</td>\n",
       "    </tr>\n",
       "    <tr>\n",
       "      <th>7799</th>\n",
       "      <td>0.000000</td>\n",
       "      <td>58.828658</td>\n",
       "      <td>7.796300</td>\n",
       "      <td>0.000000</td>\n",
       "      <td>46.042237</td>\n",
       "      <td>2.191108</td>\n",
       "      <td>3.564962</td>\n",
       "    </tr>\n",
       "    <tr>\n",
       "      <th>7775</th>\n",
       "      <td>0.000000</td>\n",
       "      <td>58.907427</td>\n",
       "      <td>8.337328</td>\n",
       "      <td>0.000000</td>\n",
       "      <td>45.537050</td>\n",
       "      <td>2.312088</td>\n",
       "      <td>3.840200</td>\n",
       "    </tr>\n",
       "    <tr>\n",
       "      <th>7860</th>\n",
       "      <td>0.000000</td>\n",
       "      <td>58.986526</td>\n",
       "      <td>7.747999</td>\n",
       "      <td>0.000000</td>\n",
       "      <td>47.158090</td>\n",
       "      <td>2.232050</td>\n",
       "      <td>3.518738</td>\n",
       "    </tr>\n",
       "    <tr>\n",
       "      <th>7863</th>\n",
       "      <td>0.000000</td>\n",
       "      <td>58.991429</td>\n",
       "      <td>7.200884</td>\n",
       "      <td>0.000000</td>\n",
       "      <td>44.826848</td>\n",
       "      <td>1.997288</td>\n",
       "      <td>3.262105</td>\n",
       "    </tr>\n",
       "    <tr>\n",
       "      <th>7766</th>\n",
       "      <td>0.000000</td>\n",
       "      <td>59.121154</td>\n",
       "      <td>9.008798</td>\n",
       "      <td>0.000000</td>\n",
       "      <td>45.746374</td>\n",
       "      <td>2.442877</td>\n",
       "      <td>4.167954</td>\n",
       "    </tr>\n",
       "    <tr>\n",
       "      <th>4906</th>\n",
       "      <td>0.000000</td>\n",
       "      <td>59.619454</td>\n",
       "      <td>8.251525</td>\n",
       "      <td>0.000000</td>\n",
       "      <td>47.823580</td>\n",
       "      <td>1.582170</td>\n",
       "      <td>3.714070</td>\n",
       "    </tr>\n",
       "    <tr>\n",
       "      <th>7864</th>\n",
       "      <td>0.000000</td>\n",
       "      <td>59.657995</td>\n",
       "      <td>6.850542</td>\n",
       "      <td>0.000000</td>\n",
       "      <td>44.952311</td>\n",
       "      <td>1.944669</td>\n",
       "      <td>3.040035</td>\n",
       "    </tr>\n",
       "    <tr>\n",
       "      <th>2084</th>\n",
       "      <td>0.000000</td>\n",
       "      <td>59.816957</td>\n",
       "      <td>7.716467</td>\n",
       "      <td>0.000000</td>\n",
       "      <td>43.541506</td>\n",
       "      <td>2.619945</td>\n",
       "      <td>3.468389</td>\n",
       "    </tr>\n",
       "    <tr>\n",
       "      <th>7787</th>\n",
       "      <td>0.000000</td>\n",
       "      <td>59.979840</td>\n",
       "      <td>8.231375</td>\n",
       "      <td>0.000000</td>\n",
       "      <td>46.379455</td>\n",
       "      <td>2.126030</td>\n",
       "      <td>3.686660</td>\n",
       "    </tr>\n",
       "    <tr>\n",
       "      <th>7815</th>\n",
       "      <td>0.000000</td>\n",
       "      <td>60.258026</td>\n",
       "      <td>7.732063</td>\n",
       "      <td>0.000000</td>\n",
       "      <td>45.812554</td>\n",
       "      <td>2.014221</td>\n",
       "      <td>3.420771</td>\n",
       "    </tr>\n",
       "    <tr>\n",
       "      <th>7781</th>\n",
       "      <td>0.000000</td>\n",
       "      <td>60.273735</td>\n",
       "      <td>7.769554</td>\n",
       "      <td>0.000000</td>\n",
       "      <td>44.538049</td>\n",
       "      <td>2.032039</td>\n",
       "      <td>3.449226</td>\n",
       "    </tr>\n",
       "    <tr>\n",
       "      <th>9358</th>\n",
       "      <td>0.000000</td>\n",
       "      <td>60.460572</td>\n",
       "      <td>7.052392</td>\n",
       "      <td>0.000000</td>\n",
       "      <td>31.387161</td>\n",
       "      <td>1.628471</td>\n",
       "      <td>3.226839</td>\n",
       "    </tr>\n",
       "    <tr>\n",
       "      <th>9363</th>\n",
       "      <td>0.000000</td>\n",
       "      <td>60.517631</td>\n",
       "      <td>7.382708</td>\n",
       "      <td>0.000000</td>\n",
       "      <td>46.876863</td>\n",
       "      <td>1.815991</td>\n",
       "      <td>3.221953</td>\n",
       "    </tr>\n",
       "    <tr>\n",
       "      <th>7859</th>\n",
       "      <td>0.000000</td>\n",
       "      <td>60.592277</td>\n",
       "      <td>8.242336</td>\n",
       "      <td>0.000000</td>\n",
       "      <td>47.134722</td>\n",
       "      <td>2.248751</td>\n",
       "      <td>3.633063</td>\n",
       "    </tr>\n",
       "    <tr>\n",
       "      <th>7862</th>\n",
       "      <td>0.000000</td>\n",
       "      <td>60.692354</td>\n",
       "      <td>7.158755</td>\n",
       "      <td>0.000000</td>\n",
       "      <td>45.929506</td>\n",
       "      <td>1.799435</td>\n",
       "      <td>3.107942</td>\n",
       "    </tr>\n",
       "    <tr>\n",
       "      <th>4004</th>\n",
       "      <td>0.000000</td>\n",
       "      <td>60.806050</td>\n",
       "      <td>8.261767</td>\n",
       "      <td>0.000000</td>\n",
       "      <td>43.398658</td>\n",
       "      <td>3.196485</td>\n",
       "      <td>3.662012</td>\n",
       "    </tr>\n",
       "    <tr>\n",
       "      <th>7783</th>\n",
       "      <td>0.000000</td>\n",
       "      <td>60.907221</td>\n",
       "      <td>8.521732</td>\n",
       "      <td>0.000000</td>\n",
       "      <td>45.915848</td>\n",
       "      <td>2.222244</td>\n",
       "      <td>3.755957</td>\n",
       "    </tr>\n",
       "    <tr>\n",
       "      <th>7776</th>\n",
       "      <td>0.000000</td>\n",
       "      <td>60.911248</td>\n",
       "      <td>8.447737</td>\n",
       "      <td>0.000000</td>\n",
       "      <td>45.490291</td>\n",
       "      <td>2.259861</td>\n",
       "      <td>3.723272</td>\n",
       "    </tr>\n",
       "    <tr>\n",
       "      <th>7777</th>\n",
       "      <td>0.000000</td>\n",
       "      <td>61.087135</td>\n",
       "      <td>8.519606</td>\n",
       "      <td>0.000000</td>\n",
       "      <td>45.152137</td>\n",
       "      <td>2.314347</td>\n",
       "      <td>3.747129</td>\n",
       "    </tr>\n",
       "    <tr>\n",
       "      <th>7788</th>\n",
       "      <td>0.000000</td>\n",
       "      <td>61.144151</td>\n",
       "      <td>8.387933</td>\n",
       "      <td>0.000000</td>\n",
       "      <td>46.022685</td>\n",
       "      <td>2.201459</td>\n",
       "      <td>3.667957</td>\n",
       "    </tr>\n",
       "    <tr>\n",
       "      <th>7832</th>\n",
       "      <td>0.000000</td>\n",
       "      <td>61.224364</td>\n",
       "      <td>6.771247</td>\n",
       "      <td>0.000000</td>\n",
       "      <td>45.790924</td>\n",
       "      <td>1.679144</td>\n",
       "      <td>2.886964</td>\n",
       "    </tr>\n",
       "    <tr>\n",
       "      <th>6632</th>\n",
       "      <td>0.000000</td>\n",
       "      <td>61.253416</td>\n",
       "      <td>8.508578</td>\n",
       "      <td>0.000000</td>\n",
       "      <td>45.521425</td>\n",
       "      <td>2.011216</td>\n",
       "      <td>3.723038</td>\n",
       "    </tr>\n",
       "    <tr>\n",
       "      <th>7778</th>\n",
       "      <td>0.000000</td>\n",
       "      <td>61.291003</td>\n",
       "      <td>8.634029</td>\n",
       "      <td>0.000000</td>\n",
       "      <td>44.390017</td>\n",
       "      <td>2.333138</td>\n",
       "      <td>3.794501</td>\n",
       "    </tr>\n",
       "    <tr>\n",
       "      <th>7857</th>\n",
       "      <td>0.000000</td>\n",
       "      <td>61.502354</td>\n",
       "      <td>8.240184</td>\n",
       "      <td>0.000000</td>\n",
       "      <td>47.404120</td>\n",
       "      <td>2.119512</td>\n",
       "      <td>3.552018</td>\n",
       "    </tr>\n",
       "    <tr>\n",
       "      <th>7827</th>\n",
       "      <td>0.000000</td>\n",
       "      <td>61.556544</td>\n",
       "      <td>7.554027</td>\n",
       "      <td>0.000000</td>\n",
       "      <td>44.399357</td>\n",
       "      <td>1.964545</td>\n",
       "      <td>3.243751</td>\n",
       "    </tr>\n",
       "    <tr>\n",
       "      <th>6669</th>\n",
       "      <td>0.000000</td>\n",
       "      <td>61.573512</td>\n",
       "      <td>6.083029</td>\n",
       "      <td>0.000000</td>\n",
       "      <td>46.948134</td>\n",
       "      <td>1.308477</td>\n",
       "      <td>2.540148</td>\n",
       "    </tr>\n",
       "    <tr>\n",
       "      <th>9362</th>\n",
       "      <td>0.000000</td>\n",
       "      <td>61.655562</td>\n",
       "      <td>7.114252</td>\n",
       "      <td>0.000000</td>\n",
       "      <td>46.865783</td>\n",
       "      <td>1.743868</td>\n",
       "      <td>3.009599</td>\n",
       "    </tr>\n",
       "    <tr>\n",
       "      <th>9360</th>\n",
       "      <td>0.000000</td>\n",
       "      <td>61.800733</td>\n",
       "      <td>6.926825</td>\n",
       "      <td>0.000000</td>\n",
       "      <td>45.413243</td>\n",
       "      <td>1.656351</td>\n",
       "      <td>2.921377</td>\n",
       "    </tr>\n",
       "    <tr>\n",
       "      <th>7782</th>\n",
       "      <td>0.000000</td>\n",
       "      <td>61.968818</td>\n",
       "      <td>8.104258</td>\n",
       "      <td>0.000000</td>\n",
       "      <td>44.898837</td>\n",
       "      <td>2.058628</td>\n",
       "      <td>3.470314</td>\n",
       "    </tr>\n",
       "    <tr>\n",
       "      <th>4907</th>\n",
       "      <td>0.000000</td>\n",
       "      <td>62.347548</td>\n",
       "      <td>8.393284</td>\n",
       "      <td>0.000000</td>\n",
       "      <td>47.229423</td>\n",
       "      <td>1.554851</td>\n",
       "      <td>3.554067</td>\n",
       "    </tr>\n",
       "    <tr>\n",
       "      <th>7839</th>\n",
       "      <td>0.000000</td>\n",
       "      <td>62.423294</td>\n",
       "      <td>7.082563</td>\n",
       "      <td>0.000000</td>\n",
       "      <td>48.636117</td>\n",
       "      <td>1.956171</td>\n",
       "      <td>2.927514</td>\n",
       "    </tr>\n",
       "    <tr>\n",
       "      <th>9361</th>\n",
       "      <td>0.000000</td>\n",
       "      <td>62.550051</td>\n",
       "      <td>7.069910</td>\n",
       "      <td>0.000000</td>\n",
       "      <td>46.618787</td>\n",
       "      <td>1.673123</td>\n",
       "      <td>2.925156</td>\n",
       "    </tr>\n",
       "    <tr>\n",
       "      <th>2083</th>\n",
       "      <td>0.000000</td>\n",
       "      <td>62.872025</td>\n",
       "      <td>8.181648</td>\n",
       "      <td>0.000000</td>\n",
       "      <td>41.645657</td>\n",
       "      <td>2.468701</td>\n",
       "      <td>3.465763</td>\n",
       "    </tr>\n",
       "    <tr>\n",
       "      <th>7814</th>\n",
       "      <td>0.000000</td>\n",
       "      <td>63.023802</td>\n",
       "      <td>8.294662</td>\n",
       "      <td>0.000000</td>\n",
       "      <td>45.671483</td>\n",
       "      <td>2.072503</td>\n",
       "      <td>3.463485</td>\n",
       "    </tr>\n",
       "    <tr>\n",
       "      <th>9474</th>\n",
       "      <td>0.000000</td>\n",
       "      <td>63.101966</td>\n",
       "      <td>8.500855</td>\n",
       "      <td>0.000000</td>\n",
       "      <td>49.453136</td>\n",
       "      <td>1.948137</td>\n",
       "      <td>3.518278</td>\n",
       "    </tr>\n",
       "    <tr>\n",
       "      <th>4002</th>\n",
       "      <td>0.000000</td>\n",
       "      <td>63.132333</td>\n",
       "      <td>8.112804</td>\n",
       "      <td>0.000000</td>\n",
       "      <td>44.064508</td>\n",
       "      <td>3.012315</td>\n",
       "      <td>3.384382</td>\n",
       "    </tr>\n",
       "    <tr>\n",
       "      <th>2082</th>\n",
       "      <td>0.000000</td>\n",
       "      <td>63.202151</td>\n",
       "      <td>8.260234</td>\n",
       "      <td>0.000000</td>\n",
       "      <td>41.010316</td>\n",
       "      <td>2.764715</td>\n",
       "      <td>3.482974</td>\n",
       "    </tr>\n",
       "    <tr>\n",
       "      <th>4908</th>\n",
       "      <td>0.000000</td>\n",
       "      <td>63.235187</td>\n",
       "      <td>8.564058</td>\n",
       "      <td>0.000000</td>\n",
       "      <td>45.180202</td>\n",
       "      <td>1.526696</td>\n",
       "      <td>3.577358</td>\n",
       "    </tr>\n",
       "    <tr>\n",
       "      <th>7813</th>\n",
       "      <td>0.000000</td>\n",
       "      <td>63.504427</td>\n",
       "      <td>8.480490</td>\n",
       "      <td>0.000000</td>\n",
       "      <td>45.908205</td>\n",
       "      <td>2.107220</td>\n",
       "      <td>3.506331</td>\n",
       "    </tr>\n",
       "    <tr>\n",
       "      <th>7833</th>\n",
       "      <td>0.000000</td>\n",
       "      <td>63.515875</td>\n",
       "      <td>7.893491</td>\n",
       "      <td>0.000000</td>\n",
       "      <td>45.408374</td>\n",
       "      <td>1.961696</td>\n",
       "      <td>3.237308</td>\n",
       "    </tr>\n",
       "    <tr>\n",
       "      <th>7826</th>\n",
       "      <td>0.000000</td>\n",
       "      <td>63.838131</td>\n",
       "      <td>8.034740</td>\n",
       "      <td>0.000000</td>\n",
       "      <td>43.614688</td>\n",
       "      <td>1.872848</td>\n",
       "      <td>3.292750</td>\n",
       "    </tr>\n",
       "    <tr>\n",
       "      <th>6670</th>\n",
       "      <td>0.000000</td>\n",
       "      <td>63.841094</td>\n",
       "      <td>6.251531</td>\n",
       "      <td>0.000000</td>\n",
       "      <td>48.021070</td>\n",
       "      <td>1.314186</td>\n",
       "      <td>2.465384</td>\n",
       "    </tr>\n",
       "    <tr>\n",
       "      <th>7809</th>\n",
       "      <td>0.000000</td>\n",
       "      <td>64.060036</td>\n",
       "      <td>8.115059</td>\n",
       "      <td>0.000000</td>\n",
       "      <td>43.936594</td>\n",
       "      <td>2.065625</td>\n",
       "      <td>3.307939</td>\n",
       "    </tr>\n",
       "    <tr>\n",
       "      <th>7810</th>\n",
       "      <td>0.000000</td>\n",
       "      <td>64.092204</td>\n",
       "      <td>8.591181</td>\n",
       "      <td>0.000000</td>\n",
       "      <td>44.622845</td>\n",
       "      <td>2.159761</td>\n",
       "      <td>3.519153</td>\n",
       "    </tr>\n",
       "    <tr>\n",
       "      <th>7812</th>\n",
       "      <td>0.000000</td>\n",
       "      <td>64.100671</td>\n",
       "      <td>8.598588</td>\n",
       "      <td>0.000000</td>\n",
       "      <td>45.782106</td>\n",
       "      <td>2.237280</td>\n",
       "      <td>3.509327</td>\n",
       "    </tr>\n",
       "    <tr>\n",
       "      <th>7807</th>\n",
       "      <td>0.000000</td>\n",
       "      <td>64.172836</td>\n",
       "      <td>7.164124</td>\n",
       "      <td>0.000000</td>\n",
       "      <td>44.310061</td>\n",
       "      <td>1.528715</td>\n",
       "      <td>2.863842</td>\n",
       "    </tr>\n",
       "    <tr>\n",
       "      <th>9462</th>\n",
       "      <td>0.000000</td>\n",
       "      <td>64.262450</td>\n",
       "      <td>6.004868</td>\n",
       "      <td>0.000000</td>\n",
       "      <td>47.032412</td>\n",
       "      <td>0.875524</td>\n",
       "      <td>2.337803</td>\n",
       "    </tr>\n",
       "    <tr>\n",
       "      <th>8758</th>\n",
       "      <td>0.000000</td>\n",
       "      <td>64.395577</td>\n",
       "      <td>7.349798</td>\n",
       "      <td>0.000000</td>\n",
       "      <td>39.910544</td>\n",
       "      <td>2.348055</td>\n",
       "      <td>2.968936</td>\n",
       "    </tr>\n",
       "    <tr>\n",
       "      <th>4001</th>\n",
       "      <td>0.000000</td>\n",
       "      <td>64.400727</td>\n",
       "      <td>7.915999</td>\n",
       "      <td>0.000000</td>\n",
       "      <td>43.538543</td>\n",
       "      <td>2.774584</td>\n",
       "      <td>3.191764</td>\n",
       "    </tr>\n",
       "    <tr>\n",
       "      <th>7811</th>\n",
       "      <td>0.000000</td>\n",
       "      <td>64.615404</td>\n",
       "      <td>8.608373</td>\n",
       "      <td>0.000000</td>\n",
       "      <td>45.804738</td>\n",
       "      <td>2.210200</td>\n",
       "      <td>3.467064</td>\n",
       "    </tr>\n",
       "    <tr>\n",
       "      <th>7802</th>\n",
       "      <td>0.000000</td>\n",
       "      <td>64.625899</td>\n",
       "      <td>8.940976</td>\n",
       "      <td>0.000000</td>\n",
       "      <td>45.891571</td>\n",
       "      <td>2.162258</td>\n",
       "      <td>3.618378</td>\n",
       "    </tr>\n",
       "    <tr>\n",
       "      <th>14082</th>\n",
       "      <td>99.273212</td>\n",
       "      <td>65.156498</td>\n",
       "      <td>2.493857</td>\n",
       "      <td>20.067890</td>\n",
       "      <td>43.909619</td>\n",
       "      <td>0.020676</td>\n",
       "      <td>0.902339</td>\n",
       "    </tr>\n",
       "    <tr>\n",
       "      <th>7153</th>\n",
       "      <td>0.000000</td>\n",
       "      <td>65.222721</td>\n",
       "      <td>8.178291</td>\n",
       "      <td>0.000000</td>\n",
       "      <td>43.102181</td>\n",
       "      <td>2.461785</td>\n",
       "      <td>3.245881</td>\n",
       "    </tr>\n",
       "    <tr>\n",
       "      <th>4005</th>\n",
       "      <td>0.000000</td>\n",
       "      <td>65.239637</td>\n",
       "      <td>8.940835</td>\n",
       "      <td>0.000000</td>\n",
       "      <td>43.018751</td>\n",
       "      <td>2.892905</td>\n",
       "      <td>3.595367</td>\n",
       "    </tr>\n",
       "    <tr>\n",
       "      <th>4915</th>\n",
       "      <td>0.000000</td>\n",
       "      <td>65.374588</td>\n",
       "      <td>8.020591</td>\n",
       "      <td>0.000000</td>\n",
       "      <td>46.181711</td>\n",
       "      <td>1.783515</td>\n",
       "      <td>3.132865</td>\n",
       "    </tr>\n",
       "    <tr>\n",
       "      <th>6629</th>\n",
       "      <td>0.000000</td>\n",
       "      <td>65.540131</td>\n",
       "      <td>7.913378</td>\n",
       "      <td>0.000000</td>\n",
       "      <td>46.581372</td>\n",
       "      <td>1.982936</td>\n",
       "      <td>3.068602</td>\n",
       "    </tr>\n",
       "    <tr>\n",
       "      <th>7146</th>\n",
       "      <td>0.000000</td>\n",
       "      <td>65.658146</td>\n",
       "      <td>7.977409</td>\n",
       "      <td>0.000000</td>\n",
       "      <td>45.244155</td>\n",
       "      <td>2.020626</td>\n",
       "      <td>3.098270</td>\n",
       "    </tr>\n",
       "    <tr>\n",
       "      <th>7808</th>\n",
       "      <td>0.000000</td>\n",
       "      <td>65.828001</td>\n",
       "      <td>7.876580</td>\n",
       "      <td>0.000000</td>\n",
       "      <td>43.463263</td>\n",
       "      <td>1.901785</td>\n",
       "      <td>3.056174</td>\n",
       "    </tr>\n",
       "    <tr>\n",
       "      <th>8751</th>\n",
       "      <td>0.000000</td>\n",
       "      <td>66.217237</td>\n",
       "      <td>6.891225</td>\n",
       "      <td>0.000000</td>\n",
       "      <td>42.202142</td>\n",
       "      <td>2.123876</td>\n",
       "      <td>2.610288</td>\n",
       "    </tr>\n",
       "    <tr>\n",
       "      <th>6630</th>\n",
       "      <td>0.000000</td>\n",
       "      <td>66.438122</td>\n",
       "      <td>8.123892</td>\n",
       "      <td>0.000000</td>\n",
       "      <td>46.037549</td>\n",
       "      <td>1.818593</td>\n",
       "      <td>3.088637</td>\n",
       "    </tr>\n",
       "    <tr>\n",
       "      <th>8632</th>\n",
       "      <td>0.000000</td>\n",
       "      <td>66.481671</td>\n",
       "      <td>5.714217</td>\n",
       "      <td>0.000000</td>\n",
       "      <td>46.487856</td>\n",
       "      <td>1.733275</td>\n",
       "      <td>2.085754</td>\n",
       "    </tr>\n",
       "    <tr>\n",
       "      <th>10192</th>\n",
       "      <td>0.000000</td>\n",
       "      <td>66.628804</td>\n",
       "      <td>11.093314</td>\n",
       "      <td>0.000000</td>\n",
       "      <td>45.790961</td>\n",
       "      <td>2.073150</td>\n",
       "      <td>4.414545</td>\n",
       "    </tr>\n",
       "    <tr>\n",
       "      <th>10195</th>\n",
       "      <td>0.000000</td>\n",
       "      <td>67.002601</td>\n",
       "      <td>11.202655</td>\n",
       "      <td>0.000000</td>\n",
       "      <td>46.268633</td>\n",
       "      <td>2.131632</td>\n",
       "      <td>4.412400</td>\n",
       "    </tr>\n",
       "    <tr>\n",
       "      <th>6671</th>\n",
       "      <td>0.000000</td>\n",
       "      <td>67.047553</td>\n",
       "      <td>6.718812</td>\n",
       "      <td>0.000000</td>\n",
       "      <td>48.011013</td>\n",
       "      <td>1.151405</td>\n",
       "      <td>2.443260</td>\n",
       "    </tr>\n",
       "    <tr>\n",
       "      <th>10196</th>\n",
       "      <td>0.000000</td>\n",
       "      <td>67.086662</td>\n",
       "      <td>11.212868</td>\n",
       "      <td>0.000000</td>\n",
       "      <td>46.300858</td>\n",
       "      <td>2.117611</td>\n",
       "      <td>4.406426</td>\n",
       "    </tr>\n",
       "    <tr>\n",
       "      <th>7145</th>\n",
       "      <td>0.000000</td>\n",
       "      <td>67.107857</td>\n",
       "      <td>8.052155</td>\n",
       "      <td>0.000000</td>\n",
       "      <td>44.277423</td>\n",
       "      <td>2.146695</td>\n",
       "      <td>3.016683</td>\n",
       "    </tr>\n",
       "    <tr>\n",
       "      <th>1966</th>\n",
       "      <td>0.000000</td>\n",
       "      <td>67.108895</td>\n",
       "      <td>11.905783</td>\n",
       "      <td>0.000000</td>\n",
       "      <td>39.519911</td>\n",
       "      <td>2.409091</td>\n",
       "      <td>4.908259</td>\n",
       "    </tr>\n",
       "    <tr>\n",
       "      <th>1239</th>\n",
       "      <td>99.132729</td>\n",
       "      <td>67.331383</td>\n",
       "      <td>5.984961</td>\n",
       "      <td>12.493765</td>\n",
       "      <td>37.068745</td>\n",
       "      <td>0.098846</td>\n",
       "      <td>2.193680</td>\n",
       "    </tr>\n",
       "    <tr>\n",
       "      <th>4904</th>\n",
       "      <td>0.000000</td>\n",
       "      <td>67.533426</td>\n",
       "      <td>8.489867</td>\n",
       "      <td>0.000000</td>\n",
       "      <td>46.537478</td>\n",
       "      <td>1.791360</td>\n",
       "      <td>3.143675</td>\n",
       "    </tr>\n",
       "    <tr>\n",
       "      <th>7147</th>\n",
       "      <td>0.000000</td>\n",
       "      <td>67.557678</td>\n",
       "      <td>8.280156</td>\n",
       "      <td>0.000000</td>\n",
       "      <td>46.161764</td>\n",
       "      <td>1.785209</td>\n",
       "      <td>3.056684</td>\n",
       "    </tr>\n",
       "    <tr>\n",
       "      <th>10197</th>\n",
       "      <td>0.000000</td>\n",
       "      <td>67.625484</td>\n",
       "      <td>11.367684</td>\n",
       "      <td>0.000000</td>\n",
       "      <td>46.623551</td>\n",
       "      <td>2.102782</td>\n",
       "      <td>4.406849</td>\n",
       "    </tr>\n",
       "    <tr>\n",
       "      <th>6675</th>\n",
       "      <td>0.000000</td>\n",
       "      <td>67.663871</td>\n",
       "      <td>7.559457</td>\n",
       "      <td>0.000000</td>\n",
       "      <td>47.599060</td>\n",
       "      <td>1.536824</td>\n",
       "      <td>2.738742</td>\n",
       "    </tr>\n",
       "    <tr>\n",
       "      <th>6635</th>\n",
       "      <td>0.000000</td>\n",
       "      <td>67.761601</td>\n",
       "      <td>8.587634</td>\n",
       "      <td>0.000000</td>\n",
       "      <td>43.296825</td>\n",
       "      <td>2.001665</td>\n",
       "      <td>3.198380</td>\n",
       "    </tr>\n",
       "    <tr>\n",
       "      <th>13386</th>\n",
       "      <td>99.310228</td>\n",
       "      <td>67.843186</td>\n",
       "      <td>2.991564</td>\n",
       "      <td>18.649950</td>\n",
       "      <td>45.044154</td>\n",
       "      <td>0.024545</td>\n",
       "      <td>1.007382</td>\n",
       "    </tr>\n",
       "    <tr>\n",
       "      <th>6636</th>\n",
       "      <td>0.000000</td>\n",
       "      <td>67.860942</td>\n",
       "      <td>8.327310</td>\n",
       "      <td>0.000000</td>\n",
       "      <td>43.039612</td>\n",
       "      <td>1.943531</td>\n",
       "      <td>3.080823</td>\n",
       "    </tr>\n",
       "    <tr>\n",
       "      <th>7152</th>\n",
       "      <td>0.000000</td>\n",
       "      <td>68.181190</td>\n",
       "      <td>7.807340</td>\n",
       "      <td>0.000000</td>\n",
       "      <td>41.868643</td>\n",
       "      <td>2.224892</td>\n",
       "      <td>2.846046</td>\n",
       "    </tr>\n",
       "    <tr>\n",
       "      <th>6631</th>\n",
       "      <td>0.000000</td>\n",
       "      <td>68.192284</td>\n",
       "      <td>8.369773</td>\n",
       "      <td>0.000000</td>\n",
       "      <td>45.025279</td>\n",
       "      <td>1.898798</td>\n",
       "      <td>3.048696</td>\n",
       "    </tr>\n",
       "    <tr>\n",
       "      <th>10198</th>\n",
       "      <td>0.000000</td>\n",
       "      <td>68.228192</td>\n",
       "      <td>10.825607</td>\n",
       "      <td>0.000000</td>\n",
       "      <td>46.562212</td>\n",
       "      <td>1.979528</td>\n",
       "      <td>4.087960</td>\n",
       "    </tr>\n",
       "    <tr>\n",
       "      <th>6637</th>\n",
       "      <td>0.000000</td>\n",
       "      <td>68.269009</td>\n",
       "      <td>8.194505</td>\n",
       "      <td>0.000000</td>\n",
       "      <td>43.185160</td>\n",
       "      <td>1.858047</td>\n",
       "      <td>2.987161</td>\n",
       "    </tr>\n",
       "    <tr>\n",
       "      <th>7149</th>\n",
       "      <td>0.000000</td>\n",
       "      <td>68.336056</td>\n",
       "      <td>8.105267</td>\n",
       "      <td>0.000000</td>\n",
       "      <td>45.513052</td>\n",
       "      <td>1.897243</td>\n",
       "      <td>2.922054</td>\n",
       "    </tr>\n",
       "    <tr>\n",
       "      <th>45</th>\n",
       "      <td>0.000000</td>\n",
       "      <td>68.403877</td>\n",
       "      <td>7.114065</td>\n",
       "      <td>0.000000</td>\n",
       "      <td>46.614456</td>\n",
       "      <td>1.939811</td>\n",
       "      <td>2.509776</td>\n",
       "    </tr>\n",
       "    <tr>\n",
       "      <th>50</th>\n",
       "      <td>0.000000</td>\n",
       "      <td>68.638723</td>\n",
       "      <td>7.039270</td>\n",
       "      <td>0.000000</td>\n",
       "      <td>45.267942</td>\n",
       "      <td>2.047653</td>\n",
       "      <td>2.471388</td>\n",
       "    </tr>\n",
       "    <tr>\n",
       "      <th>10246</th>\n",
       "      <td>0.000000</td>\n",
       "      <td>68.751526</td>\n",
       "      <td>8.238573</td>\n",
       "      <td>0.000000</td>\n",
       "      <td>50.276112</td>\n",
       "      <td>1.334407</td>\n",
       "      <td>2.901290</td>\n",
       "    </tr>\n",
       "    <tr>\n",
       "      <th>7148</th>\n",
       "      <td>0.000000</td>\n",
       "      <td>68.929531</td>\n",
       "      <td>8.271775</td>\n",
       "      <td>0.000000</td>\n",
       "      <td>45.607021</td>\n",
       "      <td>1.894840</td>\n",
       "      <td>2.937294</td>\n",
       "    </tr>\n",
       "    <tr>\n",
       "      <th>6674</th>\n",
       "      <td>0.000000</td>\n",
       "      <td>69.069721</td>\n",
       "      <td>7.191985</td>\n",
       "      <td>0.000000</td>\n",
       "      <td>47.319128</td>\n",
       "      <td>1.510978</td>\n",
       "      <td>2.485416</td>\n",
       "    </tr>\n",
       "    <tr>\n",
       "      <th>5504</th>\n",
       "      <td>99.254694</td>\n",
       "      <td>69.113796</td>\n",
       "      <td>11.191353</td>\n",
       "      <td>22.276749</td>\n",
       "      <td>44.915975</td>\n",
       "      <td>0.166365</td>\n",
       "      <td>4.175654</td>\n",
       "    </tr>\n",
       "    <tr>\n",
       "      <th>9258</th>\n",
       "      <td>0.000000</td>\n",
       "      <td>69.363346</td>\n",
       "      <td>7.762165</td>\n",
       "      <td>0.000000</td>\n",
       "      <td>42.680673</td>\n",
       "      <td>1.531770</td>\n",
       "      <td>2.721363</td>\n",
       "    </tr>\n",
       "    <tr>\n",
       "      <th>10194</th>\n",
       "      <td>0.000000</td>\n",
       "      <td>69.386317</td>\n",
       "      <td>11.192051</td>\n",
       "      <td>0.000000</td>\n",
       "      <td>45.348834</td>\n",
       "      <td>2.025357</td>\n",
       "      <td>4.134272</td>\n",
       "    </tr>\n",
       "    <tr>\n",
       "      <th>6634</th>\n",
       "      <td>0.000000</td>\n",
       "      <td>69.470777</td>\n",
       "      <td>8.565233</td>\n",
       "      <td>0.000000</td>\n",
       "      <td>43.350740</td>\n",
       "      <td>1.866652</td>\n",
       "      <td>3.030925</td>\n",
       "    </tr>\n",
       "    <tr>\n",
       "      <th>10190</th>\n",
       "      <td>0.000000</td>\n",
       "      <td>69.477781</td>\n",
       "      <td>11.268644</td>\n",
       "      <td>0.000000</td>\n",
       "      <td>46.400083</td>\n",
       "      <td>2.037571</td>\n",
       "      <td>4.137585</td>\n",
       "    </tr>\n",
       "    <tr>\n",
       "      <th>10191</th>\n",
       "      <td>0.000000</td>\n",
       "      <td>69.479282</td>\n",
       "      <td>11.387928</td>\n",
       "      <td>0.000000</td>\n",
       "      <td>46.346654</td>\n",
       "      <td>2.078337</td>\n",
       "      <td>4.191193</td>\n",
       "    </tr>\n",
       "    <tr>\n",
       "      <th>4006</th>\n",
       "      <td>0.000000</td>\n",
       "      <td>69.502636</td>\n",
       "      <td>9.224323</td>\n",
       "      <td>0.000000</td>\n",
       "      <td>43.927370</td>\n",
       "      <td>2.587677</td>\n",
       "      <td>3.293919</td>\n",
       "    </tr>\n",
       "    <tr>\n",
       "      <th>10245</th>\n",
       "      <td>0.000000</td>\n",
       "      <td>69.536218</td>\n",
       "      <td>8.784931</td>\n",
       "      <td>0.000000</td>\n",
       "      <td>49.430460</td>\n",
       "      <td>1.639836</td>\n",
       "      <td>3.053591</td>\n",
       "    </tr>\n",
       "    <tr>\n",
       "      <th>6633</th>\n",
       "      <td>0.000000</td>\n",
       "      <td>69.606922</td>\n",
       "      <td>8.443416</td>\n",
       "      <td>0.000000</td>\n",
       "      <td>44.093934</td>\n",
       "      <td>1.900458</td>\n",
       "      <td>2.960862</td>\n",
       "    </tr>\n",
       "    <tr>\n",
       "      <th>10193</th>\n",
       "      <td>0.000000</td>\n",
       "      <td>69.856663</td>\n",
       "      <td>11.143440</td>\n",
       "      <td>0.000000</td>\n",
       "      <td>45.250698</td>\n",
       "      <td>2.121210</td>\n",
       "      <td>4.056911</td>\n",
       "    </tr>\n",
       "    <tr>\n",
       "      <th>6673</th>\n",
       "      <td>0.000000</td>\n",
       "      <td>69.867121</td>\n",
       "      <td>7.035310</td>\n",
       "      <td>0.000000</td>\n",
       "      <td>47.104891</td>\n",
       "      <td>1.402761</td>\n",
       "      <td>2.366929</td>\n",
       "    </tr>\n",
       "    <tr>\n",
       "      <th>10229</th>\n",
       "      <td>0.000000</td>\n",
       "      <td>70.064649</td>\n",
       "      <td>12.433451</td>\n",
       "      <td>0.000000</td>\n",
       "      <td>44.487885</td>\n",
       "      <td>2.097414</td>\n",
       "      <td>4.628293</td>\n",
       "    </tr>\n",
       "    <tr>\n",
       "      <th>6686</th>\n",
       "      <td>0.000000</td>\n",
       "      <td>70.107146</td>\n",
       "      <td>6.458412</td>\n",
       "      <td>0.000000</td>\n",
       "      <td>43.267454</td>\n",
       "      <td>1.224689</td>\n",
       "      <td>2.156249</td>\n",
       "    </tr>\n",
       "    <tr>\n",
       "      <th>6685</th>\n",
       "      <td>0.000000</td>\n",
       "      <td>70.288785</td>\n",
       "      <td>6.885298</td>\n",
       "      <td>0.000000</td>\n",
       "      <td>43.077347</td>\n",
       "      <td>1.308821</td>\n",
       "      <td>2.304622</td>\n",
       "    </tr>\n",
       "    <tr>\n",
       "      <th>9473</th>\n",
       "      <td>0.000000</td>\n",
       "      <td>70.317983</td>\n",
       "      <td>7.930042</td>\n",
       "      <td>0.000000</td>\n",
       "      <td>49.041658</td>\n",
       "      <td>1.271197</td>\n",
       "      <td>2.655769</td>\n",
       "    </tr>\n",
       "    <tr>\n",
       "      <th>7150</th>\n",
       "      <td>0.000000</td>\n",
       "      <td>70.476388</td>\n",
       "      <td>7.964794</td>\n",
       "      <td>0.000000</td>\n",
       "      <td>44.583562</td>\n",
       "      <td>1.836489</td>\n",
       "      <td>2.690205</td>\n",
       "    </tr>\n",
       "    <tr>\n",
       "      <th>10242</th>\n",
       "      <td>0.000000</td>\n",
       "      <td>70.614905</td>\n",
       "      <td>10.254722</td>\n",
       "      <td>0.000000</td>\n",
       "      <td>44.464371</td>\n",
       "      <td>1.839173</td>\n",
       "      <td>3.599579</td>\n",
       "    </tr>\n",
       "    <tr>\n",
       "      <th>10189</th>\n",
       "      <td>0.000000</td>\n",
       "      <td>70.636204</td>\n",
       "      <td>11.374226</td>\n",
       "      <td>0.000000</td>\n",
       "      <td>46.788199</td>\n",
       "      <td>1.906697</td>\n",
       "      <td>4.032322</td>\n",
       "    </tr>\n",
       "    <tr>\n",
       "      <th>46</th>\n",
       "      <td>0.000000</td>\n",
       "      <td>70.675633</td>\n",
       "      <td>7.651522</td>\n",
       "      <td>0.000000</td>\n",
       "      <td>46.250638</td>\n",
       "      <td>2.087628</td>\n",
       "      <td>2.540843</td>\n",
       "    </tr>\n",
       "    <tr>\n",
       "      <th>5040</th>\n",
       "      <td>0.000000</td>\n",
       "      <td>70.783795</td>\n",
       "      <td>10.700319</td>\n",
       "      <td>0.000000</td>\n",
       "      <td>44.863390</td>\n",
       "      <td>2.209001</td>\n",
       "      <td>3.761217</td>\n",
       "    </tr>\n",
       "    <tr>\n",
       "      <th>7151</th>\n",
       "      <td>0.000000</td>\n",
       "      <td>71.106646</td>\n",
       "      <td>7.816623</td>\n",
       "      <td>0.000000</td>\n",
       "      <td>42.522526</td>\n",
       "      <td>1.847301</td>\n",
       "      <td>2.598081</td>\n",
       "    </tr>\n",
       "    <tr>\n",
       "      <th>9257</th>\n",
       "      <td>0.000000</td>\n",
       "      <td>71.283936</td>\n",
       "      <td>8.004946</td>\n",
       "      <td>0.000000</td>\n",
       "      <td>41.566094</td>\n",
       "      <td>1.633966</td>\n",
       "      <td>2.664490</td>\n",
       "    </tr>\n",
       "    <tr>\n",
       "      <th>4903</th>\n",
       "      <td>0.000000</td>\n",
       "      <td>71.464440</td>\n",
       "      <td>8.520324</td>\n",
       "      <td>0.000000</td>\n",
       "      <td>46.646369</td>\n",
       "      <td>1.730570</td>\n",
       "      <td>2.796344</td>\n",
       "    </tr>\n",
       "    <tr>\n",
       "      <th>10233</th>\n",
       "      <td>0.000000</td>\n",
       "      <td>71.588621</td>\n",
       "      <td>12.003506</td>\n",
       "      <td>0.000000</td>\n",
       "      <td>46.620669</td>\n",
       "      <td>2.264015</td>\n",
       "      <td>4.181007</td>\n",
       "    </tr>\n",
       "    <tr>\n",
       "      <th>10241</th>\n",
       "      <td>0.000000</td>\n",
       "      <td>71.760288</td>\n",
       "      <td>11.688486</td>\n",
       "      <td>0.000000</td>\n",
       "      <td>44.610188</td>\n",
       "      <td>2.106715</td>\n",
       "      <td>4.065128</td>\n",
       "    </tr>\n",
       "    <tr>\n",
       "      <th>6672</th>\n",
       "      <td>0.000000</td>\n",
       "      <td>71.851707</td>\n",
       "      <td>7.087938</td>\n",
       "      <td>0.000000</td>\n",
       "      <td>47.652705</td>\n",
       "      <td>1.205487</td>\n",
       "      <td>2.233875</td>\n",
       "    </tr>\n",
       "    <tr>\n",
       "      <th>51</th>\n",
       "      <td>0.000000</td>\n",
       "      <td>72.136712</td>\n",
       "      <td>7.321526</td>\n",
       "      <td>0.000000</td>\n",
       "      <td>43.237493</td>\n",
       "      <td>2.011165</td>\n",
       "      <td>2.323883</td>\n",
       "    </tr>\n",
       "    <tr>\n",
       "      <th>10230</th>\n",
       "      <td>0.000000</td>\n",
       "      <td>72.178655</td>\n",
       "      <td>12.277335</td>\n",
       "      <td>0.000000</td>\n",
       "      <td>43.822984</td>\n",
       "      <td>2.061912</td>\n",
       "      <td>4.281498</td>\n",
       "    </tr>\n",
       "    <tr>\n",
       "      <th>4007</th>\n",
       "      <td>0.000000</td>\n",
       "      <td>72.364123</td>\n",
       "      <td>9.086508</td>\n",
       "      <td>0.000000</td>\n",
       "      <td>43.902936</td>\n",
       "      <td>2.162720</td>\n",
       "      <td>2.953481</td>\n",
       "    </tr>\n",
       "    <tr>\n",
       "      <th>10232</th>\n",
       "      <td>0.000000</td>\n",
       "      <td>72.463162</td>\n",
       "      <td>12.021930</td>\n",
       "      <td>0.000000</td>\n",
       "      <td>45.803183</td>\n",
       "      <td>2.294895</td>\n",
       "      <td>4.087964</td>\n",
       "    </tr>\n",
       "    <tr>\n",
       "      <th>10188</th>\n",
       "      <td>0.000000</td>\n",
       "      <td>72.518991</td>\n",
       "      <td>11.217886</td>\n",
       "      <td>0.000000</td>\n",
       "      <td>45.679365</td>\n",
       "      <td>1.647642</td>\n",
       "      <td>3.750767</td>\n",
       "    </tr>\n",
       "    <tr>\n",
       "      <th>11797</th>\n",
       "      <td>99.388354</td>\n",
       "      <td>72.619181</td>\n",
       "      <td>8.757811</td>\n",
       "      <td>9.070602</td>\n",
       "      <td>44.023776</td>\n",
       "      <td>1.326253</td>\n",
       "      <td>2.802875</td>\n",
       "    </tr>\n",
       "    <tr>\n",
       "      <th>10234</th>\n",
       "      <td>0.000000</td>\n",
       "      <td>72.657112</td>\n",
       "      <td>12.136767</td>\n",
       "      <td>0.000000</td>\n",
       "      <td>45.882577</td>\n",
       "      <td>2.009927</td>\n",
       "      <td>4.108079</td>\n",
       "    </tr>\n",
       "    <tr>\n",
       "      <th>1243</th>\n",
       "      <td>0.000000</td>\n",
       "      <td>72.707062</td>\n",
       "      <td>1.131434</td>\n",
       "      <td>0.000000</td>\n",
       "      <td>3.505267</td>\n",
       "      <td>1.816174</td>\n",
       "      <td>0.403496</td>\n",
       "    </tr>\n",
       "    <tr>\n",
       "      <th>13244</th>\n",
       "      <td>99.979041</td>\n",
       "      <td>72.744645</td>\n",
       "      <td>9.253592</td>\n",
       "      <td>9.265001</td>\n",
       "      <td>46.293931</td>\n",
       "      <td>1.346175</td>\n",
       "      <td>2.951231</td>\n",
       "    </tr>\n",
       "    <tr>\n",
       "      <th>10240</th>\n",
       "      <td>0.000000</td>\n",
       "      <td>72.781576</td>\n",
       "      <td>12.211314</td>\n",
       "      <td>0.000000</td>\n",
       "      <td>44.749300</td>\n",
       "      <td>2.211320</td>\n",
       "      <td>4.147444</td>\n",
       "    </tr>\n",
       "    <tr>\n",
       "      <th>10199</th>\n",
       "      <td>0.000000</td>\n",
       "      <td>72.909592</td>\n",
       "      <td>11.074136</td>\n",
       "      <td>0.000000</td>\n",
       "      <td>46.126902</td>\n",
       "      <td>1.779697</td>\n",
       "      <td>3.636580</td>\n",
       "    </tr>\n",
       "    <tr>\n",
       "      <th>5038</th>\n",
       "      <td>99.243261</td>\n",
       "      <td>73.325989</td>\n",
       "      <td>10.856375</td>\n",
       "      <td>11.218311</td>\n",
       "      <td>42.794154</td>\n",
       "      <td>2.075331</td>\n",
       "      <td>3.557617</td>\n",
       "    </tr>\n",
       "    <tr>\n",
       "      <th>9256</th>\n",
       "      <td>0.000000</td>\n",
       "      <td>73.483183</td>\n",
       "      <td>7.798814</td>\n",
       "      <td>0.000000</td>\n",
       "      <td>21.399486</td>\n",
       "      <td>1.693084</td>\n",
       "      <td>2.824367</td>\n",
       "    </tr>\n",
       "    <tr>\n",
       "      <th>10239</th>\n",
       "      <td>0.000000</td>\n",
       "      <td>73.681703</td>\n",
       "      <td>12.402545</td>\n",
       "      <td>0.000000</td>\n",
       "      <td>44.797719</td>\n",
       "      <td>2.140784</td>\n",
       "      <td>4.100639</td>\n",
       "    </tr>\n",
       "    <tr>\n",
       "      <th>10243</th>\n",
       "      <td>0.000000</td>\n",
       "      <td>73.988412</td>\n",
       "      <td>9.427106</td>\n",
       "      <td>0.000000</td>\n",
       "      <td>44.977750</td>\n",
       "      <td>1.596339</td>\n",
       "      <td>2.902202</td>\n",
       "    </tr>\n",
       "    <tr>\n",
       "      <th>10187</th>\n",
       "      <td>0.000000</td>\n",
       "      <td>74.143361</td>\n",
       "      <td>11.018052</td>\n",
       "      <td>0.000000</td>\n",
       "      <td>45.752388</td>\n",
       "      <td>1.822415</td>\n",
       "      <td>3.468139</td>\n",
       "    </tr>\n",
       "    <tr>\n",
       "      <th>10228</th>\n",
       "      <td>0.000000</td>\n",
       "      <td>74.470847</td>\n",
       "      <td>12.479606</td>\n",
       "      <td>0.000000</td>\n",
       "      <td>40.134135</td>\n",
       "      <td>1.853647</td>\n",
       "      <td>4.146009</td>\n",
       "    </tr>\n",
       "    <tr>\n",
       "      <th>10238</th>\n",
       "      <td>0.000000</td>\n",
       "      <td>74.512525</td>\n",
       "      <td>12.074766</td>\n",
       "      <td>0.000000</td>\n",
       "      <td>44.359659</td>\n",
       "      <td>2.067421</td>\n",
       "      <td>3.860570</td>\n",
       "    </tr>\n",
       "    <tr>\n",
       "      <th>10244</th>\n",
       "      <td>0.000000</td>\n",
       "      <td>74.547037</td>\n",
       "      <td>9.302464</td>\n",
       "      <td>0.000000</td>\n",
       "      <td>47.564891</td>\n",
       "      <td>1.599427</td>\n",
       "      <td>2.771878</td>\n",
       "    </tr>\n",
       "    <tr>\n",
       "      <th>10184</th>\n",
       "      <td>0.000000</td>\n",
       "      <td>74.631784</td>\n",
       "      <td>11.051566</td>\n",
       "      <td>0.000000</td>\n",
       "      <td>47.854393</td>\n",
       "      <td>1.864923</td>\n",
       "      <td>3.387428</td>\n",
       "    </tr>\n",
       "    <tr>\n",
       "      <th>10236</th>\n",
       "      <td>0.000000</td>\n",
       "      <td>75.200955</td>\n",
       "      <td>11.892421</td>\n",
       "      <td>0.000000</td>\n",
       "      <td>43.799468</td>\n",
       "      <td>1.977565</td>\n",
       "      <td>3.705897</td>\n",
       "    </tr>\n",
       "    <tr>\n",
       "      <th>10237</th>\n",
       "      <td>0.000000</td>\n",
       "      <td>75.258272</td>\n",
       "      <td>12.039043</td>\n",
       "      <td>0.000000</td>\n",
       "      <td>44.170234</td>\n",
       "      <td>2.002330</td>\n",
       "      <td>3.747336</td>\n",
       "    </tr>\n",
       "    <tr>\n",
       "      <th>10186</th>\n",
       "      <td>99.308814</td>\n",
       "      <td>75.304595</td>\n",
       "      <td>11.267298</td>\n",
       "      <td>11.702810</td>\n",
       "      <td>45.330628</td>\n",
       "      <td>1.775242</td>\n",
       "      <td>3.423255</td>\n",
       "    </tr>\n",
       "    <tr>\n",
       "      <th>10231</th>\n",
       "      <td>0.000000</td>\n",
       "      <td>75.334126</td>\n",
       "      <td>12.201374</td>\n",
       "      <td>0.000000</td>\n",
       "      <td>44.007218</td>\n",
       "      <td>1.973872</td>\n",
       "      <td>3.804149</td>\n",
       "    </tr>\n",
       "    <tr>\n",
       "      <th>11516</th>\n",
       "      <td>99.210988</td>\n",
       "      <td>75.393634</td>\n",
       "      <td>5.772415</td>\n",
       "      <td>16.284066</td>\n",
       "      <td>46.618437</td>\n",
       "      <td>0.070251</td>\n",
       "      <td>1.566633</td>\n",
       "    </tr>\n",
       "    <tr>\n",
       "      <th>11693</th>\n",
       "      <td>99.308817</td>\n",
       "      <td>75.424513</td>\n",
       "      <td>8.024952</td>\n",
       "      <td>14.442836</td>\n",
       "      <td>45.757905</td>\n",
       "      <td>0.123754</td>\n",
       "      <td>2.272815</td>\n",
       "    </tr>\n",
       "    <tr>\n",
       "      <th>10247</th>\n",
       "      <td>0.000000</td>\n",
       "      <td>75.434112</td>\n",
       "      <td>8.693420</td>\n",
       "      <td>0.000000</td>\n",
       "      <td>50.095787</td>\n",
       "      <td>1.249731</td>\n",
       "      <td>2.457288</td>\n",
       "    </tr>\n",
       "    <tr>\n",
       "      <th>10262</th>\n",
       "      <td>0.000000</td>\n",
       "      <td>75.843540</td>\n",
       "      <td>6.944500</td>\n",
       "      <td>0.000000</td>\n",
       "      <td>47.788968</td>\n",
       "      <td>0.855488</td>\n",
       "      <td>1.885333</td>\n",
       "    </tr>\n",
       "    <tr>\n",
       "      <th>10235</th>\n",
       "      <td>0.000000</td>\n",
       "      <td>75.895790</td>\n",
       "      <td>12.059582</td>\n",
       "      <td>0.000000</td>\n",
       "      <td>44.587851</td>\n",
       "      <td>1.977619</td>\n",
       "      <td>3.657696</td>\n",
       "    </tr>\n",
       "    <tr>\n",
       "      <th>10249</th>\n",
       "      <td>0.000000</td>\n",
       "      <td>76.091062</td>\n",
       "      <td>9.705671</td>\n",
       "      <td>0.000000</td>\n",
       "      <td>44.463884</td>\n",
       "      <td>1.535662</td>\n",
       "      <td>2.782712</td>\n",
       "    </tr>\n",
       "    <tr>\n",
       "      <th>10200</th>\n",
       "      <td>0.000000</td>\n",
       "      <td>76.142711</td>\n",
       "      <td>11.367742</td>\n",
       "      <td>0.000000</td>\n",
       "      <td>46.050627</td>\n",
       "      <td>1.710779</td>\n",
       "      <td>3.339783</td>\n",
       "    </tr>\n",
       "    <tr>\n",
       "      <th>11856</th>\n",
       "      <td>99.083616</td>\n",
       "      <td>76.217240</td>\n",
       "      <td>6.991364</td>\n",
       "      <td>19.353458</td>\n",
       "      <td>43.584635</td>\n",
       "      <td>0.099784</td>\n",
       "      <td>1.894340</td>\n",
       "    </tr>\n",
       "    <tr>\n",
       "      <th>4905</th>\n",
       "      <td>0.000000</td>\n",
       "      <td>76.596385</td>\n",
       "      <td>8.278831</td>\n",
       "      <td>0.000000</td>\n",
       "      <td>11.527971</td>\n",
       "      <td>1.663755</td>\n",
       "      <td>4.306406</td>\n",
       "    </tr>\n",
       "    <tr>\n",
       "      <th>10201</th>\n",
       "      <td>0.000000</td>\n",
       "      <td>76.919398</td>\n",
       "      <td>11.726015</td>\n",
       "      <td>0.000000</td>\n",
       "      <td>45.160608</td>\n",
       "      <td>1.786751</td>\n",
       "      <td>3.381870</td>\n",
       "    </tr>\n",
       "    <tr>\n",
       "      <th>11972</th>\n",
       "      <td>99.021859</td>\n",
       "      <td>77.155021</td>\n",
       "      <td>7.251494</td>\n",
       "      <td>7.667196</td>\n",
       "      <td>43.997066</td>\n",
       "      <td>1.117544</td>\n",
       "      <td>1.897956</td>\n",
       "    </tr>\n",
       "    <tr>\n",
       "      <th>10248</th>\n",
       "      <td>0.000000</td>\n",
       "      <td>77.363789</td>\n",
       "      <td>9.406580</td>\n",
       "      <td>0.000000</td>\n",
       "      <td>46.514744</td>\n",
       "      <td>1.273478</td>\n",
       "      <td>2.524209</td>\n",
       "    </tr>\n",
       "    <tr>\n",
       "      <th>11694</th>\n",
       "      <td>99.301102</td>\n",
       "      <td>77.798103</td>\n",
       "      <td>8.717269</td>\n",
       "      <td>15.088846</td>\n",
       "      <td>46.076785</td>\n",
       "      <td>0.142912</td>\n",
       "      <td>2.269428</td>\n",
       "    </tr>\n",
       "    <tr>\n",
       "      <th>11677</th>\n",
       "      <td>99.430390</td>\n",
       "      <td>77.874466</td>\n",
       "      <td>8.427459</td>\n",
       "      <td>8.776862</td>\n",
       "      <td>46.676520</td>\n",
       "      <td>1.060179</td>\n",
       "      <td>2.169684</td>\n",
       "    </tr>\n",
       "    <tr>\n",
       "      <th>10261</th>\n",
       "      <td>0.000000</td>\n",
       "      <td>77.875777</td>\n",
       "      <td>7.838613</td>\n",
       "      <td>0.000000</td>\n",
       "      <td>46.995437</td>\n",
       "      <td>0.956112</td>\n",
       "      <td>1.993125</td>\n",
       "    </tr>\n",
       "    <tr>\n",
       "      <th>13958</th>\n",
       "      <td>99.617781</td>\n",
       "      <td>77.943676</td>\n",
       "      <td>9.950698</td>\n",
       "      <td>10.334414</td>\n",
       "      <td>43.844715</td>\n",
       "      <td>0.931962</td>\n",
       "      <td>2.666440</td>\n",
       "    </tr>\n",
       "    <tr>\n",
       "      <th>10266</th>\n",
       "      <td>99.082992</td>\n",
       "      <td>79.707700</td>\n",
       "      <td>7.877099</td>\n",
       "      <td>8.299765</td>\n",
       "      <td>48.444620</td>\n",
       "      <td>1.211401</td>\n",
       "      <td>1.836458</td>\n",
       "    </tr>\n",
       "    <tr>\n",
       "      <th>759</th>\n",
       "      <td>0.000000</td>\n",
       "      <td>80.041038</td>\n",
       "      <td>11.433690</td>\n",
       "      <td>0.000000</td>\n",
       "      <td>35.776254</td>\n",
       "      <td>1.445896</td>\n",
       "      <td>3.066451</td>\n",
       "    </tr>\n",
       "    <tr>\n",
       "      <th>11549</th>\n",
       "      <td>99.075398</td>\n",
       "      <td>80.069750</td>\n",
       "      <td>7.166385</td>\n",
       "      <td>14.499411</td>\n",
       "      <td>48.188253</td>\n",
       "      <td>0.129842</td>\n",
       "      <td>1.621343</td>\n",
       "    </tr>\n",
       "    <tr>\n",
       "      <th>12192</th>\n",
       "      <td>99.400687</td>\n",
       "      <td>80.952215</td>\n",
       "      <td>6.967573</td>\n",
       "      <td>7.338910</td>\n",
       "      <td>46.768128</td>\n",
       "      <td>0.741852</td>\n",
       "      <td>1.509181</td>\n",
       "    </tr>\n",
       "    <tr>\n",
       "      <th>11540</th>\n",
       "      <td>99.847663</td>\n",
       "      <td>82.128174</td>\n",
       "      <td>8.745812</td>\n",
       "      <td>9.260429</td>\n",
       "      <td>45.488053</td>\n",
       "      <td>0.233696</td>\n",
       "      <td>1.856128</td>\n",
       "    </tr>\n",
       "    <tr>\n",
       "      <th>11541</th>\n",
       "      <td>99.395794</td>\n",
       "      <td>82.646377</td>\n",
       "      <td>9.103732</td>\n",
       "      <td>11.621437</td>\n",
       "      <td>47.108425</td>\n",
       "      <td>0.248470</td>\n",
       "      <td>1.880108</td>\n",
       "    </tr>\n",
       "    <tr>\n",
       "      <th>11634</th>\n",
       "      <td>99.061963</td>\n",
       "      <td>83.512984</td>\n",
       "      <td>9.732290</td>\n",
       "      <td>12.212125</td>\n",
       "      <td>43.060612</td>\n",
       "      <td>0.433613</td>\n",
       "      <td>1.977893</td>\n",
       "    </tr>\n",
       "    <tr>\n",
       "      <th>11550</th>\n",
       "      <td>99.280323</td>\n",
       "      <td>84.741789</td>\n",
       "      <td>8.914001</td>\n",
       "      <td>14.887409</td>\n",
       "      <td>48.450081</td>\n",
       "      <td>0.158186</td>\n",
       "      <td>1.611343</td>\n",
       "    </tr>\n",
       "    <tr>\n",
       "      <th>8570</th>\n",
       "      <td>0.000000</td>\n",
       "      <td>84.845655</td>\n",
       "      <td>6.379064</td>\n",
       "      <td>0.000000</td>\n",
       "      <td>10.909542</td>\n",
       "      <td>1.273084</td>\n",
       "      <td>1.918494</td>\n",
       "    </tr>\n",
       "    <tr>\n",
       "      <th>13132</th>\n",
       "      <td>99.185585</td>\n",
       "      <td>86.624185</td>\n",
       "      <td>10.020491</td>\n",
       "      <td>10.830065</td>\n",
       "      <td>21.478247</td>\n",
       "      <td>0.991744</td>\n",
       "      <td>2.249383</td>\n",
       "    </tr>\n",
       "    <tr>\n",
       "      <th>8569</th>\n",
       "      <td>0.000000</td>\n",
       "      <td>89.631536</td>\n",
       "      <td>6.148428</td>\n",
       "      <td>0.000000</td>\n",
       "      <td>9.333109</td>\n",
       "      <td>1.753281</td>\n",
       "      <td>1.556660</td>\n",
       "    </tr>\n",
       "    <tr>\n",
       "      <th>13129</th>\n",
       "      <td>97.729876</td>\n",
       "      <td>99.034314</td>\n",
       "      <td>10.914999</td>\n",
       "      <td>17.050619</td>\n",
       "      <td>40.597057</td>\n",
       "      <td>0.661852</td>\n",
       "      <td>0.143655</td>\n",
       "    </tr>\n",
       "    <tr>\n",
       "      <th>13149</th>\n",
       "      <td>92.803577</td>\n",
       "      <td>99.335435</td>\n",
       "      <td>11.479940</td>\n",
       "      <td>20.341915</td>\n",
       "      <td>44.664541</td>\n",
       "      <td>1.734637</td>\n",
       "      <td>0.102449</td>\n",
       "    </tr>\n",
       "    <tr>\n",
       "      <th>2413</th>\n",
       "      <td>88.806408</td>\n",
       "      <td>99.435426</td>\n",
       "      <td>10.524576</td>\n",
       "      <td>21.162366</td>\n",
       "      <td>45.955021</td>\n",
       "      <td>2.109953</td>\n",
       "      <td>0.076940</td>\n",
       "    </tr>\n",
       "    <tr>\n",
       "      <th>13144</th>\n",
       "      <td>92.914369</td>\n",
       "      <td>99.555574</td>\n",
       "      <td>11.634362</td>\n",
       "      <td>20.053097</td>\n",
       "      <td>44.891582</td>\n",
       "      <td>1.788483</td>\n",
       "      <td>0.069686</td>\n",
       "    </tr>\n",
       "    <tr>\n",
       "      <th>11073</th>\n",
       "      <td>95.405535</td>\n",
       "      <td>99.666701</td>\n",
       "      <td>5.342737</td>\n",
       "      <td>13.707695</td>\n",
       "      <td>35.764654</td>\n",
       "      <td>0.390786</td>\n",
       "      <td>0.020922</td>\n",
       "    </tr>\n",
       "    <tr>\n",
       "      <th>8598</th>\n",
       "      <td>89.441726</td>\n",
       "      <td>99.910183</td>\n",
       "      <td>5.347497</td>\n",
       "      <td>22.198620</td>\n",
       "      <td>44.287062</td>\n",
       "      <td>0.719661</td>\n",
       "      <td>0.005462</td>\n",
       "    </tr>\n",
       "    <tr>\n",
       "      <th>1916</th>\n",
       "      <td>77.621604</td>\n",
       "      <td>100.000000</td>\n",
       "      <td>6.785848</td>\n",
       "      <td>22.013020</td>\n",
       "      <td>25.773495</td>\n",
       "      <td>1.996220</td>\n",
       "      <td>0.000000</td>\n",
       "    </tr>\n",
       "    <tr>\n",
       "      <th>6224</th>\n",
       "      <td>86.141079</td>\n",
       "      <td>100.000000</td>\n",
       "      <td>9.698813</td>\n",
       "      <td>22.224022</td>\n",
       "      <td>47.092622</td>\n",
       "      <td>2.153844</td>\n",
       "      <td>0.000000</td>\n",
       "    </tr>\n",
       "    <tr>\n",
       "      <th>11975</th>\n",
       "      <td>82.590466</td>\n",
       "      <td>100.000000</td>\n",
       "      <td>7.035457</td>\n",
       "      <td>21.108210</td>\n",
       "      <td>40.337240</td>\n",
       "      <td>1.690082</td>\n",
       "      <td>0.000000</td>\n",
       "    </tr>\n",
       "    <tr>\n",
       "      <th>12746</th>\n",
       "      <td>93.905853</td>\n",
       "      <td>100.000000</td>\n",
       "      <td>7.092953</td>\n",
       "      <td>16.294576</td>\n",
       "      <td>45.221662</td>\n",
       "      <td>0.731109</td>\n",
       "      <td>0.000000</td>\n",
       "    </tr>\n",
       "    <tr>\n",
       "      <th>12907</th>\n",
       "      <td>85.648007</td>\n",
       "      <td>100.000000</td>\n",
       "      <td>4.337770</td>\n",
       "      <td>17.311495</td>\n",
       "      <td>48.385969</td>\n",
       "      <td>0.792671</td>\n",
       "      <td>0.000000</td>\n",
       "    </tr>\n",
       "    <tr>\n",
       "      <th>12843</th>\n",
       "      <td>90.020864</td>\n",
       "      <td>100.000000</td>\n",
       "      <td>5.834999</td>\n",
       "      <td>17.388944</td>\n",
       "      <td>45.486550</td>\n",
       "      <td>0.834302</td>\n",
       "      <td>0.000000</td>\n",
       "    </tr>\n",
       "    <tr>\n",
       "      <th>12851</th>\n",
       "      <td>89.573380</td>\n",
       "      <td>100.000000</td>\n",
       "      <td>5.382386</td>\n",
       "      <td>17.086277</td>\n",
       "      <td>31.296487</td>\n",
       "      <td>0.781799</td>\n",
       "      <td>0.000000</td>\n",
       "    </tr>\n",
       "    <tr>\n",
       "      <th>13036</th>\n",
       "      <td>85.919331</td>\n",
       "      <td>100.000000</td>\n",
       "      <td>5.661421</td>\n",
       "      <td>17.480223</td>\n",
       "      <td>46.556766</td>\n",
       "      <td>1.104524</td>\n",
       "      <td>0.000000</td>\n",
       "    </tr>\n",
       "    <tr>\n",
       "      <th>13130</th>\n",
       "      <td>98.029479</td>\n",
       "      <td>100.000000</td>\n",
       "      <td>11.654602</td>\n",
       "      <td>17.279182</td>\n",
       "      <td>40.527224</td>\n",
       "      <td>0.677847</td>\n",
       "      <td>0.000000</td>\n",
       "    </tr>\n",
       "    <tr>\n",
       "      <th>1927</th>\n",
       "      <td>86.814820</td>\n",
       "      <td>100.000000</td>\n",
       "      <td>7.395918</td>\n",
       "      <td>19.038865</td>\n",
       "      <td>42.984047</td>\n",
       "      <td>1.471380</td>\n",
       "      <td>0.000000</td>\n",
       "    </tr>\n",
       "    <tr>\n",
       "      <th>7311</th>\n",
       "      <td>88.507472</td>\n",
       "      <td>100.000000</td>\n",
       "      <td>10.582636</td>\n",
       "      <td>21.273030</td>\n",
       "      <td>42.771023</td>\n",
       "      <td>2.172955</td>\n",
       "      <td>0.000000</td>\n",
       "    </tr>\n",
       "    <tr>\n",
       "      <th>13919</th>\n",
       "      <td>77.989839</td>\n",
       "      <td>100.000000</td>\n",
       "      <td>9.657002</td>\n",
       "      <td>24.485372</td>\n",
       "      <td>1.063992</td>\n",
       "      <td>3.069749</td>\n",
       "      <td>0.000000</td>\n",
       "    </tr>\n",
       "    <tr>\n",
       "      <th>13920</th>\n",
       "      <td>79.705983</td>\n",
       "      <td>100.000000</td>\n",
       "      <td>9.849549</td>\n",
       "      <td>22.504503</td>\n",
       "      <td>41.118792</td>\n",
       "      <td>3.069749</td>\n",
       "      <td>0.000000</td>\n",
       "    </tr>\n",
       "    <tr>\n",
       "      <th>12747</th>\n",
       "      <td>94.180848</td>\n",
       "      <td>100.000000</td>\n",
       "      <td>7.073663</td>\n",
       "      <td>15.570617</td>\n",
       "      <td>40.762535</td>\n",
       "      <td>0.719451</td>\n",
       "      <td>0.000000</td>\n",
       "    </tr>\n",
       "    <tr>\n",
       "      <th>75</th>\n",
       "      <td>76.989555</td>\n",
       "      <td>100.000000</td>\n",
       "      <td>7.121792</td>\n",
       "      <td>18.861476</td>\n",
       "      <td>46.543285</td>\n",
       "      <td>2.310386</td>\n",
       "      <td>0.000000</td>\n",
       "    </tr>\n",
       "    <tr>\n",
       "      <th>4972</th>\n",
       "      <td>88.261706</td>\n",
       "      <td>100.000000</td>\n",
       "      <td>8.292698</td>\n",
       "      <td>21.224065</td>\n",
       "      <td>5.901388</td>\n",
       "      <td>1.485816</td>\n",
       "      <td>0.000000</td>\n",
       "    </tr>\n",
       "    <tr>\n",
       "      <th>6225</th>\n",
       "      <td>85.487232</td>\n",
       "      <td>100.000000</td>\n",
       "      <td>9.206636</td>\n",
       "      <td>22.026911</td>\n",
       "      <td>46.653896</td>\n",
       "      <td>2.078986</td>\n",
       "      <td>0.000000</td>\n",
       "    </tr>\n",
       "    <tr>\n",
       "      <th>3899</th>\n",
       "      <td>86.070307</td>\n",
       "      <td>100.000000</td>\n",
       "      <td>8.497385</td>\n",
       "      <td>17.940792</td>\n",
       "      <td>40.963630</td>\n",
       "      <td>1.998274</td>\n",
       "      <td>0.000000</td>\n",
       "    </tr>\n",
       "    <tr>\n",
       "      <th>3898</th>\n",
       "      <td>82.954379</td>\n",
       "      <td>100.000000</td>\n",
       "      <td>8.207124</td>\n",
       "      <td>18.380108</td>\n",
       "      <td>40.472468</td>\n",
       "      <td>2.222009</td>\n",
       "      <td>0.000000</td>\n",
       "    </tr>\n",
       "    <tr>\n",
       "      <th>6230</th>\n",
       "      <td>86.383179</td>\n",
       "      <td>100.000000</td>\n",
       "      <td>8.990994</td>\n",
       "      <td>21.269444</td>\n",
       "      <td>48.052471</td>\n",
       "      <td>1.928492</td>\n",
       "      <td>0.000000</td>\n",
       "    </tr>\n",
       "    <tr>\n",
       "      <th>6229</th>\n",
       "      <td>87.973888</td>\n",
       "      <td>100.000000</td>\n",
       "      <td>9.055511</td>\n",
       "      <td>19.976445</td>\n",
       "      <td>48.780753</td>\n",
       "      <td>1.811402</td>\n",
       "      <td>0.000000</td>\n",
       "    </tr>\n",
       "    <tr>\n",
       "      <th>6228</th>\n",
       "      <td>86.418936</td>\n",
       "      <td>100.000000</td>\n",
       "      <td>9.091701</td>\n",
       "      <td>22.324042</td>\n",
       "      <td>48.538552</td>\n",
       "      <td>1.905332</td>\n",
       "      <td>0.000000</td>\n",
       "    </tr>\n",
       "    <tr>\n",
       "      <th>6227</th>\n",
       "      <td>86.281542</td>\n",
       "      <td>100.000000</td>\n",
       "      <td>8.904269</td>\n",
       "      <td>22.678530</td>\n",
       "      <td>48.494194</td>\n",
       "      <td>1.847350</td>\n",
       "      <td>0.000000</td>\n",
       "    </tr>\n",
       "    <tr>\n",
       "      <th>10769</th>\n",
       "      <td>90.645220</td>\n",
       "      <td>100.000000</td>\n",
       "      <td>9.922590</td>\n",
       "      <td>20.932618</td>\n",
       "      <td>44.689029</td>\n",
       "      <td>1.627575</td>\n",
       "      <td>0.000000</td>\n",
       "    </tr>\n",
       "    <tr>\n",
       "      <th>10936</th>\n",
       "      <td>100.000000</td>\n",
       "      <td>100.000000</td>\n",
       "      <td>0.010000</td>\n",
       "      <td>0.010000</td>\n",
       "      <td>45.270618</td>\n",
       "      <td>1.352458</td>\n",
       "      <td>0.000000</td>\n",
       "    </tr>\n",
       "    <tr>\n",
       "      <th>10937</th>\n",
       "      <td>100.000000</td>\n",
       "      <td>100.000000</td>\n",
       "      <td>0.010000</td>\n",
       "      <td>0.010000</td>\n",
       "      <td>45.270618</td>\n",
       "      <td>1.352458</td>\n",
       "      <td>0.000000</td>\n",
       "    </tr>\n",
       "    <tr>\n",
       "      <th>10938</th>\n",
       "      <td>100.000000</td>\n",
       "      <td>100.000000</td>\n",
       "      <td>0.010000</td>\n",
       "      <td>0.010000</td>\n",
       "      <td>45.270618</td>\n",
       "      <td>1.352458</td>\n",
       "      <td>0.000000</td>\n",
       "    </tr>\n",
       "    <tr>\n",
       "      <th>10939</th>\n",
       "      <td>100.000000</td>\n",
       "      <td>100.000000</td>\n",
       "      <td>0.010000</td>\n",
       "      <td>0.010000</td>\n",
       "      <td>45.270618</td>\n",
       "      <td>1.352458</td>\n",
       "      <td>0.000000</td>\n",
       "    </tr>\n",
       "    <tr>\n",
       "      <th>10940</th>\n",
       "      <td>100.000000</td>\n",
       "      <td>100.000000</td>\n",
       "      <td>0.010000</td>\n",
       "      <td>0.010000</td>\n",
       "      <td>35.424183</td>\n",
       "      <td>1.352458</td>\n",
       "      <td>0.000000</td>\n",
       "    </tr>\n",
       "    <tr>\n",
       "      <th>11096</th>\n",
       "      <td>92.867126</td>\n",
       "      <td>100.000000</td>\n",
       "      <td>10.677425</td>\n",
       "      <td>19.366048</td>\n",
       "      <td>42.949806</td>\n",
       "      <td>1.560737</td>\n",
       "      <td>0.000000</td>\n",
       "    </tr>\n",
       "    <tr>\n",
       "      <th>11328</th>\n",
       "      <td>82.255106</td>\n",
       "      <td>100.000000</td>\n",
       "      <td>4.236108</td>\n",
       "      <td>19.652501</td>\n",
       "      <td>41.832284</td>\n",
       "      <td>0.913692</td>\n",
       "      <td>0.000000</td>\n",
       "    </tr>\n",
       "    <tr>\n",
       "      <th>11329</th>\n",
       "      <td>89.501848</td>\n",
       "      <td>100.000000</td>\n",
       "      <td>4.847728</td>\n",
       "      <td>19.730903</td>\n",
       "      <td>32.199609</td>\n",
       "      <td>0.652379</td>\n",
       "      <td>0.000000</td>\n",
       "    </tr>\n",
       "    <tr>\n",
       "      <th>11330</th>\n",
       "      <td>90.956020</td>\n",
       "      <td>100.000000</td>\n",
       "      <td>6.558007</td>\n",
       "      <td>19.899300</td>\n",
       "      <td>35.319944</td>\n",
       "      <td>0.846995</td>\n",
       "      <td>0.000000</td>\n",
       "    </tr>\n",
       "    <tr>\n",
       "      <th>6226</th>\n",
       "      <td>86.236188</td>\n",
       "      <td>100.000000</td>\n",
       "      <td>9.081570</td>\n",
       "      <td>22.594495</td>\n",
       "      <td>47.816831</td>\n",
       "      <td>1.913070</td>\n",
       "      <td>0.000000</td>\n",
       "    </tr>\n",
       "    <tr>\n",
       "      <th>6219</th>\n",
       "      <td>90.139687</td>\n",
       "      <td>100.000000</td>\n",
       "      <td>11.452699</td>\n",
       "      <td>22.220080</td>\n",
       "      <td>43.808878</td>\n",
       "      <td>2.109208</td>\n",
       "      <td>0.000000</td>\n",
       "    </tr>\n",
       "    <tr>\n",
       "      <th>11660</th>\n",
       "      <td>88.360449</td>\n",
       "      <td>100.000000</td>\n",
       "      <td>8.265117</td>\n",
       "      <td>19.199322</td>\n",
       "      <td>41.484651</td>\n",
       "      <td>1.552608</td>\n",
       "      <td>0.000000</td>\n",
       "    </tr>\n",
       "    <tr>\n",
       "      <th>6220</th>\n",
       "      <td>90.087557</td>\n",
       "      <td>100.000000</td>\n",
       "      <td>11.645995</td>\n",
       "      <td>22.523238</td>\n",
       "      <td>44.786438</td>\n",
       "      <td>2.161041</td>\n",
       "      <td>0.000000</td>\n",
       "    </tr>\n",
       "    <tr>\n",
       "      <th>6223</th>\n",
       "      <td>87.624925</td>\n",
       "      <td>100.000000</td>\n",
       "      <td>10.443283</td>\n",
       "      <td>22.248344</td>\n",
       "      <td>46.358819</td>\n",
       "      <td>2.195314</td>\n",
       "      <td>0.000000</td>\n",
       "    </tr>\n",
       "  </tbody>\n",
       "</table>\n",
       "</div>"
      ],
      "text/plain": [
       "       rougher.output.recovery  final.output.recovery  rougher.input.feed_au  \\\n",
       "4966                 80.886673               0.000000               8.519387   \n",
       "6254                 85.325665               0.000000               7.394084   \n",
       "2236                 69.679278               0.000000               7.390769   \n",
       "9320                 75.759559               0.000000               5.741317   \n",
       "8920                 80.716925               0.000000               6.024148   \n",
       "8919                 76.331765               0.000000               6.145458   \n",
       "5784                 92.332421               0.000000              11.436133   \n",
       "5140                 86.903688               0.000000               9.663061   \n",
       "5139                 87.318224               0.000000               9.641182   \n",
       "4724                 83.055260               0.000000               6.649982   \n",
       "8898                 83.096540               0.000000               6.299272   \n",
       "8665                 71.450445               0.000000               5.501463   \n",
       "4215                 34.915704               0.000000              11.118669   \n",
       "4314                 87.214508               0.000000               9.719719   \n",
       "4564                 88.826382               0.000000               8.577988   \n",
       "4652                 91.428776               0.000000               7.149506   \n",
       "4653                 80.393709               0.000000               6.995078   \n",
       "4722                 84.427525               0.000000               6.891943   \n",
       "4723                 84.555676               0.000000               6.927000   \n",
       "4967                 83.489926               0.000000               6.986427   \n",
       "2019                 65.593784               0.000000               9.148310   \n",
       "2020                 76.468239               0.000000               8.738722   \n",
       "1195                 83.702224               0.000000               7.032278   \n",
       "10020                65.003857               0.000000               6.009365   \n",
       "7556                 80.824520               0.000000               9.823534   \n",
       "7054                 83.487803               0.000000               6.937035   \n",
       "644                  68.960993               0.000000               5.598971   \n",
       "7053                 83.730630               0.000000               6.929134   \n",
       "7050                 84.182930               0.000000               7.058794   \n",
       "1682                  0.000000               0.000000               6.417814   \n",
       "7051                 84.958999               0.000000               7.133998   \n",
       "7052                 84.256396               0.000000               7.152067   \n",
       "1196                 84.836821               0.000000               7.021635   \n",
       "6430                 88.320545               0.000000               9.925026   \n",
       "1194                 83.515262               0.000000               7.499248   \n",
       "1193                 82.787322               0.000000               7.786147   \n",
       "1109                  2.520854              12.005723               5.468256   \n",
       "48                    0.000000              41.962008               4.752992   \n",
       "7756                  0.000000              42.030679               8.041204   \n",
       "7753                  0.000000              44.470123               9.469973   \n",
       "7861                  0.000000              44.476312               5.473360   \n",
       "7771                  0.000000              48.825846               7.809419   \n",
       "7772                  0.000000              48.845587               7.700213   \n",
       "49                    0.000000              49.884856               5.122801   \n",
       "7828                  0.000000              50.891836               5.957188   \n",
       "7856                  0.000000              51.452926               6.191537   \n",
       "7770                  0.000000              52.437470               8.270571   \n",
       "7829                  0.000000              52.636710               5.582066   \n",
       "7768                  0.000000              53.227820               8.185358   \n",
       "7773                  0.000000              53.292988               7.772070   \n",
       "7805                  0.000000              54.246425               6.814191   \n",
       "7789                  0.000000              54.285927               7.341001   \n",
       "7806                  0.000000              54.504119               6.085817   \n",
       "7830                  0.000000              54.644510               5.913194   \n",
       "7764                  0.000000              54.681620               8.442590   \n",
       "7866                  0.000000              54.711210               6.847182   \n",
       "7762                  0.000000              54.904987               8.528633   \n",
       "7797                  0.000000              55.008576               7.459065   \n",
       "7870                  0.000000              55.022143               7.495151   \n",
       "7769                  0.000000              55.089693               8.242604   \n",
       "7804                  0.000000              55.272374               7.683755   \n",
       "7793                  0.000000              55.407077               7.639204   \n",
       "7796                  0.000000              55.653777               7.627676   \n",
       "7780                  0.000000              55.768757               7.496529   \n",
       "7867                  0.000000              55.777960               6.970216   \n",
       "7774                  0.000000              55.974078               7.849371   \n",
       "7817                  0.000000              55.993325               6.991321   \n",
       "1697                  0.000000              56.052973               7.071694   \n",
       "7779                  0.000000              56.091884               7.987040   \n",
       "7798                  0.000000              56.096138               7.385978   \n",
       "7831                  0.000000              56.279844               6.093993   \n",
       "7824                  0.000000              56.281813               7.109954   \n",
       "1696                  0.000000              56.403896               6.983517   \n",
       "7792                  0.000000              56.530302               7.781602   \n",
       "7820                  0.000000              56.560303               7.231005   \n",
       "7794                  0.000000              56.773755               7.673147   \n",
       "7868                  0.000000              56.800681               7.306113   \n",
       "7816                  0.000000              56.845215               7.382171   \n",
       "7858                  0.000000              57.038169               7.672680   \n",
       "7767                  0.000000              57.119084               8.771800   \n",
       "7869                  0.000000              57.216768               7.467206   \n",
       "7791                  0.000000              57.273743               7.899210   \n",
       "7801                  0.000000              57.358970               7.756210   \n",
       "7871                  0.000000              57.407111               7.264640   \n",
       "7803                  0.000000              57.451027               8.029956   \n",
       "7847                  0.000000              57.467796               7.357059   \n",
       "7790                  0.000000              57.494854               7.613073   \n",
       "2829                  0.000000              57.495645               7.488183   \n",
       "7823                  0.000000              57.525423               7.328120   \n",
       "7821                  0.000000              57.695746               7.264026   \n",
       "7763                  0.000000              57.699002               8.258510   \n",
       "4003                  0.000000              57.761475               8.323598   \n",
       "7822                  0.000000              57.841808               7.363745   \n",
       "7765                  0.000000              57.969709               8.970869   \n",
       "9364                  0.000000              58.001886               7.380077   \n",
       "7795                  0.000000              58.095999               7.995163   \n",
       "7825                  0.000000              58.206245               7.258289   \n",
       "7819                  0.000000              58.212484               7.441983   \n",
       "7786                  0.000000              58.232793               8.159438   \n",
       "1698                  0.000000              58.244610               7.078153   \n",
       "7784                  0.000000              58.249341               8.364066   \n",
       "7785                  0.000000              58.315509               8.368104   \n",
       "7800                  0.000000              58.425792               7.739376   \n",
       "7818                  0.000000              58.484501               7.352447   \n",
       "10984                99.276240              58.510640               3.509406   \n",
       "2085                  0.000000              58.641600               7.309077   \n",
       "7855                  0.000000              58.678710               7.579607   \n",
       "7865                  0.000000              58.693953               7.089526   \n",
       "7799                  0.000000              58.828658               7.796300   \n",
       "7775                  0.000000              58.907427               8.337328   \n",
       "7860                  0.000000              58.986526               7.747999   \n",
       "7863                  0.000000              58.991429               7.200884   \n",
       "7766                  0.000000              59.121154               9.008798   \n",
       "4906                  0.000000              59.619454               8.251525   \n",
       "7864                  0.000000              59.657995               6.850542   \n",
       "2084                  0.000000              59.816957               7.716467   \n",
       "7787                  0.000000              59.979840               8.231375   \n",
       "7815                  0.000000              60.258026               7.732063   \n",
       "7781                  0.000000              60.273735               7.769554   \n",
       "9358                  0.000000              60.460572               7.052392   \n",
       "9363                  0.000000              60.517631               7.382708   \n",
       "7859                  0.000000              60.592277               8.242336   \n",
       "7862                  0.000000              60.692354               7.158755   \n",
       "4004                  0.000000              60.806050               8.261767   \n",
       "7783                  0.000000              60.907221               8.521732   \n",
       "7776                  0.000000              60.911248               8.447737   \n",
       "7777                  0.000000              61.087135               8.519606   \n",
       "7788                  0.000000              61.144151               8.387933   \n",
       "7832                  0.000000              61.224364               6.771247   \n",
       "6632                  0.000000              61.253416               8.508578   \n",
       "7778                  0.000000              61.291003               8.634029   \n",
       "7857                  0.000000              61.502354               8.240184   \n",
       "7827                  0.000000              61.556544               7.554027   \n",
       "6669                  0.000000              61.573512               6.083029   \n",
       "9362                  0.000000              61.655562               7.114252   \n",
       "9360                  0.000000              61.800733               6.926825   \n",
       "7782                  0.000000              61.968818               8.104258   \n",
       "4907                  0.000000              62.347548               8.393284   \n",
       "7839                  0.000000              62.423294               7.082563   \n",
       "9361                  0.000000              62.550051               7.069910   \n",
       "2083                  0.000000              62.872025               8.181648   \n",
       "7814                  0.000000              63.023802               8.294662   \n",
       "9474                  0.000000              63.101966               8.500855   \n",
       "4002                  0.000000              63.132333               8.112804   \n",
       "2082                  0.000000              63.202151               8.260234   \n",
       "4908                  0.000000              63.235187               8.564058   \n",
       "7813                  0.000000              63.504427               8.480490   \n",
       "7833                  0.000000              63.515875               7.893491   \n",
       "7826                  0.000000              63.838131               8.034740   \n",
       "6670                  0.000000              63.841094               6.251531   \n",
       "7809                  0.000000              64.060036               8.115059   \n",
       "7810                  0.000000              64.092204               8.591181   \n",
       "7812                  0.000000              64.100671               8.598588   \n",
       "7807                  0.000000              64.172836               7.164124   \n",
       "9462                  0.000000              64.262450               6.004868   \n",
       "8758                  0.000000              64.395577               7.349798   \n",
       "4001                  0.000000              64.400727               7.915999   \n",
       "7811                  0.000000              64.615404               8.608373   \n",
       "7802                  0.000000              64.625899               8.940976   \n",
       "14082                99.273212              65.156498               2.493857   \n",
       "7153                  0.000000              65.222721               8.178291   \n",
       "4005                  0.000000              65.239637               8.940835   \n",
       "4915                  0.000000              65.374588               8.020591   \n",
       "6629                  0.000000              65.540131               7.913378   \n",
       "7146                  0.000000              65.658146               7.977409   \n",
       "7808                  0.000000              65.828001               7.876580   \n",
       "8751                  0.000000              66.217237               6.891225   \n",
       "6630                  0.000000              66.438122               8.123892   \n",
       "8632                  0.000000              66.481671               5.714217   \n",
       "10192                 0.000000              66.628804              11.093314   \n",
       "10195                 0.000000              67.002601              11.202655   \n",
       "6671                  0.000000              67.047553               6.718812   \n",
       "10196                 0.000000              67.086662              11.212868   \n",
       "7145                  0.000000              67.107857               8.052155   \n",
       "1966                  0.000000              67.108895              11.905783   \n",
       "1239                 99.132729              67.331383               5.984961   \n",
       "4904                  0.000000              67.533426               8.489867   \n",
       "7147                  0.000000              67.557678               8.280156   \n",
       "10197                 0.000000              67.625484              11.367684   \n",
       "6675                  0.000000              67.663871               7.559457   \n",
       "6635                  0.000000              67.761601               8.587634   \n",
       "13386                99.310228              67.843186               2.991564   \n",
       "6636                  0.000000              67.860942               8.327310   \n",
       "7152                  0.000000              68.181190               7.807340   \n",
       "6631                  0.000000              68.192284               8.369773   \n",
       "10198                 0.000000              68.228192              10.825607   \n",
       "6637                  0.000000              68.269009               8.194505   \n",
       "7149                  0.000000              68.336056               8.105267   \n",
       "45                    0.000000              68.403877               7.114065   \n",
       "50                    0.000000              68.638723               7.039270   \n",
       "10246                 0.000000              68.751526               8.238573   \n",
       "7148                  0.000000              68.929531               8.271775   \n",
       "6674                  0.000000              69.069721               7.191985   \n",
       "5504                 99.254694              69.113796              11.191353   \n",
       "9258                  0.000000              69.363346               7.762165   \n",
       "10194                 0.000000              69.386317              11.192051   \n",
       "6634                  0.000000              69.470777               8.565233   \n",
       "10190                 0.000000              69.477781              11.268644   \n",
       "10191                 0.000000              69.479282              11.387928   \n",
       "4006                  0.000000              69.502636               9.224323   \n",
       "10245                 0.000000              69.536218               8.784931   \n",
       "6633                  0.000000              69.606922               8.443416   \n",
       "10193                 0.000000              69.856663              11.143440   \n",
       "6673                  0.000000              69.867121               7.035310   \n",
       "10229                 0.000000              70.064649              12.433451   \n",
       "6686                  0.000000              70.107146               6.458412   \n",
       "6685                  0.000000              70.288785               6.885298   \n",
       "9473                  0.000000              70.317983               7.930042   \n",
       "7150                  0.000000              70.476388               7.964794   \n",
       "10242                 0.000000              70.614905              10.254722   \n",
       "10189                 0.000000              70.636204              11.374226   \n",
       "46                    0.000000              70.675633               7.651522   \n",
       "5040                  0.000000              70.783795              10.700319   \n",
       "7151                  0.000000              71.106646               7.816623   \n",
       "9257                  0.000000              71.283936               8.004946   \n",
       "4903                  0.000000              71.464440               8.520324   \n",
       "10233                 0.000000              71.588621              12.003506   \n",
       "10241                 0.000000              71.760288              11.688486   \n",
       "6672                  0.000000              71.851707               7.087938   \n",
       "51                    0.000000              72.136712               7.321526   \n",
       "10230                 0.000000              72.178655              12.277335   \n",
       "4007                  0.000000              72.364123               9.086508   \n",
       "10232                 0.000000              72.463162              12.021930   \n",
       "10188                 0.000000              72.518991              11.217886   \n",
       "11797                99.388354              72.619181               8.757811   \n",
       "10234                 0.000000              72.657112              12.136767   \n",
       "1243                  0.000000              72.707062               1.131434   \n",
       "13244                99.979041              72.744645               9.253592   \n",
       "10240                 0.000000              72.781576              12.211314   \n",
       "10199                 0.000000              72.909592              11.074136   \n",
       "5038                 99.243261              73.325989              10.856375   \n",
       "9256                  0.000000              73.483183               7.798814   \n",
       "10239                 0.000000              73.681703              12.402545   \n",
       "10243                 0.000000              73.988412               9.427106   \n",
       "10187                 0.000000              74.143361              11.018052   \n",
       "10228                 0.000000              74.470847              12.479606   \n",
       "10238                 0.000000              74.512525              12.074766   \n",
       "10244                 0.000000              74.547037               9.302464   \n",
       "10184                 0.000000              74.631784              11.051566   \n",
       "10236                 0.000000              75.200955              11.892421   \n",
       "10237                 0.000000              75.258272              12.039043   \n",
       "10186                99.308814              75.304595              11.267298   \n",
       "10231                 0.000000              75.334126              12.201374   \n",
       "11516                99.210988              75.393634               5.772415   \n",
       "11693                99.308817              75.424513               8.024952   \n",
       "10247                 0.000000              75.434112               8.693420   \n",
       "10262                 0.000000              75.843540               6.944500   \n",
       "10235                 0.000000              75.895790              12.059582   \n",
       "10249                 0.000000              76.091062               9.705671   \n",
       "10200                 0.000000              76.142711              11.367742   \n",
       "11856                99.083616              76.217240               6.991364   \n",
       "4905                  0.000000              76.596385               8.278831   \n",
       "10201                 0.000000              76.919398              11.726015   \n",
       "11972                99.021859              77.155021               7.251494   \n",
       "10248                 0.000000              77.363789               9.406580   \n",
       "11694                99.301102              77.798103               8.717269   \n",
       "11677                99.430390              77.874466               8.427459   \n",
       "10261                 0.000000              77.875777               7.838613   \n",
       "13958                99.617781              77.943676               9.950698   \n",
       "10266                99.082992              79.707700               7.877099   \n",
       "759                   0.000000              80.041038              11.433690   \n",
       "11549                99.075398              80.069750               7.166385   \n",
       "12192                99.400687              80.952215               6.967573   \n",
       "11540                99.847663              82.128174               8.745812   \n",
       "11541                99.395794              82.646377               9.103732   \n",
       "11634                99.061963              83.512984               9.732290   \n",
       "11550                99.280323              84.741789               8.914001   \n",
       "8570                  0.000000              84.845655               6.379064   \n",
       "13132                99.185585              86.624185              10.020491   \n",
       "8569                  0.000000              89.631536               6.148428   \n",
       "13129                97.729876              99.034314              10.914999   \n",
       "13149                92.803577              99.335435              11.479940   \n",
       "2413                 88.806408              99.435426              10.524576   \n",
       "13144                92.914369              99.555574              11.634362   \n",
       "11073                95.405535              99.666701               5.342737   \n",
       "8598                 89.441726              99.910183               5.347497   \n",
       "1916                 77.621604             100.000000               6.785848   \n",
       "6224                 86.141079             100.000000               9.698813   \n",
       "11975                82.590466             100.000000               7.035457   \n",
       "12746                93.905853             100.000000               7.092953   \n",
       "12907                85.648007             100.000000               4.337770   \n",
       "12843                90.020864             100.000000               5.834999   \n",
       "12851                89.573380             100.000000               5.382386   \n",
       "13036                85.919331             100.000000               5.661421   \n",
       "13130                98.029479             100.000000              11.654602   \n",
       "1927                 86.814820             100.000000               7.395918   \n",
       "7311                 88.507472             100.000000              10.582636   \n",
       "13919                77.989839             100.000000               9.657002   \n",
       "13920                79.705983             100.000000               9.849549   \n",
       "12747                94.180848             100.000000               7.073663   \n",
       "75                   76.989555             100.000000               7.121792   \n",
       "4972                 88.261706             100.000000               8.292698   \n",
       "6225                 85.487232             100.000000               9.206636   \n",
       "3899                 86.070307             100.000000               8.497385   \n",
       "3898                 82.954379             100.000000               8.207124   \n",
       "6230                 86.383179             100.000000               8.990994   \n",
       "6229                 87.973888             100.000000               9.055511   \n",
       "6228                 86.418936             100.000000               9.091701   \n",
       "6227                 86.281542             100.000000               8.904269   \n",
       "10769                90.645220             100.000000               9.922590   \n",
       "10936               100.000000             100.000000               0.010000   \n",
       "10937               100.000000             100.000000               0.010000   \n",
       "10938               100.000000             100.000000               0.010000   \n",
       "10939               100.000000             100.000000               0.010000   \n",
       "10940               100.000000             100.000000               0.010000   \n",
       "11096                92.867126             100.000000              10.677425   \n",
       "11328                82.255106             100.000000               4.236108   \n",
       "11329                89.501848             100.000000               4.847728   \n",
       "11330                90.956020             100.000000               6.558007   \n",
       "6226                 86.236188             100.000000               9.081570   \n",
       "6219                 90.139687             100.000000              11.452699   \n",
       "11660                88.360449             100.000000               8.265117   \n",
       "6220                 90.087557             100.000000              11.645995   \n",
       "6223                 87.624925             100.000000              10.443283   \n",
       "\n",
       "       rougher.output.concentrate_au  final.output.concentrate_au  \\\n",
       "4966                       24.453405                     0.000000   \n",
       "6254                       21.343779                     0.000000   \n",
       "2236                       21.700017                     0.000000   \n",
       "9320                       20.818637                     0.000000   \n",
       "8920                       21.565663                     0.000000   \n",
       "8919                       21.447548                     0.000000   \n",
       "5784                       22.207900                     0.000000   \n",
       "5140                       23.927417                     0.000000   \n",
       "5139                       23.710651                     0.000000   \n",
       "4724                       20.898669                     0.000000   \n",
       "8898                       22.426579                     0.000000   \n",
       "8665                       23.348021                     0.000000   \n",
       "4215                       22.047007                     0.000000   \n",
       "4314                       20.879875                     0.000000   \n",
       "4564                       12.219908                     0.000000   \n",
       "4652                        8.194259                     0.000000   \n",
       "4653                       11.111640                     0.000000   \n",
       "4722                       20.343034                     0.000000   \n",
       "4723                       20.130395                     0.000000   \n",
       "4967                       20.461828                     0.000000   \n",
       "2019                       25.064809                     0.000000   \n",
       "2020                       24.285916                     0.000000   \n",
       "1195                       18.190655                     0.000000   \n",
       "10020                      13.743304                     0.000000   \n",
       "7556                       20.244848                     0.000000   \n",
       "7054                       20.703875                     0.000000   \n",
       "644                        15.935190                     0.000000   \n",
       "7053                       20.863102                     0.000000   \n",
       "7050                       19.884573                     0.000000   \n",
       "1682                        0.000000                     0.000000   \n",
       "7051                       19.025876                     0.000000   \n",
       "7052                       19.698002                     0.000000   \n",
       "1196                       18.194323                     0.000000   \n",
       "6430                       22.174052                     0.000000   \n",
       "1194                       18.231121                     0.000000   \n",
       "1193                       18.682162                     0.000000   \n",
       "1109                       13.237223                    33.762031   \n",
       "48                          0.000000                    44.015642   \n",
       "7756                        0.000000                    48.203116   \n",
       "7753                        0.000000                    49.759508   \n",
       "7861                        0.000000                    39.079544   \n",
       "7771                        0.000000                    46.237575   \n",
       "7772                        0.000000                    46.988111   \n",
       "49                          0.000000                    40.715973   \n",
       "7828                        0.000000                    43.838001   \n",
       "7856                        0.000000                    37.946327   \n",
       "7770                        0.000000                    46.261869   \n",
       "7829                        0.000000                    45.008186   \n",
       "7768                        0.000000                    46.199406   \n",
       "7773                        0.000000                    47.453303   \n",
       "7805                        0.000000                    45.976838   \n",
       "7789                        0.000000                    46.466851   \n",
       "7806                        0.000000                    45.283451   \n",
       "7830                        0.000000                    45.878332   \n",
       "7764                        0.000000                    46.077605   \n",
       "7866                        0.000000                    46.392114   \n",
       "7762                        0.000000                    46.567097   \n",
       "7797                        0.000000                    46.882454   \n",
       "7870                        0.000000                    45.330899   \n",
       "7769                        0.000000                    46.568831   \n",
       "7804                        0.000000                    45.633092   \n",
       "7793                        0.000000                    47.272621   \n",
       "7796                        0.000000                    46.660319   \n",
       "7780                        0.000000                    44.789830   \n",
       "7867                        0.000000                    46.189495   \n",
       "7774                        0.000000                    46.092768   \n",
       "7817                        0.000000                    47.841606   \n",
       "1697                        0.000000                    42.451135   \n",
       "7779                        0.000000                    44.298159   \n",
       "7798                        0.000000                    46.482716   \n",
       "7831                        0.000000                    45.551587   \n",
       "7824                        0.000000                    46.268259   \n",
       "1696                        0.000000                    40.865416   \n",
       "7792                        0.000000                    46.631088   \n",
       "7820                        0.000000                    47.409110   \n",
       "7794                        0.000000                    46.779958   \n",
       "7868                        0.000000                    45.772416   \n",
       "7816                        0.000000                    47.372412   \n",
       "7858                        0.000000                    46.616744   \n",
       "7767                        0.000000                    46.119458   \n",
       "7869                        0.000000                    44.245189   \n",
       "7791                        0.000000                    46.482840   \n",
       "7801                        0.000000                    45.947899   \n",
       "7871                        0.000000                    43.834101   \n",
       "7803                        0.000000                    45.592338   \n",
       "7847                        0.000000                    41.569581   \n",
       "7790                        0.000000                    46.469372   \n",
       "2829                        0.000000                    43.627662   \n",
       "7823                        0.000000                    46.405104   \n",
       "7821                        0.000000                    46.953694   \n",
       "7763                        0.000000                    46.701869   \n",
       "4003                        0.000000                    44.601558   \n",
       "7822                        0.000000                    46.529338   \n",
       "7765                        0.000000                    45.981103   \n",
       "9364                        0.000000                    46.732965   \n",
       "7795                        0.000000                    46.554656   \n",
       "7825                        0.000000                    45.589945   \n",
       "7819                        0.000000                    47.752619   \n",
       "7786                        0.000000                    46.344302   \n",
       "1698                        0.000000                    43.384395   \n",
       "7784                        0.000000                    46.098884   \n",
       "7785                        0.000000                    47.265558   \n",
       "7800                        0.000000                    45.563444   \n",
       "7818                        0.000000                    47.856328   \n",
       "10984                      17.659878                    44.568768   \n",
       "2085                        0.000000                    43.247850   \n",
       "7855                        0.000000                    46.368817   \n",
       "7865                        0.000000                    45.988803   \n",
       "7799                        0.000000                    46.042237   \n",
       "7775                        0.000000                    45.537050   \n",
       "7860                        0.000000                    47.158090   \n",
       "7863                        0.000000                    44.826848   \n",
       "7766                        0.000000                    45.746374   \n",
       "4906                        0.000000                    47.823580   \n",
       "7864                        0.000000                    44.952311   \n",
       "2084                        0.000000                    43.541506   \n",
       "7787                        0.000000                    46.379455   \n",
       "7815                        0.000000                    45.812554   \n",
       "7781                        0.000000                    44.538049   \n",
       "9358                        0.000000                    31.387161   \n",
       "9363                        0.000000                    46.876863   \n",
       "7859                        0.000000                    47.134722   \n",
       "7862                        0.000000                    45.929506   \n",
       "4004                        0.000000                    43.398658   \n",
       "7783                        0.000000                    45.915848   \n",
       "7776                        0.000000                    45.490291   \n",
       "7777                        0.000000                    45.152137   \n",
       "7788                        0.000000                    46.022685   \n",
       "7832                        0.000000                    45.790924   \n",
       "6632                        0.000000                    45.521425   \n",
       "7778                        0.000000                    44.390017   \n",
       "7857                        0.000000                    47.404120   \n",
       "7827                        0.000000                    44.399357   \n",
       "6669                        0.000000                    46.948134   \n",
       "9362                        0.000000                    46.865783   \n",
       "9360                        0.000000                    45.413243   \n",
       "7782                        0.000000                    44.898837   \n",
       "4907                        0.000000                    47.229423   \n",
       "7839                        0.000000                    48.636117   \n",
       "9361                        0.000000                    46.618787   \n",
       "2083                        0.000000                    41.645657   \n",
       "7814                        0.000000                    45.671483   \n",
       "9474                        0.000000                    49.453136   \n",
       "4002                        0.000000                    44.064508   \n",
       "2082                        0.000000                    41.010316   \n",
       "4908                        0.000000                    45.180202   \n",
       "7813                        0.000000                    45.908205   \n",
       "7833                        0.000000                    45.408374   \n",
       "7826                        0.000000                    43.614688   \n",
       "6670                        0.000000                    48.021070   \n",
       "7809                        0.000000                    43.936594   \n",
       "7810                        0.000000                    44.622845   \n",
       "7812                        0.000000                    45.782106   \n",
       "7807                        0.000000                    44.310061   \n",
       "9462                        0.000000                    47.032412   \n",
       "8758                        0.000000                    39.910544   \n",
       "4001                        0.000000                    43.538543   \n",
       "7811                        0.000000                    45.804738   \n",
       "7802                        0.000000                    45.891571   \n",
       "14082                      20.067890                    43.909619   \n",
       "7153                        0.000000                    43.102181   \n",
       "4005                        0.000000                    43.018751   \n",
       "4915                        0.000000                    46.181711   \n",
       "6629                        0.000000                    46.581372   \n",
       "7146                        0.000000                    45.244155   \n",
       "7808                        0.000000                    43.463263   \n",
       "8751                        0.000000                    42.202142   \n",
       "6630                        0.000000                    46.037549   \n",
       "8632                        0.000000                    46.487856   \n",
       "10192                       0.000000                    45.790961   \n",
       "10195                       0.000000                    46.268633   \n",
       "6671                        0.000000                    48.011013   \n",
       "10196                       0.000000                    46.300858   \n",
       "7145                        0.000000                    44.277423   \n",
       "1966                        0.000000                    39.519911   \n",
       "1239                       12.493765                    37.068745   \n",
       "4904                        0.000000                    46.537478   \n",
       "7147                        0.000000                    46.161764   \n",
       "10197                       0.000000                    46.623551   \n",
       "6675                        0.000000                    47.599060   \n",
       "6635                        0.000000                    43.296825   \n",
       "13386                      18.649950                    45.044154   \n",
       "6636                        0.000000                    43.039612   \n",
       "7152                        0.000000                    41.868643   \n",
       "6631                        0.000000                    45.025279   \n",
       "10198                       0.000000                    46.562212   \n",
       "6637                        0.000000                    43.185160   \n",
       "7149                        0.000000                    45.513052   \n",
       "45                          0.000000                    46.614456   \n",
       "50                          0.000000                    45.267942   \n",
       "10246                       0.000000                    50.276112   \n",
       "7148                        0.000000                    45.607021   \n",
       "6674                        0.000000                    47.319128   \n",
       "5504                       22.276749                    44.915975   \n",
       "9258                        0.000000                    42.680673   \n",
       "10194                       0.000000                    45.348834   \n",
       "6634                        0.000000                    43.350740   \n",
       "10190                       0.000000                    46.400083   \n",
       "10191                       0.000000                    46.346654   \n",
       "4006                        0.000000                    43.927370   \n",
       "10245                       0.000000                    49.430460   \n",
       "6633                        0.000000                    44.093934   \n",
       "10193                       0.000000                    45.250698   \n",
       "6673                        0.000000                    47.104891   \n",
       "10229                       0.000000                    44.487885   \n",
       "6686                        0.000000                    43.267454   \n",
       "6685                        0.000000                    43.077347   \n",
       "9473                        0.000000                    49.041658   \n",
       "7150                        0.000000                    44.583562   \n",
       "10242                       0.000000                    44.464371   \n",
       "10189                       0.000000                    46.788199   \n",
       "46                          0.000000                    46.250638   \n",
       "5040                        0.000000                    44.863390   \n",
       "7151                        0.000000                    42.522526   \n",
       "9257                        0.000000                    41.566094   \n",
       "4903                        0.000000                    46.646369   \n",
       "10233                       0.000000                    46.620669   \n",
       "10241                       0.000000                    44.610188   \n",
       "6672                        0.000000                    47.652705   \n",
       "51                          0.000000                    43.237493   \n",
       "10230                       0.000000                    43.822984   \n",
       "4007                        0.000000                    43.902936   \n",
       "10232                       0.000000                    45.803183   \n",
       "10188                       0.000000                    45.679365   \n",
       "11797                       9.070602                    44.023776   \n",
       "10234                       0.000000                    45.882577   \n",
       "1243                        0.000000                     3.505267   \n",
       "13244                       9.265001                    46.293931   \n",
       "10240                       0.000000                    44.749300   \n",
       "10199                       0.000000                    46.126902   \n",
       "5038                       11.218311                    42.794154   \n",
       "9256                        0.000000                    21.399486   \n",
       "10239                       0.000000                    44.797719   \n",
       "10243                       0.000000                    44.977750   \n",
       "10187                       0.000000                    45.752388   \n",
       "10228                       0.000000                    40.134135   \n",
       "10238                       0.000000                    44.359659   \n",
       "10244                       0.000000                    47.564891   \n",
       "10184                       0.000000                    47.854393   \n",
       "10236                       0.000000                    43.799468   \n",
       "10237                       0.000000                    44.170234   \n",
       "10186                      11.702810                    45.330628   \n",
       "10231                       0.000000                    44.007218   \n",
       "11516                      16.284066                    46.618437   \n",
       "11693                      14.442836                    45.757905   \n",
       "10247                       0.000000                    50.095787   \n",
       "10262                       0.000000                    47.788968   \n",
       "10235                       0.000000                    44.587851   \n",
       "10249                       0.000000                    44.463884   \n",
       "10200                       0.000000                    46.050627   \n",
       "11856                      19.353458                    43.584635   \n",
       "4905                        0.000000                    11.527971   \n",
       "10201                       0.000000                    45.160608   \n",
       "11972                       7.667196                    43.997066   \n",
       "10248                       0.000000                    46.514744   \n",
       "11694                      15.088846                    46.076785   \n",
       "11677                       8.776862                    46.676520   \n",
       "10261                       0.000000                    46.995437   \n",
       "13958                      10.334414                    43.844715   \n",
       "10266                       8.299765                    48.444620   \n",
       "759                         0.000000                    35.776254   \n",
       "11549                      14.499411                    48.188253   \n",
       "12192                       7.338910                    46.768128   \n",
       "11540                       9.260429                    45.488053   \n",
       "11541                      11.621437                    47.108425   \n",
       "11634                      12.212125                    43.060612   \n",
       "11550                      14.887409                    48.450081   \n",
       "8570                        0.000000                    10.909542   \n",
       "13132                      10.830065                    21.478247   \n",
       "8569                        0.000000                     9.333109   \n",
       "13129                      17.050619                    40.597057   \n",
       "13149                      20.341915                    44.664541   \n",
       "2413                       21.162366                    45.955021   \n",
       "13144                      20.053097                    44.891582   \n",
       "11073                      13.707695                    35.764654   \n",
       "8598                       22.198620                    44.287062   \n",
       "1916                       22.013020                    25.773495   \n",
       "6224                       22.224022                    47.092622   \n",
       "11975                      21.108210                    40.337240   \n",
       "12746                      16.294576                    45.221662   \n",
       "12907                      17.311495                    48.385969   \n",
       "12843                      17.388944                    45.486550   \n",
       "12851                      17.086277                    31.296487   \n",
       "13036                      17.480223                    46.556766   \n",
       "13130                      17.279182                    40.527224   \n",
       "1927                       19.038865                    42.984047   \n",
       "7311                       21.273030                    42.771023   \n",
       "13919                      24.485372                     1.063992   \n",
       "13920                      22.504503                    41.118792   \n",
       "12747                      15.570617                    40.762535   \n",
       "75                         18.861476                    46.543285   \n",
       "4972                       21.224065                     5.901388   \n",
       "6225                       22.026911                    46.653896   \n",
       "3899                       17.940792                    40.963630   \n",
       "3898                       18.380108                    40.472468   \n",
       "6230                       21.269444                    48.052471   \n",
       "6229                       19.976445                    48.780753   \n",
       "6228                       22.324042                    48.538552   \n",
       "6227                       22.678530                    48.494194   \n",
       "10769                      20.932618                    44.689029   \n",
       "10936                       0.010000                    45.270618   \n",
       "10937                       0.010000                    45.270618   \n",
       "10938                       0.010000                    45.270618   \n",
       "10939                       0.010000                    45.270618   \n",
       "10940                       0.010000                    35.424183   \n",
       "11096                      19.366048                    42.949806   \n",
       "11328                      19.652501                    41.832284   \n",
       "11329                      19.730903                    32.199609   \n",
       "11330                      19.899300                    35.319944   \n",
       "6226                       22.594495                    47.816831   \n",
       "6219                       22.220080                    43.808878   \n",
       "11660                      19.199322                    41.484651   \n",
       "6220                       22.523238                    44.786438   \n",
       "6223                       22.248344                    46.358819   \n",
       "\n",
       "       rougher.output.tail_au  final.output.tail_au  \n",
       "4966                 2.267259              3.420555  \n",
       "6254                 1.540347              4.489633  \n",
       "2236                 2.938235              3.170143  \n",
       "9320                 1.759284              4.489584  \n",
       "8920                 1.499810              3.485946  \n",
       "8919                 1.861708              3.660732  \n",
       "5784                 1.671744              0.619892  \n",
       "5140                 1.949809              3.115444  \n",
       "5139                 1.895769              2.990722  \n",
       "4724                 1.531597              2.385774  \n",
       "8898                 1.388993              2.301790  \n",
       "8665                 1.888604              4.079079  \n",
       "4215                 8.783082              1.021143  \n",
       "4314                 2.092073              3.231677  \n",
       "4564                 2.545965              2.579844  \n",
       "4652                 3.029431              4.823467  \n",
       "4653                 2.776829              4.844750  \n",
       "4722                 1.503207              2.508362  \n",
       "4723                 1.508844              2.797546  \n",
       "4967                 1.613385              4.213483  \n",
       "2019                 4.138340              1.049438  \n",
       "2020                 2.836979              3.949153  \n",
       "1195                 1.694374              2.791440  \n",
       "10020                2.938177              1.210944  \n",
       "7556                 3.099175              3.673219  \n",
       "7054                 1.590325              2.801452  \n",
       "644                  2.293607              1.779052  \n",
       "7053                 1.561587              2.746293  \n",
       "7050                 1.592352              2.668218  \n",
       "1682                 2.674195              2.443084  \n",
       "7051                 1.574654              2.557334  \n",
       "7052                 1.622289              2.550075  \n",
       "1196                 1.582981              2.682127  \n",
       "6430                 1.917027              2.423505  \n",
       "1194                 1.883162              2.747294  \n",
       "1193                 2.046213              2.984504  \n",
       "1109                 5.386502              4.907173  \n",
       "48                   1.938869              2.889469  \n",
       "7756                 2.340319              5.012913  \n",
       "7753                 2.612453              5.744872  \n",
       "7861                 1.926842              3.240894  \n",
       "7771                 2.391081              4.355591  \n",
       "7772                 2.314762              4.281735  \n",
       "49                   2.050901              2.739224  \n",
       "7828                 1.787443              3.142814  \n",
       "7856                 1.994077              3.281285  \n",
       "7770                 2.337916              4.340609  \n",
       "7829                 1.298217              2.828500  \n",
       "7768                 2.312304              4.227113  \n",
       "7773                 2.330840              3.977257  \n",
       "7805                 1.832328              3.390311  \n",
       "7789                 2.089350              3.670679  \n",
       "7806                 1.513260              2.987641  \n",
       "7830                 1.485011              2.885161  \n",
       "7764                 2.245023              4.252062  \n",
       "7866                 2.024728              3.373410  \n",
       "7762                 2.360522              4.275966  \n",
       "7797                 2.205714              3.677820  \n",
       "7870                 2.042515              3.708544  \n",
       "7769                 2.301303              4.101730  \n",
       "7804                 1.857078              3.789438  \n",
       "7793                 2.268975              3.741553  \n",
       "7796                 2.260676              3.721129  \n",
       "7780                 2.152857              3.657171  \n",
       "7867                 1.993702              3.365665  \n",
       "7774                 2.322623              3.819873  \n",
       "7817                 1.795110              3.350832  \n",
       "1697                 2.538689              3.427879  \n",
       "7779                 2.289263              3.901540  \n",
       "7798                 2.183958              3.560056  \n",
       "7831                 1.637945              2.881239  \n",
       "7824                 1.921981              3.402626  \n",
       "1696                 2.945371              3.369305  \n",
       "7792                 2.204899              3.734980  \n",
       "7820                 1.907786              3.437688  \n",
       "7794                 2.194205              3.657405  \n",
       "7868                 1.956189              3.470875  \n",
       "7816                 1.905891              3.495394  \n",
       "7858                 2.275455              3.637843  \n",
       "7767                 2.509047              4.219871  \n",
       "7869                 2.067963              3.536180  \n",
       "7791                 2.143452              3.738949  \n",
       "7801                 2.162044              3.661889  \n",
       "7871                 2.022257              3.419560  \n",
       "7803                 2.264028              3.801301  \n",
       "7847                 2.121381              3.483408  \n",
       "7790                 1.993223              3.572450  \n",
       "2829                 3.124109              3.531288  \n",
       "7823                 1.926343              3.423594  \n",
       "7821                 1.877468              3.374166  \n",
       "7763                 2.211460              3.890374  \n",
       "4003                 3.713769              3.940536  \n",
       "7822                 1.863003              3.417238  \n",
       "7765                 2.348545              4.251297  \n",
       "9364                 1.959572              3.412023  \n",
       "7795                 2.246106              3.721607  \n",
       "7825                 1.865675              3.343335  \n",
       "7819                 1.905191              3.420094  \n",
       "7786                 2.134648              3.797288  \n",
       "1698                 2.091322              3.265851  \n",
       "7784                 2.287324              3.904728  \n",
       "7785                 2.257540              3.889802  \n",
       "7800                 2.283132              3.572084  \n",
       "7818                 1.770841              3.353750  \n",
       "10984                0.031642              1.526352  \n",
       "2085                 2.569836              3.355467  \n",
       "7855                 2.181045              3.464279  \n",
       "7865                 2.005090              3.219728  \n",
       "7799                 2.191108              3.564962  \n",
       "7775                 2.312088              3.840200  \n",
       "7860                 2.232050              3.518738  \n",
       "7863                 1.997288              3.262105  \n",
       "7766                 2.442877              4.167954  \n",
       "4906                 1.582170              3.714070  \n",
       "7864                 1.944669              3.040035  \n",
       "2084                 2.619945              3.468389  \n",
       "7787                 2.126030              3.686660  \n",
       "7815                 2.014221              3.420771  \n",
       "7781                 2.032039              3.449226  \n",
       "9358                 1.628471              3.226839  \n",
       "9363                 1.815991              3.221953  \n",
       "7859                 2.248751              3.633063  \n",
       "7862                 1.799435              3.107942  \n",
       "4004                 3.196485              3.662012  \n",
       "7783                 2.222244              3.755957  \n",
       "7776                 2.259861              3.723272  \n",
       "7777                 2.314347              3.747129  \n",
       "7788                 2.201459              3.667957  \n",
       "7832                 1.679144              2.886964  \n",
       "6632                 2.011216              3.723038  \n",
       "7778                 2.333138              3.794501  \n",
       "7857                 2.119512              3.552018  \n",
       "7827                 1.964545              3.243751  \n",
       "6669                 1.308477              2.540148  \n",
       "9362                 1.743868              3.009599  \n",
       "9360                 1.656351              2.921377  \n",
       "7782                 2.058628              3.470314  \n",
       "4907                 1.554851              3.554067  \n",
       "7839                 1.956171              2.927514  \n",
       "9361                 1.673123              2.925156  \n",
       "2083                 2.468701              3.465763  \n",
       "7814                 2.072503              3.463485  \n",
       "9474                 1.948137              3.518278  \n",
       "4002                 3.012315              3.384382  \n",
       "2082                 2.764715              3.482974  \n",
       "4908                 1.526696              3.577358  \n",
       "7813                 2.107220              3.506331  \n",
       "7833                 1.961696              3.237308  \n",
       "7826                 1.872848              3.292750  \n",
       "6670                 1.314186              2.465384  \n",
       "7809                 2.065625              3.307939  \n",
       "7810                 2.159761              3.519153  \n",
       "7812                 2.237280              3.509327  \n",
       "7807                 1.528715              2.863842  \n",
       "9462                 0.875524              2.337803  \n",
       "8758                 2.348055              2.968936  \n",
       "4001                 2.774584              3.191764  \n",
       "7811                 2.210200              3.467064  \n",
       "7802                 2.162258              3.618378  \n",
       "14082                0.020676              0.902339  \n",
       "7153                 2.461785              3.245881  \n",
       "4005                 2.892905              3.595367  \n",
       "4915                 1.783515              3.132865  \n",
       "6629                 1.982936              3.068602  \n",
       "7146                 2.020626              3.098270  \n",
       "7808                 1.901785              3.056174  \n",
       "8751                 2.123876              2.610288  \n",
       "6630                 1.818593              3.088637  \n",
       "8632                 1.733275              2.085754  \n",
       "10192                2.073150              4.414545  \n",
       "10195                2.131632              4.412400  \n",
       "6671                 1.151405              2.443260  \n",
       "10196                2.117611              4.406426  \n",
       "7145                 2.146695              3.016683  \n",
       "1966                 2.409091              4.908259  \n",
       "1239                 0.098846              2.193680  \n",
       "4904                 1.791360              3.143675  \n",
       "7147                 1.785209              3.056684  \n",
       "10197                2.102782              4.406849  \n",
       "6675                 1.536824              2.738742  \n",
       "6635                 2.001665              3.198380  \n",
       "13386                0.024545              1.007382  \n",
       "6636                 1.943531              3.080823  \n",
       "7152                 2.224892              2.846046  \n",
       "6631                 1.898798              3.048696  \n",
       "10198                1.979528              4.087960  \n",
       "6637                 1.858047              2.987161  \n",
       "7149                 1.897243              2.922054  \n",
       "45                   1.939811              2.509776  \n",
       "50                   2.047653              2.471388  \n",
       "10246                1.334407              2.901290  \n",
       "7148                 1.894840              2.937294  \n",
       "6674                 1.510978              2.485416  \n",
       "5504                 0.166365              4.175654  \n",
       "9258                 1.531770              2.721363  \n",
       "10194                2.025357              4.134272  \n",
       "6634                 1.866652              3.030925  \n",
       "10190                2.037571              4.137585  \n",
       "10191                2.078337              4.191193  \n",
       "4006                 2.587677              3.293919  \n",
       "10245                1.639836              3.053591  \n",
       "6633                 1.900458              2.960862  \n",
       "10193                2.121210              4.056911  \n",
       "6673                 1.402761              2.366929  \n",
       "10229                2.097414              4.628293  \n",
       "6686                 1.224689              2.156249  \n",
       "6685                 1.308821              2.304622  \n",
       "9473                 1.271197              2.655769  \n",
       "7150                 1.836489              2.690205  \n",
       "10242                1.839173              3.599579  \n",
       "10189                1.906697              4.032322  \n",
       "46                   2.087628              2.540843  \n",
       "5040                 2.209001              3.761217  \n",
       "7151                 1.847301              2.598081  \n",
       "9257                 1.633966              2.664490  \n",
       "4903                 1.730570              2.796344  \n",
       "10233                2.264015              4.181007  \n",
       "10241                2.106715              4.065128  \n",
       "6672                 1.205487              2.233875  \n",
       "51                   2.011165              2.323883  \n",
       "10230                2.061912              4.281498  \n",
       "4007                 2.162720              2.953481  \n",
       "10232                2.294895              4.087964  \n",
       "10188                1.647642              3.750767  \n",
       "11797                1.326253              2.802875  \n",
       "10234                2.009927              4.108079  \n",
       "1243                 1.816174              0.403496  \n",
       "13244                1.346175              2.951231  \n",
       "10240                2.211320              4.147444  \n",
       "10199                1.779697              3.636580  \n",
       "5038                 2.075331              3.557617  \n",
       "9256                 1.693084              2.824367  \n",
       "10239                2.140784              4.100639  \n",
       "10243                1.596339              2.902202  \n",
       "10187                1.822415              3.468139  \n",
       "10228                1.853647              4.146009  \n",
       "10238                2.067421              3.860570  \n",
       "10244                1.599427              2.771878  \n",
       "10184                1.864923              3.387428  \n",
       "10236                1.977565              3.705897  \n",
       "10237                2.002330              3.747336  \n",
       "10186                1.775242              3.423255  \n",
       "10231                1.973872              3.804149  \n",
       "11516                0.070251              1.566633  \n",
       "11693                0.123754              2.272815  \n",
       "10247                1.249731              2.457288  \n",
       "10262                0.855488              1.885333  \n",
       "10235                1.977619              3.657696  \n",
       "10249                1.535662              2.782712  \n",
       "10200                1.710779              3.339783  \n",
       "11856                0.099784              1.894340  \n",
       "4905                 1.663755              4.306406  \n",
       "10201                1.786751              3.381870  \n",
       "11972                1.117544              1.897956  \n",
       "10248                1.273478              2.524209  \n",
       "11694                0.142912              2.269428  \n",
       "11677                1.060179              2.169684  \n",
       "10261                0.956112              1.993125  \n",
       "13958                0.931962              2.666440  \n",
       "10266                1.211401              1.836458  \n",
       "759                  1.445896              3.066451  \n",
       "11549                0.129842              1.621343  \n",
       "12192                0.741852              1.509181  \n",
       "11540                0.233696              1.856128  \n",
       "11541                0.248470              1.880108  \n",
       "11634                0.433613              1.977893  \n",
       "11550                0.158186              1.611343  \n",
       "8570                 1.273084              1.918494  \n",
       "13132                0.991744              2.249383  \n",
       "8569                 1.753281              1.556660  \n",
       "13129                0.661852              0.143655  \n",
       "13149                1.734637              0.102449  \n",
       "2413                 2.109953              0.076940  \n",
       "13144                1.788483              0.069686  \n",
       "11073                0.390786              0.020922  \n",
       "8598                 0.719661              0.005462  \n",
       "1916                 1.996220              0.000000  \n",
       "6224                 2.153844              0.000000  \n",
       "11975                1.690082              0.000000  \n",
       "12746                0.731109              0.000000  \n",
       "12907                0.792671              0.000000  \n",
       "12843                0.834302              0.000000  \n",
       "12851                0.781799              0.000000  \n",
       "13036                1.104524              0.000000  \n",
       "13130                0.677847              0.000000  \n",
       "1927                 1.471380              0.000000  \n",
       "7311                 2.172955              0.000000  \n",
       "13919                3.069749              0.000000  \n",
       "13920                3.069749              0.000000  \n",
       "12747                0.719451              0.000000  \n",
       "75                   2.310386              0.000000  \n",
       "4972                 1.485816              0.000000  \n",
       "6225                 2.078986              0.000000  \n",
       "3899                 1.998274              0.000000  \n",
       "3898                 2.222009              0.000000  \n",
       "6230                 1.928492              0.000000  \n",
       "6229                 1.811402              0.000000  \n",
       "6228                 1.905332              0.000000  \n",
       "6227                 1.847350              0.000000  \n",
       "10769                1.627575              0.000000  \n",
       "10936                1.352458              0.000000  \n",
       "10937                1.352458              0.000000  \n",
       "10938                1.352458              0.000000  \n",
       "10939                1.352458              0.000000  \n",
       "10940                1.352458              0.000000  \n",
       "11096                1.560737              0.000000  \n",
       "11328                0.913692              0.000000  \n",
       "11329                0.652379              0.000000  \n",
       "11330                0.846995              0.000000  \n",
       "6226                 1.913070              0.000000  \n",
       "6219                 2.109208              0.000000  \n",
       "11660                1.552608              0.000000  \n",
       "6220                 2.161041              0.000000  \n",
       "6223                 2.195314              0.000000  "
      ]
     },
     "execution_count": 14,
     "metadata": {},
     "output_type": "execute_result"
    }
   ],
   "source": [
    "data_train[[\n",
    "    'rougher.output.recovery',\n",
    "    'final.output.recovery',\n",
    "    'rougher.input.feed_au',\n",
    "    'rougher.output.concentrate_au',\n",
    "    'final.output.concentrate_au',\n",
    "    'rougher.output.tail_au',\n",
    "    'final.output.tail_au',\n",
    "    #'recovery_to_input',\n",
    "]].\\\n",
    "loc[\n",
    "    (data_train['final.output.recovery'] > 99) |\n",
    "    (data_train['final.output.recovery'] < 5) |\n",
    "    (data_train['rougher.output.recovery'] > 99) |\n",
    "    (data_train['rougher.output.recovery'] < 5)\n",
    "].\\\n",
    "sort_values(by='final.output.recovery')"
   ]
  },
  {
   "cell_type": "code",
   "execution_count": 15,
   "metadata": {},
   "outputs": [],
   "source": [
    "data_train = data_train.drop(\n",
    "    data_train[\n",
    "        (data_train['final.output.recovery'] > 99) |\n",
    "        (data_train['final.output.recovery'] < 5) |\n",
    "        (data_train['rougher.output.recovery'] > 99) |\n",
    "        (data_train['rougher.output.recovery'] < 5)\n",
    "    ].index\n",
    ")\n"
   ]
  },
  {
   "cell_type": "code",
   "execution_count": null,
   "metadata": {},
   "outputs": [],
   "source": []
  },
  {
   "cell_type": "code",
   "execution_count": null,
   "metadata": {},
   "outputs": [],
   "source": []
  },
  {
   "cell_type": "code",
   "execution_count": 16,
   "metadata": {},
   "outputs": [
    {
     "name": "stdout",
     "output_type": "stream",
     "text": [
      "9.970871232948951e-15\n",
      "8.643308470886863e-15\n"
     ]
    }
   ],
   "source": [
    "def recovery(c, f, t):\n",
    "    \"Рассчет эффективности обогащения\"\n",
    "    \n",
    "    return c * (f - t) / (f * (c - t)) * 100\n",
    "\n",
    "recovery_rough = data_train.apply(lambda row:\n",
    "    recovery(\n",
    "        row['rougher.output.concentrate_au'],\n",
    "        row['rougher.input.feed_au'],\n",
    "        row['rougher.output.tail_au']\n",
    "    ),\n",
    "    axis=1\n",
    ")\n",
    "\n",
    "recovery_final = data_train.apply(lambda row:\n",
    "    recovery(\n",
    "        row['final.output.concentrate_au'],\n",
    "        row['rougher.input.feed_au'],\n",
    "        row['final.output.tail_au']\n",
    "    ),\n",
    "    axis=1\n",
    ")\n",
    "\n",
    "print(mean_absolute_error(data_train['rougher.output.recovery'], recovery_rough))\n",
    "print(mean_absolute_error(data_train['final.output.recovery'], recovery_final))\n"
   ]
  },
  {
   "cell_type": "code",
   "execution_count": null,
   "metadata": {},
   "outputs": [],
   "source": []
  },
  {
   "cell_type": "markdown",
   "metadata": {},
   "source": [
    "## Анализ данных"
   ]
  },
  {
   "cell_type": "code",
   "execution_count": 17,
   "metadata": {},
   "outputs": [
    {
     "name": "stdout",
     "output_type": "stream",
     "text": [
      "Concentration AU by stage:\n",
      "rougher.input.feed_au                   7.9%      \n",
      "rougher.output.concentrate_au           20.0%     \n",
      "primary_cleaner.output.concentrate_au   32.5%     \n",
      "final.output.concentrate_au             44.2%     \n",
      "\n",
      "Concentration AG by stage:\n",
      "rougher.input.feed_ag                   8.6%      \n",
      "rougher.output.concentrate_ag           12.0%     \n",
      "primary_cleaner.output.concentrate_ag   8.3%      \n",
      "final.output.concentrate_ag             5.1%      \n",
      "\n",
      "Concentration PB by stage:\n",
      "rougher.input.feed_pb                   3.5%      \n",
      "rougher.output.concentrate_pb           7.9%      \n",
      "primary_cleaner.output.concentrate_pb   9.6%      \n",
      "final.output.concentrate_pb             10.2%     \n",
      "\n"
     ]
    }
   ],
   "source": [
    "sample = data_train\n",
    "for metal in ('au', 'ag', 'pb'):\n",
    "    print('Concentration {} by stage:'.format(metal.upper()))\n",
    "    for stage in STAGES:\n",
    "        for param in ('.input.feed_', '.output.concentrate_'):\n",
    "            col = stage + param + metal\n",
    "            try:\n",
    "                print(col + '{:.1%}'.format(sample[col].mean() / 100).ljust(10).rjust(50 - len(col)))\n",
    "            except KeyError:\n",
    "                pass\n",
    "    print()\n",
    "    "
   ]
  },
  {
   "cell_type": "code",
   "execution_count": null,
   "metadata": {},
   "outputs": [],
   "source": []
  },
  {
   "cell_type": "code",
   "execution_count": null,
   "metadata": {},
   "outputs": [],
   "source": []
  },
  {
   "cell_type": "code",
   "execution_count": 18,
   "metadata": {},
   "outputs": [
    {
     "name": "stdout",
     "output_type": "stream",
     "text": [
      "count    12365.000000\n",
      "mean        58.485508\n",
      "std         20.602668\n",
      "min          9.659576\n",
      "25%         48.792180\n",
      "50%         54.752498\n",
      "75%         63.731595\n",
      "max        484.967466\n",
      "Name: rougher.input.feed_size, dtype: float64\n",
      "count    5229.000000\n",
      "mean       55.863978\n",
      "std        18.914656\n",
      "min         0.046369\n",
      "25%        43.911874\n",
      "50%        50.772729\n",
      "75%        62.265394\n",
      "max       392.494040\n",
      "Name: rougher.input.feed_size, dtype: float64\n"
     ]
    }
   ],
   "source": [
    "print(data_train['rougher.input.feed_size'].describe())\n",
    "print(data_test['rougher.input.feed_size'].describe())\n"
   ]
  },
  {
   "cell_type": "code",
   "execution_count": 19,
   "metadata": {
    "scrolled": false
   },
   "outputs": [
    {
     "data": {
      "image/png": "[encoded data removed]",
      "text/plain": [
       "<Figure size 432x288 with 1 Axes>"
      ]
     },
     "metadata": {
      "needs_background": "light"
     },
     "output_type": "display_data"
    }
   ],
   "source": [
    "w1 = np.ones_like(data_train['rougher.input.feed_size'])/float(len(data_train['rougher.input.feed_size']))\n",
    "plt.hist(\n",
    "    data_train['rougher.input.feed_size'],\n",
    "    bins=100,\n",
    "    alpha=0.5,\n",
    "    weights=w1,\n",
    "    label='train set',\n",
    ")\n",
    "\n",
    "w2 = np.ones_like(data_test['rougher.input.feed_size'])/float(len(data_test['rougher.input.feed_size']))\n",
    "plt.hist(\n",
    "    data_test['rougher.input.feed_size'], \n",
    "    bins=100, \n",
    "    alpha=0.5,\n",
    "    weights=w2,\n",
    "    label='test set',\n",
    ")\n",
    "plt.title('Normalized distribution of \"rougher.input.feed_size\"')\n",
    "plt.xlim(20, 100)\n",
    "plt.legend()\n",
    "plt.show();"
   ]
  },
  {
   "cell_type": "code",
   "execution_count": 20,
   "metadata": {},
   "outputs": [],
   "source": [
    "inds_sampled = data_train['rougher.input.feed_size'].sample(n=1000, axis=0, weights=data_test['rougher.input.feed_size'])"
   ]
  },
  {
   "cell_type": "code",
   "execution_count": 21,
   "metadata": {},
   "outputs": [],
   "source": [
    "df = data_train[data_train.index.isin(inds_sampled.index)]"
   ]
  },
  {
   "cell_type": "code",
   "execution_count": 22,
   "metadata": {},
   "outputs": [
    {
     "data": {
      "text/plain": [
       "count    12365.000000\n",
       "mean        58.485508\n",
       "std         20.602668\n",
       "min          9.659576\n",
       "25%         48.792180\n",
       "50%         54.752498\n",
       "75%         63.731595\n",
       "max        484.967466\n",
       "Name: rougher.input.feed_size, dtype: float64"
      ]
     },
     "execution_count": 22,
     "metadata": {},
     "output_type": "execute_result"
    }
   ],
   "source": [
    "data_train['rougher.input.feed_size'].describe()"
   ]
  },
  {
   "cell_type": "code",
   "execution_count": 23,
   "metadata": {},
   "outputs": [],
   "source": [
    "coef = 1\n",
    "min_v = data_test['rougher.input.feed_size'].min()\n",
    "max_v = data_test['rougher.input.feed_size'].max()\n",
    "bins = 100\n",
    "step = (min_v + max_v) / bins\n",
    "borders = [(min_v + step * i, min_v + step * (i + 1)) for i in range(bins)]\n",
    "borders_quant = [\n",
    "    (\n",
    "        b[0],\n",
    "        b[1],\n",
    "        int(coef * \n",
    "            len(data_test['rougher.input.feed_size'].loc[(data_test['rougher.input.feed_size'] >= b[0]) &\n",
    "                                                         (data_test['rougher.input.feed_size'] < b[1])])\n",
    "        )\n",
    "    )\n",
    "    for b in borders\n",
    "]\n",
    "\n",
    "\n"
   ]
  },
  {
   "cell_type": "code",
   "execution_count": null,
   "metadata": {},
   "outputs": [],
   "source": []
  },
  {
   "cell_type": "code",
   "execution_count": 24,
   "metadata": {},
   "outputs": [],
   "source": [
    "q = 0\n",
    "d_t = pd.DataFrame(columns=data_train.columns)\n",
    "for i in range(bins):\n",
    "    df_to_sample = data_train['rougher.input.feed_size'].loc[\n",
    "        (data_train['rougher.input.feed_size'] >= borders_quant[i][0]) &\n",
    "        (data_train['rougher.input.feed_size'] < borders_quant[i][1])]\n",
    "    if len(df_to_sample):\n",
    "        q += borders_quant[i][2]\n",
    "        replace = True if q > len(df_to_sample) else False\n",
    "        inds_sampled = df_to_sample.sample(\n",
    "            n=borders_quant[i][2],\n",
    "            replace=replace,\n",
    "            random_state=RS,\n",
    "            axis=0,\n",
    "        )\n",
    "        d_t = pd.concat(\n",
    "            [d_t,\n",
    "            data_train[data_train.index.isin(inds_sampled.index)]],\n",
    "            axis=0,\n",
    "            ignore_index=True,\n",
    "        )\n",
    "        q = 0\n",
    "    else:\n",
    "        q += borders_quant[i][2]\n"
   ]
  },
  {
   "cell_type": "code",
   "execution_count": 25,
   "metadata": {},
   "outputs": [
    {
     "data": {
      "text/plain": [
       "count    4764.000000\n",
       "mean       56.220945\n",
       "std        15.339611\n",
       "min        24.791570\n",
       "25%        46.016100\n",
       "50%        52.429084\n",
       "75%        62.827491\n",
       "max       339.272589\n",
       "Name: rougher.input.feed_size, dtype: float64"
      ]
     },
     "execution_count": 25,
     "metadata": {},
     "output_type": "execute_result"
    }
   ],
   "source": [
    "d_t['rougher.input.feed_size'].describe()"
   ]
  },
  {
   "cell_type": "code",
   "execution_count": 26,
   "metadata": {
    "scrolled": true
   },
   "outputs": [
    {
     "data": {
      "text/plain": [
       "count    5229.000000\n",
       "mean       55.863978\n",
       "std        18.914656\n",
       "min         0.046369\n",
       "25%        43.911874\n",
       "50%        50.772729\n",
       "75%        62.265394\n",
       "max       392.494040\n",
       "Name: rougher.input.feed_size, dtype: float64"
      ]
     },
     "execution_count": 26,
     "metadata": {},
     "output_type": "execute_result"
    }
   ],
   "source": [
    "data_test['rougher.input.feed_size'].describe()"
   ]
  },
  {
   "cell_type": "code",
   "execution_count": 29,
   "metadata": {
    "scrolled": true
   },
   "outputs": [
    {
     "data": {
      "image/png": "[encoded data removed]",
      "text/plain": [
       "<Figure size 432x288 with 1 Axes>"
      ]
     },
     "metadata": {
      "needs_background": "light"
     },
     "output_type": "display_data"
    }
   ],
   "source": [
    "w1 = np.ones_like(d_t['rougher.input.feed_size'])/float(len(d_t['rougher.input.feed_size']))\n",
    "plt.hist(\n",
    "    d_t['rougher.input.feed_size'],\n",
    "    bins=100,\n",
    "    alpha=0.5,\n",
    "    weights=w1,\n",
    "    label='train set',\n",
    ")\n",
    "\n",
    "w2 = np.ones_like(data_test['rougher.input.feed_size'])/float(len(data_test['rougher.input.feed_size']))\n",
    "plt.hist(\n",
    "    data_test['rougher.input.feed_size'], \n",
    "    bins=100, \n",
    "    alpha=0.5,\n",
    "    weights=w2,\n",
    "    label='test set',\n",
    ")\n",
    "\n",
    "plt.title('Normalized distribution of \"rougher.input.feed_size\"')\n",
    "plt.xlim(20, 100)\n",
    "plt.legend()\n",
    "plt.show();"
   ]
  },
  {
   "cell_type": "code",
   "execution_count": 30,
   "metadata": {},
   "outputs": [],
   "source": [
    "#  !!!!!!!!!!!!!!!!\n",
    "# data_train = d_t"
   ]
  },
  {
   "cell_type": "code",
   "execution_count": null,
   "metadata": {},
   "outputs": [],
   "source": [
    "    "
   ]
  },
  {
   "cell_type": "code",
   "execution_count": 31,
   "metadata": {},
   "outputs": [
    {
     "name": "stdout",
     "output_type": "stream",
     "text": [
      "Total concentration of substance by stage:\n",
      "rougher.input.feed_                     56.5%     \n",
      "rougher.output.concentrate_             69.5%     \n",
      "primary_cleaner.output.concentrate_     60.6%     \n",
      "final.output.concentrate_               69.3%     \n"
     ]
    }
   ],
   "source": [
    "sample = data_train\n",
    "print('Total concentration of substance by stage:')\n",
    "for stage in STAGES:\n",
    "    for param in ('.input.feed_', '.output.concentrate_'):\n",
    "        try:\n",
    "            concentration = 0\n",
    "            for substance in SUBSTANCES:\n",
    "                concentration += sample[stage + param + substance].mean()\n",
    "            col = stage + param\n",
    "            print(col + '{:.1%}'.format(concentration / 100).ljust(10).rjust(50 - len(col)))\n",
    "        except KeyError:\n",
    "            pass\n"
   ]
  },
  {
   "cell_type": "code",
   "execution_count": null,
   "metadata": {},
   "outputs": [],
   "source": []
  },
  {
   "cell_type": "code",
   "execution_count": null,
   "metadata": {},
   "outputs": [],
   "source": []
  },
  {
   "cell_type": "code",
   "execution_count": null,
   "metadata": {},
   "outputs": [],
   "source": []
  },
  {
   "cell_type": "markdown",
   "metadata": {},
   "source": [
    "## Модель"
   ]
  },
  {
   "cell_type": "code",
   "execution_count": null,
   "metadata": {},
   "outputs": [],
   "source": [
    " "
   ]
  },
  {
   "cell_type": "code",
   "execution_count": 32,
   "metadata": {},
   "outputs": [],
   "source": [
    "def score_smape(y, y_hat, **kwargs):\n",
    "    return sum([abs(a - b) / ((abs(a) + abs(b)) / 2) for a, b in zip(y, y_hat)]) / len(y)\n",
    "\n",
    "def smape_total(smape_rougher, smape_final):\n",
    "    return 0.25 * smape_rougher + 0.75 * smape_final"
   ]
  },
  {
   "cell_type": "code",
   "execution_count": 33,
   "metadata": {},
   "outputs": [],
   "source": [
    "model_scorer = make_scorer(score_smape, greater_is_better=False)"
   ]
  },
  {
   "cell_type": "code",
   "execution_count": null,
   "metadata": {},
   "outputs": [],
   "source": []
  },
  {
   "cell_type": "code",
   "execution_count": 34,
   "metadata": {},
   "outputs": [],
   "source": [
    "features = features_final\n",
    "targets = targets_final\n",
    "sample=data_train.loc[(data_train['final.output.recovery'] > 0)]\n",
    "X = sample[features]\n",
    "y = sample[targets]\n"
   ]
  },
  {
   "cell_type": "code",
   "execution_count": 35,
   "metadata": {},
   "outputs": [
    {
     "data": {
      "text/plain": [
       "\"\\nfor power in ('2'):\\n    for col in features:\\n        X[col + power] = X[col] * X[col]\\nfor power in ('3'):\\n    for col in features:\\n        X[col + power] = X[col] * X[col] * X[col]\\n\""
      ]
     },
     "execution_count": 35,
     "metadata": {},
     "output_type": "execute_result"
    }
   ],
   "source": [
    "'''\n",
    "for power in ('2'):\n",
    "    for col in features:\n",
    "        X[col + power] = X[col] * X[col]\n",
    "for power in ('3'):\n",
    "    for col in features:\n",
    "        X[col + power] = X[col] * X[col] * X[col]\n",
    "'''\n"
   ]
  },
  {
   "cell_type": "code",
   "execution_count": null,
   "metadata": {},
   "outputs": [],
   "source": []
  },
  {
   "cell_type": "code",
   "execution_count": null,
   "metadata": {},
   "outputs": [],
   "source": []
  },
  {
   "cell_type": "code",
   "execution_count": 36,
   "metadata": {},
   "outputs": [
    {
     "name": "stdout",
     "output_type": "stream",
     "text": [
      "Linear Regression\n",
      "Lasso\n",
      "Dummy Regressor\n"
     ]
    }
   ],
   "source": [
    "best_models_final = []\n",
    "\n",
    "for name, estimator, parameters in REGRESSORS:\n",
    "    print(name)\n",
    "\n",
    "    model = GridSearchCV(\n",
    "        estimator=estimator(),\n",
    "        cv=4,\n",
    "        param_grid=parameters,\n",
    "        scoring=model_scorer,\n",
    "    )\n",
    "    model.fit(X, y.values.ravel())\n",
    "    best_models_final.append((name, model.best_estimator_, model.best_score_))"
   ]
  },
  {
   "cell_type": "code",
   "execution_count": 37,
   "metadata": {},
   "outputs": [
    {
     "name": "stdout",
     "output_type": "stream",
     "text": [
      "Linear Regression\n",
      "sMAPE score:                            8.6%      \n",
      "r2 score:                               38.7%     \n",
      "corr coef between error and y-actual:   78.3%     \n"
     ]
    },
    {
     "data": {
      "image/png": "[encoded data removed]",
      "text/plain": [
       "<Figure size 432x288 with 1 Axes>"
      ]
     },
     "metadata": {
      "needs_background": "light"
     },
     "output_type": "display_data"
    },
    {
     "data": {
      "image/png": "[encoded data removed]",
      "text/plain": [
       "<Figure size 432x288 with 1 Axes>"
      ]
     },
     "metadata": {
      "needs_background": "light"
     },
     "output_type": "display_data"
    },
    {
     "name": "stdout",
     "output_type": "stream",
     "text": [
      "\n",
      "Lasso\n",
      "sMAPE score:                            8.3%      \n",
      "r2 score:                               33.9%     \n",
      "corr coef between error and y-actual:   83.8%     \n"
     ]
    },
    {
     "data": {
      "image/png": "[encoded data removed]",
      "text/plain": [
       "<Figure size 432x288 with 1 Axes>"
      ]
     },
     "metadata": {
      "needs_background": "light"
     },
     "output_type": "display_data"
    },
    {
     "data": {
      "image/png": "[encoded data removed]",
      "text/plain": [
       "<Figure size 432x288 with 1 Axes>"
      ]
     },
     "metadata": {
      "needs_background": "light"
     },
     "output_type": "display_data"
    },
    {
     "name": "stdout",
     "output_type": "stream",
     "text": [
      "\n",
      "Dummy Regressor\n",
      "sMAPE score:                            9.5%      \n",
      "r2 score:                               -1.4%     \n",
      "corr coef between error and y-actual:   100.0%    \n"
     ]
    },
    {
     "data": {
      "image/png": "[encoded data removed]",
      "text/plain": [
       "<Figure size 432x288 with 1 Axes>"
      ]
     },
     "metadata": {
      "needs_background": "light"
     },
     "output_type": "display_data"
    },
    {
     "data": {
      "image/png": "[encoded data removed]",
      "text/plain": [
       "<Figure size 432x288 with 1 Axes>"
      ]
     },
     "metadata": {
      "needs_background": "light"
     },
     "output_type": "display_data"
    },
    {
     "name": "stdout",
     "output_type": "stream",
     "text": [
      "\n"
     ]
    }
   ],
   "source": [
    "for name, model, score in best_models_final:\n",
    "    y_predict = model.predict(X)\n",
    "    plot_df = pd.DataFrame(y.to_numpy().ravel(), (y.to_numpy().ravel() - y_predict.ravel())).reset_index()\n",
    "    print(name)\n",
    "    for metric_name, metric_score in (\n",
    "        ('sMAPE score:', -score),\n",
    "        ('r2 score:', r2_score(y, y_predict)),\n",
    "        ('corr coef between error and y-actual:', plot_df.corr().iloc[0][0]),\n",
    "    ):\n",
    "        print(metric_name + '{:.1%}'.format(metric_score).ljust(10).rjust(50 - len(metric_name)))\n",
    "   \n",
    "    plt.scatter(x=y, y=y_predict, alpha=0.5)\n",
    "    plt.title(name +' y-actual against y-predicted')\n",
    "    plt.xlabel('y-actual')\n",
    "    plt.ylabel('y-predicted')\n",
    "    plt.xlim(0, 100)\n",
    "    plt.ylim(0, 100)\n",
    "    plt.show()\n",
    "    \n",
    "    plot_df.plot(x='index', y=0, kind='scatter', alpha=0.05);\n",
    "    plt.title('Prediction error agains y-actual for ' + name)\n",
    "    plt.xlabel('error')\n",
    "    plt.ylabel('y-actual')\n",
    "    plt.show()\n",
    "    \n",
    "    print()"
   ]
  },
  {
   "cell_type": "code",
   "execution_count": null,
   "metadata": {},
   "outputs": [],
   "source": []
  },
  {
   "cell_type": "code",
   "execution_count": 38,
   "metadata": {},
   "outputs": [],
   "source": [
    "features = features_rougher\n",
    "targets = targets_rougher\n",
    "sample=data_train.loc[(data_train['final.output.recovery'] > 0)]\n",
    "X = sample[features]\n",
    "y = sample[targets]\n"
   ]
  },
  {
   "cell_type": "code",
   "execution_count": 39,
   "metadata": {},
   "outputs": [
    {
     "name": "stdout",
     "output_type": "stream",
     "text": [
      "Linear Regression\n",
      "Lasso\n",
      "Dummy Regressor\n"
     ]
    }
   ],
   "source": [
    "best_models_rougher = []\n",
    "\n",
    "for name, estimator, parameters in REGRESSORS:\n",
    "    print(name)\n",
    "\n",
    "    model = GridSearchCV(\n",
    "        estimator=estimator(),\n",
    "        cv=4,\n",
    "        param_grid=parameters,\n",
    "        scoring=model_scorer,\n",
    "    )\n",
    "    model.fit(X, y.values.ravel())\n",
    "    best_models_rougher.append((name, model.best_estimator_, model.best_score_))"
   ]
  },
  {
   "cell_type": "code",
   "execution_count": 40,
   "metadata": {
    "scrolled": true
   },
   "outputs": [
    {
     "name": "stdout",
     "output_type": "stream",
     "text": [
      "Linear Regression\n",
      "sMAPE score:                            6.0%      \n",
      "r2 score:                               52.3%     \n",
      "corr coef between error and y-actual:   69.1%     \n"
     ]
    },
    {
     "data": {
      "image/png": "[encoded data removed]",
      "text/plain": [
       "<Figure size 432x288 with 1 Axes>"
      ]
     },
     "metadata": {
      "needs_background": "light"
     },
     "output_type": "display_data"
    },
    {
     "data": {
      "image/png": "[encoded data removed]",
      "text/plain": [
       "<Figure size 432x288 with 1 Axes>"
      ]
     },
     "metadata": {
      "needs_background": "light"
     },
     "output_type": "display_data"
    },
    {
     "name": "stdout",
     "output_type": "stream",
     "text": [
      "\n",
      "Lasso\n",
      "sMAPE score:                            6.3%      \n",
      "r2 score:                               45.8%     \n",
      "corr coef between error and y-actual:   78.3%     \n"
     ]
    },
    {
     "data": {
      "image/png": "[encoded data removed]",
      "text/plain": [
       "<Figure size 432x288 with 1 Axes>"
      ]
     },
     "metadata": {
      "needs_background": "light"
     },
     "output_type": "display_data"
    },
    {
     "data": {
      "image/png": "[encoded data removed]",
      "text/plain": [
       "<Figure size 432x288 with 1 Axes>"
      ]
     },
     "metadata": {
      "needs_background": "light"
     },
     "output_type": "display_data"
    },
    {
     "name": "stdout",
     "output_type": "stream",
     "text": [
      "\n",
      "Dummy Regressor\n",
      "sMAPE score:                            7.3%      \n",
      "r2 score:                               -2.8%     \n",
      "corr coef between error and y-actual:   100.0%    \n"
     ]
    },
    {
     "data": {
      "image/png": "[encoded data removed]",
      "text/plain": [
       "<Figure size 432x288 with 1 Axes>"
      ]
     },
     "metadata": {
      "needs_background": "light"
     },
     "output_type": "display_data"
    },
    {
     "data": {
      "image/png": "[encoded data removed]",
      "text/plain": [
       "<Figure size 432x288 with 1 Axes>"
      ]
     },
     "metadata": {
      "needs_background": "light"
     },
     "output_type": "display_data"
    },
    {
     "name": "stdout",
     "output_type": "stream",
     "text": [
      "\n"
     ]
    }
   ],
   "source": [
    "for name, model, score in best_models_rougher:\n",
    "    y_predict = model.predict(X)\n",
    "    plot_df = pd.DataFrame(y.to_numpy().ravel(), (y.to_numpy().ravel() - y_predict.ravel())).reset_index()\n",
    "    print(name)\n",
    "    for metric_name, metric_score in (\n",
    "        ('sMAPE score:', -score),\n",
    "        ('r2 score:', r2_score(y, y_predict)),\n",
    "        ('corr coef between error and y-actual:', plot_df.corr().iloc[0][0]),\n",
    "    ):\n",
    "        print(metric_name + '{:.1%}'.format(metric_score).ljust(10).rjust(50 - len(metric_name)))\n",
    "   \n",
    "    plt.scatter(x=y, y=y_predict, alpha=0.5)\n",
    "    plt.title(name +' y-actual against y-predicted')\n",
    "    plt.xlabel('y-actual')\n",
    "    plt.ylabel('y-predicted')\n",
    "    plt.xlim(0, 100)\n",
    "    plt.ylim(0, 100)\n",
    "    plt.show()\n",
    "    \n",
    "    plot_df.plot(x='index', y=0, kind='scatter', alpha=0.05);\n",
    "    plt.title('Prediction error agains y-actual for ' + name)\n",
    "    plt.xlabel('error')\n",
    "    plt.ylabel('y-actual')\n",
    "    plt.show()\n",
    "    \n",
    "    print()"
   ]
  },
  {
   "cell_type": "code",
   "execution_count": null,
   "metadata": {},
   "outputs": [],
   "source": []
  },
  {
   "cell_type": "code",
   "execution_count": 41,
   "metadata": {},
   "outputs": [
    {
     "name": "stdout",
     "output_type": "stream",
     "text": [
      "Total sMAPE score by model:\n",
      "Linear Regression   7.9%      \n",
      "Lasso               7.8%      \n",
      "Dummy Regressor     9.0%      \n"
     ]
    }
   ],
   "source": [
    "print('Total sMAPE score by model:')\n",
    "for (name, _, score_rougher), (_, _, score_final) in zip(best_models_rougher, best_models_final):\n",
    "    print(\n",
    "        name+ '{:.1%}'.format(\n",
    "            -smape_total(score_rougher, score_final)\n",
    "        ).ljust(10).rjust(30 - len(name))\n",
    "    )"
   ]
  },
  {
   "cell_type": "code",
   "execution_count": null,
   "metadata": {},
   "outputs": [],
   "source": []
  },
  {
   "cell_type": "code",
   "execution_count": null,
   "metadata": {},
   "outputs": [],
   "source": []
  },
  {
   "cell_type": "markdown",
   "metadata": {},
   "source": [
    "#### Прогноз с лучшей моделью"
   ]
  },
  {
   "cell_type": "code",
   "execution_count": null,
   "metadata": {},
   "outputs": [],
   "source": []
  },
  {
   "cell_type": "code",
   "execution_count": 42,
   "metadata": {},
   "outputs": [],
   "source": [
    "data_test_new = data_test.merge(data_initial[['date', 'final.output.recovery', 'rougher.output.recovery']], on='date')"
   ]
  },
  {
   "cell_type": "code",
   "execution_count": 43,
   "metadata": {},
   "outputs": [
    {
     "data": {
      "text/plain": [
       "\"\\ndata_test_new = data_test_new.drop(\\n    data_test_new[\\n        (data_test_new['final.output.recovery'] > 99) |\\n        (data_test_new['final.output.recovery'] < 5) |\\n        (data_test_new['rougher.output.recovery'] > 99) |\\n        (data_test_new['rougher.output.recovery'] < 5)\\n    ].index\\n)\\n\""
      ]
     },
     "execution_count": 43,
     "metadata": {},
     "output_type": "execute_result"
    }
   ],
   "source": [
    "'''\n",
    "data_test_new = data_test_new.drop(\n",
    "    data_test_new[\n",
    "        (data_test_new['final.output.recovery'] > 99) |\n",
    "        (data_test_new['final.output.recovery'] < 5) |\n",
    "        (data_test_new['rougher.output.recovery'] > 99) |\n",
    "        (data_test_new['rougher.output.recovery'] < 5)\n",
    "    ].index\n",
    ")\n",
    "'''"
   ]
  },
  {
   "cell_type": "code",
   "execution_count": 44,
   "metadata": {},
   "outputs": [],
   "source": [
    "total_score = dict()"
   ]
  },
  {
   "cell_type": "code",
   "execution_count": 45,
   "metadata": {},
   "outputs": [],
   "source": [
    "features = features_rougher\n",
    "targets = targets_rougher\n",
    "X = data_test_new[features]\n",
    "y = data_test_new[targets]"
   ]
  },
  {
   "cell_type": "code",
   "execution_count": 46,
   "metadata": {
    "scrolled": false
   },
   "outputs": [
    {
     "name": "stdout",
     "output_type": "stream",
     "text": [
      "Lasso\n",
      "sMAPE score:                            7.5%      \n",
      "r2 score:                               4.4%      \n",
      "corr coef between error and y-actual:   94.9%     \n"
     ]
    },
    {
     "data": {
      "image/png": "[encoded data removed]",
      "text/plain": [
       "<Figure size 432x288 with 1 Axes>"
      ]
     },
     "metadata": {
      "needs_background": "light"
     },
     "output_type": "display_data"
    },
    {
     "data": {
      "image/png": "[encoded data removed]",
      "text/plain": [
       "<Figure size 432x288 with 1 Axes>"
      ]
     },
     "metadata": {
      "needs_background": "light"
     },
     "output_type": "display_data"
    },
    {
     "name": "stdout",
     "output_type": "stream",
     "text": [
      "\n",
      "Dummy Regressor\n",
      "sMAPE score:                            8.2%      \n",
      "r2 score:                               -0.7%     \n",
      "corr coef between error and y-actual:   100.0%    \n"
     ]
    },
    {
     "data": {
      "image/png": "[encoded data removed]",
      "text/plain": [
       "<Figure size 432x288 with 1 Axes>"
      ]
     },
     "metadata": {
      "needs_background": "light"
     },
     "output_type": "display_data"
    },
    {
     "data": {
      "image/png": "[encoded data removed]",
      "text/plain": [
       "<Figure size 432x288 with 1 Axes>"
      ]
     },
     "metadata": {
      "needs_background": "light"
     },
     "output_type": "display_data"
    },
    {
     "name": "stdout",
     "output_type": "stream",
     "text": [
      "\n"
     ]
    }
   ],
   "source": [
    "\n",
    "for name, model, score in [best_models_rougher[1], best_models_rougher[-1]]:\n",
    "    score = -score_smape(y.to_numpy().ravel(), y_predict.ravel())\n",
    "    y_predict = model.predict(X)\n",
    "    plot_df = pd.DataFrame(y.to_numpy().ravel(), (y.to_numpy().ravel() - y_predict.ravel())).reset_index()\n",
    "    print(name)\n",
    "    for metric_name, metric_score in (\n",
    "        ('sMAPE score:', -score),\n",
    "        ('r2 score:', r2_score(y, y_predict)),\n",
    "        ('corr coef between error and y-actual:', plot_df.corr().iloc[0][0]),\n",
    "    ):\n",
    "        print(metric_name + '{:.1%}'.format(metric_score).ljust(10).rjust(50 - len(metric_name)))\n",
    "\n",
    "    plt.scatter(x=y, y=y_predict, alpha=0.05)\n",
    "    plt.title(name +' y-actual against y-predicted')\n",
    "    plt.xlabel('y-actual')\n",
    "    plt.ylabel('y-predicted')\n",
    "    plt.xlim(0, 100)\n",
    "    plt.ylim(0, 100)\n",
    "    plt.show()\n",
    "\n",
    "    plot_df.plot(x='index', y=0, kind='scatter', alpha=0.05);\n",
    "    plt.title('Prediction error agains y-actual for ' + name)\n",
    "    plt.xlabel('error')\n",
    "    plt.ylabel('y-actual')\n",
    "    plt.show()\n",
    "    \n",
    "    total_score[name] = [score] if not total_score.get(name) else total_score[name] + [score]\n",
    "    print()"
   ]
  },
  {
   "cell_type": "code",
   "execution_count": 47,
   "metadata": {},
   "outputs": [],
   "source": [
    "features = features_final\n",
    "targets = targets_final\n",
    "X = data_test_new[features]\n",
    "y = data_test_new[targets]"
   ]
  },
  {
   "cell_type": "code",
   "execution_count": 48,
   "metadata": {},
   "outputs": [
    {
     "name": "stdout",
     "output_type": "stream",
     "text": [
      "Lasso\n",
      "sMAPE score:                            9.1%      \n",
      "r2 score:                               -0.6%     \n",
      "corr coef between error and y-actual:   85.5%     \n"
     ]
    },
    {
     "data": {
      "image/png": "[encoded data removed]",
      "text/plain": [
       "<Figure size 432x288 with 1 Axes>"
      ]
     },
     "metadata": {
      "needs_background": "light"
     },
     "output_type": "display_data"
    },
    {
     "data": {
      "image/png": "[encoded data removed]",
      "text/plain": [
       "<Figure size 432x288 with 1 Axes>"
      ]
     },
     "metadata": {
      "needs_background": "light"
     },
     "output_type": "display_data"
    },
    {
     "name": "stdout",
     "output_type": "stream",
     "text": [
      "\n",
      "Dummy Regressor\n",
      "sMAPE score:                            8.9%      \n",
      "r2 score:                               -0.2%     \n",
      "corr coef between error and y-actual:   100.0%    \n"
     ]
    },
    {
     "data": {
      "image/png": "[encoded data removed]",
      "text/plain": [
       "<Figure size 432x288 with 1 Axes>"
      ]
     },
     "metadata": {
      "needs_background": "light"
     },
     "output_type": "display_data"
    },
    {
     "data": {
      "image/png": "[encoded data removed]",
      "text/plain": [
       "<Figure size 432x288 with 1 Axes>"
      ]
     },
     "metadata": {
      "needs_background": "light"
     },
     "output_type": "display_data"
    },
    {
     "name": "stdout",
     "output_type": "stream",
     "text": [
      "\n"
     ]
    }
   ],
   "source": [
    "for name, model, score in [best_models_final[1], best_models_final[-1]]:\n",
    "    y_predict = model.predict(X)\n",
    "    score = -score_smape(y.to_numpy().ravel(), y_predict.ravel())\n",
    "    plot_df = pd.DataFrame(y.to_numpy().ravel(), (y.to_numpy().ravel() - y_predict.ravel())).reset_index()\n",
    "    print(name)\n",
    "    for metric_name, metric_score in (\n",
    "        ('sMAPE score:', -score),\n",
    "        ('r2 score:', r2_score(y, y_predict)),\n",
    "        ('corr coef between error and y-actual:', plot_df.corr().iloc[0][0]),\n",
    "    ):\n",
    "        print(metric_name + '{:.1%}'.format(metric_score).ljust(10).rjust(50 - len(metric_name)))\n",
    "   \n",
    "    plt.scatter(x=y, y=y_predict, alpha=0.05)\n",
    "    plt.title(name +' y-actual against y-predicted')\n",
    "    plt.xlabel('y-actual')\n",
    "    plt.ylabel('y-predicted')\n",
    "    plt.xlim(0, 100)\n",
    "    plt.ylim(0, 100)\n",
    "    plt.show()\n",
    "    \n",
    "    plot_df.plot(x='index', y=0, kind='scatter', alpha=0.05);\n",
    "    plt.title('Prediction error agains y-actual for ' + name)\n",
    "    plt.xlabel('error')\n",
    "    plt.ylabel('y-actual')\n",
    "    plt.show()\n",
    "    \n",
    "    total_score[name] = [score] if not total_score.get(name) else total_score[name] + [score] \n",
    "    print()"
   ]
  },
  {
   "cell_type": "code",
   "execution_count": null,
   "metadata": {},
   "outputs": [],
   "source": []
  },
  {
   "cell_type": "code",
   "execution_count": 49,
   "metadata": {},
   "outputs": [
    {
     "name": "stdout",
     "output_type": "stream",
     "text": [
      "Lasso               8.67%     \n",
      "Dummy Regressor     8.74%     \n"
     ]
    }
   ],
   "source": [
    "for name, value in total_score.items():\n",
    "    print(name + '{:.2%}'.format(-smape_total(value[0], value[1])).ljust(10).rjust(30 - len(name)))"
   ]
  },
  {
   "cell_type": "markdown",
   "metadata": {},
   "source": [
    "## Чек-лист готовности проекта"
   ]
  },
  {
   "cell_type": "markdown",
   "metadata": {},
   "source": [
    "- [x]  Jupyter Notebook открыт\n",
    "- [ ]  Весь код выполняется без ошибок\n",
    "- [ ]  Ячейки с кодом расположены в порядке выполнения\n",
    "- [ ]  Выполнен шаг 1: данные подготовлены\n",
    "    - [ ]  Проверена формула вычисления эффективности обогащения\n",
    "    - [ ]  Проанализированы признаки, недоступные в тестовой выборке\n",
    "    - [ ]  Проведена предобработка данных\n",
    "- [ ]  Выполнен шаг 2: данные проанализированы\n",
    "    - [ ]  Исследовано изменение концентрации элементов на каждом этапе\n",
    "    - [ ]  Проанализированы распределения размеров гранул на обучающей и тестовой выборках\n",
    "    - [ ]  Исследованы суммарные концентрации\n",
    "- [ ]  Выполнен шаг 3: построена модель прогнозирования\n",
    "    - [ ]  Написана функция для вычисления итогового *sMAPE*\n",
    "    - [ ]  Обучено и проверено несколько моделей\n",
    "    - [ ]  Выбрана лучшая модель, её качество проверено на тестовой выборке"
   ]
  }
 ],
 "metadata": {
  "ExecuteTimeLog": [
   {
    "duration": 49,
    "start_time": "2022-10-10T19:40:54.830Z"
   },
   {
    "duration": 1734,
    "start_time": "2022-10-10T19:40:57.534Z"
   },
   {
    "duration": 231,
    "start_time": "2022-10-10T19:40:59.270Z"
   },
   {
    "duration": 1425,
    "start_time": "2022-10-10T19:41:13.356Z"
   },
   {
    "duration": 26,
    "start_time": "2022-10-10T19:41:29.395Z"
   },
   {
    "duration": 1236,
    "start_time": "2022-10-10T19:43:17.257Z"
   },
   {
    "duration": 32,
    "start_time": "2022-10-10T19:43:36.184Z"
   },
   {
    "duration": 3,
    "start_time": "2022-10-10T19:44:30.244Z"
   },
   {
    "duration": 4,
    "start_time": "2022-10-10T19:45:01.414Z"
   },
   {
    "duration": 24,
    "start_time": "2022-10-10T19:45:29.950Z"
   },
   {
    "duration": 4,
    "start_time": "2022-10-10T19:52:50.554Z"
   },
   {
    "duration": 18,
    "start_time": "2022-10-10T19:52:58.553Z"
   },
   {
    "duration": 5,
    "start_time": "2022-10-10T19:59:32.661Z"
   },
   {
    "duration": 4,
    "start_time": "2022-10-10T19:59:53.413Z"
   },
   {
    "duration": 5,
    "start_time": "2022-10-10T20:00:08.868Z"
   },
   {
    "duration": 7,
    "start_time": "2022-10-10T20:01:22.099Z"
   },
   {
    "duration": 12,
    "start_time": "2022-10-10T20:05:11.842Z"
   },
   {
    "duration": 5,
    "start_time": "2022-10-10T20:09:20.370Z"
   },
   {
    "duration": 6,
    "start_time": "2022-10-10T20:09:51.971Z"
   },
   {
    "duration": 1596,
    "start_time": "2022-10-13T14:57:47.790Z"
   },
   {
    "duration": 1353,
    "start_time": "2022-10-13T14:57:50.292Z"
   },
   {
    "duration": 3,
    "start_time": "2022-10-13T14:57:51.647Z"
   },
   {
    "duration": 7,
    "start_time": "2022-10-13T14:57:51.652Z"
   },
   {
    "duration": 15,
    "start_time": "2022-10-13T14:57:54.365Z"
   },
   {
    "duration": 19,
    "start_time": "2022-10-13T14:58:00.838Z"
   },
   {
    "duration": 6,
    "start_time": "2022-10-13T14:58:26.095Z"
   },
   {
    "duration": 4,
    "start_time": "2022-10-13T14:58:37.228Z"
   },
   {
    "duration": 6,
    "start_time": "2022-10-13T14:59:30.341Z"
   },
   {
    "duration": 6,
    "start_time": "2022-10-13T14:59:51.863Z"
   },
   {
    "duration": 124,
    "start_time": "2022-10-13T14:59:58.839Z"
   },
   {
    "duration": 13,
    "start_time": "2022-10-13T15:00:11.338Z"
   },
   {
    "duration": 11,
    "start_time": "2022-10-13T15:01:34.714Z"
   },
   {
    "duration": 6,
    "start_time": "2022-10-13T15:51:04.366Z"
   },
   {
    "duration": 5,
    "start_time": "2022-10-13T15:53:37.063Z"
   },
   {
    "duration": 1105,
    "start_time": "2022-10-13T15:55:52.723Z"
   },
   {
    "duration": 6,
    "start_time": "2022-10-13T15:55:58.860Z"
   },
   {
    "duration": 6,
    "start_time": "2022-10-13T15:56:26.482Z"
   },
   {
    "duration": 5,
    "start_time": "2022-10-13T15:56:42.109Z"
   },
   {
    "duration": 5,
    "start_time": "2022-10-13T15:57:05.308Z"
   },
   {
    "duration": 20,
    "start_time": "2022-10-13T15:58:10.733Z"
   },
   {
    "duration": 13,
    "start_time": "2022-10-13T15:58:26.633Z"
   },
   {
    "duration": 32,
    "start_time": "2022-10-13T15:58:33.145Z"
   },
   {
    "duration": 17,
    "start_time": "2022-10-13T15:58:49.322Z"
   },
   {
    "duration": 23,
    "start_time": "2022-10-13T15:59:00.496Z"
   },
   {
    "duration": 83,
    "start_time": "2022-10-13T15:59:15.112Z"
   },
   {
    "duration": 20,
    "start_time": "2022-10-13T15:59:44.219Z"
   },
   {
    "duration": 10,
    "start_time": "2022-10-13T15:59:56.519Z"
   },
   {
    "duration": 1905,
    "start_time": "2022-10-13T16:00:10.252Z"
   },
   {
    "duration": 114,
    "start_time": "2022-10-13T16:00:35.176Z"
   },
   {
    "duration": 13,
    "start_time": "2022-10-13T16:01:24.237Z"
   },
   {
    "duration": 160,
    "start_time": "2022-10-13T16:02:56.243Z"
   },
   {
    "duration": 5,
    "start_time": "2022-10-13T16:03:01.937Z"
   },
   {
    "duration": 350,
    "start_time": "2022-10-13T16:12:42.863Z"
   },
   {
    "duration": 5,
    "start_time": "2022-10-13T16:12:43.678Z"
   },
   {
    "duration": 350,
    "start_time": "2022-10-13T16:14:06.988Z"
   },
   {
    "duration": 5,
    "start_time": "2022-10-13T16:14:09.199Z"
   },
   {
    "duration": 352,
    "start_time": "2022-10-13T16:14:29.175Z"
   },
   {
    "duration": 8,
    "start_time": "2022-10-13T16:14:31.526Z"
   },
   {
    "duration": 3,
    "start_time": "2022-10-13T16:16:16.831Z"
   },
   {
    "duration": 241,
    "start_time": "2022-10-13T16:18:01.360Z"
   },
   {
    "duration": 6,
    "start_time": "2022-10-13T16:18:03.408Z"
   },
   {
    "duration": 13,
    "start_time": "2022-10-13T16:18:46.015Z"
   },
   {
    "duration": 10,
    "start_time": "2022-10-13T16:19:12.329Z"
   },
   {
    "duration": 6,
    "start_time": "2022-10-13T16:48:37.840Z"
   },
   {
    "duration": 5,
    "start_time": "2022-10-13T16:50:38.612Z"
   },
   {
    "duration": 5,
    "start_time": "2022-10-13T16:51:09.365Z"
   },
   {
    "duration": 9,
    "start_time": "2022-10-13T17:00:38.953Z"
   },
   {
    "duration": 4,
    "start_time": "2022-10-13T17:00:43.245Z"
   },
   {
    "duration": 5,
    "start_time": "2022-10-13T17:00:49.974Z"
   },
   {
    "duration": 3,
    "start_time": "2022-10-13T17:03:30.485Z"
   },
   {
    "duration": 901,
    "start_time": "2022-10-13T17:04:29.625Z"
   },
   {
    "duration": 8,
    "start_time": "2022-10-13T17:04:38.856Z"
   },
   {
    "duration": 5,
    "start_time": "2022-10-13T17:04:56.623Z"
   },
   {
    "duration": 5,
    "start_time": "2022-10-13T17:05:37.873Z"
   },
   {
    "duration": 5,
    "start_time": "2022-10-13T17:05:47.549Z"
   },
   {
    "duration": 6,
    "start_time": "2022-10-13T17:06:26.712Z"
   },
   {
    "duration": 6,
    "start_time": "2022-10-13T17:07:12.468Z"
   },
   {
    "duration": 6,
    "start_time": "2022-10-13T17:07:18.604Z"
   },
   {
    "duration": 6,
    "start_time": "2022-10-13T17:07:32.161Z"
   },
   {
    "duration": 8,
    "start_time": "2022-10-13T17:23:35.837Z"
   },
   {
    "duration": 9,
    "start_time": "2022-10-13T17:24:03.020Z"
   },
   {
    "duration": 321,
    "start_time": "2022-10-13T17:24:07.682Z"
   },
   {
    "duration": 477,
    "start_time": "2022-10-13T17:24:24.128Z"
   },
   {
    "duration": 5,
    "start_time": "2022-10-13T17:24:26.288Z"
   },
   {
    "duration": 5,
    "start_time": "2022-10-13T17:24:49.444Z"
   },
   {
    "duration": 4,
    "start_time": "2022-10-13T17:24:56.900Z"
   },
   {
    "duration": 5,
    "start_time": "2022-10-13T17:26:19.513Z"
   },
   {
    "duration": 5,
    "start_time": "2022-10-13T17:26:40.521Z"
   },
   {
    "duration": 5,
    "start_time": "2022-10-13T17:28:22.132Z"
   },
   {
    "duration": 4,
    "start_time": "2022-10-13T17:32:27.277Z"
   },
   {
    "duration": 51,
    "start_time": "2022-10-13T17:33:28.017Z"
   },
   {
    "duration": 5,
    "start_time": "2022-10-13T17:33:36.402Z"
   },
   {
    "duration": 12,
    "start_time": "2022-10-13T17:34:03.329Z"
   },
   {
    "duration": 480,
    "start_time": "2022-10-13T17:34:15.054Z"
   },
   {
    "duration": 5,
    "start_time": "2022-10-13T17:34:16.364Z"
   },
   {
    "duration": 8,
    "start_time": "2022-10-13T17:41:07.121Z"
   },
   {
    "duration": 4,
    "start_time": "2022-10-13T17:41:15.745Z"
   },
   {
    "duration": 10,
    "start_time": "2022-10-13T18:03:41.520Z"
   },
   {
    "duration": 8,
    "start_time": "2022-10-13T18:03:51.128Z"
   },
   {
    "duration": 5,
    "start_time": "2022-10-13T18:04:00.238Z"
   },
   {
    "duration": 4,
    "start_time": "2022-10-13T18:04:11.321Z"
   },
   {
    "duration": 4,
    "start_time": "2022-10-13T18:04:31.921Z"
   },
   {
    "duration": 9,
    "start_time": "2022-10-13T18:13:10.390Z"
   },
   {
    "duration": 8,
    "start_time": "2022-10-13T18:13:20.164Z"
   },
   {
    "duration": 9,
    "start_time": "2022-10-13T18:13:29.864Z"
   },
   {
    "duration": 5,
    "start_time": "2022-10-13T18:13:41.999Z"
   },
   {
    "duration": 10,
    "start_time": "2022-10-13T19:08:02.432Z"
   },
   {
    "duration": 4,
    "start_time": "2022-10-13T19:08:11.632Z"
   },
   {
    "duration": 4,
    "start_time": "2022-10-13T19:08:31.836Z"
   },
   {
    "duration": 5,
    "start_time": "2022-10-13T19:09:12.458Z"
   },
   {
    "duration": 9,
    "start_time": "2022-10-13T19:09:39.612Z"
   },
   {
    "duration": 7,
    "start_time": "2022-10-13T19:09:53.196Z"
   },
   {
    "duration": 9,
    "start_time": "2022-10-13T19:10:04.609Z"
   },
   {
    "duration": 8,
    "start_time": "2022-10-13T19:10:53.816Z"
   },
   {
    "duration": 8,
    "start_time": "2022-10-13T19:11:07.842Z"
   },
   {
    "duration": 8,
    "start_time": "2022-10-13T19:11:14.330Z"
   },
   {
    "duration": 7,
    "start_time": "2022-10-13T19:11:26.210Z"
   },
   {
    "duration": 11,
    "start_time": "2022-10-13T19:11:52.643Z"
   },
   {
    "duration": 7,
    "start_time": "2022-10-13T19:15:56.929Z"
   },
   {
    "duration": 7,
    "start_time": "2022-10-13T19:16:07.246Z"
   },
   {
    "duration": 8,
    "start_time": "2022-10-13T19:16:14.252Z"
   },
   {
    "duration": 8,
    "start_time": "2022-10-13T19:16:22.848Z"
   },
   {
    "duration": 8,
    "start_time": "2022-10-13T19:18:51.168Z"
   },
   {
    "duration": 9,
    "start_time": "2022-10-13T19:18:58.649Z"
   },
   {
    "duration": 8,
    "start_time": "2022-10-13T19:19:04.448Z"
   },
   {
    "duration": 9,
    "start_time": "2022-10-13T19:19:11.049Z"
   },
   {
    "duration": 7,
    "start_time": "2022-10-13T19:19:15.283Z"
   },
   {
    "duration": 8,
    "start_time": "2022-10-13T19:19:19.681Z"
   },
   {
    "duration": 8,
    "start_time": "2022-10-13T19:19:24.757Z"
   },
   {
    "duration": 8,
    "start_time": "2022-10-13T19:19:30.870Z"
   },
   {
    "duration": 6,
    "start_time": "2022-10-13T19:19:36.983Z"
   },
   {
    "duration": 22,
    "start_time": "2022-10-13T19:19:41.166Z"
   },
   {
    "duration": 8,
    "start_time": "2022-10-13T19:19:48.028Z"
   },
   {
    "duration": 8,
    "start_time": "2022-10-13T19:19:53.671Z"
   },
   {
    "duration": 10,
    "start_time": "2022-10-13T19:20:03.182Z"
   },
   {
    "duration": 8,
    "start_time": "2022-10-13T19:20:10.345Z"
   },
   {
    "duration": 8,
    "start_time": "2022-10-13T19:20:14.189Z"
   },
   {
    "duration": 8,
    "start_time": "2022-10-13T19:20:17.382Z"
   },
   {
    "duration": 8,
    "start_time": "2022-10-13T19:21:40.229Z"
   },
   {
    "duration": 9,
    "start_time": "2022-10-13T19:25:05.993Z"
   },
   {
    "duration": 8,
    "start_time": "2022-10-13T19:25:35.855Z"
   },
   {
    "duration": 9,
    "start_time": "2022-10-13T19:25:50.928Z"
   },
   {
    "duration": 8,
    "start_time": "2022-10-13T19:25:55.039Z"
   },
   {
    "duration": 8,
    "start_time": "2022-10-13T19:25:59.226Z"
   },
   {
    "duration": 9,
    "start_time": "2022-10-13T19:28:10.660Z"
   },
   {
    "duration": 11,
    "start_time": "2022-10-13T19:28:21.408Z"
   },
   {
    "duration": 86,
    "start_time": "2022-10-13T19:32:08.750Z"
   },
   {
    "duration": 10,
    "start_time": "2022-10-13T19:32:15.189Z"
   },
   {
    "duration": 9,
    "start_time": "2022-10-13T19:34:07.972Z"
   },
   {
    "duration": 59,
    "start_time": "2022-10-13T19:36:12.248Z"
   },
   {
    "duration": 789,
    "start_time": "2022-10-13T19:36:26.810Z"
   },
   {
    "duration": 9,
    "start_time": "2022-10-13T19:36:48.617Z"
   },
   {
    "duration": 9,
    "start_time": "2022-10-13T19:39:13.900Z"
   },
   {
    "duration": 5,
    "start_time": "2022-10-13T19:39:50.317Z"
   },
   {
    "duration": 5,
    "start_time": "2022-10-13T19:40:03.730Z"
   },
   {
    "duration": 8,
    "start_time": "2022-10-13T19:40:14.322Z"
   },
   {
    "duration": 7,
    "start_time": "2022-10-13T19:40:27.988Z"
   },
   {
    "duration": 9,
    "start_time": "2022-10-13T19:43:27.100Z"
   },
   {
    "duration": 196,
    "start_time": "2022-10-13T19:46:50.468Z"
   },
   {
    "duration": 146,
    "start_time": "2022-10-13T19:47:05.416Z"
   },
   {
    "duration": 178,
    "start_time": "2022-10-13T19:48:43.809Z"
   },
   {
    "duration": 146,
    "start_time": "2022-10-13T19:49:02.739Z"
   },
   {
    "duration": 192,
    "start_time": "2022-10-13T19:49:23.654Z"
   },
   {
    "duration": 495,
    "start_time": "2022-10-13T19:52:43.920Z"
   },
   {
    "duration": 532,
    "start_time": "2022-10-13T19:52:50.194Z"
   },
   {
    "duration": 667,
    "start_time": "2022-10-13T19:53:25.331Z"
   },
   {
    "duration": 806,
    "start_time": "2022-10-13T19:54:41.431Z"
   },
   {
    "duration": 118,
    "start_time": "2022-10-13T19:56:15.712Z"
   },
   {
    "duration": 119,
    "start_time": "2022-10-13T19:56:49.637Z"
   },
   {
    "duration": 811,
    "start_time": "2022-10-13T19:57:36.370Z"
   },
   {
    "duration": 677,
    "start_time": "2022-10-13T19:57:44.388Z"
   },
   {
    "duration": 818,
    "start_time": "2022-10-13T19:57:54.923Z"
   },
   {
    "duration": 675,
    "start_time": "2022-10-13T19:58:06.024Z"
   },
   {
    "duration": 816,
    "start_time": "2022-10-13T19:58:12.912Z"
   },
   {
    "duration": 311,
    "start_time": "2022-10-13T19:58:48.355Z"
   },
   {
    "duration": 1381,
    "start_time": "2022-10-13T19:59:13.661Z"
   },
   {
    "duration": 261,
    "start_time": "2022-10-13T20:03:08.773Z"
   },
   {
    "duration": 12,
    "start_time": "2022-10-13T20:03:24.268Z"
   },
   {
    "duration": 570,
    "start_time": "2022-10-13T20:03:38.717Z"
   },
   {
    "duration": 681,
    "start_time": "2022-10-13T20:03:48.028Z"
   },
   {
    "duration": 685,
    "start_time": "2022-10-13T20:04:14.704Z"
   },
   {
    "duration": 439,
    "start_time": "2022-10-13T20:04:22.460Z"
   },
   {
    "duration": 976,
    "start_time": "2022-10-13T20:05:26.569Z"
   },
   {
    "duration": 659,
    "start_time": "2022-10-13T20:05:38.160Z"
   },
   {
    "duration": 1442,
    "start_time": "2022-10-13T20:06:23.567Z"
   },
   {
    "duration": 348,
    "start_time": "2022-10-13T20:08:18.551Z"
   },
   {
    "duration": 1274,
    "start_time": "2022-10-13T20:08:35.728Z"
   },
   {
    "duration": 1176,
    "start_time": "2022-10-13T20:11:00.634Z"
   },
   {
    "duration": 72,
    "start_time": "2022-10-13T20:11:25.502Z"
   },
   {
    "duration": 1327,
    "start_time": "2022-10-13T20:11:39.383Z"
   },
   {
    "duration": 1269,
    "start_time": "2022-10-13T20:11:57.247Z"
   },
   {
    "duration": 1155,
    "start_time": "2022-10-13T20:12:07.038Z"
   },
   {
    "duration": 243,
    "start_time": "2022-10-13T20:12:40.929Z"
   },
   {
    "duration": 449,
    "start_time": "2022-10-13T20:12:49.232Z"
   },
   {
    "duration": 218,
    "start_time": "2022-10-13T20:15:06.846Z"
   },
   {
    "duration": 318,
    "start_time": "2022-10-13T20:15:51.947Z"
   },
   {
    "duration": 310,
    "start_time": "2022-10-13T20:16:05.136Z"
   },
   {
    "duration": 496,
    "start_time": "2022-10-13T20:16:12.135Z"
   },
   {
    "duration": 374,
    "start_time": "2022-10-13T20:16:22.359Z"
   },
   {
    "duration": 325,
    "start_time": "2022-10-13T20:16:44.133Z"
   },
   {
    "duration": 454,
    "start_time": "2022-10-13T20:17:15.157Z"
   },
   {
    "duration": 534,
    "start_time": "2022-10-13T20:17:24.998Z"
   },
   {
    "duration": 13,
    "start_time": "2022-10-13T20:22:49.966Z"
   },
   {
    "duration": 12,
    "start_time": "2022-10-13T20:23:20.684Z"
   },
   {
    "duration": 10,
    "start_time": "2022-10-13T20:23:39.002Z"
   },
   {
    "duration": 12,
    "start_time": "2022-10-13T20:23:50.572Z"
   },
   {
    "duration": 10,
    "start_time": "2022-10-13T20:28:41.777Z"
   },
   {
    "duration": 3,
    "start_time": "2022-10-13T20:29:14.174Z"
   },
   {
    "duration": 7,
    "start_time": "2022-10-13T20:29:19.395Z"
   },
   {
    "duration": 9,
    "start_time": "2022-10-13T20:29:45.207Z"
   },
   {
    "duration": 8,
    "start_time": "2022-10-13T20:30:02.258Z"
   },
   {
    "duration": 8,
    "start_time": "2022-10-13T20:30:16.384Z"
   },
   {
    "duration": 7,
    "start_time": "2022-10-13T20:30:26.132Z"
   },
   {
    "duration": 10,
    "start_time": "2022-10-13T20:30:39.965Z"
   },
   {
    "duration": 10,
    "start_time": "2022-10-13T20:31:03.891Z"
   },
   {
    "duration": 8,
    "start_time": "2022-10-13T20:31:20.328Z"
   },
   {
    "duration": 7,
    "start_time": "2022-10-13T20:31:30.953Z"
   },
   {
    "duration": 9,
    "start_time": "2022-10-13T20:31:52.609Z"
   },
   {
    "duration": 6,
    "start_time": "2022-10-13T20:32:05.786Z"
   },
   {
    "duration": 5,
    "start_time": "2022-10-13T20:34:34.380Z"
   },
   {
    "duration": 482,
    "start_time": "2022-10-13T20:34:48.686Z"
   },
   {
    "duration": 17,
    "start_time": "2022-10-13T20:38:14.329Z"
   },
   {
    "duration": 27,
    "start_time": "2022-10-13T20:47:46.747Z"
   },
   {
    "duration": 366,
    "start_time": "2022-10-13T20:48:10.213Z"
   },
   {
    "duration": 5,
    "start_time": "2022-10-13T20:48:15.183Z"
   },
   {
    "duration": 5,
    "start_time": "2022-10-13T20:48:18.695Z"
   },
   {
    "duration": 5,
    "start_time": "2022-10-13T20:48:23.083Z"
   },
   {
    "duration": 4,
    "start_time": "2022-10-13T20:48:23.755Z"
   },
   {
    "duration": 5,
    "start_time": "2022-10-13T20:48:27.210Z"
   },
   {
    "duration": 9,
    "start_time": "2022-10-13T20:48:40.699Z"
   },
   {
    "duration": 9,
    "start_time": "2022-10-13T20:48:47.632Z"
   },
   {
    "duration": 7,
    "start_time": "2022-10-13T20:48:51.008Z"
   },
   {
    "duration": 529,
    "start_time": "2022-10-13T20:49:16.531Z"
   },
   {
    "duration": 7,
    "start_time": "2022-10-13T20:49:32.232Z"
   },
   {
    "duration": 9,
    "start_time": "2022-10-13T20:58:52.971Z"
   },
   {
    "duration": 4,
    "start_time": "2022-10-13T20:59:08.672Z"
   },
   {
    "duration": 2,
    "start_time": "2022-10-13T20:59:16.762Z"
   },
   {
    "duration": 5,
    "start_time": "2022-10-13T21:03:32.748Z"
   },
   {
    "duration": 3,
    "start_time": "2022-10-13T21:04:40.918Z"
   },
   {
    "duration": 3,
    "start_time": "2022-10-13T21:06:15.317Z"
   },
   {
    "duration": 10,
    "start_time": "2022-10-13T21:08:22.889Z"
   },
   {
    "duration": 27,
    "start_time": "2022-10-13T21:08:28.326Z"
   },
   {
    "duration": 27,
    "start_time": "2022-10-13T21:09:14.530Z"
   },
   {
    "duration": 23,
    "start_time": "2022-10-13T21:09:29.559Z"
   },
   {
    "duration": 173,
    "start_time": "2022-10-13T21:09:38.430Z"
   },
   {
    "duration": 876,
    "start_time": "2022-10-13T21:09:57.945Z"
   },
   {
    "duration": 15,
    "start_time": "2022-10-13T21:12:02.194Z"
   },
   {
    "duration": 14,
    "start_time": "2022-10-13T21:12:31.146Z"
   },
   {
    "duration": 1005,
    "start_time": "2022-10-13T21:12:36.003Z"
   },
   {
    "duration": 15,
    "start_time": "2022-10-13T21:12:46.592Z"
   },
   {
    "duration": 5,
    "start_time": "2022-10-13T21:12:52.269Z"
   },
   {
    "duration": 9,
    "start_time": "2022-10-13T21:14:51.531Z"
   },
   {
    "duration": 9,
    "start_time": "2022-10-13T21:16:02.670Z"
   },
   {
    "duration": 4,
    "start_time": "2022-10-13T21:16:09.977Z"
   },
   {
    "duration": 5,
    "start_time": "2022-10-13T21:16:22.435Z"
   },
   {
    "duration": 6,
    "start_time": "2022-10-13T21:19:31.086Z"
   },
   {
    "duration": 4,
    "start_time": "2022-10-13T21:19:42.969Z"
   },
   {
    "duration": 10,
    "start_time": "2022-10-13T21:22:23.695Z"
   },
   {
    "duration": 11,
    "start_time": "2022-10-13T21:22:44.084Z"
   },
   {
    "duration": 137,
    "start_time": "2022-10-13T21:22:54.240Z"
   },
   {
    "duration": 32,
    "start_time": "2022-10-13T21:23:12.558Z"
   },
   {
    "duration": 13,
    "start_time": "2022-10-13T21:23:28.818Z"
   },
   {
    "duration": 13,
    "start_time": "2022-10-13T21:23:51.764Z"
   },
   {
    "duration": 132,
    "start_time": "2022-10-13T21:25:42.718Z"
   },
   {
    "duration": 137,
    "start_time": "2022-10-13T21:25:57.266Z"
   },
   {
    "duration": 166,
    "start_time": "2022-10-13T21:26:57.563Z"
   },
   {
    "duration": 9,
    "start_time": "2022-10-13T21:27:21.586Z"
   },
   {
    "duration": 17,
    "start_time": "2022-10-13T21:27:43.805Z"
   },
   {
    "duration": 123,
    "start_time": "2022-10-13T21:27:53.608Z"
   },
   {
    "duration": 133,
    "start_time": "2022-10-13T21:28:15.725Z"
   },
   {
    "duration": 9,
    "start_time": "2022-10-13T21:29:03.505Z"
   },
   {
    "duration": 11,
    "start_time": "2022-10-13T21:29:15.776Z"
   },
   {
    "duration": 10,
    "start_time": "2022-10-13T21:29:27.489Z"
   },
   {
    "duration": 11,
    "start_time": "2022-10-13T21:29:39.095Z"
   },
   {
    "duration": 10,
    "start_time": "2022-10-13T21:30:16.919Z"
   },
   {
    "duration": 14,
    "start_time": "2022-10-13T21:30:55.973Z"
   },
   {
    "duration": 4,
    "start_time": "2022-10-13T21:31:29.582Z"
   },
   {
    "duration": 171,
    "start_time": "2022-10-13T21:32:58.724Z"
   },
   {
    "duration": 5906,
    "start_time": "2022-10-13T21:35:13.592Z"
   },
   {
    "duration": 194,
    "start_time": "2022-10-13T21:35:38.696Z"
   },
   {
    "duration": 5,
    "start_time": "2022-10-13T21:36:00.988Z"
   },
   {
    "duration": 6,
    "start_time": "2022-10-13T21:36:14.324Z"
   },
   {
    "duration": 4,
    "start_time": "2022-10-13T21:37:02.809Z"
   },
   {
    "duration": 17,
    "start_time": "2022-10-13T21:37:19.600Z"
   },
   {
    "duration": 20,
    "start_time": "2022-10-13T21:38:14.375Z"
   },
   {
    "duration": 22,
    "start_time": "2022-10-13T21:38:34.077Z"
   },
   {
    "duration": 8,
    "start_time": "2022-10-13T21:38:47.351Z"
   },
   {
    "duration": 5,
    "start_time": "2022-10-13T21:39:01.626Z"
   },
   {
    "duration": 662,
    "start_time": "2022-10-13T21:41:19.352Z"
   },
   {
    "duration": 9,
    "start_time": "2022-10-13T21:45:39.885Z"
   },
   {
    "duration": 4,
    "start_time": "2022-10-13T21:46:03.936Z"
   },
   {
    "duration": 6,
    "start_time": "2022-10-13T21:46:12.010Z"
   },
   {
    "duration": 9,
    "start_time": "2022-10-13T21:46:48.129Z"
   },
   {
    "duration": 9,
    "start_time": "2022-10-13T21:46:57.091Z"
   },
   {
    "duration": 8,
    "start_time": "2022-10-13T21:47:17.020Z"
   },
   {
    "duration": 102,
    "start_time": "2022-10-13T21:47:51.492Z"
   },
   {
    "duration": 119,
    "start_time": "2022-10-13T21:48:21.644Z"
   },
   {
    "duration": 48,
    "start_time": "2022-10-14T07:07:51.364Z"
   },
   {
    "duration": 1530,
    "start_time": "2022-10-14T07:08:02.136Z"
   },
   {
    "duration": 3,
    "start_time": "2022-10-14T07:08:05.176Z"
   },
   {
    "duration": 1488,
    "start_time": "2022-10-14T07:08:05.686Z"
   },
   {
    "duration": 2,
    "start_time": "2022-10-14T07:08:07.176Z"
   },
   {
    "duration": 36,
    "start_time": "2022-10-14T07:08:07.180Z"
   },
   {
    "duration": 39,
    "start_time": "2022-10-14T07:08:07.218Z"
   },
   {
    "duration": 18,
    "start_time": "2022-10-14T07:08:07.450Z"
   },
   {
    "duration": 15,
    "start_time": "2022-10-14T07:08:08.511Z"
   },
   {
    "duration": 30,
    "start_time": "2022-10-14T07:08:08.947Z"
   },
   {
    "duration": 345,
    "start_time": "2022-10-14T07:08:11.616Z"
   },
   {
    "duration": 6,
    "start_time": "2022-10-14T07:08:16.745Z"
   },
   {
    "duration": 4,
    "start_time": "2022-10-14T07:08:18.381Z"
   },
   {
    "duration": 128,
    "start_time": "2022-10-14T07:08:19.477Z"
   },
   {
    "duration": 130,
    "start_time": "2022-10-14T07:09:23.398Z"
   },
   {
    "duration": 131,
    "start_time": "2022-10-14T07:09:29.135Z"
   },
   {
    "duration": 214,
    "start_time": "2022-10-14T07:10:32.221Z"
   },
   {
    "duration": 145,
    "start_time": "2022-10-14T07:13:01.924Z"
   },
   {
    "duration": 142,
    "start_time": "2022-10-14T07:13:11.121Z"
   },
   {
    "duration": 8,
    "start_time": "2022-10-14T07:16:19.538Z"
   },
   {
    "duration": 21,
    "start_time": "2022-10-14T07:16:34.929Z"
   },
   {
    "duration": 72,
    "start_time": "2022-10-14T07:16:56.727Z"
   },
   {
    "duration": 5,
    "start_time": "2022-10-14T07:17:03.625Z"
   },
   {
    "duration": 32,
    "start_time": "2022-10-14T07:18:49.209Z"
   },
   {
    "duration": 14,
    "start_time": "2022-10-14T07:19:23.747Z"
   },
   {
    "duration": 9,
    "start_time": "2022-10-14T07:19:29.828Z"
   },
   {
    "duration": 14,
    "start_time": "2022-10-14T07:19:43.098Z"
   },
   {
    "duration": 3,
    "start_time": "2022-10-14T07:19:54.573Z"
   },
   {
    "duration": 194,
    "start_time": "2022-10-14T07:19:59.435Z"
   },
   {
    "duration": 9,
    "start_time": "2022-10-14T07:34:29.917Z"
   },
   {
    "duration": 4,
    "start_time": "2022-10-14T07:34:34.093Z"
   },
   {
    "duration": 15,
    "start_time": "2022-10-14T07:34:35.290Z"
   },
   {
    "duration": 544,
    "start_time": "2022-10-14T07:34:36.480Z"
   },
   {
    "duration": 7,
    "start_time": "2022-10-14T07:34:52.773Z"
   },
   {
    "duration": 4,
    "start_time": "2022-10-14T07:34:55.845Z"
   },
   {
    "duration": 61,
    "start_time": "2022-10-14T07:34:59.468Z"
   },
   {
    "duration": 6,
    "start_time": "2022-10-14T07:35:11.796Z"
   },
   {
    "duration": 6,
    "start_time": "2022-10-14T07:35:19.758Z"
   },
   {
    "duration": 6,
    "start_time": "2022-10-14T07:35:20.705Z"
   },
   {
    "duration": 6,
    "start_time": "2022-10-14T07:35:22.694Z"
   },
   {
    "duration": 191,
    "start_time": "2022-10-14T07:35:23.190Z"
   },
   {
    "duration": 111,
    "start_time": "2022-10-14T07:35:31.478Z"
   },
   {
    "duration": 5,
    "start_time": "2022-10-14T07:36:22.464Z"
   },
   {
    "duration": 4,
    "start_time": "2022-10-14T07:36:25.326Z"
   },
   {
    "duration": 131,
    "start_time": "2022-10-14T07:36:35.597Z"
   },
   {
    "duration": 141,
    "start_time": "2022-10-14T07:36:48.798Z"
   },
   {
    "duration": 168,
    "start_time": "2022-10-14T07:37:00.158Z"
   },
   {
    "duration": 174,
    "start_time": "2022-10-14T07:38:39.166Z"
   },
   {
    "duration": 8,
    "start_time": "2022-10-14T07:39:51.645Z"
   },
   {
    "duration": 68,
    "start_time": "2022-10-14T07:40:05.657Z"
   },
   {
    "duration": 4,
    "start_time": "2022-10-14T07:41:22.329Z"
   },
   {
    "duration": 46,
    "start_time": "2022-10-14T07:41:37.801Z"
   },
   {
    "duration": 8,
    "start_time": "2022-10-14T07:41:46.754Z"
   },
   {
    "duration": 108,
    "start_time": "2022-10-14T07:46:09.396Z"
   },
   {
    "duration": 116,
    "start_time": "2022-10-14T07:46:39.933Z"
   },
   {
    "duration": 8,
    "start_time": "2022-10-14T07:47:03.836Z"
   },
   {
    "duration": 6,
    "start_time": "2022-10-14T07:47:25.025Z"
   },
   {
    "duration": 104,
    "start_time": "2022-10-14T07:47:41.957Z"
   },
   {
    "duration": 22,
    "start_time": "2022-10-14T07:55:37.524Z"
   },
   {
    "duration": 655,
    "start_time": "2022-10-14T07:55:38.072Z"
   },
   {
    "duration": 10,
    "start_time": "2022-10-14T07:55:38.823Z"
   },
   {
    "duration": 3,
    "start_time": "2022-10-14T07:55:39.517Z"
   },
   {
    "duration": 8,
    "start_time": "2022-10-14T07:55:40.630Z"
   },
   {
    "duration": 155,
    "start_time": "2022-10-14T07:55:43.323Z"
   },
   {
    "duration": 109,
    "start_time": "2022-10-14T07:55:44.779Z"
   },
   {
    "duration": 383,
    "start_time": "2022-10-14T07:55:45.878Z"
   },
   {
    "duration": 6,
    "start_time": "2022-10-14T07:55:48.164Z"
   },
   {
    "duration": 5,
    "start_time": "2022-10-14T07:55:48.913Z"
   },
   {
    "duration": 4,
    "start_time": "2022-10-14T07:55:51.008Z"
   },
   {
    "duration": 4,
    "start_time": "2022-10-14T07:55:52.772Z"
   },
   {
    "duration": 3,
    "start_time": "2022-10-14T07:56:13.629Z"
   },
   {
    "duration": 324,
    "start_time": "2022-10-14T07:57:40.576Z"
   },
   {
    "duration": 13,
    "start_time": "2022-10-14T07:58:15.929Z"
   },
   {
    "duration": 242,
    "start_time": "2022-10-14T07:59:01.458Z"
   },
   {
    "duration": 223,
    "start_time": "2022-10-14T07:59:11.875Z"
   },
   {
    "duration": 5,
    "start_time": "2022-10-14T08:06:01.035Z"
   },
   {
    "duration": 165,
    "start_time": "2022-10-14T08:06:05.857Z"
   },
   {
    "duration": 10,
    "start_time": "2022-10-14T08:06:27.759Z"
   },
   {
    "duration": 88,
    "start_time": "2022-10-14T08:06:36.638Z"
   },
   {
    "duration": 1613,
    "start_time": "2022-10-14T08:06:39.722Z"
   },
   {
    "duration": 9,
    "start_time": "2022-10-14T08:06:54.936Z"
   },
   {
    "duration": 5,
    "start_time": "2022-10-14T08:06:57.963Z"
   },
   {
    "duration": 6,
    "start_time": "2022-10-14T08:06:59.275Z"
   },
   {
    "duration": 167,
    "start_time": "2022-10-14T08:07:01.028Z"
   },
   {
    "duration": 124,
    "start_time": "2022-10-14T08:07:10.050Z"
   },
   {
    "duration": 122,
    "start_time": "2022-10-14T08:07:17.280Z"
   },
   {
    "duration": 121,
    "start_time": "2022-10-14T08:07:29.870Z"
   },
   {
    "duration": 11,
    "start_time": "2022-10-14T08:07:34.724Z"
   },
   {
    "duration": 5,
    "start_time": "2022-10-14T08:07:44.501Z"
   },
   {
    "duration": 206,
    "start_time": "2022-10-14T08:07:48.243Z"
   },
   {
    "duration": 218,
    "start_time": "2022-10-14T08:08:45.164Z"
   },
   {
    "duration": 11,
    "start_time": "2022-10-14T09:23:21.037Z"
   },
   {
    "duration": 46,
    "start_time": "2022-10-14T09:23:22.924Z"
   },
   {
    "duration": 4,
    "start_time": "2022-10-14T09:23:32.216Z"
   },
   {
    "duration": 5,
    "start_time": "2022-10-14T09:23:34.105Z"
   },
   {
    "duration": 131,
    "start_time": "2022-10-14T09:23:35.691Z"
   },
   {
    "duration": 143,
    "start_time": "2022-10-14T09:23:55.634Z"
   },
   {
    "duration": 9,
    "start_time": "2022-10-14T09:23:56.866Z"
   },
   {
    "duration": 6,
    "start_time": "2022-10-14T09:24:00.943Z"
   },
   {
    "duration": 5,
    "start_time": "2022-10-14T09:24:52.113Z"
   },
   {
    "duration": 4,
    "start_time": "2022-10-14T09:24:53.738Z"
   },
   {
    "duration": 9,
    "start_time": "2022-10-14T09:26:30.640Z"
   },
   {
    "duration": 4,
    "start_time": "2022-10-14T09:26:40.548Z"
   },
   {
    "duration": 4,
    "start_time": "2022-10-14T09:26:41.057Z"
   },
   {
    "duration": 8,
    "start_time": "2022-10-14T09:26:41.960Z"
   },
   {
    "duration": 7,
    "start_time": "2022-10-14T09:26:51.371Z"
   },
   {
    "duration": 28,
    "start_time": "2022-10-14T09:26:52.905Z"
   },
   {
    "duration": 1326,
    "start_time": "2022-10-14T09:26:53.908Z"
   },
   {
    "duration": 8,
    "start_time": "2022-10-14T09:26:58.688Z"
   },
   {
    "duration": 4,
    "start_time": "2022-10-14T09:26:59.884Z"
   },
   {
    "duration": 6,
    "start_time": "2022-10-14T09:27:00.944Z"
   },
   {
    "duration": 123,
    "start_time": "2022-10-14T09:27:02.396Z"
   },
   {
    "duration": 128,
    "start_time": "2022-10-14T09:27:11.204Z"
   },
   {
    "duration": 118,
    "start_time": "2022-10-14T09:27:16.280Z"
   },
   {
    "duration": 120,
    "start_time": "2022-10-14T09:27:29.908Z"
   },
   {
    "duration": 128,
    "start_time": "2022-10-14T09:27:36.981Z"
   },
   {
    "duration": 6,
    "start_time": "2022-10-14T09:27:39.706Z"
   },
   {
    "duration": 3,
    "start_time": "2022-10-14T09:27:40.682Z"
   },
   {
    "duration": 232,
    "start_time": "2022-10-14T09:27:42.270Z"
   },
   {
    "duration": 9,
    "start_time": "2022-10-14T09:28:30.745Z"
   },
   {
    "duration": 58,
    "start_time": "2022-10-14T09:28:31.265Z"
   },
   {
    "duration": 1270,
    "start_time": "2022-10-14T09:28:31.858Z"
   },
   {
    "duration": 8,
    "start_time": "2022-10-14T09:28:41.114Z"
   },
   {
    "duration": 4,
    "start_time": "2022-10-14T09:28:41.672Z"
   },
   {
    "duration": 7,
    "start_time": "2022-10-14T09:28:43.004Z"
   },
   {
    "duration": 122,
    "start_time": "2022-10-14T09:28:45.394Z"
   },
   {
    "duration": 114,
    "start_time": "2022-10-14T09:28:46.501Z"
   },
   {
    "duration": 5,
    "start_time": "2022-10-14T09:28:47.333Z"
   },
   {
    "duration": 4,
    "start_time": "2022-10-14T09:28:48.887Z"
   },
   {
    "duration": 217,
    "start_time": "2022-10-14T09:28:49.596Z"
   },
   {
    "duration": 13,
    "start_time": "2022-10-14T09:29:23.084Z"
   },
   {
    "duration": 84,
    "start_time": "2022-10-14T09:29:40.901Z"
   },
   {
    "duration": 710,
    "start_time": "2022-10-14T09:29:44.772Z"
   },
   {
    "duration": 10,
    "start_time": "2022-10-14T09:30:11.939Z"
   },
   {
    "duration": 66,
    "start_time": "2022-10-14T09:30:23.820Z"
   },
   {
    "duration": 6,
    "start_time": "2022-10-14T09:30:28.038Z"
   },
   {
    "duration": 5,
    "start_time": "2022-10-14T09:30:31.280Z"
   },
   {
    "duration": 10,
    "start_time": "2022-10-14T09:30:31.927Z"
   },
   {
    "duration": 56,
    "start_time": "2022-10-14T09:30:32.696Z"
   },
   {
    "duration": 8,
    "start_time": "2022-10-14T09:30:33.665Z"
   },
   {
    "duration": 3,
    "start_time": "2022-10-14T09:30:34.179Z"
   },
   {
    "duration": 6,
    "start_time": "2022-10-14T09:30:35.426Z"
   },
   {
    "duration": 107,
    "start_time": "2022-10-14T09:30:37.298Z"
   },
   {
    "duration": 135,
    "start_time": "2022-10-14T09:30:38.788Z"
   },
   {
    "duration": 4,
    "start_time": "2022-10-14T09:30:45.556Z"
   },
   {
    "duration": 2,
    "start_time": "2022-10-14T09:30:47.994Z"
   },
   {
    "duration": 407,
    "start_time": "2022-10-14T09:30:48.761Z"
   },
   {
    "duration": 9,
    "start_time": "2022-10-14T09:31:01.218Z"
   },
   {
    "duration": 200,
    "start_time": "2022-10-14T09:31:01.824Z"
   },
   {
    "duration": 1373,
    "start_time": "2022-10-14T09:31:02.250Z"
   },
   {
    "duration": 11,
    "start_time": "2022-10-14T09:31:06.308Z"
   },
   {
    "duration": 4,
    "start_time": "2022-10-14T09:31:06.871Z"
   },
   {
    "duration": 6,
    "start_time": "2022-10-14T09:31:08.251Z"
   },
   {
    "duration": 130,
    "start_time": "2022-10-14T09:31:11.956Z"
   },
   {
    "duration": 131,
    "start_time": "2022-10-14T09:31:13.947Z"
   },
   {
    "duration": 5,
    "start_time": "2022-10-14T09:31:15.150Z"
   },
   {
    "duration": 3,
    "start_time": "2022-10-14T09:31:17.414Z"
   },
   {
    "duration": 217,
    "start_time": "2022-10-14T09:31:18.047Z"
   },
   {
    "duration": 17,
    "start_time": "2022-10-14T09:31:18.849Z"
   },
   {
    "duration": 127,
    "start_time": "2022-10-14T09:31:31.659Z"
   },
   {
    "duration": 117,
    "start_time": "2022-10-14T09:31:35.864Z"
   },
   {
    "duration": 55,
    "start_time": "2022-10-14T09:33:07.554Z"
   },
   {
    "duration": 52,
    "start_time": "2022-10-14T09:33:13.773Z"
   },
   {
    "duration": 126,
    "start_time": "2022-10-14T09:33:19.788Z"
   },
   {
    "duration": 137,
    "start_time": "2022-10-14T09:33:29.273Z"
   },
   {
    "duration": 11,
    "start_time": "2022-10-14T09:36:57.827Z"
   },
   {
    "duration": 133,
    "start_time": "2022-10-14T09:37:12.201Z"
   },
   {
    "duration": 155,
    "start_time": "2022-10-14T09:37:23.019Z"
   },
   {
    "duration": 191,
    "start_time": "2022-10-14T09:37:47.430Z"
   },
   {
    "duration": 15,
    "start_time": "2022-10-14T09:37:57.203Z"
   },
   {
    "duration": 497,
    "start_time": "2022-10-14T09:38:11.958Z"
   },
   {
    "duration": 15,
    "start_time": "2022-10-14T09:40:41.113Z"
   },
   {
    "duration": 567,
    "start_time": "2022-10-14T09:40:55.321Z"
   },
   {
    "duration": 1014,
    "start_time": "2022-10-14T09:41:19.781Z"
   },
   {
    "duration": 11,
    "start_time": "2022-10-14T09:41:36.681Z"
   },
   {
    "duration": 13,
    "start_time": "2022-10-14T09:41:55.647Z"
   },
   {
    "duration": 689,
    "start_time": "2022-10-14T09:42:20.698Z"
   },
   {
    "duration": 10,
    "start_time": "2022-10-14T09:42:29.932Z"
   },
   {
    "duration": 19,
    "start_time": "2022-10-14T09:43:14.379Z"
   },
   {
    "duration": 17,
    "start_time": "2022-10-14T09:43:43.072Z"
   },
   {
    "duration": 15,
    "start_time": "2022-10-14T09:43:57.210Z"
   },
   {
    "duration": 13,
    "start_time": "2022-10-14T09:44:14.107Z"
   },
   {
    "duration": 13,
    "start_time": "2022-10-14T09:44:38.415Z"
   },
   {
    "duration": 13,
    "start_time": "2022-10-14T09:45:06.002Z"
   },
   {
    "duration": 10,
    "start_time": "2022-10-14T09:45:23.636Z"
   },
   {
    "duration": 5,
    "start_time": "2022-10-14T09:45:27.836Z"
   },
   {
    "duration": 4,
    "start_time": "2022-10-14T09:45:45.448Z"
   },
   {
    "duration": 188,
    "start_time": "2022-10-14T09:46:02.408Z"
   },
   {
    "duration": 120,
    "start_time": "2022-10-14T09:46:14.013Z"
   },
   {
    "duration": 14,
    "start_time": "2022-10-14T09:46:20.673Z"
   },
   {
    "duration": 714,
    "start_time": "2022-10-14T09:46:34.215Z"
   },
   {
    "duration": 132,
    "start_time": "2022-10-14T09:46:47.242Z"
   },
   {
    "duration": 151,
    "start_time": "2022-10-14T09:47:31.610Z"
   },
   {
    "duration": 140,
    "start_time": "2022-10-14T09:47:53.127Z"
   },
   {
    "duration": 133,
    "start_time": "2022-10-14T09:48:16.265Z"
   },
   {
    "duration": 148,
    "start_time": "2022-10-14T09:48:21.023Z"
   },
   {
    "duration": 139,
    "start_time": "2022-10-14T09:48:30.831Z"
   },
   {
    "duration": 295,
    "start_time": "2022-10-14T09:50:01.372Z"
   },
   {
    "duration": 147,
    "start_time": "2022-10-14T09:50:30.107Z"
   },
   {
    "duration": 150,
    "start_time": "2022-10-14T09:51:17.086Z"
   },
   {
    "duration": 164,
    "start_time": "2022-10-14T09:51:37.077Z"
   },
   {
    "duration": 154,
    "start_time": "2022-10-14T09:51:44.726Z"
   },
   {
    "duration": 4,
    "start_time": "2022-10-14T09:53:03.377Z"
   },
   {
    "duration": 5,
    "start_time": "2022-10-14T09:53:41.739Z"
   },
   {
    "duration": 10,
    "start_time": "2022-10-14T09:56:25.893Z"
   },
   {
    "duration": 71,
    "start_time": "2022-10-14T09:56:31.552Z"
   },
   {
    "duration": 1128,
    "start_time": "2022-10-14T09:56:33.001Z"
   },
   {
    "duration": 12,
    "start_time": "2022-10-14T09:56:38.119Z"
   },
   {
    "duration": 5,
    "start_time": "2022-10-14T09:56:39.760Z"
   },
   {
    "duration": 8,
    "start_time": "2022-10-14T09:56:41.106Z"
   },
   {
    "duration": 128,
    "start_time": "2022-10-14T09:56:42.074Z"
   },
   {
    "duration": 144,
    "start_time": "2022-10-14T09:56:44.268Z"
   },
   {
    "duration": 4,
    "start_time": "2022-10-14T09:56:46.156Z"
   },
   {
    "duration": 25,
    "start_time": "2022-10-14T09:57:10.210Z"
   },
   {
    "duration": 156,
    "start_time": "2022-10-14T09:57:43.085Z"
   },
   {
    "duration": 1198,
    "start_time": "2022-10-14T09:57:45.525Z"
   },
   {
    "duration": 13,
    "start_time": "2022-10-14T09:57:56.908Z"
   },
   {
    "duration": 3,
    "start_time": "2022-10-14T09:57:58.418Z"
   },
   {
    "duration": 6,
    "start_time": "2022-10-14T09:58:02.057Z"
   },
   {
    "duration": 115,
    "start_time": "2022-10-14T09:58:03.895Z"
   },
   {
    "duration": 146,
    "start_time": "2022-10-14T09:58:09.055Z"
   },
   {
    "duration": 6,
    "start_time": "2022-10-14T09:58:17.432Z"
   },
   {
    "duration": 6,
    "start_time": "2022-10-14T09:58:39.422Z"
   },
   {
    "duration": 3,
    "start_time": "2022-10-14T09:58:46.225Z"
   },
   {
    "duration": 234,
    "start_time": "2022-10-14T09:58:46.616Z"
   },
   {
    "duration": 13,
    "start_time": "2022-10-14T09:58:52.784Z"
   },
   {
    "duration": 4765,
    "start_time": "2022-10-14T09:59:48.783Z"
   },
   {
    "duration": 25,
    "start_time": "2022-10-14T09:59:57.781Z"
   },
   {
    "duration": 10,
    "start_time": "2022-10-14T10:00:46.156Z"
   },
   {
    "duration": 15,
    "start_time": "2022-10-14T10:01:00.213Z"
   },
   {
    "duration": 9,
    "start_time": "2022-10-14T10:01:04.703Z"
   },
   {
    "duration": 39,
    "start_time": "2022-10-14T10:01:06.385Z"
   },
   {
    "duration": 9,
    "start_time": "2022-10-14T10:01:09.584Z"
   },
   {
    "duration": 3,
    "start_time": "2022-10-14T10:01:13.590Z"
   },
   {
    "duration": 9,
    "start_time": "2022-10-14T10:01:15.642Z"
   },
   {
    "duration": 122,
    "start_time": "2022-10-14T10:01:19.806Z"
   },
   {
    "duration": 139,
    "start_time": "2022-10-14T10:01:32.135Z"
   },
   {
    "duration": 143,
    "start_time": "2022-10-14T10:01:54.872Z"
   },
   {
    "duration": 234,
    "start_time": "2022-10-14T10:02:59.061Z"
   },
   {
    "duration": 4,
    "start_time": "2022-10-14T10:04:16.919Z"
   },
   {
    "duration": 408,
    "start_time": "2022-10-14T10:04:55.460Z"
   },
   {
    "duration": 182,
    "start_time": "2022-10-14T10:05:18.448Z"
   },
   {
    "duration": 216,
    "start_time": "2022-10-14T10:05:40.372Z"
   },
   {
    "duration": 184,
    "start_time": "2022-10-14T10:06:39.678Z"
   },
   {
    "duration": 185,
    "start_time": "2022-10-14T10:06:49.940Z"
   },
   {
    "duration": 193,
    "start_time": "2022-10-14T10:07:00.565Z"
   },
   {
    "duration": 197,
    "start_time": "2022-10-14T10:12:23.033Z"
   },
   {
    "duration": 190,
    "start_time": "2022-10-14T10:12:43.740Z"
   },
   {
    "duration": 200,
    "start_time": "2022-10-14T10:13:12.580Z"
   },
   {
    "duration": 189,
    "start_time": "2022-10-14T10:13:37.496Z"
   },
   {
    "duration": 21,
    "start_time": "2022-10-14T10:15:54.630Z"
   },
   {
    "duration": 13,
    "start_time": "2022-10-14T10:15:55.731Z"
   },
   {
    "duration": 849,
    "start_time": "2022-10-14T10:15:58.175Z"
   },
   {
    "duration": 8,
    "start_time": "2022-10-14T10:16:03.496Z"
   },
   {
    "duration": 3,
    "start_time": "2022-10-14T10:16:05.159Z"
   },
   {
    "duration": 6,
    "start_time": "2022-10-14T10:16:07.875Z"
   },
   {
    "duration": 125,
    "start_time": "2022-10-14T10:16:10.789Z"
   },
   {
    "duration": 143,
    "start_time": "2022-10-14T10:16:17.430Z"
   },
   {
    "duration": 3,
    "start_time": "2022-10-14T10:16:43.232Z"
   },
   {
    "duration": 6,
    "start_time": "2022-10-14T10:16:45.881Z"
   },
   {
    "duration": 9,
    "start_time": "2022-10-14T10:17:33.942Z"
   },
   {
    "duration": 4,
    "start_time": "2022-10-14T10:21:05.172Z"
   },
   {
    "duration": 13082,
    "start_time": "2022-10-14T10:21:51.831Z"
   },
   {
    "duration": 40330,
    "start_time": "2022-10-14T10:22:04.914Z"
   },
   {
    "duration": 0,
    "start_time": "2022-10-14T10:22:45.246Z"
   },
   {
    "duration": 12,
    "start_time": "2022-10-14T10:22:50.888Z"
   },
   {
    "duration": 13242,
    "start_time": "2022-10-14T10:23:07.988Z"
   },
   {
    "duration": 13180,
    "start_time": "2022-10-14T10:23:53.855Z"
   },
   {
    "duration": 177,
    "start_time": "2022-10-14T10:24:28.475Z"
   },
   {
    "duration": 3,
    "start_time": "2022-10-14T10:24:29.673Z"
   },
   {
    "duration": 6,
    "start_time": "2022-10-14T10:24:30.936Z"
   },
   {
    "duration": 114,
    "start_time": "2022-10-14T10:24:34.170Z"
   },
   {
    "duration": 173,
    "start_time": "2022-10-14T10:24:39.299Z"
   },
   {
    "duration": 8,
    "start_time": "2022-10-14T10:25:03.237Z"
   },
   {
    "duration": 5,
    "start_time": "2022-10-14T10:25:06.263Z"
   },
   {
    "duration": 4,
    "start_time": "2022-10-14T10:25:07.462Z"
   },
   {
    "duration": 14,
    "start_time": "2022-10-14T10:25:08.631Z"
   },
   {
    "duration": 3,
    "start_time": "2022-10-14T10:25:22.511Z"
   },
   {
    "duration": 13,
    "start_time": "2022-10-14T10:25:26.754Z"
   },
   {
    "duration": 13,
    "start_time": "2022-10-14T10:25:31.058Z"
   },
   {
    "duration": 395,
    "start_time": "2022-10-14T10:25:43.661Z"
   },
   {
    "duration": 4,
    "start_time": "2022-10-14T10:25:55.132Z"
   },
   {
    "duration": 4,
    "start_time": "2022-10-14T10:26:03.055Z"
   },
   {
    "duration": 5,
    "start_time": "2022-10-14T10:26:07.472Z"
   },
   {
    "duration": 10,
    "start_time": "2022-10-14T10:26:25.380Z"
   },
   {
    "duration": 4,
    "start_time": "2022-10-14T11:04:54.493Z"
   },
   {
    "duration": 3,
    "start_time": "2022-10-14T11:04:57.743Z"
   },
   {
    "duration": 685,
    "start_time": "2022-10-14T11:04:58.357Z"
   },
   {
    "duration": 4,
    "start_time": "2022-10-14T11:04:59.241Z"
   },
   {
    "duration": 4,
    "start_time": "2022-10-14T11:05:02.270Z"
   },
   {
    "duration": 12,
    "start_time": "2022-10-14T11:05:03.779Z"
   },
   {
    "duration": 16,
    "start_time": "2022-10-14T11:05:06.199Z"
   },
   {
    "duration": 18,
    "start_time": "2022-10-14T11:05:07.511Z"
   },
   {
    "duration": 23,
    "start_time": "2022-10-14T11:05:09.102Z"
   },
   {
    "duration": 312,
    "start_time": "2022-10-14T11:05:12.412Z"
   },
   {
    "duration": 5,
    "start_time": "2022-10-14T11:05:19.050Z"
   },
   {
    "duration": 4,
    "start_time": "2022-10-14T11:05:24.783Z"
   },
   {
    "duration": 134,
    "start_time": "2022-10-14T11:05:28.540Z"
   },
   {
    "duration": 8,
    "start_time": "2022-10-14T11:05:48.294Z"
   },
   {
    "duration": 6,
    "start_time": "2022-10-14T11:05:49.360Z"
   },
   {
    "duration": 13,
    "start_time": "2022-10-14T11:05:58.667Z"
   },
   {
    "duration": 46,
    "start_time": "2022-10-14T11:06:02.860Z"
   },
   {
    "duration": 8,
    "start_time": "2022-10-14T11:06:25.932Z"
   },
   {
    "duration": 10,
    "start_time": "2022-10-14T11:06:33.788Z"
   },
   {
    "duration": 543,
    "start_time": "2022-10-14T11:06:35.102Z"
   },
   {
    "duration": 8,
    "start_time": "2022-10-14T11:06:39.596Z"
   },
   {
    "duration": 194,
    "start_time": "2022-10-14T11:06:41.719Z"
   },
   {
    "duration": 4,
    "start_time": "2022-10-14T11:06:46.925Z"
   },
   {
    "duration": 4,
    "start_time": "2022-10-14T11:06:48.209Z"
   },
   {
    "duration": 4,
    "start_time": "2022-10-14T11:06:49.047Z"
   },
   {
    "duration": 41,
    "start_time": "2022-10-14T11:07:13.179Z"
   },
   {
    "duration": 42346,
    "start_time": "2022-10-14T11:07:20.901Z"
   },
   {
    "duration": 196,
    "start_time": "2022-10-14T11:08:53.466Z"
   },
   {
    "duration": 3,
    "start_time": "2022-10-14T11:08:54.049Z"
   },
   {
    "duration": 8,
    "start_time": "2022-10-14T11:08:55.494Z"
   },
   {
    "duration": 115,
    "start_time": "2022-10-14T11:08:58.096Z"
   },
   {
    "duration": 140,
    "start_time": "2022-10-14T11:09:04.878Z"
   },
   {
    "duration": 71,
    "start_time": "2022-10-14T11:09:14.245Z"
   },
   {
    "duration": 8,
    "start_time": "2022-10-14T11:09:20.512Z"
   },
   {
    "duration": 5,
    "start_time": "2022-10-14T11:09:31.302Z"
   },
   {
    "duration": 3,
    "start_time": "2022-10-14T11:19:00.690Z"
   },
   {
    "duration": 46,
    "start_time": "2022-10-14T11:19:19.030Z"
   },
   {
    "duration": 6,
    "start_time": "2022-10-14T11:19:20.021Z"
   },
   {
    "duration": 1600,
    "start_time": "2022-10-14T11:20:00.075Z"
   },
   {
    "duration": 3,
    "start_time": "2022-10-14T11:20:01.677Z"
   },
   {
    "duration": 1479,
    "start_time": "2022-10-14T11:20:01.681Z"
   },
   {
    "duration": 2,
    "start_time": "2022-10-14T11:20:03.162Z"
   },
   {
    "duration": 12,
    "start_time": "2022-10-14T11:20:03.166Z"
   },
   {
    "duration": 20,
    "start_time": "2022-10-14T11:20:03.179Z"
   },
   {
    "duration": 16,
    "start_time": "2022-10-14T11:20:03.201Z"
   },
   {
    "duration": 18,
    "start_time": "2022-10-14T11:20:03.219Z"
   },
   {
    "duration": 26,
    "start_time": "2022-10-14T11:20:03.238Z"
   },
   {
    "duration": 6,
    "start_time": "2022-10-14T11:20:12.090Z"
   },
   {
    "duration": 4,
    "start_time": "2022-10-14T11:20:14.361Z"
   },
   {
    "duration": 144,
    "start_time": "2022-10-14T11:20:18.082Z"
   },
   {
    "duration": 9,
    "start_time": "2022-10-14T11:20:23.032Z"
   },
   {
    "duration": 5,
    "start_time": "2022-10-14T11:20:25.152Z"
   },
   {
    "duration": 2,
    "start_time": "2022-10-14T11:20:26.562Z"
   },
   {
    "duration": 11,
    "start_time": "2022-10-14T11:20:28.852Z"
   },
   {
    "duration": 45,
    "start_time": "2022-10-14T11:20:30.374Z"
   },
   {
    "duration": 8,
    "start_time": "2022-10-14T11:20:31.003Z"
   },
   {
    "duration": 131,
    "start_time": "2022-10-14T11:20:32.061Z"
   },
   {
    "duration": 8,
    "start_time": "2022-10-14T11:20:37.704Z"
   },
   {
    "duration": 679,
    "start_time": "2022-10-14T11:20:38.886Z"
   },
   {
    "duration": 8,
    "start_time": "2022-10-14T11:20:41.799Z"
   },
   {
    "duration": 180,
    "start_time": "2022-10-14T11:20:43.904Z"
   },
   {
    "duration": 5,
    "start_time": "2022-10-14T11:20:46.444Z"
   },
   {
    "duration": 4,
    "start_time": "2022-10-14T11:20:51.101Z"
   },
   {
    "duration": 4,
    "start_time": "2022-10-14T11:20:51.816Z"
   },
   {
    "duration": 45,
    "start_time": "2022-10-14T11:20:53.570Z"
   },
   {
    "duration": 42064,
    "start_time": "2022-10-14T11:20:54.306Z"
   },
   {
    "duration": 165311,
    "start_time": "2022-10-14T11:21:36.372Z"
   },
   {
    "duration": 198,
    "start_time": "2022-10-14T11:24:21.685Z"
   },
   {
    "duration": 3,
    "start_time": "2022-10-14T11:24:21.885Z"
   },
   {
    "duration": 16,
    "start_time": "2022-10-14T11:24:21.889Z"
   },
   {
    "duration": 120,
    "start_time": "2022-10-14T11:24:21.906Z"
   },
   {
    "duration": 146,
    "start_time": "2022-10-14T11:24:22.028Z"
   },
   {
    "duration": 207,
    "start_time": "2022-10-14T11:24:41.344Z"
   },
   {
    "duration": 4,
    "start_time": "2022-10-14T11:24:41.865Z"
   },
   {
    "duration": 6,
    "start_time": "2022-10-14T11:24:51.704Z"
   },
   {
    "duration": 116,
    "start_time": "2022-10-14T11:24:52.325Z"
   },
   {
    "duration": 141,
    "start_time": "2022-10-14T11:24:53.669Z"
   },
   {
    "duration": 118,
    "start_time": "2022-10-14T11:25:02.493Z"
   },
   {
    "duration": 38,
    "start_time": "2022-10-14T11:25:57.657Z"
   },
   {
    "duration": 48690,
    "start_time": "2022-10-14T11:26:00.102Z"
   },
   {
    "duration": 233,
    "start_time": "2022-10-14T11:26:48.794Z"
   },
   {
    "duration": 5,
    "start_time": "2022-10-14T11:26:49.029Z"
   },
   {
    "duration": 18,
    "start_time": "2022-10-14T11:26:49.036Z"
   },
   {
    "duration": 138,
    "start_time": "2022-10-14T11:26:49.055Z"
   },
   {
    "duration": 141,
    "start_time": "2022-10-14T11:26:49.195Z"
   },
   {
    "duration": 9,
    "start_time": "2022-10-14T11:28:00.999Z"
   },
   {
    "duration": 70,
    "start_time": "2022-10-14T11:28:46.728Z"
   },
   {
    "duration": 11,
    "start_time": "2022-10-14T11:28:53.052Z"
   },
   {
    "duration": 4,
    "start_time": "2022-10-14T11:32:20.659Z"
   },
   {
    "duration": 8,
    "start_time": "2022-10-14T11:32:41.669Z"
   },
   {
    "duration": 3,
    "start_time": "2022-10-14T11:34:17.858Z"
   },
   {
    "duration": 19,
    "start_time": "2022-10-14T11:34:37.747Z"
   },
   {
    "duration": 49,
    "start_time": "2022-10-14T11:35:59.967Z"
   },
   {
    "duration": 9,
    "start_time": "2022-10-14T11:36:15.261Z"
   },
   {
    "duration": 4,
    "start_time": "2022-10-14T11:36:44.588Z"
   },
   {
    "duration": 141936,
    "start_time": "2022-10-14T11:36:55.349Z"
   },
   {
    "duration": 199,
    "start_time": "2022-10-14T11:39:52.569Z"
   },
   {
    "duration": 11,
    "start_time": "2022-10-14T11:39:54.036Z"
   },
   {
    "duration": 7,
    "start_time": "2022-10-14T11:39:55.299Z"
   },
   {
    "duration": 5022,
    "start_time": "2022-10-14T11:40:36.090Z"
   },
   {
    "duration": 29,
    "start_time": "2022-10-14T11:40:46.424Z"
   },
   {
    "duration": 12,
    "start_time": "2022-10-14T11:40:47.125Z"
   },
   {
    "duration": 6,
    "start_time": "2022-10-14T11:40:48.312Z"
   },
   {
    "duration": 132,
    "start_time": "2022-10-14T11:40:51.049Z"
   },
   {
    "duration": 229,
    "start_time": "2022-10-14T11:40:52.663Z"
   },
   {
    "duration": 16,
    "start_time": "2022-10-14T11:41:56.204Z"
   },
   {
    "duration": 2,
    "start_time": "2022-10-14T11:44:04.538Z"
   },
   {
    "duration": 14299,
    "start_time": "2022-10-14T11:44:17.836Z"
   },
   {
    "duration": 3,
    "start_time": "2022-10-14T11:45:21.352Z"
   },
   {
    "duration": 3,
    "start_time": "2022-10-14T11:45:23.083Z"
   },
   {
    "duration": 14420,
    "start_time": "2022-10-14T11:45:33.415Z"
   },
   {
    "duration": 14255,
    "start_time": "2022-10-14T11:46:58.757Z"
   },
   {
    "duration": 57,
    "start_time": "2022-10-14T11:47:44.666Z"
   },
   {
    "duration": 828,
    "start_time": "2022-10-14T11:47:45.405Z"
   },
   {
    "duration": 11,
    "start_time": "2022-10-14T11:48:02.276Z"
   },
   {
    "duration": 15,
    "start_time": "2022-10-14T11:48:02.925Z"
   },
   {
    "duration": 15,
    "start_time": "2022-10-14T11:48:25.784Z"
   },
   {
    "duration": 420,
    "start_time": "2022-10-14T11:48:43.303Z"
   },
   {
    "duration": 75,
    "start_time": "2022-10-14T11:49:05.582Z"
   },
   {
    "duration": 7,
    "start_time": "2022-10-14T11:49:30.581Z"
   },
   {
    "duration": 125,
    "start_time": "2022-10-14T11:49:32.859Z"
   },
   {
    "duration": 137,
    "start_time": "2022-10-14T11:49:35.193Z"
   },
   {
    "duration": 5,
    "start_time": "2022-10-14T11:49:36.091Z"
   },
   {
    "duration": 9,
    "start_time": "2022-10-14T11:49:38.560Z"
   },
   {
    "duration": 32,
    "start_time": "2022-10-14T11:50:25.790Z"
   },
   {
    "duration": 72,
    "start_time": "2022-10-14T11:50:28.867Z"
   },
   {
    "duration": 1085,
    "start_time": "2022-10-14T11:50:29.939Z"
   },
   {
    "duration": 8,
    "start_time": "2022-10-14T11:50:39.337Z"
   },
   {
    "duration": 57,
    "start_time": "2022-10-14T11:50:43.473Z"
   },
   {
    "duration": 6,
    "start_time": "2022-10-14T11:50:45.748Z"
   },
   {
    "duration": 117,
    "start_time": "2022-10-14T11:50:46.910Z"
   },
   {
    "duration": 137,
    "start_time": "2022-10-14T11:50:47.932Z"
   },
   {
    "duration": 4864,
    "start_time": "2022-10-14T11:51:02.095Z"
   },
   {
    "duration": 14294,
    "start_time": "2022-10-14T11:51:10.388Z"
   },
   {
    "duration": 27,
    "start_time": "2022-10-14T11:51:24.684Z"
   },
   {
    "duration": 67,
    "start_time": "2022-10-14T11:51:24.721Z"
   },
   {
    "duration": 7,
    "start_time": "2022-10-14T11:51:24.789Z"
   },
   {
    "duration": 140,
    "start_time": "2022-10-14T11:51:24.797Z"
   },
   {
    "duration": 166,
    "start_time": "2022-10-14T11:51:24.939Z"
   },
   {
    "duration": 52,
    "start_time": "2022-10-14T11:56:48.149Z"
   },
   {
    "duration": 5209,
    "start_time": "2022-10-14T11:56:56.625Z"
   },
   {
    "duration": 14521,
    "start_time": "2022-10-14T11:57:14.568Z"
   },
   {
    "duration": 33,
    "start_time": "2022-10-14T11:57:41.799Z"
   },
   {
    "duration": 79,
    "start_time": "2022-10-14T11:57:43.580Z"
   },
   {
    "duration": 432,
    "start_time": "2022-10-14T11:57:59.995Z"
   },
   {
    "duration": 5,
    "start_time": "2022-10-14T11:58:10.240Z"
   },
   {
    "duration": 79,
    "start_time": "2022-10-14T11:58:30.669Z"
   },
   {
    "duration": 5,
    "start_time": "2022-10-14T11:58:50.429Z"
   },
   {
    "duration": 12,
    "start_time": "2022-10-14T11:59:01.826Z"
   },
   {
    "duration": 4,
    "start_time": "2022-10-14T11:59:48.707Z"
   },
   {
    "duration": 5,
    "start_time": "2022-10-14T12:00:14.895Z"
   },
   {
    "duration": 13,
    "start_time": "2022-10-14T12:00:25.707Z"
   },
   {
    "duration": 4,
    "start_time": "2022-10-14T12:00:38.642Z"
   },
   {
    "duration": 5,
    "start_time": "2022-10-14T12:01:15.660Z"
   },
   {
    "duration": 7,
    "start_time": "2022-10-14T12:01:36.178Z"
   },
   {
    "duration": 8,
    "start_time": "2022-10-14T12:01:37.430Z"
   },
   {
    "duration": 10,
    "start_time": "2022-10-14T12:01:38.697Z"
   },
   {
    "duration": 133,
    "start_time": "2022-10-14T12:01:39.280Z"
   },
   {
    "duration": 168,
    "start_time": "2022-10-14T12:01:40.207Z"
   },
   {
    "duration": 8,
    "start_time": "2022-10-14T12:01:56.407Z"
   },
   {
    "duration": 3,
    "start_time": "2022-10-14T12:03:52.001Z"
   },
   {
    "duration": 7,
    "start_time": "2022-10-14T12:03:53.525Z"
   },
   {
    "duration": 419,
    "start_time": "2022-10-14T12:04:06.060Z"
   },
   {
    "duration": 4,
    "start_time": "2022-10-14T12:04:25.695Z"
   },
   {
    "duration": 5,
    "start_time": "2022-10-14T12:04:33.063Z"
   },
   {
    "duration": 4,
    "start_time": "2022-10-14T12:04:44.394Z"
   },
   {
    "duration": 12,
    "start_time": "2022-10-14T12:06:01.545Z"
   },
   {
    "duration": 3,
    "start_time": "2022-10-14T12:06:26.853Z"
   },
   {
    "duration": 4,
    "start_time": "2022-10-14T12:06:29.261Z"
   },
   {
    "duration": 16,
    "start_time": "2022-10-14T12:06:34.325Z"
   },
   {
    "duration": 16,
    "start_time": "2022-10-14T12:06:53.225Z"
   },
   {
    "duration": 15,
    "start_time": "2022-10-14T12:07:03.599Z"
   },
   {
    "duration": 15,
    "start_time": "2022-10-14T12:07:11.878Z"
   },
   {
    "duration": 3,
    "start_time": "2022-10-14T12:07:45.140Z"
   },
   {
    "duration": 3,
    "start_time": "2022-10-14T12:07:45.699Z"
   },
   {
    "duration": 15,
    "start_time": "2022-10-14T12:07:49.470Z"
   },
   {
    "duration": 16,
    "start_time": "2022-10-14T12:08:06.825Z"
   },
   {
    "duration": 4,
    "start_time": "2022-10-14T12:08:34.488Z"
   },
   {
    "duration": 3,
    "start_time": "2022-10-14T12:08:43.340Z"
   },
   {
    "duration": 11,
    "start_time": "2022-10-14T12:08:55.201Z"
   },
   {
    "duration": 5,
    "start_time": "2022-10-14T12:09:12.486Z"
   },
   {
    "duration": 4,
    "start_time": "2022-10-14T12:09:25.832Z"
   },
   {
    "duration": 12,
    "start_time": "2022-10-14T12:09:46.446Z"
   },
   {
    "duration": 5,
    "start_time": "2022-10-14T12:10:51.276Z"
   },
   {
    "duration": 11,
    "start_time": "2022-10-14T12:11:03.829Z"
   },
   {
    "duration": 3,
    "start_time": "2022-10-14T12:11:28.833Z"
   },
   {
    "duration": 12,
    "start_time": "2022-10-14T12:11:31.231Z"
   },
   {
    "duration": 4,
    "start_time": "2022-10-14T12:11:51.196Z"
   },
   {
    "duration": 12,
    "start_time": "2022-10-14T12:11:53.895Z"
   },
   {
    "duration": 3,
    "start_time": "2022-10-14T12:12:19.762Z"
   },
   {
    "duration": 2579,
    "start_time": "2022-10-14T12:12:22.197Z"
   },
   {
    "duration": 3,
    "start_time": "2022-10-14T12:13:50.268Z"
   },
   {
    "duration": 2,
    "start_time": "2022-10-14T12:13:52.090Z"
   },
   {
    "duration": 43,
    "start_time": "2022-10-14T12:14:32.668Z"
   },
   {
    "duration": 5065,
    "start_time": "2022-10-14T12:14:37.538Z"
   },
   {
    "duration": 13811,
    "start_time": "2022-10-14T12:14:42.605Z"
   },
   {
    "duration": 16,
    "start_time": "2022-10-14T12:15:39.186Z"
   },
   {
    "duration": 42,
    "start_time": "2022-10-14T12:15:49.479Z"
   },
   {
    "duration": 321,
    "start_time": "2022-10-14T12:15:59.515Z"
   },
   {
    "duration": 2080,
    "start_time": "2022-10-14T12:16:03.042Z"
   },
   {
    "duration": 925,
    "start_time": "2022-10-14T12:16:18.099Z"
   },
   {
    "duration": 18,
    "start_time": "2022-10-14T12:16:49.178Z"
   },
   {
    "duration": 468,
    "start_time": "2022-10-14T12:17:01.679Z"
   },
   {
    "duration": 5,
    "start_time": "2022-10-14T12:17:08.769Z"
   },
   {
    "duration": 7,
    "start_time": "2022-10-14T12:17:09.339Z"
   },
   {
    "duration": 158,
    "start_time": "2022-10-14T12:17:10.493Z"
   },
   {
    "duration": 4,
    "start_time": "2022-10-14T12:17:29.725Z"
   },
   {
    "duration": 61,
    "start_time": "2022-10-14T12:17:36.430Z"
   },
   {
    "duration": 27,
    "start_time": "2022-10-14T12:17:36.942Z"
   },
   {
    "duration": 699,
    "start_time": "2022-10-14T12:17:38.125Z"
   },
   {
    "duration": 7,
    "start_time": "2022-10-14T12:17:44.565Z"
   },
   {
    "duration": 6,
    "start_time": "2022-10-14T12:17:45.206Z"
   },
   {
    "duration": 1383,
    "start_time": "2022-10-14T12:17:59.658Z"
   },
   {
    "duration": 5096,
    "start_time": "2022-10-14T12:18:09.181Z"
   },
   {
    "duration": 4419,
    "start_time": "2022-10-14T12:18:14.279Z"
   },
   {
    "duration": 24,
    "start_time": "2022-10-14T12:18:29.760Z"
   },
   {
    "duration": 8,
    "start_time": "2022-10-14T12:18:30.330Z"
   },
   {
    "duration": 135,
    "start_time": "2022-10-14T12:18:31.629Z"
   },
   {
    "duration": 150,
    "start_time": "2022-10-14T12:18:42.698Z"
   },
   {
    "duration": 409,
    "start_time": "2022-10-14T14:26:20.404Z"
   },
   {
    "duration": 220,
    "start_time": "2022-10-14T14:27:25.712Z"
   },
   {
    "duration": 626,
    "start_time": "2022-10-14T14:27:58.197Z"
   },
   {
    "duration": 97,
    "start_time": "2022-10-14T14:33:46.204Z"
   },
   {
    "duration": 31,
    "start_time": "2022-10-14T14:34:02.439Z"
   },
   {
    "duration": 28,
    "start_time": "2022-10-14T14:34:12.874Z"
   },
   {
    "duration": 25,
    "start_time": "2022-10-14T14:34:21.404Z"
   },
   {
    "duration": 41,
    "start_time": "2022-10-14T14:34:29.989Z"
   },
   {
    "duration": 18,
    "start_time": "2022-10-14T14:34:43.659Z"
   },
   {
    "duration": 902,
    "start_time": "2022-10-14T14:35:06.344Z"
   },
   {
    "duration": 675,
    "start_time": "2022-10-14T14:35:09.852Z"
   },
   {
    "duration": 657,
    "start_time": "2022-10-14T14:35:14.194Z"
   },
   {
    "duration": 6,
    "start_time": "2022-10-14T14:35:16.161Z"
   },
   {
    "duration": 19,
    "start_time": "2022-10-14T14:35:18.821Z"
   },
   {
    "duration": 131,
    "start_time": "2022-10-14T14:35:20.646Z"
   },
   {
    "duration": 221,
    "start_time": "2022-10-14T14:35:22.180Z"
   },
   {
    "duration": 5,
    "start_time": "2022-10-14T14:35:23.459Z"
   },
   {
    "duration": 8,
    "start_time": "2022-10-14T14:35:24.860Z"
   },
   {
    "duration": 10,
    "start_time": "2022-10-14T14:35:27.022Z"
   },
   {
    "duration": 3,
    "start_time": "2022-10-14T14:35:29.615Z"
   },
   {
    "duration": 8,
    "start_time": "2022-10-14T14:35:44.057Z"
   },
   {
    "duration": 9,
    "start_time": "2022-10-14T14:35:50.607Z"
   },
   {
    "duration": 6,
    "start_time": "2022-10-14T14:36:36.082Z"
   },
   {
    "duration": 3,
    "start_time": "2022-10-14T14:37:00.546Z"
   },
   {
    "duration": 5,
    "start_time": "2022-10-14T14:37:15.060Z"
   },
   {
    "duration": 7,
    "start_time": "2022-10-14T14:38:01.220Z"
   },
   {
    "duration": 4,
    "start_time": "2022-10-14T14:38:09.773Z"
   },
   {
    "duration": 4,
    "start_time": "2022-10-14T14:38:20.764Z"
   },
   {
    "duration": 4,
    "start_time": "2022-10-14T14:38:29.349Z"
   },
   {
    "duration": 12,
    "start_time": "2022-10-14T14:38:35.037Z"
   },
   {
    "duration": 9,
    "start_time": "2022-10-14T14:38:41.803Z"
   },
   {
    "duration": 6,
    "start_time": "2022-10-14T14:38:54.903Z"
   },
   {
    "duration": 3,
    "start_time": "2022-10-14T14:39:03.248Z"
   },
   {
    "duration": 5,
    "start_time": "2022-10-14T14:39:12.216Z"
   },
   {
    "duration": 25,
    "start_time": "2022-10-14T14:39:27.425Z"
   },
   {
    "duration": 21,
    "start_time": "2022-10-14T14:39:27.792Z"
   },
   {
    "duration": 497,
    "start_time": "2022-10-14T14:39:29.029Z"
   },
   {
    "duration": 14,
    "start_time": "2022-10-14T14:39:29.529Z"
   },
   {
    "duration": 14,
    "start_time": "2022-10-14T14:39:29.548Z"
   },
   {
    "duration": 189,
    "start_time": "2022-10-14T14:39:29.675Z"
   },
   {
    "duration": 141,
    "start_time": "2022-10-14T14:39:29.947Z"
   },
   {
    "duration": 4,
    "start_time": "2022-10-14T14:39:30.378Z"
   },
   {
    "duration": 12,
    "start_time": "2022-10-14T14:39:30.815Z"
   },
   {
    "duration": 7,
    "start_time": "2022-10-14T14:39:31.318Z"
   },
   {
    "duration": 4,
    "start_time": "2022-10-14T14:39:31.847Z"
   },
   {
    "duration": 5,
    "start_time": "2022-10-14T14:39:32.773Z"
   },
   {
    "duration": 3,
    "start_time": "2022-10-14T14:39:34.716Z"
   },
   {
    "duration": 230,
    "start_time": "2022-10-14T14:39:35.173Z"
   },
   {
    "duration": 441,
    "start_time": "2022-10-14T14:39:35.965Z"
   },
   {
    "duration": 4,
    "start_time": "2022-10-14T14:40:42.153Z"
   },
   {
    "duration": 3,
    "start_time": "2022-10-14T14:41:09.265Z"
   },
   {
    "duration": 4,
    "start_time": "2022-10-14T14:41:24.853Z"
   },
   {
    "duration": 10,
    "start_time": "2022-10-14T14:43:01.762Z"
   },
   {
    "duration": 9,
    "start_time": "2022-10-14T14:43:17.014Z"
   },
   {
    "duration": 12,
    "start_time": "2022-10-14T14:43:26.279Z"
   },
   {
    "duration": 4,
    "start_time": "2022-10-14T14:43:34.668Z"
   },
   {
    "duration": 4,
    "start_time": "2022-10-14T14:44:35.315Z"
   },
   {
    "duration": 10,
    "start_time": "2022-10-14T14:45:47.227Z"
   },
   {
    "duration": 8,
    "start_time": "2022-10-14T14:46:10.339Z"
   },
   {
    "duration": 11,
    "start_time": "2022-10-14T14:46:28.304Z"
   },
   {
    "duration": 10,
    "start_time": "2022-10-14T14:46:28.751Z"
   },
   {
    "duration": 120,
    "start_time": "2022-10-14T14:46:29.203Z"
   },
   {
    "duration": 7,
    "start_time": "2022-10-14T14:46:29.706Z"
   },
   {
    "duration": 6,
    "start_time": "2022-10-14T14:46:30.847Z"
   },
   {
    "duration": 136,
    "start_time": "2022-10-14T14:46:35.646Z"
   },
   {
    "duration": 135,
    "start_time": "2022-10-14T14:46:36.351Z"
   },
   {
    "duration": 4,
    "start_time": "2022-10-14T14:46:37.382Z"
   },
   {
    "duration": 10,
    "start_time": "2022-10-14T14:46:38.338Z"
   },
   {
    "duration": 5,
    "start_time": "2022-10-14T14:46:39.016Z"
   },
   {
    "duration": 4,
    "start_time": "2022-10-14T14:46:39.741Z"
   },
   {
    "duration": 3,
    "start_time": "2022-10-14T14:46:41.503Z"
   },
   {
    "duration": 14,
    "start_time": "2022-10-14T14:47:02.411Z"
   },
   {
    "duration": 8,
    "start_time": "2022-10-14T14:47:03.303Z"
   },
   {
    "duration": 175,
    "start_time": "2022-10-14T14:47:03.850Z"
   },
   {
    "duration": 4,
    "start_time": "2022-10-14T14:47:05.406Z"
   },
   {
    "duration": 5,
    "start_time": "2022-10-14T14:47:05.967Z"
   },
   {
    "duration": 121,
    "start_time": "2022-10-14T14:47:06.857Z"
   },
   {
    "duration": 139,
    "start_time": "2022-10-14T14:47:07.376Z"
   },
   {
    "duration": 5,
    "start_time": "2022-10-14T14:47:11.113Z"
   },
   {
    "duration": 8,
    "start_time": "2022-10-14T14:47:12.115Z"
   },
   {
    "duration": 8,
    "start_time": "2022-10-14T14:47:12.826Z"
   },
   {
    "duration": 3,
    "start_time": "2022-10-14T14:47:14.283Z"
   },
   {
    "duration": 32,
    "start_time": "2022-10-14T14:49:22.839Z"
   },
   {
    "duration": 21,
    "start_time": "2022-10-14T14:49:35.265Z"
   },
   {
    "duration": 32,
    "start_time": "2022-10-14T14:49:43.701Z"
   },
   {
    "duration": 15,
    "start_time": "2022-10-14T14:50:03.962Z"
   },
   {
    "duration": 15,
    "start_time": "2022-10-14T14:50:05.619Z"
   },
   {
    "duration": 361,
    "start_time": "2022-10-14T14:50:06.865Z"
   },
   {
    "duration": 6,
    "start_time": "2022-10-14T14:50:08.502Z"
   },
   {
    "duration": 7,
    "start_time": "2022-10-14T14:50:09.940Z"
   },
   {
    "duration": 122,
    "start_time": "2022-10-14T14:50:12.179Z"
   },
   {
    "duration": 134,
    "start_time": "2022-10-14T14:50:13.614Z"
   },
   {
    "duration": 4,
    "start_time": "2022-10-14T14:50:15.142Z"
   },
   {
    "duration": 9,
    "start_time": "2022-10-14T14:50:22.217Z"
   },
   {
    "duration": 31,
    "start_time": "2022-10-14T14:51:24.078Z"
   },
   {
    "duration": 12,
    "start_time": "2022-10-14T14:51:24.778Z"
   },
   {
    "duration": 375,
    "start_time": "2022-10-14T14:51:25.754Z"
   },
   {
    "duration": 12,
    "start_time": "2022-10-14T14:51:26.891Z"
   },
   {
    "duration": 7,
    "start_time": "2022-10-14T14:51:27.470Z"
   },
   {
    "duration": 150,
    "start_time": "2022-10-14T14:51:29.032Z"
   },
   {
    "duration": 153,
    "start_time": "2022-10-14T14:51:30.758Z"
   },
   {
    "duration": 33,
    "start_time": "2022-10-14T14:51:52.325Z"
   },
   {
    "duration": 2099,
    "start_time": "2022-10-14T14:51:53.298Z"
   },
   {
    "duration": 2004,
    "start_time": "2022-10-14T14:51:57.595Z"
   },
   {
    "duration": 22,
    "start_time": "2022-10-14T14:52:01.158Z"
   },
   {
    "duration": 6,
    "start_time": "2022-10-14T14:52:02.398Z"
   },
   {
    "duration": 217,
    "start_time": "2022-10-14T14:52:05.060Z"
   },
   {
    "duration": 135,
    "start_time": "2022-10-14T14:52:06.942Z"
   },
   {
    "duration": 9,
    "start_time": "2022-10-14T14:52:08.775Z"
   },
   {
    "duration": 9,
    "start_time": "2022-10-14T14:52:10.542Z"
   },
   {
    "duration": 21004,
    "start_time": "2022-10-14T14:52:30.230Z"
   },
   {
    "duration": 18983,
    "start_time": "2022-10-14T14:52:51.236Z"
   },
   {
    "duration": 178,
    "start_time": "2022-10-14T14:54:02.240Z"
   },
   {
    "duration": 7,
    "start_time": "2022-10-14T14:54:02.773Z"
   },
   {
    "duration": 144,
    "start_time": "2022-10-14T14:54:04.656Z"
   },
   {
    "duration": 186,
    "start_time": "2022-10-14T14:54:06.162Z"
   },
   {
    "duration": 152,
    "start_time": "2022-10-14T14:55:57.021Z"
   },
   {
    "duration": 4259,
    "start_time": "2022-10-14T14:56:07.884Z"
   },
   {
    "duration": 1745,
    "start_time": "2022-10-14T14:56:17.091Z"
   },
   {
    "duration": 8,
    "start_time": "2022-10-14T14:56:22.496Z"
   },
   {
    "duration": 6,
    "start_time": "2022-10-14T14:56:23.183Z"
   },
   {
    "duration": 127,
    "start_time": "2022-10-14T14:56:23.983Z"
   },
   {
    "duration": 156,
    "start_time": "2022-10-14T14:56:25.598Z"
   },
   {
    "duration": 6,
    "start_time": "2022-10-14T14:56:33.046Z"
   },
   {
    "duration": 3,
    "start_time": "2022-10-14T15:05:56.735Z"
   },
   {
    "duration": 5,
    "start_time": "2022-10-14T15:05:57.777Z"
   },
   {
    "duration": 4,
    "start_time": "2022-10-14T15:05:58.165Z"
   },
   {
    "duration": 4,
    "start_time": "2022-10-14T15:05:58.775Z"
   },
   {
    "duration": 136,
    "start_time": "2022-10-14T15:05:59.231Z"
   },
   {
    "duration": 459,
    "start_time": "2022-10-14T15:06:00.164Z"
   },
   {
    "duration": 745,
    "start_time": "2022-10-14T15:06:01.879Z"
   },
   {
    "duration": 823,
    "start_time": "2022-10-14T15:06:30.503Z"
   },
   {
    "duration": 10,
    "start_time": "2022-10-14T15:10:22.759Z"
   },
   {
    "duration": 147528,
    "start_time": "2022-10-14T15:10:35.653Z"
   },
   {
    "duration": 40130,
    "start_time": "2022-10-14T15:13:27.450Z"
   },
   {
    "duration": 4,
    "start_time": "2022-10-14T15:15:55.081Z"
   },
   {
    "duration": 3,
    "start_time": "2022-10-14T15:16:59.613Z"
   },
   {
    "duration": 10,
    "start_time": "2022-10-14T15:17:00.710Z"
   },
   {
    "duration": 12235,
    "start_time": "2022-10-14T15:17:03.808Z"
   },
   {
    "duration": 31,
    "start_time": "2022-10-14T15:17:16.045Z"
   },
   {
    "duration": 6,
    "start_time": "2022-10-14T15:17:16.078Z"
   },
   {
    "duration": 152,
    "start_time": "2022-10-14T15:17:16.086Z"
   },
   {
    "duration": 138,
    "start_time": "2022-10-14T15:17:16.242Z"
   },
   {
    "duration": 114305,
    "start_time": "2022-10-14T15:17:36.455Z"
   },
   {
    "duration": 0,
    "start_time": "2022-10-14T15:19:30.766Z"
   },
   {
    "duration": 409,
    "start_time": "2022-10-14T15:19:37.574Z"
   },
   {
    "duration": 4,
    "start_time": "2022-10-14T15:19:50.174Z"
   },
   {
    "duration": 101,
    "start_time": "2022-10-14T15:20:01.021Z"
   },
   {
    "duration": 14,
    "start_time": "2022-10-14T15:20:10.133Z"
   },
   {
    "duration": 403016,
    "start_time": "2022-10-14T15:25:18.723Z"
   },
   {
    "duration": 0,
    "start_time": "2022-10-14T15:32:01.741Z"
   },
   {
    "duration": 0,
    "start_time": "2022-10-14T15:32:01.742Z"
   },
   {
    "duration": 0,
    "start_time": "2022-10-14T15:32:01.743Z"
   },
   {
    "duration": 0,
    "start_time": "2022-10-14T15:32:01.744Z"
   },
   {
    "duration": 0,
    "start_time": "2022-10-14T15:32:01.745Z"
   },
   {
    "duration": 0,
    "start_time": "2022-10-14T15:32:01.746Z"
   },
   {
    "duration": 0,
    "start_time": "2022-10-14T15:32:01.747Z"
   },
   {
    "duration": 353620,
    "start_time": "2022-10-14T15:32:10.799Z"
   },
   {
    "duration": 0,
    "start_time": "2022-10-14T15:38:04.422Z"
   },
   {
    "duration": 0,
    "start_time": "2022-10-14T15:38:04.423Z"
   },
   {
    "duration": 0,
    "start_time": "2022-10-14T15:38:04.425Z"
   },
   {
    "duration": 0,
    "start_time": "2022-10-14T15:38:04.426Z"
   },
   {
    "duration": 0,
    "start_time": "2022-10-14T15:38:04.427Z"
   },
   {
    "duration": 0,
    "start_time": "2022-10-14T15:38:04.429Z"
   },
   {
    "duration": 0,
    "start_time": "2022-10-14T15:38:04.430Z"
   },
   {
    "duration": 0,
    "start_time": "2022-10-14T15:38:04.431Z"
   },
   {
    "duration": 3,
    "start_time": "2022-10-14T15:38:10.633Z"
   },
   {
    "duration": 3,
    "start_time": "2022-10-14T15:38:11.058Z"
   },
   {
    "duration": 4,
    "start_time": "2022-10-14T15:38:12.038Z"
   },
   {
    "duration": 4,
    "start_time": "2022-10-14T15:38:12.775Z"
   },
   {
    "duration": 3,
    "start_time": "2022-10-14T15:38:13.331Z"
   },
   {
    "duration": 15,
    "start_time": "2022-10-14T15:38:14.376Z"
   },
   {
    "duration": 47697,
    "start_time": "2022-10-14T15:38:40.006Z"
   },
   {
    "duration": 41879,
    "start_time": "2022-10-14T15:39:27.705Z"
   },
   {
    "duration": 207,
    "start_time": "2022-10-14T15:40:09.586Z"
   },
   {
    "duration": 7,
    "start_time": "2022-10-14T15:40:09.796Z"
   },
   {
    "duration": 132,
    "start_time": "2022-10-14T15:40:09.805Z"
   },
   {
    "duration": 156,
    "start_time": "2022-10-14T15:40:09.939Z"
   },
   {
    "duration": 9,
    "start_time": "2022-10-14T15:40:32.979Z"
   }
  ],
  "kernelspec": {
   "display_name": "Python 3 (ipykernel)",
   "language": "python",
   "name": "python3"
  },
  "language_info": {
   "codemirror_mode": {
    "name": "ipython",
    "version": 3
   },
   "file_extension": ".py",
   "mimetype": "text/x-python",
   "name": "python",
   "nbconvert_exporter": "python",
   "pygments_lexer": "ipython3",
   "version": "3.8.10"
  },
  "toc": {
   "base_numbering": 1,
   "nav_menu": {},
   "number_sections": true,
   "sideBar": true,
   "skip_h1_title": true,
   "title_cell": "Содержание",
   "title_sidebar": "Contents",
   "toc_cell": true,
   "toc_position": {
    "height": "calc(100% - 180px)",
    "left": "10px",
    "top": "150px",
    "width": "331.264px"
   },
   "toc_section_display": true,
   "toc_window_display": true
  }
 },
 "nbformat": 4,
 "nbformat_minor": 2
}
