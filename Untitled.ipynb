{
 "cells": [
  {
   "cell_type": "code",
   "execution_count": 1,
   "id": "ed416186",
   "metadata": {},
   "outputs": [],
   "source": [
    "import pandas as pd\n",
    "import numpy as np\n",
    "\n",
    "# данные контрольной группы A\n",
    "samples_A = pd.Series([\n",
    "     98.24,  97.77,  95.56,  99.49, 101.4 , 105.35,  95.83,  93.02,\n",
    "    101.37,  95.66,  98.34, 100.75, 104.93,  97.  ,  95.46, 100.03,\n",
    "    102.34,  98.23,  97.05,  97.76,  98.63,  98.82,  99.51,  99.31,\n",
    "     98.58,  96.84,  93.71, 101.38, 100.6 , 103.68, 104.78, 101.51,\n",
    "    100.89, 102.27,  99.87,  94.83,  95.95, 105.2 ,  97.  ,  95.54,\n",
    "     98.38,  99.81, 103.34, 101.14, 102.19,  94.77,  94.74,  99.56,\n",
    "    102.  , 100.95, 102.19, 103.75, 103.65,  95.07, 103.53, 100.42,\n",
    "     98.09,  94.86, 101.47, 103.07, 100.15, 100.32, 100.89, 101.23,\n",
    "     95.95, 103.69, 100.09,  96.28,  96.11,  97.63,  99.45, 100.81,\n",
    "    102.18,  94.92,  98.89, 101.48, 101.29,  94.43, 101.55,  95.85,\n",
    "    100.16,  97.49, 105.17, 104.83, 101.9 , 100.56, 104.91,  94.17,\n",
    "    103.48, 100.55, 102.66, 100.62,  96.93, 102.67, 101.27,  98.56,\n",
    "    102.41, 100.69,  99.67, 100.99])\n",
    "\n",
    "# данные экспериментальной группы B\n",
    "samples_B = pd.Series([\n",
    "    101.67, 102.27,  97.01, 103.46, 100.76, 101.19,  99.11,  97.59,\n",
    "    101.01, 101.45,  94.8 , 101.55,  96.38,  99.03, 102.83,  97.32,\n",
    "     98.25,  97.17, 101.1 , 102.57, 104.59, 105.63,  98.93, 103.87,\n",
    "     98.48, 101.14, 102.24,  98.55, 105.61, 100.06,  99.  , 102.53,\n",
    "    101.56, 102.68, 103.26,  96.62,  99.48, 107.6 ,  99.87, 103.58,\n",
    "    105.05, 105.69,  94.52,  99.51,  99.81,  99.44,  97.35, 102.97,\n",
    "     99.77,  99.59, 102.12, 104.29,  98.31,  98.83,  96.83,  99.2 ,\n",
    "     97.88, 102.34, 102.04,  99.88,  99.69, 103.43, 100.71,  92.71,\n",
    "     99.99,  99.39,  99.19,  99.29, 100.34, 101.08, 100.29,  93.83,\n",
    "    103.63,  98.88, 105.36, 101.82, 100.86, 100.75,  99.4 ,  95.37,\n",
    "    107.96,  97.69, 102.17,  99.41,  98.97,  97.96,  98.31,  97.09,\n",
    "    103.92, 100.98, 102.76,  98.24,  97.  ,  98.99, 103.54,  99.72,\n",
    "    101.62, 100.62, 102.79, 104.19])\n",
    "\n"
   ]
  },
  {
   "cell_type": "code",
   "execution_count": 2,
   "id": "dafdf96c",
   "metadata": {},
   "outputs": [
    {
     "name": "stdout",
     "output_type": "stream",
     "text": [
      "Разность средних чеков: -0.7682000000000357\n"
     ]
    }
   ],
   "source": [
    "# фактическая разность средних значений в группах\n",
    "AB_difference = samples_A.mean() - samples_B.mean()\n",
    "print(\"Разность средних чеков:\", AB_difference)\n",
    "\n",
    "alpha = 0.05\n",
    "    \n",
    "state = np.random.RandomState(12345)\n",
    "\n",
    "bootstrap_samples = 1000\n",
    "count = 0\n"
   ]
  },
  {
   "cell_type": "code",
   "execution_count": 3,
   "id": "6d79f764",
   "metadata": {},
   "outputs": [],
   "source": [
    "    united_samples = samples_A + samples_B\n",
    "\n",
    "    # создайте подвыборку\n",
    "    subsample = united_samples.sample(frac=1, replace=True, random_state=state)\n"
   ]
  },
  {
   "cell_type": "code",
   "execution_count": 5,
   "id": "d6e3da10",
   "metadata": {},
   "outputs": [
    {
     "data": {
      "text/plain": [
       "98    202.46\n",
       "29    203.74\n",
       "1     200.04\n",
       "36    195.43\n",
       "41    205.50\n",
       "       ...  \n",
       "5     206.54\n",
       "62    201.60\n",
       "84    200.87\n",
       "71    194.64\n",
       "69    198.71\n",
       "Length: 100, dtype: float64"
      ]
     },
     "execution_count": 5,
     "metadata": {},
     "output_type": "execute_result"
    }
   ],
   "source": [
    "subsample"
   ]
  },
  {
   "cell_type": "code",
   "execution_count": 6,
   "id": "fca9f39b",
   "metadata": {},
   "outputs": [],
   "source": [
    "    subsample_A = subsample[:50]\n",
    "    subsample_B = subsample[50:]"
   ]
  },
  {
   "cell_type": "code",
   "execution_count": 8,
   "id": "7cdaf614",
   "metadata": {},
   "outputs": [
    {
     "data": {
      "text/plain": [
       "50"
      ]
     },
     "execution_count": 8,
     "metadata": {},
     "output_type": "execute_result"
    }
   ],
   "source": [
    "subsample_A.count()"
   ]
  },
  {
   "cell_type": "code",
   "execution_count": null,
   "id": "38935449",
   "metadata": {},
   "outputs": [],
   "source": [
    "for i in range(bootstrap_samples):\n",
    "    # объедините выборки\n",
    "    united_samples = samples_A + samples_B\n",
    "\n",
    "    # создайте подвыборку\n",
    "    subsample = united_samples.sample(frac=1, replace=True, random_state=state)\n",
    "    \n",
    "    # разбейте подвыборку пополам\n",
    "    subsample_A = subsample[:50]\n",
    "    subsample_B = subsample[50:]\n",
    "\n",
    "    # найдите разницу средних\n",
    "    bootstrap_difference = subsample_A.mean() - subsample_B.mean()\n",
    "    \n",
    "    # если разница не меньше фактической, увеличиваем счётчик\n",
    "    if bootstrap_difference >= AB_difference:\n",
    "        count += 1\n",
    "\n",
    "# p-value равно доле превышений значений\n",
    "pvalue = 1. * count / bootstrap_samples\n",
    "print('p-value =', pvalue)\n",
    "\n",
    "if pvalue < alpha:\n",
    "    print(\"Отвергаем нулевую гипотезу: скорее всего, средний чек увеличился\")\n",
    "else:\n",
    "    print(\"Не получилось отвергнуть нулевую гипотезу: скорее всего, средний чек не увеличился\")"
   ]
  },
  {
   "cell_type": "code",
   "execution_count": null,
   "id": "159bfcb6",
   "metadata": {},
   "outputs": [],
   "source": []
  },
  {
   "cell_type": "code",
   "execution_count": 2,
   "id": "24b9959e",
   "metadata": {},
   "outputs": [],
   "source": [
    "a = [15, 56, 2]\n"
   ]
  },
  {
   "cell_type": "code",
   "execution_count": 4,
   "id": "a7f456bb",
   "metadata": {},
   "outputs": [],
   "source": [
    "import pandas as pd"
   ]
  },
  {
   "cell_type": "code",
   "execution_count": 124,
   "id": "b11fa38a",
   "metadata": {},
   "outputs": [
    {
     "data": {
      "text/html": [
       "<div>\n",
       "<style scoped>\n",
       "    .dataframe tbody tr th:only-of-type {\n",
       "        vertical-align: middle;\n",
       "    }\n",
       "\n",
       "    .dataframe tbody tr th {\n",
       "        vertical-align: top;\n",
       "    }\n",
       "\n",
       "    .dataframe thead th {\n",
       "        text-align: right;\n",
       "    }\n",
       "</style>\n",
       "<table border=\"1\" class=\"dataframe\">\n",
       "  <thead>\n",
       "    <tr style=\"text-align: right;\">\n",
       "      <th></th>\n",
       "      <th>col</th>\n",
       "    </tr>\n",
       "  </thead>\n",
       "  <tbody>\n",
       "    <tr>\n",
       "      <th>0</th>\n",
       "      <td>1</td>\n",
       "    </tr>\n",
       "    <tr>\n",
       "      <th>1</th>\n",
       "      <td>2</td>\n",
       "    </tr>\n",
       "    <tr>\n",
       "      <th>2</th>\n",
       "      <td>3</td>\n",
       "    </tr>\n",
       "  </tbody>\n",
       "</table>\n",
       "</div>"
      ],
      "text/plain": [
       "   col\n",
       "0    1\n",
       "1    2\n",
       "2    3"
      ]
     },
     "execution_count": 124,
     "metadata": {},
     "output_type": "execute_result"
    }
   ],
   "source": [
    "a = pd.DataFrame({'col':[1, 2, 3]})\n",
    "a"
   ]
  },
  {
   "cell_type": "code",
   "execution_count": 125,
   "id": "6304e3cf",
   "metadata": {},
   "outputs": [],
   "source": [
    "b = a\n",
    "b['col'] = 'oops'"
   ]
  },
  {
   "cell_type": "code",
   "execution_count": 126,
   "id": "483458a5",
   "metadata": {},
   "outputs": [
    {
     "data": {
      "text/html": [
       "<div>\n",
       "<style scoped>\n",
       "    .dataframe tbody tr th:only-of-type {\n",
       "        vertical-align: middle;\n",
       "    }\n",
       "\n",
       "    .dataframe tbody tr th {\n",
       "        vertical-align: top;\n",
       "    }\n",
       "\n",
       "    .dataframe thead th {\n",
       "        text-align: right;\n",
       "    }\n",
       "</style>\n",
       "<table border=\"1\" class=\"dataframe\">\n",
       "  <thead>\n",
       "    <tr style=\"text-align: right;\">\n",
       "      <th></th>\n",
       "      <th>col</th>\n",
       "    </tr>\n",
       "  </thead>\n",
       "  <tbody>\n",
       "    <tr>\n",
       "      <th>0</th>\n",
       "      <td>oops</td>\n",
       "    </tr>\n",
       "    <tr>\n",
       "      <th>1</th>\n",
       "      <td>oops</td>\n",
       "    </tr>\n",
       "    <tr>\n",
       "      <th>2</th>\n",
       "      <td>oops</td>\n",
       "    </tr>\n",
       "  </tbody>\n",
       "</table>\n",
       "</div>"
      ],
      "text/plain": [
       "    col\n",
       "0  oops\n",
       "1  oops\n",
       "2  oops"
      ]
     },
     "execution_count": 126,
     "metadata": {},
     "output_type": "execute_result"
    }
   ],
   "source": [
    "b"
   ]
  },
  {
   "cell_type": "code",
   "execution_count": 127,
   "id": "b3ad73a2",
   "metadata": {},
   "outputs": [
    {
     "data": {
      "text/html": [
       "<div>\n",
       "<style scoped>\n",
       "    .dataframe tbody tr th:only-of-type {\n",
       "        vertical-align: middle;\n",
       "    }\n",
       "\n",
       "    .dataframe tbody tr th {\n",
       "        vertical-align: top;\n",
       "    }\n",
       "\n",
       "    .dataframe thead th {\n",
       "        text-align: right;\n",
       "    }\n",
       "</style>\n",
       "<table border=\"1\" class=\"dataframe\">\n",
       "  <thead>\n",
       "    <tr style=\"text-align: right;\">\n",
       "      <th></th>\n",
       "      <th>col</th>\n",
       "    </tr>\n",
       "  </thead>\n",
       "  <tbody>\n",
       "    <tr>\n",
       "      <th>0</th>\n",
       "      <td>oops</td>\n",
       "    </tr>\n",
       "    <tr>\n",
       "      <th>1</th>\n",
       "      <td>oops</td>\n",
       "    </tr>\n",
       "    <tr>\n",
       "      <th>2</th>\n",
       "      <td>oops</td>\n",
       "    </tr>\n",
       "  </tbody>\n",
       "</table>\n",
       "</div>"
      ],
      "text/plain": [
       "    col\n",
       "0  oops\n",
       "1  oops\n",
       "2  oops"
      ]
     },
     "execution_count": 127,
     "metadata": {},
     "output_type": "execute_result"
    }
   ],
   "source": [
    "a"
   ]
  },
  {
   "cell_type": "code",
   "execution_count": null,
   "id": "43d3d2db",
   "metadata": {},
   "outputs": [],
   "source": []
  },
  {
   "cell_type": "code",
   "execution_count": null,
   "id": "a776dc50",
   "metadata": {},
   "outputs": [],
   "source": []
  },
  {
   "cell_type": "code",
   "execution_count": null,
   "id": "c6c09a5f",
   "metadata": {},
   "outputs": [],
   "source": []
  }
 ],
 "metadata": {
  "kernelspec": {
   "display_name": "Python 3 (ipykernel)",
   "language": "python",
   "name": "python3"
  },
  "language_info": {
   "codemirror_mode": {
    "name": "ipython",
    "version": 3
   },
   "file_extension": ".py",
   "mimetype": "text/x-python",
   "name": "python",
   "nbconvert_exporter": "python",
   "pygments_lexer": "ipython3",
   "version": "3.8.10"
  }
 },
 "nbformat": 4,
 "nbformat_minor": 5
}
